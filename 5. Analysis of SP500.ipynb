{
 "cells": [
  {
   "cell_type": "code",
   "execution_count": 1,
   "metadata": {
    "ExecuteTime": {
     "end_time": "2020-05-10T15:49:30.509049Z",
     "start_time": "2020-05-10T15:49:25.530013Z"
    }
   },
   "outputs": [
    {
     "data": {
      "text/html": [
       "        <script type=\"text/javascript\">\n",
       "        window.PlotlyConfig = {MathJaxConfig: 'local'};\n",
       "        if (window.MathJax) {MathJax.Hub.Config({SVG: {font: \"STIX-Web\"}});}\n",
       "        if (typeof require !== 'undefined') {\n",
       "        require.undef(\"plotly\");\n",
       "        requirejs.config({\n",
       "            paths: {\n",
       "                'plotly': ['https://cdn.plot.ly/plotly-latest.min']\n",
       "            }\n",
       "        });\n",
       "        require(['plotly'], function(Plotly) {\n",
       "            window._Plotly = Plotly;\n",
       "        });\n",
       "        }\n",
       "        </script>\n",
       "        "
      ]
     },
     "metadata": {},
     "output_type": "display_data"
    },
    {
     "data": {
      "text/html": [
       "        <script type=\"text/javascript\">\n",
       "        window.PlotlyConfig = {MathJaxConfig: 'local'};\n",
       "        if (window.MathJax) {MathJax.Hub.Config({SVG: {font: \"STIX-Web\"}});}\n",
       "        if (typeof require !== 'undefined') {\n",
       "        require.undef(\"plotly\");\n",
       "        requirejs.config({\n",
       "            paths: {\n",
       "                'plotly': ['https://cdn.plot.ly/plotly-latest.min']\n",
       "            }\n",
       "        });\n",
       "        require(['plotly'], function(Plotly) {\n",
       "            window._Plotly = Plotly;\n",
       "        });\n",
       "        }\n",
       "        </script>\n",
       "        "
      ]
     },
     "metadata": {},
     "output_type": "display_data"
    },
    {
     "data": {
      "text/html": [
       "\n",
       "    <div class=\"bk-root\">\n",
       "        <a href=\"https://bokeh.pydata.org\" target=\"_blank\" class=\"bk-logo bk-logo-small bk-logo-notebook\"></a>\n",
       "        <span id=\"1001\">Loading BokehJS ...</span>\n",
       "    </div>"
      ]
     },
     "metadata": {},
     "output_type": "display_data"
    },
    {
     "data": {
      "application/javascript": [
       "\n",
       "(function(root) {\n",
       "  function now() {\n",
       "    return new Date();\n",
       "  }\n",
       "\n",
       "  var force = true;\n",
       "\n",
       "  if (typeof root._bokeh_onload_callbacks === \"undefined\" || force === true) {\n",
       "    root._bokeh_onload_callbacks = [];\n",
       "    root._bokeh_is_loading = undefined;\n",
       "  }\n",
       "\n",
       "  var JS_MIME_TYPE = 'application/javascript';\n",
       "  var HTML_MIME_TYPE = 'text/html';\n",
       "  var EXEC_MIME_TYPE = 'application/vnd.bokehjs_exec.v0+json';\n",
       "  var CLASS_NAME = 'output_bokeh rendered_html';\n",
       "\n",
       "  /**\n",
       "   * Render data to the DOM node\n",
       "   */\n",
       "  function render(props, node) {\n",
       "    var script = document.createElement(\"script\");\n",
       "    node.appendChild(script);\n",
       "  }\n",
       "\n",
       "  /**\n",
       "   * Handle when an output is cleared or removed\n",
       "   */\n",
       "  function handleClearOutput(event, handle) {\n",
       "    var cell = handle.cell;\n",
       "\n",
       "    var id = cell.output_area._bokeh_element_id;\n",
       "    var server_id = cell.output_area._bokeh_server_id;\n",
       "    // Clean up Bokeh references\n",
       "    if (id != null && id in Bokeh.index) {\n",
       "      Bokeh.index[id].model.document.clear();\n",
       "      delete Bokeh.index[id];\n",
       "    }\n",
       "\n",
       "    if (server_id !== undefined) {\n",
       "      // Clean up Bokeh references\n",
       "      var cmd = \"from bokeh.io.state import curstate; print(curstate().uuid_to_server['\" + server_id + \"'].get_sessions()[0].document.roots[0]._id)\";\n",
       "      cell.notebook.kernel.execute(cmd, {\n",
       "        iopub: {\n",
       "          output: function(msg) {\n",
       "            var id = msg.content.text.trim();\n",
       "            if (id in Bokeh.index) {\n",
       "              Bokeh.index[id].model.document.clear();\n",
       "              delete Bokeh.index[id];\n",
       "            }\n",
       "          }\n",
       "        }\n",
       "      });\n",
       "      // Destroy server and session\n",
       "      var cmd = \"import bokeh.io.notebook as ion; ion.destroy_server('\" + server_id + \"')\";\n",
       "      cell.notebook.kernel.execute(cmd);\n",
       "    }\n",
       "  }\n",
       "\n",
       "  /**\n",
       "   * Handle when a new output is added\n",
       "   */\n",
       "  function handleAddOutput(event, handle) {\n",
       "    var output_area = handle.output_area;\n",
       "    var output = handle.output;\n",
       "\n",
       "    // limit handleAddOutput to display_data with EXEC_MIME_TYPE content only\n",
       "    if ((output.output_type != \"display_data\") || (!output.data.hasOwnProperty(EXEC_MIME_TYPE))) {\n",
       "      return\n",
       "    }\n",
       "\n",
       "    var toinsert = output_area.element.find(\".\" + CLASS_NAME.split(' ')[0]);\n",
       "\n",
       "    if (output.metadata[EXEC_MIME_TYPE][\"id\"] !== undefined) {\n",
       "      toinsert[toinsert.length - 1].firstChild.textContent = output.data[JS_MIME_TYPE];\n",
       "      // store reference to embed id on output_area\n",
       "      output_area._bokeh_element_id = output.metadata[EXEC_MIME_TYPE][\"id\"];\n",
       "    }\n",
       "    if (output.metadata[EXEC_MIME_TYPE][\"server_id\"] !== undefined) {\n",
       "      var bk_div = document.createElement(\"div\");\n",
       "      bk_div.innerHTML = output.data[HTML_MIME_TYPE];\n",
       "      var script_attrs = bk_div.children[0].attributes;\n",
       "      for (var i = 0; i < script_attrs.length; i++) {\n",
       "        toinsert[toinsert.length - 1].firstChild.setAttribute(script_attrs[i].name, script_attrs[i].value);\n",
       "      }\n",
       "      // store reference to server id on output_area\n",
       "      output_area._bokeh_server_id = output.metadata[EXEC_MIME_TYPE][\"server_id\"];\n",
       "    }\n",
       "  }\n",
       "\n",
       "  function register_renderer(events, OutputArea) {\n",
       "\n",
       "    function append_mime(data, metadata, element) {\n",
       "      // create a DOM node to render to\n",
       "      var toinsert = this.create_output_subarea(\n",
       "        metadata,\n",
       "        CLASS_NAME,\n",
       "        EXEC_MIME_TYPE\n",
       "      );\n",
       "      this.keyboard_manager.register_events(toinsert);\n",
       "      // Render to node\n",
       "      var props = {data: data, metadata: metadata[EXEC_MIME_TYPE]};\n",
       "      render(props, toinsert[toinsert.length - 1]);\n",
       "      element.append(toinsert);\n",
       "      return toinsert\n",
       "    }\n",
       "\n",
       "    /* Handle when an output is cleared or removed */\n",
       "    events.on('clear_output.CodeCell', handleClearOutput);\n",
       "    events.on('delete.Cell', handleClearOutput);\n",
       "\n",
       "    /* Handle when a new output is added */\n",
       "    events.on('output_added.OutputArea', handleAddOutput);\n",
       "\n",
       "    /**\n",
       "     * Register the mime type and append_mime function with output_area\n",
       "     */\n",
       "    OutputArea.prototype.register_mime_type(EXEC_MIME_TYPE, append_mime, {\n",
       "      /* Is output safe? */\n",
       "      safe: true,\n",
       "      /* Index of renderer in `output_area.display_order` */\n",
       "      index: 0\n",
       "    });\n",
       "  }\n",
       "\n",
       "  // register the mime type if in Jupyter Notebook environment and previously unregistered\n",
       "  if (root.Jupyter !== undefined) {\n",
       "    var events = require('base/js/events');\n",
       "    var OutputArea = require('notebook/js/outputarea').OutputArea;\n",
       "\n",
       "    if (OutputArea.prototype.mime_types().indexOf(EXEC_MIME_TYPE) == -1) {\n",
       "      register_renderer(events, OutputArea);\n",
       "    }\n",
       "  }\n",
       "\n",
       "  \n",
       "  if (typeof (root._bokeh_timeout) === \"undefined\" || force === true) {\n",
       "    root._bokeh_timeout = Date.now() + 5000;\n",
       "    root._bokeh_failed_load = false;\n",
       "  }\n",
       "\n",
       "  var NB_LOAD_WARNING = {'data': {'text/html':\n",
       "     \"<div style='background-color: #fdd'>\\n\"+\n",
       "     \"<p>\\n\"+\n",
       "     \"BokehJS does not appear to have successfully loaded. If loading BokehJS from CDN, this \\n\"+\n",
       "     \"may be due to a slow or bad network connection. Possible fixes:\\n\"+\n",
       "     \"</p>\\n\"+\n",
       "     \"<ul>\\n\"+\n",
       "     \"<li>re-rerun `output_notebook()` to attempt to load from CDN again, or</li>\\n\"+\n",
       "     \"<li>use INLINE resources instead, as so:</li>\\n\"+\n",
       "     \"</ul>\\n\"+\n",
       "     \"<code>\\n\"+\n",
       "     \"from bokeh.resources import INLINE\\n\"+\n",
       "     \"output_notebook(resources=INLINE)\\n\"+\n",
       "     \"</code>\\n\"+\n",
       "     \"</div>\"}};\n",
       "\n",
       "  function display_loaded() {\n",
       "    var el = document.getElementById(\"1001\");\n",
       "    if (el != null) {\n",
       "      el.textContent = \"BokehJS is loading...\";\n",
       "    }\n",
       "    if (root.Bokeh !== undefined) {\n",
       "      if (el != null) {\n",
       "        el.textContent = \"BokehJS \" + root.Bokeh.version + \" successfully loaded.\";\n",
       "      }\n",
       "    } else if (Date.now() < root._bokeh_timeout) {\n",
       "      setTimeout(display_loaded, 100)\n",
       "    }\n",
       "  }\n",
       "\n",
       "\n",
       "  function run_callbacks() {\n",
       "    try {\n",
       "      root._bokeh_onload_callbacks.forEach(function(callback) {\n",
       "        if (callback != null)\n",
       "          callback();\n",
       "      });\n",
       "    } finally {\n",
       "      delete root._bokeh_onload_callbacks\n",
       "    }\n",
       "    console.debug(\"Bokeh: all callbacks have finished\");\n",
       "  }\n",
       "\n",
       "  function load_libs(css_urls, js_urls, callback) {\n",
       "    if (css_urls == null) css_urls = [];\n",
       "    if (js_urls == null) js_urls = [];\n",
       "\n",
       "    root._bokeh_onload_callbacks.push(callback);\n",
       "    if (root._bokeh_is_loading > 0) {\n",
       "      console.debug(\"Bokeh: BokehJS is being loaded, scheduling callback at\", now());\n",
       "      return null;\n",
       "    }\n",
       "    if (js_urls == null || js_urls.length === 0) {\n",
       "      run_callbacks();\n",
       "      return null;\n",
       "    }\n",
       "    console.debug(\"Bokeh: BokehJS not loaded, scheduling load and callback at\", now());\n",
       "    root._bokeh_is_loading = css_urls.length + js_urls.length;\n",
       "\n",
       "    function on_load() {\n",
       "      root._bokeh_is_loading--;\n",
       "      if (root._bokeh_is_loading === 0) {\n",
       "        console.debug(\"Bokeh: all BokehJS libraries/stylesheets loaded\");\n",
       "        run_callbacks()\n",
       "      }\n",
       "    }\n",
       "\n",
       "    function on_error() {\n",
       "      console.error(\"failed to load \" + url);\n",
       "    }\n",
       "\n",
       "    for (var i = 0; i < css_urls.length; i++) {\n",
       "      var url = css_urls[i];\n",
       "      const element = document.createElement(\"link\");\n",
       "      element.onload = on_load;\n",
       "      element.onerror = on_error;\n",
       "      element.rel = \"stylesheet\";\n",
       "      element.type = \"text/css\";\n",
       "      element.href = url;\n",
       "      console.debug(\"Bokeh: injecting link tag for BokehJS stylesheet: \", url);\n",
       "      document.body.appendChild(element);\n",
       "    }\n",
       "\n",
       "    for (var i = 0; i < js_urls.length; i++) {\n",
       "      var url = js_urls[i];\n",
       "      var element = document.createElement('script');\n",
       "      element.onload = on_load;\n",
       "      element.onerror = on_error;\n",
       "      element.async = false;\n",
       "      element.src = url;\n",
       "      console.debug(\"Bokeh: injecting script tag for BokehJS library: \", url);\n",
       "      document.head.appendChild(element);\n",
       "    }\n",
       "  };var element = document.getElementById(\"1001\");\n",
       "  if (element == null) {\n",
       "    console.error(\"Bokeh: ERROR: autoload.js configured with elementid '1001' but no matching script tag was found. \")\n",
       "    return false;\n",
       "  }\n",
       "\n",
       "  function inject_raw_css(css) {\n",
       "    const element = document.createElement(\"style\");\n",
       "    element.appendChild(document.createTextNode(css));\n",
       "    document.body.appendChild(element);\n",
       "  }\n",
       "\n",
       "  var js_urls = [\"https://cdn.pydata.org/bokeh/release/bokeh-1.2.0.min.js\", \"https://cdn.pydata.org/bokeh/release/bokeh-widgets-1.2.0.min.js\", \"https://cdn.pydata.org/bokeh/release/bokeh-tables-1.2.0.min.js\", \"https://cdn.pydata.org/bokeh/release/bokeh-gl-1.2.0.min.js\"];\n",
       "  var css_urls = [\"https://cdn.pydata.org/bokeh/release/bokeh-1.2.0.min.css\", \"https://cdn.pydata.org/bokeh/release/bokeh-widgets-1.2.0.min.css\", \"https://cdn.pydata.org/bokeh/release/bokeh-tables-1.2.0.min.css\"];\n",
       "\n",
       "  var inline_js = [\n",
       "    function(Bokeh) {\n",
       "      Bokeh.set_log_level(\"info\");\n",
       "    },\n",
       "    \n",
       "    function(Bokeh) {\n",
       "      \n",
       "    },\n",
       "    function(Bokeh) {} // ensure no trailing comma for IE\n",
       "  ];\n",
       "\n",
       "  function run_inline_js() {\n",
       "    \n",
       "    if ((root.Bokeh !== undefined) || (force === true)) {\n",
       "      for (var i = 0; i < inline_js.length; i++) {\n",
       "        inline_js[i].call(root, root.Bokeh);\n",
       "      }if (force === true) {\n",
       "        display_loaded();\n",
       "      }} else if (Date.now() < root._bokeh_timeout) {\n",
       "      setTimeout(run_inline_js, 100);\n",
       "    } else if (!root._bokeh_failed_load) {\n",
       "      console.log(\"Bokeh: BokehJS failed to load within specified timeout.\");\n",
       "      root._bokeh_failed_load = true;\n",
       "    } else if (force !== true) {\n",
       "      var cell = $(document.getElementById(\"1001\")).parents('.cell').data().cell;\n",
       "      cell.output_area.append_execute_result(NB_LOAD_WARNING)\n",
       "    }\n",
       "\n",
       "  }\n",
       "\n",
       "  if (root._bokeh_is_loading === 0) {\n",
       "    console.debug(\"Bokeh: BokehJS loaded, going straight to plotting\");\n",
       "    run_inline_js();\n",
       "  } else {\n",
       "    load_libs(css_urls, js_urls, function() {\n",
       "      console.debug(\"Bokeh: BokehJS plotting callback run at\", now());\n",
       "      run_inline_js();\n",
       "    });\n",
       "  }\n",
       "}(window));"
      ],
      "application/vnd.bokehjs_load.v0+json": "\n(function(root) {\n  function now() {\n    return new Date();\n  }\n\n  var force = true;\n\n  if (typeof root._bokeh_onload_callbacks === \"undefined\" || force === true) {\n    root._bokeh_onload_callbacks = [];\n    root._bokeh_is_loading = undefined;\n  }\n\n  \n\n  \n  if (typeof (root._bokeh_timeout) === \"undefined\" || force === true) {\n    root._bokeh_timeout = Date.now() + 5000;\n    root._bokeh_failed_load = false;\n  }\n\n  var NB_LOAD_WARNING = {'data': {'text/html':\n     \"<div style='background-color: #fdd'>\\n\"+\n     \"<p>\\n\"+\n     \"BokehJS does not appear to have successfully loaded. If loading BokehJS from CDN, this \\n\"+\n     \"may be due to a slow or bad network connection. Possible fixes:\\n\"+\n     \"</p>\\n\"+\n     \"<ul>\\n\"+\n     \"<li>re-rerun `output_notebook()` to attempt to load from CDN again, or</li>\\n\"+\n     \"<li>use INLINE resources instead, as so:</li>\\n\"+\n     \"</ul>\\n\"+\n     \"<code>\\n\"+\n     \"from bokeh.resources import INLINE\\n\"+\n     \"output_notebook(resources=INLINE)\\n\"+\n     \"</code>\\n\"+\n     \"</div>\"}};\n\n  function display_loaded() {\n    var el = document.getElementById(\"1001\");\n    if (el != null) {\n      el.textContent = \"BokehJS is loading...\";\n    }\n    if (root.Bokeh !== undefined) {\n      if (el != null) {\n        el.textContent = \"BokehJS \" + root.Bokeh.version + \" successfully loaded.\";\n      }\n    } else if (Date.now() < root._bokeh_timeout) {\n      setTimeout(display_loaded, 100)\n    }\n  }\n\n\n  function run_callbacks() {\n    try {\n      root._bokeh_onload_callbacks.forEach(function(callback) {\n        if (callback != null)\n          callback();\n      });\n    } finally {\n      delete root._bokeh_onload_callbacks\n    }\n    console.debug(\"Bokeh: all callbacks have finished\");\n  }\n\n  function load_libs(css_urls, js_urls, callback) {\n    if (css_urls == null) css_urls = [];\n    if (js_urls == null) js_urls = [];\n\n    root._bokeh_onload_callbacks.push(callback);\n    if (root._bokeh_is_loading > 0) {\n      console.debug(\"Bokeh: BokehJS is being loaded, scheduling callback at\", now());\n      return null;\n    }\n    if (js_urls == null || js_urls.length === 0) {\n      run_callbacks();\n      return null;\n    }\n    console.debug(\"Bokeh: BokehJS not loaded, scheduling load and callback at\", now());\n    root._bokeh_is_loading = css_urls.length + js_urls.length;\n\n    function on_load() {\n      root._bokeh_is_loading--;\n      if (root._bokeh_is_loading === 0) {\n        console.debug(\"Bokeh: all BokehJS libraries/stylesheets loaded\");\n        run_callbacks()\n      }\n    }\n\n    function on_error() {\n      console.error(\"failed to load \" + url);\n    }\n\n    for (var i = 0; i < css_urls.length; i++) {\n      var url = css_urls[i];\n      const element = document.createElement(\"link\");\n      element.onload = on_load;\n      element.onerror = on_error;\n      element.rel = \"stylesheet\";\n      element.type = \"text/css\";\n      element.href = url;\n      console.debug(\"Bokeh: injecting link tag for BokehJS stylesheet: \", url);\n      document.body.appendChild(element);\n    }\n\n    for (var i = 0; i < js_urls.length; i++) {\n      var url = js_urls[i];\n      var element = document.createElement('script');\n      element.onload = on_load;\n      element.onerror = on_error;\n      element.async = false;\n      element.src = url;\n      console.debug(\"Bokeh: injecting script tag for BokehJS library: \", url);\n      document.head.appendChild(element);\n    }\n  };var element = document.getElementById(\"1001\");\n  if (element == null) {\n    console.error(\"Bokeh: ERROR: autoload.js configured with elementid '1001' but no matching script tag was found. \")\n    return false;\n  }\n\n  function inject_raw_css(css) {\n    const element = document.createElement(\"style\");\n    element.appendChild(document.createTextNode(css));\n    document.body.appendChild(element);\n  }\n\n  var js_urls = [\"https://cdn.pydata.org/bokeh/release/bokeh-1.2.0.min.js\", \"https://cdn.pydata.org/bokeh/release/bokeh-widgets-1.2.0.min.js\", \"https://cdn.pydata.org/bokeh/release/bokeh-tables-1.2.0.min.js\", \"https://cdn.pydata.org/bokeh/release/bokeh-gl-1.2.0.min.js\"];\n  var css_urls = [\"https://cdn.pydata.org/bokeh/release/bokeh-1.2.0.min.css\", \"https://cdn.pydata.org/bokeh/release/bokeh-widgets-1.2.0.min.css\", \"https://cdn.pydata.org/bokeh/release/bokeh-tables-1.2.0.min.css\"];\n\n  var inline_js = [\n    function(Bokeh) {\n      Bokeh.set_log_level(\"info\");\n    },\n    \n    function(Bokeh) {\n      \n    },\n    function(Bokeh) {} // ensure no trailing comma for IE\n  ];\n\n  function run_inline_js() {\n    \n    if ((root.Bokeh !== undefined) || (force === true)) {\n      for (var i = 0; i < inline_js.length; i++) {\n        inline_js[i].call(root, root.Bokeh);\n      }if (force === true) {\n        display_loaded();\n      }} else if (Date.now() < root._bokeh_timeout) {\n      setTimeout(run_inline_js, 100);\n    } else if (!root._bokeh_failed_load) {\n      console.log(\"Bokeh: BokehJS failed to load within specified timeout.\");\n      root._bokeh_failed_load = true;\n    } else if (force !== true) {\n      var cell = $(document.getElementById(\"1001\")).parents('.cell').data().cell;\n      cell.output_area.append_execute_result(NB_LOAD_WARNING)\n    }\n\n  }\n\n  if (root._bokeh_is_loading === 0) {\n    console.debug(\"Bokeh: BokehJS loaded, going straight to plotting\");\n    run_inline_js();\n  } else {\n    load_libs(css_urls, js_urls, function() {\n      console.debug(\"Bokeh: BokehJS plotting callback run at\", now());\n      run_inline_js();\n    });\n  }\n}(window));"
     },
     "metadata": {},
     "output_type": "display_data"
    },
    {
     "data": {
      "text/html": [
       "        <script type=\"text/javascript\">\n",
       "        window.PlotlyConfig = {MathJaxConfig: 'local'};\n",
       "        if (window.MathJax) {MathJax.Hub.Config({SVG: {font: \"STIX-Web\"}});}\n",
       "        if (typeof require !== 'undefined') {\n",
       "        require.undef(\"plotly\");\n",
       "        requirejs.config({\n",
       "            paths: {\n",
       "                'plotly': ['https://cdn.plot.ly/plotly-latest.min']\n",
       "            }\n",
       "        });\n",
       "        require(['plotly'], function(Plotly) {\n",
       "            window._Plotly = Plotly;\n",
       "        });\n",
       "        }\n",
       "        </script>\n",
       "        "
      ]
     },
     "metadata": {},
     "output_type": "display_data"
    }
   ],
   "source": [
    "# v1.0.7 - 14/02/2020\n",
    "import numpy as np\n",
    "import pandas as pd\n",
    "pd.set_option(\"display.max_columns\",1000)\n",
    "pd.set_option(\"display.max_rows\",1000)\n",
    "import geopandas as gpd\n",
    "\n",
    "from shapely.geometry import Point\n",
    "crs = {\"init\":\"epsg:4326\"}\n",
    "\n",
    "# ----------------------------------------------------------------------------------------------------------\n",
    "\n",
    "import matplotlib.pyplot as plt\n",
    "plt.style.use(\"ggplot\") # to make matplotlib look better\n",
    "%matplotlib inline\n",
    "import seaborn as sns\n",
    "\n",
    "import plotly\n",
    "import chart_studio\n",
    "import cufflinks as cf\n",
    "cf.set_config_file(offline=True) # to make cufflinks work offline\n",
    "\n",
    "import pandas_bokeh\n",
    "pandas_bokeh.output_notebook()\n",
    "\n",
    "#from plotly import colors.DEFAULT_PLOTLY_COLORS # to know default plotly colors\n",
    "from plotly import graph_objs as go\n",
    "BKCF_colors = ['#e32592','#fae700','#34b233','#58585a','#939597','#E0E1DD','#5bcbf5','#fe4540','#c7be71'] # to use with cufflinks\n",
    "layout = go.Layout(colorway=BKCF_colors) # to use with plain plotly\n",
    "from plotly import tools as tls\n",
    "from plotly.offline import init_notebook_mode, iplot\n",
    "init_notebook_mode(connected=True) # to allow plotly offline for jupyter notebooks\n",
    "from bokeh.plotting import save # to allow saving pandas bokeh plots into html files\n",
    "import plotly.express as px\n",
    "import yfinance as yf\n",
    "from datetime import date\n",
    "import calendar\n",
    "# ----------------------------------------------------------------------------------------------------------\n",
    "import pickle\n",
    "from IPython.core.display import display, HTML\n",
    "#display(HTML(\"<style>.container { width:95% !important; }</style>\")) # to make jupyter notebook appearence bigger"
   ]
  },
  {
   "cell_type": "code",
   "execution_count": 2,
   "metadata": {
    "ExecuteTime": {
     "end_time": "2020-05-10T15:49:30.519023Z",
     "start_time": "2020-05-10T15:49:30.512042Z"
    }
   },
   "outputs": [],
   "source": [
    "#Save in pickle format\n",
    "def save_obj(obj, name, path=\"./obj\"):\n",
    "    if not(os.path.isdir(path)):\n",
    "        os.mkdir(path)\n",
    "        print(\"Creado directorio './obj' donde guardar objeto\")\n",
    "    with open(\"{}/{}.pkl\".format(path,name), \"wb\") as f:\n",
    "        pickle.dump(obj, f, pickle.HIGHEST_PROTOCOL)\n",
    "        \n",
    "#Load a pickle        \n",
    "def load_obj(name, path=\"./obj\"):\n",
    "    with open(\"{}/{}.pkl\".format(path, name), \"rb\") as f:\n",
    "        return pickle.load(f)\n",
    "    \n",
    "import plotly.graph_objects as go\n",
    "from plotly.subplots import make_subplots"
   ]
  },
  {
   "cell_type": "code",
   "execution_count": 3,
   "metadata": {
    "ExecuteTime": {
     "end_time": "2020-05-10T15:49:36.050740Z",
     "start_time": "2020-05-10T15:49:30.523013Z"
    }
   },
   "outputs": [
    {
     "data": {
      "text/html": [
       "<div>\n",
       "<style scoped>\n",
       "    .dataframe tbody tr th:only-of-type {\n",
       "        vertical-align: middle;\n",
       "    }\n",
       "\n",
       "    .dataframe tbody tr th {\n",
       "        vertical-align: top;\n",
       "    }\n",
       "\n",
       "    .dataframe thead th {\n",
       "        text-align: right;\n",
       "    }\n",
       "</style>\n",
       "<table border=\"1\" class=\"dataframe\">\n",
       "  <thead>\n",
       "    <tr style=\"text-align: right;\">\n",
       "      <th></th>\n",
       "      <th>symbol</th>\n",
       "      <th>beta</th>\n",
       "      <th>ceo</th>\n",
       "      <th>industry</th>\n",
       "      <th>sector</th>\n",
       "      <th>volAvg</th>\n",
       "      <th>date</th>\n",
       "      <th>Revenue</th>\n",
       "      <th>Revenue Growth</th>\n",
       "      <th>Cost of Revenue</th>\n",
       "      <th>Gross Profit</th>\n",
       "      <th>R&amp;D Expenses</th>\n",
       "      <th>SG&amp;A Expense</th>\n",
       "      <th>Operating Expenses</th>\n",
       "      <th>Operating Income</th>\n",
       "      <th>Interest Expense</th>\n",
       "      <th>Earnings before Tax</th>\n",
       "      <th>Income Tax Expense</th>\n",
       "      <th>Net Income - Non-Controlling int</th>\n",
       "      <th>Net Income - Discontinued ops</th>\n",
       "      <th>Net Income</th>\n",
       "      <th>Preferred Dividends</th>\n",
       "      <th>Net Income Com</th>\n",
       "      <th>EPS</th>\n",
       "      <th>EPS Diluted</th>\n",
       "      <th>Weighted Average Shs Out</th>\n",
       "      <th>Weighted Average Shs Out (Dil)</th>\n",
       "      <th>Dividend per Share</th>\n",
       "      <th>Gross Margin</th>\n",
       "      <th>EBITDA Margin</th>\n",
       "      <th>EBIT Margin</th>\n",
       "      <th>Profit Margin</th>\n",
       "      <th>Free Cash Flow margin</th>\n",
       "      <th>EBITDA</th>\n",
       "      <th>EBIT</th>\n",
       "      <th>Consolidated Income</th>\n",
       "      <th>Earnings Before Tax Margin</th>\n",
       "      <th>Net Profit Margin</th>\n",
       "      <th>Cash and cash equivalents</th>\n",
       "      <th>Short-term investments</th>\n",
       "      <th>Cash and short-term investments</th>\n",
       "      <th>Receivables</th>\n",
       "      <th>Inventories</th>\n",
       "      <th>Total current assets</th>\n",
       "      <th>Property, Plant &amp; Equipment Net</th>\n",
       "      <th>Goodwill and Intangible Assets</th>\n",
       "      <th>Long-term investments</th>\n",
       "      <th>Tax assets</th>\n",
       "      <th>Total non-current assets</th>\n",
       "      <th>Total assets</th>\n",
       "      <th>Payables</th>\n",
       "      <th>Short-term debt</th>\n",
       "      <th>Total current liabilities</th>\n",
       "      <th>Long-term debt</th>\n",
       "      <th>Total debt</th>\n",
       "      <th>Deferred revenue</th>\n",
       "      <th>Tax Liabilities</th>\n",
       "      <th>Deposit Liabilities</th>\n",
       "      <th>Total non-current liabilities</th>\n",
       "      <th>Total liabilities</th>\n",
       "      <th>Other comprehensive income</th>\n",
       "      <th>Retained earnings (deficit)</th>\n",
       "      <th>Total shareholders equity</th>\n",
       "      <th>Investments</th>\n",
       "      <th>Net Debt</th>\n",
       "      <th>Other Assets</th>\n",
       "      <th>Other Liabilities</th>\n",
       "      <th>Depreciation &amp; Amortization</th>\n",
       "      <th>Stock-based compensation</th>\n",
       "      <th>Operating Cash Flow</th>\n",
       "      <th>Capital Expenditure</th>\n",
       "      <th>Acquisitions and disposals</th>\n",
       "      <th>Investment purchases and sales</th>\n",
       "      <th>Investing Cash flow</th>\n",
       "      <th>Issuance (repayment) of debt</th>\n",
       "      <th>Issuance (buybacks) of shares</th>\n",
       "      <th>Dividend payments</th>\n",
       "      <th>Financing Cash Flow</th>\n",
       "      <th>Effect of forex changes on cash</th>\n",
       "      <th>Net cash flow / Change in cash</th>\n",
       "      <th>Free Cash Flow</th>\n",
       "      <th>Net Cash/Marketcap</th>\n",
       "      <th>priceBookValueRatio</th>\n",
       "      <th>priceToBookRatio</th>\n",
       "      <th>priceToSalesRatio</th>\n",
       "      <th>priceEarningsRatio</th>\n",
       "      <th>receivablesTurnover_x</th>\n",
       "      <th>priceToFreeCashFlowsRatio</th>\n",
       "      <th>priceToOperatingCashFlowsRatio</th>\n",
       "      <th>priceCashFlowRatio</th>\n",
       "      <th>priceEarningsToGrowthRatio</th>\n",
       "      <th>priceSalesRatio</th>\n",
       "      <th>dividendYield</th>\n",
       "      <th>enterpriseValueMultiple</th>\n",
       "      <th>priceFairValue</th>\n",
       "      <th>ebitperRevenue</th>\n",
       "      <th>ebtperEBIT</th>\n",
       "      <th>niperEBT</th>\n",
       "      <th>grossProfitMargin</th>\n",
       "      <th>operatingProfitMargin</th>\n",
       "      <th>pretaxProfitMargin</th>\n",
       "      <th>netProfitMargin</th>\n",
       "      <th>effectiveTaxRate</th>\n",
       "      <th>returnOnAssets</th>\n",
       "      <th>returnOnEquity</th>\n",
       "      <th>returnOnCapitalEmployed</th>\n",
       "      <th>nIperEBT</th>\n",
       "      <th>eBTperEBIT</th>\n",
       "      <th>eBITperRevenue</th>\n",
       "      <th>receivablesTurnover_y</th>\n",
       "      <th>payablesTurnover</th>\n",
       "      <th>inventoryTurnover</th>\n",
       "      <th>fixedAssetTurnover</th>\n",
       "      <th>assetTurnover</th>\n",
       "      <th>currentRatio</th>\n",
       "      <th>quickRatio</th>\n",
       "      <th>cashRatio</th>\n",
       "      <th>daysOfSalesOutstanding</th>\n",
       "      <th>daysOfInventoryOutstanding</th>\n",
       "      <th>operatingCycle</th>\n",
       "      <th>daysOfPayablesOutstanding</th>\n",
       "      <th>cashConversionCycle</th>\n",
       "      <th>debtRatio</th>\n",
       "      <th>debtEquityRatio</th>\n",
       "      <th>longtermDebtToCapitalization</th>\n",
       "      <th>totalDebtToCapitalization</th>\n",
       "      <th>interestCoverage</th>\n",
       "      <th>cashFlowToDebtRatio</th>\n",
       "      <th>companyEquityMultiplier</th>\n",
       "      <th>operatingCashFlowPerShare</th>\n",
       "      <th>freeCashFlowPerShare</th>\n",
       "      <th>cashPerShare</th>\n",
       "      <th>payoutRatio</th>\n",
       "      <th>receivablesTurnover</th>\n",
       "      <th>operatingCashFlowSalesRatio</th>\n",
       "      <th>freeCashFlowOperatingCashFlowRatio</th>\n",
       "      <th>cashFlowCoverageRatios</th>\n",
       "      <th>shortTermCoverageRatios</th>\n",
       "      <th>capitalExpenditureCoverageRatios</th>\n",
       "      <th>dividendpaidAndCapexCoverageRatios</th>\n",
       "      <th>dividendPayoutRatio</th>\n",
       "      <th>Gross Profit Growth</th>\n",
       "      <th>EBIT Growth</th>\n",
       "      <th>Operating Income Growth</th>\n",
       "      <th>Net Income Growth</th>\n",
       "      <th>EPS Growth</th>\n",
       "      <th>EPS Diluted Growth</th>\n",
       "      <th>Weighted Average Shares Growth</th>\n",
       "      <th>Weighted Average Shares Diluted Growth</th>\n",
       "      <th>Dividends per Share Growth</th>\n",
       "      <th>Operating Cash Flow growth</th>\n",
       "      <th>Free Cash Flow growth</th>\n",
       "      <th>10Y Revenue Growth (per Share)</th>\n",
       "      <th>5Y Revenue Growth (per Share)</th>\n",
       "      <th>3Y Revenue Growth (per Share)</th>\n",
       "      <th>10Y Operating CF Growth (per Share)</th>\n",
       "      <th>5Y Operating CF Growth (per Share)</th>\n",
       "      <th>3Y Operating CF Growth (per Share)</th>\n",
       "      <th>10Y Net Income Growth (per Share)</th>\n",
       "      <th>5Y Net Income Growth (per Share)</th>\n",
       "      <th>3Y Net Income Growth (per Share)</th>\n",
       "      <th>10Y Shareholders Equity Growth (per Share)</th>\n",
       "      <th>5Y Shareholders Equity Growth (per Share)</th>\n",
       "      <th>3Y Shareholders Equity Growth (per Share)</th>\n",
       "      <th>10Y Dividend per Share Growth (per Share)</th>\n",
       "      <th>5Y Dividend per Share Growth (per Share)</th>\n",
       "      <th>3Y Dividend per Share Growth (per Share)</th>\n",
       "      <th>Receivables growth</th>\n",
       "      <th>Inventory Growth</th>\n",
       "      <th>Asset Growth</th>\n",
       "      <th>Book Value per Share Growth</th>\n",
       "      <th>Debt Growth</th>\n",
       "      <th>R&amp;D Expense Growth</th>\n",
       "      <th>SG&amp;A Expenses Growth</th>\n",
       "      <th>Revenue per Share</th>\n",
       "      <th>Net Income per Share</th>\n",
       "      <th>Operating Cash Flow per Share</th>\n",
       "      <th>Free Cash Flow per Share</th>\n",
       "      <th>Cash per Share</th>\n",
       "      <th>Book Value per Share</th>\n",
       "      <th>Tangible Book Value per Share</th>\n",
       "      <th>Shareholders Equity per Share</th>\n",
       "      <th>Interest Debt per Share</th>\n",
       "      <th>Market Cap</th>\n",
       "      <th>Enterprise Value</th>\n",
       "      <th>PE ratio</th>\n",
       "      <th>Price to Sales Ratio</th>\n",
       "      <th>POCF ratio</th>\n",
       "      <th>PFCF ratio</th>\n",
       "      <th>PB ratio</th>\n",
       "      <th>PTB ratio</th>\n",
       "      <th>EV to Sales</th>\n",
       "      <th>Enterprise Value over EBITDA</th>\n",
       "      <th>EV to Operating cash flow</th>\n",
       "      <th>EV to Free cash flow</th>\n",
       "      <th>Earnings Yield</th>\n",
       "      <th>Free Cash Flow Yield</th>\n",
       "      <th>Debt to Equity</th>\n",
       "      <th>Debt to Assets</th>\n",
       "      <th>Net Debt to EBITDA</th>\n",
       "      <th>Current ratio</th>\n",
       "      <th>Interest Coverage</th>\n",
       "      <th>Income Quality</th>\n",
       "      <th>Dividend Yield</th>\n",
       "      <th>Payout Ratio</th>\n",
       "      <th>SG&amp;A to Revenue</th>\n",
       "      <th>R&amp;D to Revenue</th>\n",
       "      <th>Intangibles to Total Assets</th>\n",
       "      <th>Capex to Operating Cash Flow</th>\n",
       "      <th>Capex to Revenue</th>\n",
       "      <th>Capex to Depreciation</th>\n",
       "      <th>Stock-based compensation to Revenue</th>\n",
       "      <th>Graham Number</th>\n",
       "      <th>ROIC</th>\n",
       "      <th>Return on Tangible Assets</th>\n",
       "      <th>Graham Net-Net</th>\n",
       "      <th>Working Capital</th>\n",
       "      <th>Tangible Asset Value</th>\n",
       "      <th>Net Current Asset Value</th>\n",
       "      <th>Invested Capital</th>\n",
       "      <th>Average Receivables</th>\n",
       "      <th>Average Payables</th>\n",
       "      <th>Average Inventory</th>\n",
       "      <th>Days Sales Outstanding</th>\n",
       "      <th>Days Payables Outstanding</th>\n",
       "      <th>Days of Inventory on Hand</th>\n",
       "      <th>Receivables Turnover</th>\n",
       "      <th>Payables Turnover</th>\n",
       "      <th>Inventory Turnover</th>\n",
       "      <th>ROE</th>\n",
       "      <th>Capex per Share</th>\n",
       "      <th>year</th>\n",
       "    </tr>\n",
       "  </thead>\n",
       "  <tbody>\n",
       "    <tr>\n",
       "      <th>0</th>\n",
       "      <td>MMM</td>\n",
       "      <td>1.096121</td>\n",
       "      <td>Inge G. Thulin</td>\n",
       "      <td>Industrial Products</td>\n",
       "      <td>Industrials</td>\n",
       "      <td>4779401.0</td>\n",
       "      <td>2018-12-31</td>\n",
       "      <td>3.276500e+10</td>\n",
       "      <td>0.035000</td>\n",
       "      <td>1.668200e+10</td>\n",
       "      <td>1.608300e+10</td>\n",
       "      <td>1.821000e+09</td>\n",
       "      <td>7.602000e+09</td>\n",
       "      <td>9.423000e+09</td>\n",
       "      <td>7.207000e+09</td>\n",
       "      <td>0.0</td>\n",
       "      <td>7.000000e+09</td>\n",
       "      <td>1.637000e+09</td>\n",
       "      <td>0.0</td>\n",
       "      <td>0.0</td>\n",
       "      <td>5.349000e+09</td>\n",
       "      <td>0.0</td>\n",
       "      <td>5.349000e+09</td>\n",
       "      <td>9.09</td>\n",
       "      <td>8.89</td>\n",
       "      <td>588500000.0</td>\n",
       "      <td>602000000.0</td>\n",
       "      <td>5.303987</td>\n",
       "      <td>0.490859</td>\n",
       "      <td>0.265375</td>\n",
       "      <td>0.219960</td>\n",
       "      <td>0.163253</td>\n",
       "      <td>0.148390</td>\n",
       "      <td>8.695000e+09</td>\n",
       "      <td>7.207000e+09</td>\n",
       "      <td>5.349000e+09</td>\n",
       "      <td>0.213643</td>\n",
       "      <td>0.163253</td>\n",
       "      <td>2.853000e+09</td>\n",
       "      <td>3.800000e+08</td>\n",
       "      <td>3.233000e+09</td>\n",
       "      <td>5.020000e+09</td>\n",
       "      <td>4.366000e+09</td>\n",
       "      <td>1.370900e+10</td>\n",
       "      <td>8.738000e+09</td>\n",
       "      <td>1.270800e+10</td>\n",
       "      <td>37000000.0</td>\n",
       "      <td>365000000.0</td>\n",
       "      <td>2.279100e+10</td>\n",
       "      <td>3.650000e+10</td>\n",
       "      <td>2.266000e+09</td>\n",
       "      <td>1.211000e+09</td>\n",
       "      <td>7.244000e+09</td>\n",
       "      <td>1.341100e+10</td>\n",
       "      <td>1.462200e+10</td>\n",
       "      <td>617000000.0</td>\n",
       "      <td>243000000.0</td>\n",
       "      <td>0.0</td>\n",
       "      <td>1.670000e+10</td>\n",
       "      <td>2.670400e+10</td>\n",
       "      <td>0.0</td>\n",
       "      <td>4.063600e+10</td>\n",
       "      <td>9.796000e+09</td>\n",
       "      <td>4.170000e+08</td>\n",
       "      <td>1.176900e+10</td>\n",
       "      <td>0.0</td>\n",
       "      <td>2.760000e+09</td>\n",
       "      <td>1.488000e+09</td>\n",
       "      <td>302000000.0</td>\n",
       "      <td>6.439000e+09</td>\n",
       "      <td>1.577000e+09</td>\n",
       "      <td>1.300000e+07</td>\n",
       "      <td>-6.698000e+09</td>\n",
       "      <td>2.220000e+08</td>\n",
       "      <td>-7.500000e+08</td>\n",
       "      <td>-4.870000e+09</td>\n",
       "      <td>-3.193000e+09</td>\n",
       "      <td>-6.701000e+09</td>\n",
       "      <td>-160000000.0</td>\n",
       "      <td>-200000000.0</td>\n",
       "      <td>4.862000e+09</td>\n",
       "      <td>0.0</td>\n",
       "      <td>12.408969</td>\n",
       "      <td>12.408969</td>\n",
       "      <td>3.710003</td>\n",
       "      <td>22.725418</td>\n",
       "      <td>6.526892</td>\n",
       "      <td>25.001699</td>\n",
       "      <td>18.878438</td>\n",
       "      <td>18.878438</td>\n",
       "      <td>2.723903</td>\n",
       "      <td>3.710003</td>\n",
       "      <td>0.026267</td>\n",
       "      <td>15.733687</td>\n",
       "      <td>12.408969</td>\n",
       "      <td>0.213215</td>\n",
       "      <td>1.000000</td>\n",
       "      <td>0.765674</td>\n",
       "      <td>0.490859</td>\n",
       "      <td>0.219960</td>\n",
       "      <td>0.213215</td>\n",
       "      <td>0.163253</td>\n",
       "      <td>0.234326</td>\n",
       "      <td>0.146548</td>\n",
       "      <td>0.546039</td>\n",
       "      <td>0.238789</td>\n",
       "      <td>0.765674</td>\n",
       "      <td>1.000000</td>\n",
       "      <td>0.213215</td>\n",
       "      <td>6.526892</td>\n",
       "      <td>7.361871</td>\n",
       "      <td>3.820889</td>\n",
       "      <td>3.749714</td>\n",
       "      <td>0.897671</td>\n",
       "      <td>1.892463</td>\n",
       "      <td>1.139288</td>\n",
       "      <td>0.393843</td>\n",
       "      <td>55.922478</td>\n",
       "      <td>95.527515</td>\n",
       "      <td>151.449993</td>\n",
       "      <td>49.579787</td>\n",
       "      <td>6.342692</td>\n",
       "      <td>0.731616</td>\n",
       "      <td>2.726011</td>\n",
       "      <td>0.577886</td>\n",
       "      <td>1.341100e+10</td>\n",
       "      <td>NaN</td>\n",
       "      <td>0.440364</td>\n",
       "      <td>3.726011</td>\n",
       "      <td>11.058118</td>\n",
       "      <td>8.349832</td>\n",
       "      <td>5.552244</td>\n",
       "      <td>0.596934</td>\n",
       "      <td>6.526892</td>\n",
       "      <td>0.196521</td>\n",
       "      <td>0.755086</td>\n",
       "      <td>0.440364</td>\n",
       "      <td>5.317093</td>\n",
       "      <td>4.083069</td>\n",
       "      <td>1.349895</td>\n",
       "      <td>0.596934</td>\n",
       "      <td>0.0</td>\n",
       "      <td>0.0</td>\n",
       "      <td>0.0</td>\n",
       "      <td>0.0</td>\n",
       "      <td>0.0</td>\n",
       "      <td>0.0</td>\n",
       "      <td>0.0</td>\n",
       "      <td>0.0</td>\n",
       "      <td>0.0</td>\n",
       "      <td>0.031891</td>\n",
       "      <td>-0.001027</td>\n",
       "      <td>0.0</td>\n",
       "      <td>0.0</td>\n",
       "      <td>0.0</td>\n",
       "      <td>0.0</td>\n",
       "      <td>0.0</td>\n",
       "      <td>0.0</td>\n",
       "      <td>0.0</td>\n",
       "      <td>0.0</td>\n",
       "      <td>0.0</td>\n",
       "      <td>0.0</td>\n",
       "      <td>0.0</td>\n",
       "      <td>0.0</td>\n",
       "      <td>0.0</td>\n",
       "      <td>0.0</td>\n",
       "      <td>0.0</td>\n",
       "      <td>0.022195</td>\n",
       "      <td>0.082300</td>\n",
       "      <td>-0.039145</td>\n",
       "      <td>0.0</td>\n",
       "      <td>0.048247</td>\n",
       "      <td>0.0</td>\n",
       "      <td>0.0</td>\n",
       "      <td>56.269490</td>\n",
       "      <td>9.186190</td>\n",
       "      <td>11.058118</td>\n",
       "      <td>8.349832</td>\n",
       "      <td>4.899645</td>\n",
       "      <td>16.823315</td>\n",
       "      <td>40.859567</td>\n",
       "      <td>16.823315</td>\n",
       "      <td>25.111322</td>\n",
       "      <td>1.215583e+11</td>\n",
       "      <td>1.333273e+11</td>\n",
       "      <td>22.725418</td>\n",
       "      <td>3.710003</td>\n",
       "      <td>18.878438</td>\n",
       "      <td>25.001699</td>\n",
       "      <td>12.408969</td>\n",
       "      <td>12.408969</td>\n",
       "      <td>4.069198</td>\n",
       "      <td>15.733687</td>\n",
       "      <td>20.706206</td>\n",
       "      <td>27.422308</td>\n",
       "      <td>0.044004</td>\n",
       "      <td>0.039997</td>\n",
       "      <td>2.726011</td>\n",
       "      <td>0.731616</td>\n",
       "      <td>1.388836</td>\n",
       "      <td>1.892463</td>\n",
       "      <td>0.000000</td>\n",
       "      <td>1.203776</td>\n",
       "      <td>0.026267</td>\n",
       "      <td>0.596934</td>\n",
       "      <td>0.232016</td>\n",
       "      <td>0.232016</td>\n",
       "      <td>0.348164</td>\n",
       "      <td>4.083069</td>\n",
       "      <td>20.776791</td>\n",
       "      <td>0.943564</td>\n",
       "      <td>0.009217</td>\n",
       "      <td>58.967776</td>\n",
       "      <td>0.238789</td>\n",
       "      <td>0.224823</td>\n",
       "      <td>-30.093401</td>\n",
       "      <td>6.465000e+09</td>\n",
       "      <td>-2.912000e+09</td>\n",
       "      <td>-1.299500e+10</td>\n",
       "      <td>2.831700e+10</td>\n",
       "      <td>5.020000e+09</td>\n",
       "      <td>2.266000e+09</td>\n",
       "      <td>4.366000e+09</td>\n",
       "      <td>55.922478</td>\n",
       "      <td>49.579787</td>\n",
       "      <td>95.527515</td>\n",
       "      <td>6.526892</td>\n",
       "      <td>7.361871</td>\n",
       "      <td>3.820889</td>\n",
       "      <td>0.546039</td>\n",
       "      <td>2.708286</td>\n",
       "      <td>2018</td>\n",
       "    </tr>\n",
       "    <tr>\n",
       "      <th>1</th>\n",
       "      <td>MMM</td>\n",
       "      <td>1.096121</td>\n",
       "      <td>Inge G. Thulin</td>\n",
       "      <td>Industrial Products</td>\n",
       "      <td>Industrials</td>\n",
       "      <td>4779401.0</td>\n",
       "      <td>2017-12-31</td>\n",
       "      <td>3.165700e+10</td>\n",
       "      <td>0.051413</td>\n",
       "      <td>1.600100e+10</td>\n",
       "      <td>1.565600e+10</td>\n",
       "      <td>1.850000e+09</td>\n",
       "      <td>6.572000e+09</td>\n",
       "      <td>8.422000e+09</td>\n",
       "      <td>7.820000e+09</td>\n",
       "      <td>322000000.0</td>\n",
       "      <td>7.548000e+09</td>\n",
       "      <td>2.679000e+09</td>\n",
       "      <td>0.0</td>\n",
       "      <td>0.0</td>\n",
       "      <td>4.858000e+09</td>\n",
       "      <td>0.0</td>\n",
       "      <td>4.858000e+09</td>\n",
       "      <td>8.13</td>\n",
       "      <td>7.93</td>\n",
       "      <td>597500000.0</td>\n",
       "      <td>612700000.0</td>\n",
       "      <td>4.574833</td>\n",
       "      <td>0.494551</td>\n",
       "      <td>0.295796</td>\n",
       "      <td>0.247023</td>\n",
       "      <td>0.153457</td>\n",
       "      <td>0.153742</td>\n",
       "      <td>9.364000e+09</td>\n",
       "      <td>7.820000e+09</td>\n",
       "      <td>4.858000e+09</td>\n",
       "      <td>0.238431</td>\n",
       "      <td>0.153457</td>\n",
       "      <td>3.053000e+09</td>\n",
       "      <td>1.076000e+09</td>\n",
       "      <td>4.129000e+09</td>\n",
       "      <td>4.911000e+09</td>\n",
       "      <td>4.034000e+09</td>\n",
       "      <td>1.427700e+10</td>\n",
       "      <td>8.866000e+09</td>\n",
       "      <td>1.344900e+10</td>\n",
       "      <td>27000000.0</td>\n",
       "      <td>511000000.0</td>\n",
       "      <td>2.371000e+10</td>\n",
       "      <td>3.798700e+10</td>\n",
       "      <td>1.945000e+09</td>\n",
       "      <td>1.853000e+09</td>\n",
       "      <td>7.687000e+09</td>\n",
       "      <td>1.209600e+10</td>\n",
       "      <td>1.394900e+10</td>\n",
       "      <td>513000000.0</td>\n",
       "      <td>310000000.0</td>\n",
       "      <td>0.0</td>\n",
       "      <td>1.533000e+10</td>\n",
       "      <td>2.642400e+10</td>\n",
       "      <td>0.0</td>\n",
       "      <td>3.911500e+10</td>\n",
       "      <td>1.156300e+10</td>\n",
       "      <td>1.103000e+09</td>\n",
       "      <td>1.089600e+10</td>\n",
       "      <td>0.0</td>\n",
       "      <td>3.407000e+09</td>\n",
       "      <td>1.544000e+09</td>\n",
       "      <td>324000000.0</td>\n",
       "      <td>6.240000e+09</td>\n",
       "      <td>1.373000e+09</td>\n",
       "      <td>-2.023000e+09</td>\n",
       "      <td>-4.220000e+09</td>\n",
       "      <td>-3.086000e+09</td>\n",
       "      <td>-1.540000e+09</td>\n",
       "      <td>-2.068000e+09</td>\n",
       "      <td>-2.803000e+09</td>\n",
       "      <td>-2.655000e+09</td>\n",
       "      <td>156000000.0</td>\n",
       "      <td>655000000.0</td>\n",
       "      <td>4.867000e+09</td>\n",
       "      <td>0.0</td>\n",
       "      <td>12.421594</td>\n",
       "      <td>12.421594</td>\n",
       "      <td>4.537097</td>\n",
       "      <td>29.565849</td>\n",
       "      <td>6.446141</td>\n",
       "      <td>29.511176</td>\n",
       "      <td>23.017772</td>\n",
       "      <td>23.017772</td>\n",
       "      <td>3.624878</td>\n",
       "      <td>4.537097</td>\n",
       "      <td>0.019515</td>\n",
       "      <td>17.016506</td>\n",
       "      <td>12.421594</td>\n",
       "      <td>0.238083</td>\n",
       "      <td>1.000000</td>\n",
       "      <td>0.644554</td>\n",
       "      <td>0.492845</td>\n",
       "      <td>0.242979</td>\n",
       "      <td>0.238083</td>\n",
       "      <td>0.153457</td>\n",
       "      <td>0.355446</td>\n",
       "      <td>0.127886</td>\n",
       "      <td>0.420133</td>\n",
       "      <td>0.248746</td>\n",
       "      <td>0.644554</td>\n",
       "      <td>1.000000</td>\n",
       "      <td>0.238083</td>\n",
       "      <td>6.446141</td>\n",
       "      <td>8.254499</td>\n",
       "      <td>3.979921</td>\n",
       "      <td>3.570607</td>\n",
       "      <td>0.833364</td>\n",
       "      <td>1.857292</td>\n",
       "      <td>1.176011</td>\n",
       "      <td>0.397164</td>\n",
       "      <td>56.623022</td>\n",
       "      <td>91.710371</td>\n",
       "      <td>148.333392</td>\n",
       "      <td>44.218312</td>\n",
       "      <td>12.404710</td>\n",
       "      <td>0.695606</td>\n",
       "      <td>2.285220</td>\n",
       "      <td>0.511264</td>\n",
       "      <td>1.209600e+10</td>\n",
       "      <td>NaN</td>\n",
       "      <td>0.447344</td>\n",
       "      <td>3.285220</td>\n",
       "      <td>10.476687</td>\n",
       "      <td>8.171480</td>\n",
       "      <td>6.932411</td>\n",
       "      <td>0.576986</td>\n",
       "      <td>6.446141</td>\n",
       "      <td>0.197113</td>\n",
       "      <td>0.779968</td>\n",
       "      <td>0.447344</td>\n",
       "      <td>3.367512</td>\n",
       "      <td>4.544792</td>\n",
       "      <td>1.494253</td>\n",
       "      <td>0.576986</td>\n",
       "      <td>0.0</td>\n",
       "      <td>0.0</td>\n",
       "      <td>0.0</td>\n",
       "      <td>0.0</td>\n",
       "      <td>0.0</td>\n",
       "      <td>0.0</td>\n",
       "      <td>0.0</td>\n",
       "      <td>0.0</td>\n",
       "      <td>0.0</td>\n",
       "      <td>-0.063344</td>\n",
       "      <td>-0.071538</td>\n",
       "      <td>0.0</td>\n",
       "      <td>0.0</td>\n",
       "      <td>0.0</td>\n",
       "      <td>0.0</td>\n",
       "      <td>0.0</td>\n",
       "      <td>0.0</td>\n",
       "      <td>0.0</td>\n",
       "      <td>0.0</td>\n",
       "      <td>0.0</td>\n",
       "      <td>0.0</td>\n",
       "      <td>0.0</td>\n",
       "      <td>0.0</td>\n",
       "      <td>0.0</td>\n",
       "      <td>0.0</td>\n",
       "      <td>0.0</td>\n",
       "      <td>0.118169</td>\n",
       "      <td>0.191728</td>\n",
       "      <td>0.154410</td>\n",
       "      <td>0.0</td>\n",
       "      <td>0.197339</td>\n",
       "      <td>0.0</td>\n",
       "      <td>0.0</td>\n",
       "      <td>53.150720</td>\n",
       "      <td>8.156370</td>\n",
       "      <td>10.476687</td>\n",
       "      <td>8.171480</td>\n",
       "      <td>5.125854</td>\n",
       "      <td>19.413772</td>\n",
       "      <td>41.198230</td>\n",
       "      <td>19.413772</td>\n",
       "      <td>23.419762</td>\n",
       "      <td>1.436309e+11</td>\n",
       "      <td>1.545269e+11</td>\n",
       "      <td>29.565849</td>\n",
       "      <td>4.537097</td>\n",
       "      <td>23.017772</td>\n",
       "      <td>29.511176</td>\n",
       "      <td>12.421594</td>\n",
       "      <td>12.421594</td>\n",
       "      <td>4.881287</td>\n",
       "      <td>17.016506</td>\n",
       "      <td>24.763926</td>\n",
       "      <td>31.749927</td>\n",
       "      <td>0.033823</td>\n",
       "      <td>0.033885</td>\n",
       "      <td>2.285220</td>\n",
       "      <td>0.695606</td>\n",
       "      <td>1.199868</td>\n",
       "      <td>1.857292</td>\n",
       "      <td>0.000000</td>\n",
       "      <td>1.284479</td>\n",
       "      <td>0.019515</td>\n",
       "      <td>0.576986</td>\n",
       "      <td>0.209306</td>\n",
       "      <td>0.209306</td>\n",
       "      <td>0.354042</td>\n",
       "      <td>4.544792</td>\n",
       "      <td>23.056810</td>\n",
       "      <td>1.124545</td>\n",
       "      <td>0.010235</td>\n",
       "      <td>59.689051</td>\n",
       "      <td>0.248746</td>\n",
       "      <td>0.197979</td>\n",
       "      <td>-27.861860</td>\n",
       "      <td>6.590000e+09</td>\n",
       "      <td>-1.886000e+09</td>\n",
       "      <td>-1.214700e+10</td>\n",
       "      <td>2.774700e+10</td>\n",
       "      <td>4.965500e+09</td>\n",
       "      <td>2.105500e+09</td>\n",
       "      <td>4.200000e+09</td>\n",
       "      <td>56.623022</td>\n",
       "      <td>44.218312</td>\n",
       "      <td>91.710371</td>\n",
       "      <td>6.446141</td>\n",
       "      <td>8.254499</td>\n",
       "      <td>3.979921</td>\n",
       "      <td>0.420133</td>\n",
       "      <td>2.305207</td>\n",
       "      <td>2017</td>\n",
       "    </tr>\n",
       "    <tr>\n",
       "      <th>2</th>\n",
       "      <td>MMM</td>\n",
       "      <td>1.096121</td>\n",
       "      <td>Inge G. Thulin</td>\n",
       "      <td>Industrial Products</td>\n",
       "      <td>Industrials</td>\n",
       "      <td>4779401.0</td>\n",
       "      <td>2016-12-31</td>\n",
       "      <td>3.010900e+10</td>\n",
       "      <td>-0.005450</td>\n",
       "      <td>1.504000e+10</td>\n",
       "      <td>1.506900e+10</td>\n",
       "      <td>1.735000e+09</td>\n",
       "      <td>6.111000e+09</td>\n",
       "      <td>8.045000e+09</td>\n",
       "      <td>7.223000e+09</td>\n",
       "      <td>199000000.0</td>\n",
       "      <td>7.053000e+09</td>\n",
       "      <td>1.995000e+09</td>\n",
       "      <td>0.0</td>\n",
       "      <td>0.0</td>\n",
       "      <td>5.050000e+09</td>\n",
       "      <td>0.0</td>\n",
       "      <td>5.050000e+09</td>\n",
       "      <td>8.35</td>\n",
       "      <td>8.16</td>\n",
       "      <td>604700000.0</td>\n",
       "      <td>618700000.0</td>\n",
       "      <td>4.328431</td>\n",
       "      <td>0.500482</td>\n",
       "      <td>0.288851</td>\n",
       "      <td>0.239895</td>\n",
       "      <td>0.167724</td>\n",
       "      <td>0.174101</td>\n",
       "      <td>8.697000e+09</td>\n",
       "      <td>7.223000e+09</td>\n",
       "      <td>5.050000e+09</td>\n",
       "      <td>0.234249</td>\n",
       "      <td>0.167724</td>\n",
       "      <td>2.398000e+09</td>\n",
       "      <td>2.800000e+08</td>\n",
       "      <td>2.678000e+09</td>\n",
       "      <td>4.392000e+09</td>\n",
       "      <td>3.385000e+09</td>\n",
       "      <td>1.172600e+10</td>\n",
       "      <td>8.516000e+09</td>\n",
       "      <td>1.148600e+10</td>\n",
       "      <td>17000000.0</td>\n",
       "      <td>422000000.0</td>\n",
       "      <td>2.118000e+10</td>\n",
       "      <td>3.290600e+10</td>\n",
       "      <td>1.798000e+09</td>\n",
       "      <td>9.720000e+08</td>\n",
       "      <td>6.219000e+09</td>\n",
       "      <td>1.067800e+10</td>\n",
       "      <td>1.165000e+10</td>\n",
       "      <td>551000000.0</td>\n",
       "      <td>299000000.0</td>\n",
       "      <td>0.0</td>\n",
       "      <td>1.248600e+10</td>\n",
       "      <td>2.260800e+10</td>\n",
       "      <td>0.0</td>\n",
       "      <td>3.790700e+10</td>\n",
       "      <td>1.029800e+10</td>\n",
       "      <td>2.970000e+08</td>\n",
       "      <td>9.252000e+09</td>\n",
       "      <td>0.0</td>\n",
       "      <td>3.903000e+09</td>\n",
       "      <td>1.474000e+09</td>\n",
       "      <td>298000000.0</td>\n",
       "      <td>6.662000e+09</td>\n",
       "      <td>1.420000e+09</td>\n",
       "      <td>-1.600000e+07</td>\n",
       "      <td>-5.163000e+09</td>\n",
       "      <td>-1.403000e+09</td>\n",
       "      <td>-1.950000e+08</td>\n",
       "      <td>-3.753000e+09</td>\n",
       "      <td>-2.678000e+09</td>\n",
       "      <td>-4.626000e+09</td>\n",
       "      <td>-33000000.0</td>\n",
       "      <td>600000000.0</td>\n",
       "      <td>5.242000e+09</td>\n",
       "      <td>0.0</td>\n",
       "      <td>10.082651</td>\n",
       "      <td>10.082651</td>\n",
       "      <td>3.448509</td>\n",
       "      <td>20.560623</td>\n",
       "      <td>6.855419</td>\n",
       "      <td>19.807544</td>\n",
       "      <td>15.585582</td>\n",
       "      <td>15.585582</td>\n",
       "      <td>2.545600</td>\n",
       "      <td>3.448509</td>\n",
       "      <td>0.025792</td>\n",
       "      <td>13.274228</td>\n",
       "      <td>10.082651</td>\n",
       "      <td>0.233983</td>\n",
       "      <td>1.000000</td>\n",
       "      <td>0.716820</td>\n",
       "      <td>0.497891</td>\n",
       "      <td>0.233385</td>\n",
       "      <td>0.233983</td>\n",
       "      <td>0.167724</td>\n",
       "      <td>0.283180</td>\n",
       "      <td>0.153467</td>\n",
       "      <td>0.490386</td>\n",
       "      <td>0.263986</td>\n",
       "      <td>0.716820</td>\n",
       "      <td>1.000000</td>\n",
       "      <td>0.233983</td>\n",
       "      <td>6.855419</td>\n",
       "      <td>8.408231</td>\n",
       "      <td>4.466174</td>\n",
       "      <td>3.535580</td>\n",
       "      <td>0.915000</td>\n",
       "      <td>1.885512</td>\n",
       "      <td>1.136839</td>\n",
       "      <td>0.385593</td>\n",
       "      <td>53.242552</td>\n",
       "      <td>81.725427</td>\n",
       "      <td>134.967979</td>\n",
       "      <td>43.409843</td>\n",
       "      <td>9.832709</td>\n",
       "      <td>0.687048</td>\n",
       "      <td>2.195378</td>\n",
       "      <td>0.509058</td>\n",
       "      <td>1.067800e+10</td>\n",
       "      <td>NaN</td>\n",
       "      <td>0.571845</td>\n",
       "      <td>3.195378</td>\n",
       "      <td>11.076263</td>\n",
       "      <td>8.715366</td>\n",
       "      <td>4.452452</td>\n",
       "      <td>0.530297</td>\n",
       "      <td>6.855419</td>\n",
       "      <td>0.221263</td>\n",
       "      <td>0.786851</td>\n",
       "      <td>0.571845</td>\n",
       "      <td>6.853909</td>\n",
       "      <td>4.691549</td>\n",
       "      <td>1.625671</td>\n",
       "      <td>0.530297</td>\n",
       "      <td>0.0</td>\n",
       "      <td>0.0</td>\n",
       "      <td>0.0</td>\n",
       "      <td>0.0</td>\n",
       "      <td>0.0</td>\n",
       "      <td>0.0</td>\n",
       "      <td>0.0</td>\n",
       "      <td>0.0</td>\n",
       "      <td>0.0</td>\n",
       "      <td>0.037695</td>\n",
       "      <td>0.057068</td>\n",
       "      <td>0.0</td>\n",
       "      <td>0.0</td>\n",
       "      <td>0.0</td>\n",
       "      <td>0.0</td>\n",
       "      <td>0.0</td>\n",
       "      <td>0.0</td>\n",
       "      <td>0.0</td>\n",
       "      <td>0.0</td>\n",
       "      <td>0.0</td>\n",
       "      <td>0.0</td>\n",
       "      <td>0.0</td>\n",
       "      <td>0.0</td>\n",
       "      <td>0.0</td>\n",
       "      <td>0.0</td>\n",
       "      <td>0.0</td>\n",
       "      <td>0.057294</td>\n",
       "      <td>-0.037806</td>\n",
       "      <td>0.005746</td>\n",
       "      <td>0.0</td>\n",
       "      <td>0.079003</td>\n",
       "      <td>0.0</td>\n",
       "      <td>0.0</td>\n",
       "      <td>50.059322</td>\n",
       "      <td>8.396146</td>\n",
       "      <td>11.076263</td>\n",
       "      <td>8.715366</td>\n",
       "      <td>3.986923</td>\n",
       "      <td>17.121488</td>\n",
       "      <td>35.612962</td>\n",
       "      <td>17.121488</td>\n",
       "      <td>19.369328</td>\n",
       "      <td>1.038311e+11</td>\n",
       "      <td>1.130831e+11</td>\n",
       "      <td>20.560623</td>\n",
       "      <td>3.448509</td>\n",
       "      <td>15.585582</td>\n",
       "      <td>19.807544</td>\n",
       "      <td>10.082651</td>\n",
       "      <td>10.082651</td>\n",
       "      <td>3.755792</td>\n",
       "      <td>13.274228</td>\n",
       "      <td>16.974354</td>\n",
       "      <td>21.572519</td>\n",
       "      <td>0.048637</td>\n",
       "      <td>0.050486</td>\n",
       "      <td>2.195378</td>\n",
       "      <td>0.687048</td>\n",
       "      <td>1.086043</td>\n",
       "      <td>1.885512</td>\n",
       "      <td>0.000000</td>\n",
       "      <td>1.319208</td>\n",
       "      <td>0.025792</td>\n",
       "      <td>0.530297</td>\n",
       "      <td>0.209605</td>\n",
       "      <td>0.209605</td>\n",
       "      <td>0.349055</td>\n",
       "      <td>4.691549</td>\n",
       "      <td>21.203521</td>\n",
       "      <td>1.038028</td>\n",
       "      <td>0.009897</td>\n",
       "      <td>56.872461</td>\n",
       "      <td>0.263986</td>\n",
       "      <td>0.235761</td>\n",
       "      <td>-24.845112</td>\n",
       "      <td>5.507000e+09</td>\n",
       "      <td>-1.188000e+09</td>\n",
       "      <td>-1.088200e+10</td>\n",
       "      <td>2.445300e+10</td>\n",
       "      <td>4.706000e+09</td>\n",
       "      <td>2.032000e+09</td>\n",
       "      <td>3.875500e+09</td>\n",
       "      <td>53.242552</td>\n",
       "      <td>43.409843</td>\n",
       "      <td>81.725427</td>\n",
       "      <td>6.855419</td>\n",
       "      <td>8.408231</td>\n",
       "      <td>4.466174</td>\n",
       "      <td>0.490386</td>\n",
       "      <td>2.360897</td>\n",
       "      <td>2016</td>\n",
       "    </tr>\n",
       "    <tr>\n",
       "      <th>3</th>\n",
       "      <td>MMM</td>\n",
       "      <td>1.096121</td>\n",
       "      <td>Inge G. Thulin</td>\n",
       "      <td>Industrial Products</td>\n",
       "      <td>Industrials</td>\n",
       "      <td>4779401.0</td>\n",
       "      <td>2015-12-31</td>\n",
       "      <td>3.027400e+10</td>\n",
       "      <td>-0.048616</td>\n",
       "      <td>1.538300e+10</td>\n",
       "      <td>1.489100e+10</td>\n",
       "      <td>1.763000e+09</td>\n",
       "      <td>6.182000e+09</td>\n",
       "      <td>8.094000e+09</td>\n",
       "      <td>6.946000e+09</td>\n",
       "      <td>149000000.0</td>\n",
       "      <td>6.823000e+09</td>\n",
       "      <td>1.982000e+09</td>\n",
       "      <td>0.0</td>\n",
       "      <td>0.0</td>\n",
       "      <td>4.833000e+09</td>\n",
       "      <td>0.0</td>\n",
       "      <td>4.833000e+09</td>\n",
       "      <td>7.72</td>\n",
       "      <td>7.58</td>\n",
       "      <td>625600000.0</td>\n",
       "      <td>637200000.0</td>\n",
       "      <td>4.019146</td>\n",
       "      <td>0.491874</td>\n",
       "      <td>0.276838</td>\n",
       "      <td>0.229438</td>\n",
       "      <td>0.159642</td>\n",
       "      <td>0.163804</td>\n",
       "      <td>8.381000e+09</td>\n",
       "      <td>6.946000e+09</td>\n",
       "      <td>4.833000e+09</td>\n",
       "      <td>0.225375</td>\n",
       "      <td>0.159642</td>\n",
       "      <td>1.798000e+09</td>\n",
       "      <td>1.180000e+08</td>\n",
       "      <td>1.916000e+09</td>\n",
       "      <td>4.154000e+09</td>\n",
       "      <td>3.518000e+09</td>\n",
       "      <td>1.098600e+10</td>\n",
       "      <td>8.515000e+09</td>\n",
       "      <td>1.185000e+10</td>\n",
       "      <td>117000000.0</td>\n",
       "      <td>510000000.0</td>\n",
       "      <td>2.173200e+10</td>\n",
       "      <td>3.271800e+10</td>\n",
       "      <td>1.694000e+09</td>\n",
       "      <td>2.044000e+09</td>\n",
       "      <td>7.118000e+09</td>\n",
       "      <td>8.753000e+09</td>\n",
       "      <td>1.079700e+10</td>\n",
       "      <td>518000000.0</td>\n",
       "      <td>332000000.0</td>\n",
       "      <td>0.0</td>\n",
       "      <td>1.090300e+10</td>\n",
       "      <td>2.101000e+10</td>\n",
       "      <td>0.0</td>\n",
       "      <td>3.657500e+10</td>\n",
       "      <td>1.170800e+10</td>\n",
       "      <td>2.350000e+08</td>\n",
       "      <td>8.999000e+09</td>\n",
       "      <td>0.0</td>\n",
       "      <td>2.989000e+09</td>\n",
       "      <td>1.435000e+09</td>\n",
       "      <td>276000000.0</td>\n",
       "      <td>6.420000e+09</td>\n",
       "      <td>1.461000e+09</td>\n",
       "      <td>-2.914000e+09</td>\n",
       "      <td>-3.938000e+09</td>\n",
       "      <td>-2.817000e+09</td>\n",
       "      <td>-5.082000e+09</td>\n",
       "      <td>-5.238000e+09</td>\n",
       "      <td>-2.561000e+09</td>\n",
       "      <td>-3.648000e+09</td>\n",
       "      <td>-54000000.0</td>\n",
       "      <td>-99000000.0</td>\n",
       "      <td>4.959000e+09</td>\n",
       "      <td>0.0</td>\n",
       "      <td>8.251226</td>\n",
       "      <td>8.251226</td>\n",
       "      <td>3.191034</td>\n",
       "      <td>19.988694</td>\n",
       "      <td>7.287915</td>\n",
       "      <td>19.480815</td>\n",
       "      <td>15.047564</td>\n",
       "      <td>15.047564</td>\n",
       "      <td>2.533408</td>\n",
       "      <td>3.191034</td>\n",
       "      <td>0.026510</td>\n",
       "      <td>12.800528</td>\n",
       "      <td>8.251226</td>\n",
       "      <td>0.225111</td>\n",
       "      <td>1.000000</td>\n",
       "      <td>0.709171</td>\n",
       "      <td>0.491874</td>\n",
       "      <td>0.229438</td>\n",
       "      <td>0.225111</td>\n",
       "      <td>0.159642</td>\n",
       "      <td>0.290829</td>\n",
       "      <td>0.147717</td>\n",
       "      <td>0.412795</td>\n",
       "      <td>0.266211</td>\n",
       "      <td>0.709171</td>\n",
       "      <td>1.000000</td>\n",
       "      <td>0.225111</td>\n",
       "      <td>7.287915</td>\n",
       "      <td>9.080874</td>\n",
       "      <td>4.372655</td>\n",
       "      <td>3.555373</td>\n",
       "      <td>0.925301</td>\n",
       "      <td>1.543411</td>\n",
       "      <td>0.852768</td>\n",
       "      <td>0.252599</td>\n",
       "      <td>50.082909</td>\n",
       "      <td>83.473315</td>\n",
       "      <td>133.556224</td>\n",
       "      <td>40.194370</td>\n",
       "      <td>9.888539</td>\n",
       "      <td>0.642154</td>\n",
       "      <td>1.794499</td>\n",
       "      <td>0.427789</td>\n",
       "      <td>8.753000e+09</td>\n",
       "      <td>NaN</td>\n",
       "      <td>0.594610</td>\n",
       "      <td>2.794499</td>\n",
       "      <td>10.426937</td>\n",
       "      <td>8.054078</td>\n",
       "      <td>3.111840</td>\n",
       "      <td>0.529899</td>\n",
       "      <td>7.287915</td>\n",
       "      <td>0.212063</td>\n",
       "      <td>0.772430</td>\n",
       "      <td>0.594610</td>\n",
       "      <td>3.140900</td>\n",
       "      <td>4.394251</td>\n",
       "      <td>1.596221</td>\n",
       "      <td>0.529899</td>\n",
       "      <td>0.0</td>\n",
       "      <td>0.0</td>\n",
       "      <td>0.0</td>\n",
       "      <td>0.0</td>\n",
       "      <td>0.0</td>\n",
       "      <td>0.0</td>\n",
       "      <td>0.0</td>\n",
       "      <td>0.0</td>\n",
       "      <td>0.0</td>\n",
       "      <td>-0.031090</td>\n",
       "      <td>-0.033898</td>\n",
       "      <td>0.0</td>\n",
       "      <td>0.0</td>\n",
       "      <td>0.0</td>\n",
       "      <td>0.0</td>\n",
       "      <td>0.0</td>\n",
       "      <td>0.0</td>\n",
       "      <td>0.0</td>\n",
       "      <td>0.0</td>\n",
       "      <td>0.0</td>\n",
       "      <td>0.0</td>\n",
       "      <td>0.0</td>\n",
       "      <td>0.0</td>\n",
       "      <td>0.0</td>\n",
       "      <td>0.0</td>\n",
       "      <td>0.0</td>\n",
       "      <td>-0.019821</td>\n",
       "      <td>-0.050729</td>\n",
       "      <td>0.046340</td>\n",
       "      <td>0.0</td>\n",
       "      <td>0.579201</td>\n",
       "      <td>0.0</td>\n",
       "      <td>0.0</td>\n",
       "      <td>49.169017</td>\n",
       "      <td>7.849437</td>\n",
       "      <td>10.426937</td>\n",
       "      <td>8.054078</td>\n",
       "      <td>2.920192</td>\n",
       "      <td>19.015355</td>\n",
       "      <td>33.892418</td>\n",
       "      <td>19.015355</td>\n",
       "      <td>17.535769</td>\n",
       "      <td>9.660536e+10</td>\n",
       "      <td>1.056044e+11</td>\n",
       "      <td>19.988694</td>\n",
       "      <td>3.191034</td>\n",
       "      <td>15.047564</td>\n",
       "      <td>19.480815</td>\n",
       "      <td>8.251226</td>\n",
       "      <td>8.251226</td>\n",
       "      <td>3.488286</td>\n",
       "      <td>12.800528</td>\n",
       "      <td>16.449277</td>\n",
       "      <td>21.295495</td>\n",
       "      <td>0.050028</td>\n",
       "      <td>0.051333</td>\n",
       "      <td>1.794499</td>\n",
       "      <td>0.642154</td>\n",
       "      <td>1.090788</td>\n",
       "      <td>1.543411</td>\n",
       "      <td>0.000000</td>\n",
       "      <td>1.328367</td>\n",
       "      <td>0.026510</td>\n",
       "      <td>0.529899</td>\n",
       "      <td>0.205754</td>\n",
       "      <td>0.205754</td>\n",
       "      <td>0.362186</td>\n",
       "      <td>4.394251</td>\n",
       "      <td>20.721424</td>\n",
       "      <td>0.982204</td>\n",
       "      <td>0.009117</td>\n",
       "      <td>57.951240</td>\n",
       "      <td>0.266211</td>\n",
       "      <td>0.231599</td>\n",
       "      <td>-23.094366</td>\n",
       "      <td>3.868000e+09</td>\n",
       "      <td>-1.420000e+08</td>\n",
       "      <td>-1.002400e+10</td>\n",
       "      <td>2.291400e+10</td>\n",
       "      <td>4.587000e+09</td>\n",
       "      <td>1.980000e+09</td>\n",
       "      <td>3.942000e+09</td>\n",
       "      <td>50.082909</td>\n",
       "      <td>40.194370</td>\n",
       "      <td>83.473315</td>\n",
       "      <td>7.287915</td>\n",
       "      <td>9.080874</td>\n",
       "      <td>4.372655</td>\n",
       "      <td>0.412795</td>\n",
       "      <td>2.372859</td>\n",
       "      <td>2015</td>\n",
       "    </tr>\n",
       "    <tr>\n",
       "      <th>4</th>\n",
       "      <td>MMM</td>\n",
       "      <td>1.096121</td>\n",
       "      <td>Inge G. Thulin</td>\n",
       "      <td>Industrial Products</td>\n",
       "      <td>Industrials</td>\n",
       "      <td>4779401.0</td>\n",
       "      <td>2014-12-31</td>\n",
       "      <td>3.182100e+10</td>\n",
       "      <td>0.030773</td>\n",
       "      <td>1.644700e+10</td>\n",
       "      <td>1.537400e+10</td>\n",
       "      <td>1.770000e+09</td>\n",
       "      <td>6.469000e+09</td>\n",
       "      <td>8.381000e+09</td>\n",
       "      <td>7.135000e+09</td>\n",
       "      <td>142000000.0</td>\n",
       "      <td>7.026000e+09</td>\n",
       "      <td>2.028000e+09</td>\n",
       "      <td>0.0</td>\n",
       "      <td>0.0</td>\n",
       "      <td>4.956000e+09</td>\n",
       "      <td>0.0</td>\n",
       "      <td>4.956000e+09</td>\n",
       "      <td>7.63</td>\n",
       "      <td>7.49</td>\n",
       "      <td>649200000.0</td>\n",
       "      <td>662000000.0</td>\n",
       "      <td>3.347432</td>\n",
       "      <td>0.483140</td>\n",
       "      <td>0.268471</td>\n",
       "      <td>0.224223</td>\n",
       "      <td>0.155746</td>\n",
       "      <td>0.161309</td>\n",
       "      <td>8.543000e+09</td>\n",
       "      <td>7.135000e+09</td>\n",
       "      <td>4.956000e+09</td>\n",
       "      <td>0.220798</td>\n",
       "      <td>0.155746</td>\n",
       "      <td>1.897000e+09</td>\n",
       "      <td>6.260000e+08</td>\n",
       "      <td>2.523000e+09</td>\n",
       "      <td>4.238000e+09</td>\n",
       "      <td>3.706000e+09</td>\n",
       "      <td>1.176500e+10</td>\n",
       "      <td>8.489000e+09</td>\n",
       "      <td>8.485000e+09</td>\n",
       "      <td>828000000.0</td>\n",
       "      <td>889000000.0</td>\n",
       "      <td>1.950400e+10</td>\n",
       "      <td>3.126900e+10</td>\n",
       "      <td>1.807000e+09</td>\n",
       "      <td>1.060000e+08</td>\n",
       "      <td>5.998000e+09</td>\n",
       "      <td>6.731000e+09</td>\n",
       "      <td>6.837000e+09</td>\n",
       "      <td>541000000.0</td>\n",
       "      <td>435000000.0</td>\n",
       "      <td>0.0</td>\n",
       "      <td>8.448000e+09</td>\n",
       "      <td>1.816000e+10</td>\n",
       "      <td>0.0</td>\n",
       "      <td>3.431700e+10</td>\n",
       "      <td>1.310900e+10</td>\n",
       "      <td>1.454000e+09</td>\n",
       "      <td>4.940000e+09</td>\n",
       "      <td>0.0</td>\n",
       "      <td>3.714000e+09</td>\n",
       "      <td>1.408000e+09</td>\n",
       "      <td>280000000.0</td>\n",
       "      <td>6.626000e+09</td>\n",
       "      <td>1.493000e+09</td>\n",
       "      <td>-9.400000e+07</td>\n",
       "      <td>-5.652000e+09</td>\n",
       "      <td>-7.070000e+08</td>\n",
       "      <td>-4.260000e+09</td>\n",
       "      <td>-5.652000e+09</td>\n",
       "      <td>-2.216000e+09</td>\n",
       "      <td>-6.603000e+09</td>\n",
       "      <td>-111000000.0</td>\n",
       "      <td>-684000000.0</td>\n",
       "      <td>5.133000e+09</td>\n",
       "      <td>0.0</td>\n",
       "      <td>7.731475</td>\n",
       "      <td>7.731475</td>\n",
       "      <td>3.185064</td>\n",
       "      <td>20.450345</td>\n",
       "      <td>7.508495</td>\n",
       "      <td>19.745160</td>\n",
       "      <td>15.296092</td>\n",
       "      <td>15.296092</td>\n",
       "      <td>2.697605</td>\n",
       "      <td>3.185064</td>\n",
       "      <td>0.021864</td>\n",
       "      <td>12.455110</td>\n",
       "      <td>7.731475</td>\n",
       "      <td>0.223940</td>\n",
       "      <td>0.980073</td>\n",
       "      <td>0.709622</td>\n",
       "      <td>0.483140</td>\n",
       "      <td>0.224223</td>\n",
       "      <td>0.219478</td>\n",
       "      <td>0.155746</td>\n",
       "      <td>0.290378</td>\n",
       "      <td>0.158496</td>\n",
       "      <td>0.378061</td>\n",
       "      <td>0.281983</td>\n",
       "      <td>0.709622</td>\n",
       "      <td>0.980073</td>\n",
       "      <td>0.223940</td>\n",
       "      <td>7.508495</td>\n",
       "      <td>9.101826</td>\n",
       "      <td>4.437938</td>\n",
       "      <td>3.748498</td>\n",
       "      <td>1.017653</td>\n",
       "      <td>1.961487</td>\n",
       "      <td>1.127209</td>\n",
       "      <td>0.316272</td>\n",
       "      <td>48.611609</td>\n",
       "      <td>82.245394</td>\n",
       "      <td>130.857003</td>\n",
       "      <td>40.101842</td>\n",
       "      <td>8.509766</td>\n",
       "      <td>0.580767</td>\n",
       "      <td>1.385308</td>\n",
       "      <td>0.339264</td>\n",
       "      <td>6.731000e+09</td>\n",
       "      <td>50.183099</td>\n",
       "      <td>0.969139</td>\n",
       "      <td>2.385308</td>\n",
       "      <td>10.339896</td>\n",
       "      <td>8.010064</td>\n",
       "      <td>3.937150</td>\n",
       "      <td>0.447135</td>\n",
       "      <td>7.508495</td>\n",
       "      <td>0.208227</td>\n",
       "      <td>0.774676</td>\n",
       "      <td>0.969139</td>\n",
       "      <td>62.509434</td>\n",
       "      <td>4.438044</td>\n",
       "      <td>1.786465</td>\n",
       "      <td>0.447135</td>\n",
       "      <td>0.0</td>\n",
       "      <td>0.0</td>\n",
       "      <td>0.0</td>\n",
       "      <td>0.0</td>\n",
       "      <td>0.0</td>\n",
       "      <td>0.0</td>\n",
       "      <td>0.0</td>\n",
       "      <td>0.0</td>\n",
       "      <td>0.0</td>\n",
       "      <td>0.139075</td>\n",
       "      <td>0.236272</td>\n",
       "      <td>0.0</td>\n",
       "      <td>0.0</td>\n",
       "      <td>0.0</td>\n",
       "      <td>0.0</td>\n",
       "      <td>0.0</td>\n",
       "      <td>0.0</td>\n",
       "      <td>0.0</td>\n",
       "      <td>0.0</td>\n",
       "      <td>0.0</td>\n",
       "      <td>0.0</td>\n",
       "      <td>0.0</td>\n",
       "      <td>0.0</td>\n",
       "      <td>0.0</td>\n",
       "      <td>0.0</td>\n",
       "      <td>0.0</td>\n",
       "      <td>-0.003527</td>\n",
       "      <td>-0.040890</td>\n",
       "      <td>-0.067988</td>\n",
       "      <td>0.0</td>\n",
       "      <td>0.137793</td>\n",
       "      <td>0.0</td>\n",
       "      <td>0.0</td>\n",
       "      <td>49.656780</td>\n",
       "      <td>7.733855</td>\n",
       "      <td>10.339896</td>\n",
       "      <td>8.010064</td>\n",
       "      <td>2.960275</td>\n",
       "      <td>20.456639</td>\n",
       "      <td>35.554510</td>\n",
       "      <td>20.456639</td>\n",
       "      <td>10.890753</td>\n",
       "      <td>1.013519e+11</td>\n",
       "      <td>1.062919e+11</td>\n",
       "      <td>20.450345</td>\n",
       "      <td>3.185064</td>\n",
       "      <td>15.296092</td>\n",
       "      <td>19.745160</td>\n",
       "      <td>7.731475</td>\n",
       "      <td>7.731475</td>\n",
       "      <td>3.340307</td>\n",
       "      <td>12.455110</td>\n",
       "      <td>16.041640</td>\n",
       "      <td>20.707561</td>\n",
       "      <td>0.048899</td>\n",
       "      <td>0.050645</td>\n",
       "      <td>1.385308</td>\n",
       "      <td>0.580767</td>\n",
       "      <td>0.578861</td>\n",
       "      <td>1.961487</td>\n",
       "      <td>50.183099</td>\n",
       "      <td>1.336965</td>\n",
       "      <td>0.021864</td>\n",
       "      <td>0.447135</td>\n",
       "      <td>0.203293</td>\n",
       "      <td>0.203293</td>\n",
       "      <td>0.271355</td>\n",
       "      <td>4.438044</td>\n",
       "      <td>21.313463</td>\n",
       "      <td>0.943068</td>\n",
       "      <td>0.008799</td>\n",
       "      <td>59.663183</td>\n",
       "      <td>0.281983</td>\n",
       "      <td>0.217521</td>\n",
       "      <td>-16.549919</td>\n",
       "      <td>5.767000e+09</td>\n",
       "      <td>4.624000e+09</td>\n",
       "      <td>-6.395000e+09</td>\n",
       "      <td>2.167400e+10</td>\n",
       "      <td>4.629000e+09</td>\n",
       "      <td>2.036500e+09</td>\n",
       "      <td>4.036000e+09</td>\n",
       "      <td>48.611609</td>\n",
       "      <td>40.101842</td>\n",
       "      <td>82.245394</td>\n",
       "      <td>7.508495</td>\n",
       "      <td>9.101826</td>\n",
       "      <td>4.437938</td>\n",
       "      <td>0.378061</td>\n",
       "      <td>2.329832</td>\n",
       "      <td>2014</td>\n",
       "    </tr>\n",
       "  </tbody>\n",
       "</table>\n",
       "</div>"
      ],
      "text/plain": [
       "  symbol      beta             ceo             industry       sector  \\\n",
       "0    MMM  1.096121  Inge G. Thulin  Industrial Products  Industrials   \n",
       "1    MMM  1.096121  Inge G. Thulin  Industrial Products  Industrials   \n",
       "2    MMM  1.096121  Inge G. Thulin  Industrial Products  Industrials   \n",
       "3    MMM  1.096121  Inge G. Thulin  Industrial Products  Industrials   \n",
       "4    MMM  1.096121  Inge G. Thulin  Industrial Products  Industrials   \n",
       "\n",
       "      volAvg        date       Revenue  Revenue Growth  Cost of Revenue  \\\n",
       "0  4779401.0  2018-12-31  3.276500e+10        0.035000     1.668200e+10   \n",
       "1  4779401.0  2017-12-31  3.165700e+10        0.051413     1.600100e+10   \n",
       "2  4779401.0  2016-12-31  3.010900e+10       -0.005450     1.504000e+10   \n",
       "3  4779401.0  2015-12-31  3.027400e+10       -0.048616     1.538300e+10   \n",
       "4  4779401.0  2014-12-31  3.182100e+10        0.030773     1.644700e+10   \n",
       "\n",
       "   Gross Profit  R&D Expenses  SG&A Expense  Operating Expenses  \\\n",
       "0  1.608300e+10  1.821000e+09  7.602000e+09        9.423000e+09   \n",
       "1  1.565600e+10  1.850000e+09  6.572000e+09        8.422000e+09   \n",
       "2  1.506900e+10  1.735000e+09  6.111000e+09        8.045000e+09   \n",
       "3  1.489100e+10  1.763000e+09  6.182000e+09        8.094000e+09   \n",
       "4  1.537400e+10  1.770000e+09  6.469000e+09        8.381000e+09   \n",
       "\n",
       "   Operating Income  Interest Expense  Earnings before Tax  \\\n",
       "0      7.207000e+09               0.0         7.000000e+09   \n",
       "1      7.820000e+09       322000000.0         7.548000e+09   \n",
       "2      7.223000e+09       199000000.0         7.053000e+09   \n",
       "3      6.946000e+09       149000000.0         6.823000e+09   \n",
       "4      7.135000e+09       142000000.0         7.026000e+09   \n",
       "\n",
       "   Income Tax Expense  Net Income - Non-Controlling int  \\\n",
       "0        1.637000e+09                               0.0   \n",
       "1        2.679000e+09                               0.0   \n",
       "2        1.995000e+09                               0.0   \n",
       "3        1.982000e+09                               0.0   \n",
       "4        2.028000e+09                               0.0   \n",
       "\n",
       "   Net Income - Discontinued ops    Net Income  Preferred Dividends  \\\n",
       "0                            0.0  5.349000e+09                  0.0   \n",
       "1                            0.0  4.858000e+09                  0.0   \n",
       "2                            0.0  5.050000e+09                  0.0   \n",
       "3                            0.0  4.833000e+09                  0.0   \n",
       "4                            0.0  4.956000e+09                  0.0   \n",
       "\n",
       "   Net Income Com   EPS  EPS Diluted  Weighted Average Shs Out  \\\n",
       "0    5.349000e+09  9.09         8.89               588500000.0   \n",
       "1    4.858000e+09  8.13         7.93               597500000.0   \n",
       "2    5.050000e+09  8.35         8.16               604700000.0   \n",
       "3    4.833000e+09  7.72         7.58               625600000.0   \n",
       "4    4.956000e+09  7.63         7.49               649200000.0   \n",
       "\n",
       "   Weighted Average Shs Out (Dil)  Dividend per Share  Gross Margin  \\\n",
       "0                     602000000.0            5.303987      0.490859   \n",
       "1                     612700000.0            4.574833      0.494551   \n",
       "2                     618700000.0            4.328431      0.500482   \n",
       "3                     637200000.0            4.019146      0.491874   \n",
       "4                     662000000.0            3.347432      0.483140   \n",
       "\n",
       "   EBITDA Margin  EBIT Margin  Profit Margin  Free Cash Flow margin  \\\n",
       "0       0.265375     0.219960       0.163253               0.148390   \n",
       "1       0.295796     0.247023       0.153457               0.153742   \n",
       "2       0.288851     0.239895       0.167724               0.174101   \n",
       "3       0.276838     0.229438       0.159642               0.163804   \n",
       "4       0.268471     0.224223       0.155746               0.161309   \n",
       "\n",
       "         EBITDA          EBIT  Consolidated Income  \\\n",
       "0  8.695000e+09  7.207000e+09         5.349000e+09   \n",
       "1  9.364000e+09  7.820000e+09         4.858000e+09   \n",
       "2  8.697000e+09  7.223000e+09         5.050000e+09   \n",
       "3  8.381000e+09  6.946000e+09         4.833000e+09   \n",
       "4  8.543000e+09  7.135000e+09         4.956000e+09   \n",
       "\n",
       "   Earnings Before Tax Margin  Net Profit Margin  Cash and cash equivalents  \\\n",
       "0                    0.213643           0.163253               2.853000e+09   \n",
       "1                    0.238431           0.153457               3.053000e+09   \n",
       "2                    0.234249           0.167724               2.398000e+09   \n",
       "3                    0.225375           0.159642               1.798000e+09   \n",
       "4                    0.220798           0.155746               1.897000e+09   \n",
       "\n",
       "   Short-term investments  Cash and short-term investments   Receivables  \\\n",
       "0            3.800000e+08                     3.233000e+09  5.020000e+09   \n",
       "1            1.076000e+09                     4.129000e+09  4.911000e+09   \n",
       "2            2.800000e+08                     2.678000e+09  4.392000e+09   \n",
       "3            1.180000e+08                     1.916000e+09  4.154000e+09   \n",
       "4            6.260000e+08                     2.523000e+09  4.238000e+09   \n",
       "\n",
       "    Inventories  Total current assets  Property, Plant & Equipment Net  \\\n",
       "0  4.366000e+09          1.370900e+10                     8.738000e+09   \n",
       "1  4.034000e+09          1.427700e+10                     8.866000e+09   \n",
       "2  3.385000e+09          1.172600e+10                     8.516000e+09   \n",
       "3  3.518000e+09          1.098600e+10                     8.515000e+09   \n",
       "4  3.706000e+09          1.176500e+10                     8.489000e+09   \n",
       "\n",
       "   Goodwill and Intangible Assets  Long-term investments   Tax assets  \\\n",
       "0                    1.270800e+10             37000000.0  365000000.0   \n",
       "1                    1.344900e+10             27000000.0  511000000.0   \n",
       "2                    1.148600e+10             17000000.0  422000000.0   \n",
       "3                    1.185000e+10            117000000.0  510000000.0   \n",
       "4                    8.485000e+09            828000000.0  889000000.0   \n",
       "\n",
       "   Total non-current assets  Total assets      Payables  Short-term debt  \\\n",
       "0              2.279100e+10  3.650000e+10  2.266000e+09     1.211000e+09   \n",
       "1              2.371000e+10  3.798700e+10  1.945000e+09     1.853000e+09   \n",
       "2              2.118000e+10  3.290600e+10  1.798000e+09     9.720000e+08   \n",
       "3              2.173200e+10  3.271800e+10  1.694000e+09     2.044000e+09   \n",
       "4              1.950400e+10  3.126900e+10  1.807000e+09     1.060000e+08   \n",
       "\n",
       "   Total current liabilities  Long-term debt    Total debt  Deferred revenue  \\\n",
       "0               7.244000e+09    1.341100e+10  1.462200e+10       617000000.0   \n",
       "1               7.687000e+09    1.209600e+10  1.394900e+10       513000000.0   \n",
       "2               6.219000e+09    1.067800e+10  1.165000e+10       551000000.0   \n",
       "3               7.118000e+09    8.753000e+09  1.079700e+10       518000000.0   \n",
       "4               5.998000e+09    6.731000e+09  6.837000e+09       541000000.0   \n",
       "\n",
       "   Tax Liabilities  Deposit Liabilities  Total non-current liabilities  \\\n",
       "0      243000000.0                  0.0                   1.670000e+10   \n",
       "1      310000000.0                  0.0                   1.533000e+10   \n",
       "2      299000000.0                  0.0                   1.248600e+10   \n",
       "3      332000000.0                  0.0                   1.090300e+10   \n",
       "4      435000000.0                  0.0                   8.448000e+09   \n",
       "\n",
       "   Total liabilities  Other comprehensive income  Retained earnings (deficit)  \\\n",
       "0       2.670400e+10                         0.0                 4.063600e+10   \n",
       "1       2.642400e+10                         0.0                 3.911500e+10   \n",
       "2       2.260800e+10                         0.0                 3.790700e+10   \n",
       "3       2.101000e+10                         0.0                 3.657500e+10   \n",
       "4       1.816000e+10                         0.0                 3.431700e+10   \n",
       "\n",
       "   Total shareholders equity   Investments      Net Debt  Other Assets  \\\n",
       "0               9.796000e+09  4.170000e+08  1.176900e+10           0.0   \n",
       "1               1.156300e+10  1.103000e+09  1.089600e+10           0.0   \n",
       "2               1.029800e+10  2.970000e+08  9.252000e+09           0.0   \n",
       "3               1.170800e+10  2.350000e+08  8.999000e+09           0.0   \n",
       "4               1.310900e+10  1.454000e+09  4.940000e+09           0.0   \n",
       "\n",
       "   Other Liabilities  Depreciation & Amortization  Stock-based compensation  \\\n",
       "0       2.760000e+09                 1.488000e+09               302000000.0   \n",
       "1       3.407000e+09                 1.544000e+09               324000000.0   \n",
       "2       3.903000e+09                 1.474000e+09               298000000.0   \n",
       "3       2.989000e+09                 1.435000e+09               276000000.0   \n",
       "4       3.714000e+09                 1.408000e+09               280000000.0   \n",
       "\n",
       "   Operating Cash Flow  Capital Expenditure  Acquisitions and disposals  \\\n",
       "0         6.439000e+09         1.577000e+09                1.300000e+07   \n",
       "1         6.240000e+09         1.373000e+09               -2.023000e+09   \n",
       "2         6.662000e+09         1.420000e+09               -1.600000e+07   \n",
       "3         6.420000e+09         1.461000e+09               -2.914000e+09   \n",
       "4         6.626000e+09         1.493000e+09               -9.400000e+07   \n",
       "\n",
       "   Investment purchases and sales  Investing Cash flow  \\\n",
       "0                   -6.698000e+09         2.220000e+08   \n",
       "1                   -4.220000e+09        -3.086000e+09   \n",
       "2                   -5.163000e+09        -1.403000e+09   \n",
       "3                   -3.938000e+09        -2.817000e+09   \n",
       "4                   -5.652000e+09        -7.070000e+08   \n",
       "\n",
       "   Issuance (repayment) of debt  Issuance (buybacks) of shares  \\\n",
       "0                 -7.500000e+08                  -4.870000e+09   \n",
       "1                 -1.540000e+09                  -2.068000e+09   \n",
       "2                 -1.950000e+08                  -3.753000e+09   \n",
       "3                 -5.082000e+09                  -5.238000e+09   \n",
       "4                 -4.260000e+09                  -5.652000e+09   \n",
       "\n",
       "   Dividend payments  Financing Cash Flow  Effect of forex changes on cash  \\\n",
       "0      -3.193000e+09        -6.701000e+09                     -160000000.0   \n",
       "1      -2.803000e+09        -2.655000e+09                      156000000.0   \n",
       "2      -2.678000e+09        -4.626000e+09                      -33000000.0   \n",
       "3      -2.561000e+09        -3.648000e+09                      -54000000.0   \n",
       "4      -2.216000e+09        -6.603000e+09                     -111000000.0   \n",
       "\n",
       "   Net cash flow / Change in cash  Free Cash Flow  Net Cash/Marketcap  \\\n",
       "0                    -200000000.0    4.862000e+09                 0.0   \n",
       "1                     655000000.0    4.867000e+09                 0.0   \n",
       "2                     600000000.0    5.242000e+09                 0.0   \n",
       "3                     -99000000.0    4.959000e+09                 0.0   \n",
       "4                    -684000000.0    5.133000e+09                 0.0   \n",
       "\n",
       "   priceBookValueRatio  priceToBookRatio  priceToSalesRatio  \\\n",
       "0            12.408969         12.408969           3.710003   \n",
       "1            12.421594         12.421594           4.537097   \n",
       "2            10.082651         10.082651           3.448509   \n",
       "3             8.251226          8.251226           3.191034   \n",
       "4             7.731475          7.731475           3.185064   \n",
       "\n",
       "   priceEarningsRatio  receivablesTurnover_x  priceToFreeCashFlowsRatio  \\\n",
       "0           22.725418               6.526892                  25.001699   \n",
       "1           29.565849               6.446141                  29.511176   \n",
       "2           20.560623               6.855419                  19.807544   \n",
       "3           19.988694               7.287915                  19.480815   \n",
       "4           20.450345               7.508495                  19.745160   \n",
       "\n",
       "   priceToOperatingCashFlowsRatio  priceCashFlowRatio  \\\n",
       "0                       18.878438           18.878438   \n",
       "1                       23.017772           23.017772   \n",
       "2                       15.585582           15.585582   \n",
       "3                       15.047564           15.047564   \n",
       "4                       15.296092           15.296092   \n",
       "\n",
       "   priceEarningsToGrowthRatio  priceSalesRatio  dividendYield  \\\n",
       "0                    2.723903         3.710003       0.026267   \n",
       "1                    3.624878         4.537097       0.019515   \n",
       "2                    2.545600         3.448509       0.025792   \n",
       "3                    2.533408         3.191034       0.026510   \n",
       "4                    2.697605         3.185064       0.021864   \n",
       "\n",
       "   enterpriseValueMultiple  priceFairValue  ebitperRevenue  ebtperEBIT  \\\n",
       "0                15.733687       12.408969        0.213215    1.000000   \n",
       "1                17.016506       12.421594        0.238083    1.000000   \n",
       "2                13.274228       10.082651        0.233983    1.000000   \n",
       "3                12.800528        8.251226        0.225111    1.000000   \n",
       "4                12.455110        7.731475        0.223940    0.980073   \n",
       "\n",
       "   niperEBT  grossProfitMargin  operatingProfitMargin  pretaxProfitMargin  \\\n",
       "0  0.765674           0.490859               0.219960            0.213215   \n",
       "1  0.644554           0.492845               0.242979            0.238083   \n",
       "2  0.716820           0.497891               0.233385            0.233983   \n",
       "3  0.709171           0.491874               0.229438            0.225111   \n",
       "4  0.709622           0.483140               0.224223            0.219478   \n",
       "\n",
       "   netProfitMargin  effectiveTaxRate  returnOnAssets  returnOnEquity  \\\n",
       "0         0.163253          0.234326        0.146548        0.546039   \n",
       "1         0.153457          0.355446        0.127886        0.420133   \n",
       "2         0.167724          0.283180        0.153467        0.490386   \n",
       "3         0.159642          0.290829        0.147717        0.412795   \n",
       "4         0.155746          0.290378        0.158496        0.378061   \n",
       "\n",
       "   returnOnCapitalEmployed  nIperEBT  eBTperEBIT  eBITperRevenue  \\\n",
       "0                 0.238789  0.765674    1.000000        0.213215   \n",
       "1                 0.248746  0.644554    1.000000        0.238083   \n",
       "2                 0.263986  0.716820    1.000000        0.233983   \n",
       "3                 0.266211  0.709171    1.000000        0.225111   \n",
       "4                 0.281983  0.709622    0.980073        0.223940   \n",
       "\n",
       "   receivablesTurnover_y  payablesTurnover  inventoryTurnover  \\\n",
       "0               6.526892          7.361871           3.820889   \n",
       "1               6.446141          8.254499           3.979921   \n",
       "2               6.855419          8.408231           4.466174   \n",
       "3               7.287915          9.080874           4.372655   \n",
       "4               7.508495          9.101826           4.437938   \n",
       "\n",
       "   fixedAssetTurnover  assetTurnover  currentRatio  quickRatio  cashRatio  \\\n",
       "0            3.749714       0.897671      1.892463    1.139288   0.393843   \n",
       "1            3.570607       0.833364      1.857292    1.176011   0.397164   \n",
       "2            3.535580       0.915000      1.885512    1.136839   0.385593   \n",
       "3            3.555373       0.925301      1.543411    0.852768   0.252599   \n",
       "4            3.748498       1.017653      1.961487    1.127209   0.316272   \n",
       "\n",
       "   daysOfSalesOutstanding  daysOfInventoryOutstanding  operatingCycle  \\\n",
       "0               55.922478                   95.527515      151.449993   \n",
       "1               56.623022                   91.710371      148.333392   \n",
       "2               53.242552                   81.725427      134.967979   \n",
       "3               50.082909                   83.473315      133.556224   \n",
       "4               48.611609                   82.245394      130.857003   \n",
       "\n",
       "   daysOfPayablesOutstanding  cashConversionCycle  debtRatio  debtEquityRatio  \\\n",
       "0                  49.579787             6.342692   0.731616         2.726011   \n",
       "1                  44.218312            12.404710   0.695606         2.285220   \n",
       "2                  43.409843             9.832709   0.687048         2.195378   \n",
       "3                  40.194370             9.888539   0.642154         1.794499   \n",
       "4                  40.101842             8.509766   0.580767         1.385308   \n",
       "\n",
       "   longtermDebtToCapitalization  totalDebtToCapitalization  interestCoverage  \\\n",
       "0                      0.577886               1.341100e+10               NaN   \n",
       "1                      0.511264               1.209600e+10               NaN   \n",
       "2                      0.509058               1.067800e+10               NaN   \n",
       "3                      0.427789               8.753000e+09               NaN   \n",
       "4                      0.339264               6.731000e+09         50.183099   \n",
       "\n",
       "   cashFlowToDebtRatio  companyEquityMultiplier  operatingCashFlowPerShare  \\\n",
       "0             0.440364                 3.726011                  11.058118   \n",
       "1             0.447344                 3.285220                  10.476687   \n",
       "2             0.571845                 3.195378                  11.076263   \n",
       "3             0.594610                 2.794499                  10.426937   \n",
       "4             0.969139                 2.385308                  10.339896   \n",
       "\n",
       "   freeCashFlowPerShare  cashPerShare  payoutRatio  receivablesTurnover  \\\n",
       "0              8.349832      5.552244     0.596934             6.526892   \n",
       "1              8.171480      6.932411     0.576986             6.446141   \n",
       "2              8.715366      4.452452     0.530297             6.855419   \n",
       "3              8.054078      3.111840     0.529899             7.287915   \n",
       "4              8.010064      3.937150     0.447135             7.508495   \n",
       "\n",
       "   operatingCashFlowSalesRatio  freeCashFlowOperatingCashFlowRatio  \\\n",
       "0                     0.196521                            0.755086   \n",
       "1                     0.197113                            0.779968   \n",
       "2                     0.221263                            0.786851   \n",
       "3                     0.212063                            0.772430   \n",
       "4                     0.208227                            0.774676   \n",
       "\n",
       "   cashFlowCoverageRatios  shortTermCoverageRatios  \\\n",
       "0                0.440364                 5.317093   \n",
       "1                0.447344                 3.367512   \n",
       "2                0.571845                 6.853909   \n",
       "3                0.594610                 3.140900   \n",
       "4                0.969139                62.509434   \n",
       "\n",
       "   capitalExpenditureCoverageRatios  dividendpaidAndCapexCoverageRatios  \\\n",
       "0                          4.083069                            1.349895   \n",
       "1                          4.544792                            1.494253   \n",
       "2                          4.691549                            1.625671   \n",
       "3                          4.394251                            1.596221   \n",
       "4                          4.438044                            1.786465   \n",
       "\n",
       "   dividendPayoutRatio  Gross Profit Growth  EBIT Growth  \\\n",
       "0             0.596934                  0.0          0.0   \n",
       "1             0.576986                  0.0          0.0   \n",
       "2             0.530297                  0.0          0.0   \n",
       "3             0.529899                  0.0          0.0   \n",
       "4             0.447135                  0.0          0.0   \n",
       "\n",
       "   Operating Income Growth  Net Income Growth  EPS Growth  EPS Diluted Growth  \\\n",
       "0                      0.0                0.0         0.0                 0.0   \n",
       "1                      0.0                0.0         0.0                 0.0   \n",
       "2                      0.0                0.0         0.0                 0.0   \n",
       "3                      0.0                0.0         0.0                 0.0   \n",
       "4                      0.0                0.0         0.0                 0.0   \n",
       "\n",
       "   Weighted Average Shares Growth  Weighted Average Shares Diluted Growth  \\\n",
       "0                             0.0                                     0.0   \n",
       "1                             0.0                                     0.0   \n",
       "2                             0.0                                     0.0   \n",
       "3                             0.0                                     0.0   \n",
       "4                             0.0                                     0.0   \n",
       "\n",
       "   Dividends per Share Growth  Operating Cash Flow growth  \\\n",
       "0                         0.0                    0.031891   \n",
       "1                         0.0                   -0.063344   \n",
       "2                         0.0                    0.037695   \n",
       "3                         0.0                   -0.031090   \n",
       "4                         0.0                    0.139075   \n",
       "\n",
       "   Free Cash Flow growth  10Y Revenue Growth (per Share)  \\\n",
       "0              -0.001027                             0.0   \n",
       "1              -0.071538                             0.0   \n",
       "2               0.057068                             0.0   \n",
       "3              -0.033898                             0.0   \n",
       "4               0.236272                             0.0   \n",
       "\n",
       "   5Y Revenue Growth (per Share)  3Y Revenue Growth (per Share)  \\\n",
       "0                            0.0                            0.0   \n",
       "1                            0.0                            0.0   \n",
       "2                            0.0                            0.0   \n",
       "3                            0.0                            0.0   \n",
       "4                            0.0                            0.0   \n",
       "\n",
       "   10Y Operating CF Growth (per Share)  5Y Operating CF Growth (per Share)  \\\n",
       "0                                  0.0                                 0.0   \n",
       "1                                  0.0                                 0.0   \n",
       "2                                  0.0                                 0.0   \n",
       "3                                  0.0                                 0.0   \n",
       "4                                  0.0                                 0.0   \n",
       "\n",
       "   3Y Operating CF Growth (per Share)  10Y Net Income Growth (per Share)  \\\n",
       "0                                 0.0                                0.0   \n",
       "1                                 0.0                                0.0   \n",
       "2                                 0.0                                0.0   \n",
       "3                                 0.0                                0.0   \n",
       "4                                 0.0                                0.0   \n",
       "\n",
       "   5Y Net Income Growth (per Share)  3Y Net Income Growth (per Share)  \\\n",
       "0                               0.0                               0.0   \n",
       "1                               0.0                               0.0   \n",
       "2                               0.0                               0.0   \n",
       "3                               0.0                               0.0   \n",
       "4                               0.0                               0.0   \n",
       "\n",
       "   10Y Shareholders Equity Growth (per Share)  \\\n",
       "0                                         0.0   \n",
       "1                                         0.0   \n",
       "2                                         0.0   \n",
       "3                                         0.0   \n",
       "4                                         0.0   \n",
       "\n",
       "   5Y Shareholders Equity Growth (per Share)  \\\n",
       "0                                        0.0   \n",
       "1                                        0.0   \n",
       "2                                        0.0   \n",
       "3                                        0.0   \n",
       "4                                        0.0   \n",
       "\n",
       "   3Y Shareholders Equity Growth (per Share)  \\\n",
       "0                                        0.0   \n",
       "1                                        0.0   \n",
       "2                                        0.0   \n",
       "3                                        0.0   \n",
       "4                                        0.0   \n",
       "\n",
       "   10Y Dividend per Share Growth (per Share)  \\\n",
       "0                                        0.0   \n",
       "1                                        0.0   \n",
       "2                                        0.0   \n",
       "3                                        0.0   \n",
       "4                                        0.0   \n",
       "\n",
       "   5Y Dividend per Share Growth (per Share)  \\\n",
       "0                                       0.0   \n",
       "1                                       0.0   \n",
       "2                                       0.0   \n",
       "3                                       0.0   \n",
       "4                                       0.0   \n",
       "\n",
       "   3Y Dividend per Share Growth (per Share)  Receivables growth  \\\n",
       "0                                       0.0            0.022195   \n",
       "1                                       0.0            0.118169   \n",
       "2                                       0.0            0.057294   \n",
       "3                                       0.0           -0.019821   \n",
       "4                                       0.0           -0.003527   \n",
       "\n",
       "   Inventory Growth  Asset Growth  Book Value per Share Growth  Debt Growth  \\\n",
       "0          0.082300     -0.039145                          0.0     0.048247   \n",
       "1          0.191728      0.154410                          0.0     0.197339   \n",
       "2         -0.037806      0.005746                          0.0     0.079003   \n",
       "3         -0.050729      0.046340                          0.0     0.579201   \n",
       "4         -0.040890     -0.067988                          0.0     0.137793   \n",
       "\n",
       "   R&D Expense Growth  SG&A Expenses Growth  Revenue per Share  \\\n",
       "0                 0.0                   0.0          56.269490   \n",
       "1                 0.0                   0.0          53.150720   \n",
       "2                 0.0                   0.0          50.059322   \n",
       "3                 0.0                   0.0          49.169017   \n",
       "4                 0.0                   0.0          49.656780   \n",
       "\n",
       "   Net Income per Share  Operating Cash Flow per Share  \\\n",
       "0              9.186190                      11.058118   \n",
       "1              8.156370                      10.476687   \n",
       "2              8.396146                      11.076263   \n",
       "3              7.849437                      10.426937   \n",
       "4              7.733855                      10.339896   \n",
       "\n",
       "   Free Cash Flow per Share  Cash per Share  Book Value per Share  \\\n",
       "0                  8.349832        4.899645             16.823315   \n",
       "1                  8.171480        5.125854             19.413772   \n",
       "2                  8.715366        3.986923             17.121488   \n",
       "3                  8.054078        2.920192             19.015355   \n",
       "4                  8.010064        2.960275             20.456639   \n",
       "\n",
       "   Tangible Book Value per Share  Shareholders Equity per Share  \\\n",
       "0                      40.859567                      16.823315   \n",
       "1                      41.198230                      19.413772   \n",
       "2                      35.612962                      17.121488   \n",
       "3                      33.892418                      19.015355   \n",
       "4                      35.554510                      20.456639   \n",
       "\n",
       "   Interest Debt per Share    Market Cap  Enterprise Value   PE ratio  \\\n",
       "0                25.111322  1.215583e+11      1.333273e+11  22.725418   \n",
       "1                23.419762  1.436309e+11      1.545269e+11  29.565849   \n",
       "2                19.369328  1.038311e+11      1.130831e+11  20.560623   \n",
       "3                17.535769  9.660536e+10      1.056044e+11  19.988694   \n",
       "4                10.890753  1.013519e+11      1.062919e+11  20.450345   \n",
       "\n",
       "   Price to Sales Ratio  POCF ratio  PFCF ratio   PB ratio  PTB ratio  \\\n",
       "0              3.710003   18.878438   25.001699  12.408969  12.408969   \n",
       "1              4.537097   23.017772   29.511176  12.421594  12.421594   \n",
       "2              3.448509   15.585582   19.807544  10.082651  10.082651   \n",
       "3              3.191034   15.047564   19.480815   8.251226   8.251226   \n",
       "4              3.185064   15.296092   19.745160   7.731475   7.731475   \n",
       "\n",
       "   EV to Sales  Enterprise Value over EBITDA  EV to Operating cash flow  \\\n",
       "0     4.069198                     15.733687                  20.706206   \n",
       "1     4.881287                     17.016506                  24.763926   \n",
       "2     3.755792                     13.274228                  16.974354   \n",
       "3     3.488286                     12.800528                  16.449277   \n",
       "4     3.340307                     12.455110                  16.041640   \n",
       "\n",
       "   EV to Free cash flow  Earnings Yield  Free Cash Flow Yield  Debt to Equity  \\\n",
       "0             27.422308        0.044004              0.039997        2.726011   \n",
       "1             31.749927        0.033823              0.033885        2.285220   \n",
       "2             21.572519        0.048637              0.050486        2.195378   \n",
       "3             21.295495        0.050028              0.051333        1.794499   \n",
       "4             20.707561        0.048899              0.050645        1.385308   \n",
       "\n",
       "   Debt to Assets  Net Debt to EBITDA  Current ratio  Interest Coverage  \\\n",
       "0        0.731616            1.388836       1.892463           0.000000   \n",
       "1        0.695606            1.199868       1.857292           0.000000   \n",
       "2        0.687048            1.086043       1.885512           0.000000   \n",
       "3        0.642154            1.090788       1.543411           0.000000   \n",
       "4        0.580767            0.578861       1.961487          50.183099   \n",
       "\n",
       "   Income Quality  Dividend Yield  Payout Ratio  SG&A to Revenue  \\\n",
       "0        1.203776        0.026267      0.596934         0.232016   \n",
       "1        1.284479        0.019515      0.576986         0.209306   \n",
       "2        1.319208        0.025792      0.530297         0.209605   \n",
       "3        1.328367        0.026510      0.529899         0.205754   \n",
       "4        1.336965        0.021864      0.447135         0.203293   \n",
       "\n",
       "   R&D to Revenue  Intangibles to Total Assets  Capex to Operating Cash Flow  \\\n",
       "0        0.232016                     0.348164                      4.083069   \n",
       "1        0.209306                     0.354042                      4.544792   \n",
       "2        0.209605                     0.349055                      4.691549   \n",
       "3        0.205754                     0.362186                      4.394251   \n",
       "4        0.203293                     0.271355                      4.438044   \n",
       "\n",
       "   Capex to Revenue  Capex to Depreciation  \\\n",
       "0         20.776791               0.943564   \n",
       "1         23.056810               1.124545   \n",
       "2         21.203521               1.038028   \n",
       "3         20.721424               0.982204   \n",
       "4         21.313463               0.943068   \n",
       "\n",
       "   Stock-based compensation to Revenue  Graham Number      ROIC  \\\n",
       "0                             0.009217      58.967776  0.238789   \n",
       "1                             0.010235      59.689051  0.248746   \n",
       "2                             0.009897      56.872461  0.263986   \n",
       "3                             0.009117      57.951240  0.266211   \n",
       "4                             0.008799      59.663183  0.281983   \n",
       "\n",
       "   Return on Tangible Assets  Graham Net-Net  Working Capital  \\\n",
       "0                   0.224823      -30.093401     6.465000e+09   \n",
       "1                   0.197979      -27.861860     6.590000e+09   \n",
       "2                   0.235761      -24.845112     5.507000e+09   \n",
       "3                   0.231599      -23.094366     3.868000e+09   \n",
       "4                   0.217521      -16.549919     5.767000e+09   \n",
       "\n",
       "   Tangible Asset Value  Net Current Asset Value  Invested Capital  \\\n",
       "0         -2.912000e+09            -1.299500e+10      2.831700e+10   \n",
       "1         -1.886000e+09            -1.214700e+10      2.774700e+10   \n",
       "2         -1.188000e+09            -1.088200e+10      2.445300e+10   \n",
       "3         -1.420000e+08            -1.002400e+10      2.291400e+10   \n",
       "4          4.624000e+09            -6.395000e+09      2.167400e+10   \n",
       "\n",
       "   Average Receivables  Average Payables  Average Inventory  \\\n",
       "0         5.020000e+09      2.266000e+09       4.366000e+09   \n",
       "1         4.965500e+09      2.105500e+09       4.200000e+09   \n",
       "2         4.706000e+09      2.032000e+09       3.875500e+09   \n",
       "3         4.587000e+09      1.980000e+09       3.942000e+09   \n",
       "4         4.629000e+09      2.036500e+09       4.036000e+09   \n",
       "\n",
       "   Days Sales Outstanding  Days Payables Outstanding  \\\n",
       "0               55.922478                  49.579787   \n",
       "1               56.623022                  44.218312   \n",
       "2               53.242552                  43.409843   \n",
       "3               50.082909                  40.194370   \n",
       "4               48.611609                  40.101842   \n",
       "\n",
       "   Days of Inventory on Hand  Receivables Turnover  Payables Turnover  \\\n",
       "0                  95.527515              6.526892           7.361871   \n",
       "1                  91.710371              6.446141           8.254499   \n",
       "2                  81.725427              6.855419           8.408231   \n",
       "3                  83.473315              7.287915           9.080874   \n",
       "4                  82.245394              7.508495           9.101826   \n",
       "\n",
       "   Inventory Turnover       ROE  Capex per Share  year  \n",
       "0            3.820889  0.546039         2.708286  2018  \n",
       "1            3.979921  0.420133         2.305207  2017  \n",
       "2            4.466174  0.490386         2.360897  2016  \n",
       "3            4.372655  0.412795         2.372859  2015  \n",
       "4            4.437938  0.378061         2.329832  2014  "
      ]
     },
     "execution_count": 3,
     "metadata": {},
     "output_type": "execute_result"
    }
   ],
   "source": [
    "df_metricas = load_obj(\"df_metricas_sp\")\n",
    "\n",
    "#Sustituimos por NaN los valores que son none, null y los empty\n",
    "df_metricas = df_metricas.replace([None],\"NaN\").replace('null',\"NaN\").replace(\"\",\"NaN\")\n",
    "lista_columnas_float = list(df_metricas.columns)\n",
    "lista_columnas_float.remove('symbol')\n",
    "lista_columnas_float.remove('ceo')\n",
    "lista_columnas_float.remove('industry')\n",
    "lista_columnas_float.remove('sector')\n",
    "lista_columnas_float.remove('date')\n",
    "df_metricas[lista_columnas_float] = df_metricas[lista_columnas_float].astype(float)\n",
    "df_metricas['year'] = pd.DatetimeIndex(df_metricas['date']).year\n",
    "df_metricas = df_metricas[df_metricas['symbol']!=\"NTRS\"]\n",
    "df_metricas.head()"
   ]
  },
  {
   "cell_type": "code",
   "execution_count": 4,
   "metadata": {
    "ExecuteTime": {
     "end_time": "2020-05-10T15:49:36.057692Z",
     "start_time": "2020-05-10T15:49:36.053704Z"
    }
   },
   "outputs": [],
   "source": [
    "#df_metricas[['symbol','sector']].drop_duplicates().groupby(\"sector\").count().reset_index().sort_values(by=\"symbol\",ascending=False)\n",
    "#df_metricas[['symbol','industry']].drop_duplicates().groupby(\"industry\").count().reset_index().sort_values(by=\"symbol\",ascending=False)"
   ]
  },
  {
   "cell_type": "markdown",
   "metadata": {},
   "source": [
    "# Metrics by sector"
   ]
  },
  {
   "cell_type": "code",
   "execution_count": 5,
   "metadata": {
    "ExecuteTime": {
     "end_time": "2020-05-10T15:49:36.132497Z",
     "start_time": "2020-05-10T15:49:36.060684Z"
    }
   },
   "outputs": [
    {
     "data": {
      "text/html": [
       "<div>\n",
       "<style scoped>\n",
       "    .dataframe tbody tr th:only-of-type {\n",
       "        vertical-align: middle;\n",
       "    }\n",
       "\n",
       "    .dataframe tbody tr th {\n",
       "        vertical-align: top;\n",
       "    }\n",
       "\n",
       "    .dataframe thead th {\n",
       "        text-align: right;\n",
       "    }\n",
       "</style>\n",
       "<table border=\"1\" class=\"dataframe\">\n",
       "  <thead>\n",
       "    <tr style=\"text-align: right;\">\n",
       "      <th></th>\n",
       "      <th>year</th>\n",
       "      <th>sector</th>\n",
       "      <th>Market Cap</th>\n",
       "      <th>Revenue</th>\n",
       "      <th>Net Income</th>\n",
       "      <th>Sum_market_cap</th>\n",
       "      <th>Sum_revenue</th>\n",
       "      <th>Sum_net_income</th>\n",
       "      <th>Relative_market_cap</th>\n",
       "      <th>Relative_revenue</th>\n",
       "      <th>Relative_net_income</th>\n",
       "    </tr>\n",
       "  </thead>\n",
       "  <tbody>\n",
       "    <tr>\n",
       "      <th>0</th>\n",
       "      <td>2009</td>\n",
       "      <td>Basic Materials</td>\n",
       "      <td>2.238894e+11</td>\n",
       "      <td>2.188823e+11</td>\n",
       "      <td>5.859802e+09</td>\n",
       "      <td>8.102190e+12</td>\n",
       "      <td>6.300777e+12</td>\n",
       "      <td>4.233839e+11</td>\n",
       "      <td>2.763320</td>\n",
       "      <td>3.473894</td>\n",
       "      <td>1.384040</td>\n",
       "    </tr>\n",
       "    <tr>\n",
       "      <th>1</th>\n",
       "      <td>2009</td>\n",
       "      <td>Communication Services</td>\n",
       "      <td>2.795924e+11</td>\n",
       "      <td>2.509090e+11</td>\n",
       "      <td>1.853613e+10</td>\n",
       "      <td>8.102190e+12</td>\n",
       "      <td>6.300777e+12</td>\n",
       "      <td>4.233839e+11</td>\n",
       "      <td>3.450825</td>\n",
       "      <td>3.982192</td>\n",
       "      <td>4.378090</td>\n",
       "    </tr>\n",
       "    <tr>\n",
       "      <th>2</th>\n",
       "      <td>2009</td>\n",
       "      <td>Consumer Cyclical</td>\n",
       "      <td>5.168301e+11</td>\n",
       "      <td>4.982796e+11</td>\n",
       "      <td>2.341369e+10</td>\n",
       "      <td>8.102190e+12</td>\n",
       "      <td>6.300777e+12</td>\n",
       "      <td>4.233839e+11</td>\n",
       "      <td>6.378894</td>\n",
       "      <td>7.908224</td>\n",
       "      <td>5.530134</td>\n",
       "    </tr>\n",
       "    <tr>\n",
       "      <th>3</th>\n",
       "      <td>2009</td>\n",
       "      <td>Consumer Defensive</td>\n",
       "      <td>7.713372e+11</td>\n",
       "      <td>5.881110e+11</td>\n",
       "      <td>5.252357e+10</td>\n",
       "      <td>8.102190e+12</td>\n",
       "      <td>6.300777e+12</td>\n",
       "      <td>4.233839e+11</td>\n",
       "      <td>9.520108</td>\n",
       "      <td>9.333943</td>\n",
       "      <td>12.405662</td>\n",
       "    </tr>\n",
       "    <tr>\n",
       "      <th>4</th>\n",
       "      <td>2009</td>\n",
       "      <td>Energy</td>\n",
       "      <td>1.033407e+12</td>\n",
       "      <td>1.026162e+12</td>\n",
       "      <td>4.281917e+10</td>\n",
       "      <td>8.102190e+12</td>\n",
       "      <td>6.300777e+12</td>\n",
       "      <td>4.233839e+11</td>\n",
       "      <td>12.754662</td>\n",
       "      <td>16.286280</td>\n",
       "      <td>10.113558</td>\n",
       "    </tr>\n",
       "    <tr>\n",
       "      <th>5</th>\n",
       "      <td>2009</td>\n",
       "      <td>Financial Services</td>\n",
       "      <td>1.389071e+12</td>\n",
       "      <td>9.545676e+11</td>\n",
       "      <td>5.287795e+10</td>\n",
       "      <td>8.102190e+12</td>\n",
       "      <td>6.300777e+12</td>\n",
       "      <td>4.233839e+11</td>\n",
       "      <td>17.144389</td>\n",
       "      <td>15.149997</td>\n",
       "      <td>12.489362</td>\n",
       "    </tr>\n",
       "    <tr>\n",
       "      <th>6</th>\n",
       "      <td>2009</td>\n",
       "      <td>Healthcare</td>\n",
       "      <td>9.203762e+11</td>\n",
       "      <td>8.559956e+11</td>\n",
       "      <td>7.830622e+10</td>\n",
       "      <td>8.102190e+12</td>\n",
       "      <td>6.300777e+12</td>\n",
       "      <td>4.233839e+11</td>\n",
       "      <td>11.359598</td>\n",
       "      <td>13.585556</td>\n",
       "      <td>18.495325</td>\n",
       "    </tr>\n",
       "    <tr>\n",
       "      <th>7</th>\n",
       "      <td>2009</td>\n",
       "      <td>Industrials</td>\n",
       "      <td>9.850110e+11</td>\n",
       "      <td>9.764624e+11</td>\n",
       "      <td>4.906216e+10</td>\n",
       "      <td>8.102190e+12</td>\n",
       "      <td>6.300777e+12</td>\n",
       "      <td>4.233839e+11</td>\n",
       "      <td>12.157343</td>\n",
       "      <td>15.497492</td>\n",
       "      <td>11.588103</td>\n",
       "    </tr>\n",
       "    <tr>\n",
       "      <th>8</th>\n",
       "      <td>2009</td>\n",
       "      <td>Real Estate</td>\n",
       "      <td>1.499598e+11</td>\n",
       "      <td>3.438135e+10</td>\n",
       "      <td>2.567748e+09</td>\n",
       "      <td>8.102190e+12</td>\n",
       "      <td>6.300777e+12</td>\n",
       "      <td>4.233839e+11</td>\n",
       "      <td>1.850855</td>\n",
       "      <td>0.545668</td>\n",
       "      <td>0.606482</td>\n",
       "    </tr>\n",
       "    <tr>\n",
       "      <th>9</th>\n",
       "      <td>2009</td>\n",
       "      <td>Technology</td>\n",
       "      <td>1.516484e+12</td>\n",
       "      <td>6.307988e+11</td>\n",
       "      <td>7.449512e+10</td>\n",
       "      <td>8.102190e+12</td>\n",
       "      <td>6.300777e+12</td>\n",
       "      <td>4.233839e+11</td>\n",
       "      <td>18.716964</td>\n",
       "      <td>10.011444</td>\n",
       "      <td>17.595170</td>\n",
       "    </tr>\n",
       "    <tr>\n",
       "      <th>10</th>\n",
       "      <td>2009</td>\n",
       "      <td>Utilities</td>\n",
       "      <td>3.162322e+11</td>\n",
       "      <td>2.662273e+11</td>\n",
       "      <td>2.292232e+10</td>\n",
       "      <td>8.102190e+12</td>\n",
       "      <td>6.300777e+12</td>\n",
       "      <td>4.233839e+11</td>\n",
       "      <td>3.903045</td>\n",
       "      <td>4.225309</td>\n",
       "      <td>5.414074</td>\n",
       "    </tr>\n",
       "    <tr>\n",
       "      <th>11</th>\n",
       "      <td>2010</td>\n",
       "      <td>Basic Materials</td>\n",
       "      <td>2.312354e+11</td>\n",
       "      <td>1.725665e+11</td>\n",
       "      <td>1.506657e+10</td>\n",
       "      <td>9.567550e+12</td>\n",
       "      <td>6.539643e+12</td>\n",
       "      <td>5.623103e+11</td>\n",
       "      <td>2.416871</td>\n",
       "      <td>2.638775</td>\n",
       "      <td>2.679405</td>\n",
       "    </tr>\n",
       "    <tr>\n",
       "      <th>12</th>\n",
       "      <td>2010</td>\n",
       "      <td>Communication Services</td>\n",
       "      <td>3.059946e+11</td>\n",
       "      <td>2.623609e+11</td>\n",
       "      <td>2.444755e+10</td>\n",
       "      <td>9.567550e+12</td>\n",
       "      <td>6.539643e+12</td>\n",
       "      <td>5.623103e+11</td>\n",
       "      <td>3.198254</td>\n",
       "      <td>4.011853</td>\n",
       "      <td>4.347697</td>\n",
       "    </tr>\n",
       "    <tr>\n",
       "      <th>13</th>\n",
       "      <td>2010</td>\n",
       "      <td>Consumer Cyclical</td>\n",
       "      <td>8.116080e+11</td>\n",
       "      <td>6.148233e+11</td>\n",
       "      <td>4.201964e+10</td>\n",
       "      <td>9.567550e+12</td>\n",
       "      <td>6.539643e+12</td>\n",
       "      <td>5.623103e+11</td>\n",
       "      <td>8.482924</td>\n",
       "      <td>9.401481</td>\n",
       "      <td>7.472678</td>\n",
       "    </tr>\n",
       "    <tr>\n",
       "      <th>14</th>\n",
       "      <td>2010</td>\n",
       "      <td>Consumer Defensive</td>\n",
       "      <td>1.062999e+12</td>\n",
       "      <td>1.206604e+12</td>\n",
       "      <td>8.095500e+10</td>\n",
       "      <td>9.567550e+12</td>\n",
       "      <td>6.539643e+12</td>\n",
       "      <td>5.623103e+11</td>\n",
       "      <td>11.110456</td>\n",
       "      <td>18.450607</td>\n",
       "      <td>14.396855</td>\n",
       "    </tr>\n",
       "    <tr>\n",
       "      <th>15</th>\n",
       "      <td>2010</td>\n",
       "      <td>Energy</td>\n",
       "      <td>1.131384e+12</td>\n",
       "      <td>1.092886e+12</td>\n",
       "      <td>5.540267e+10</td>\n",
       "      <td>9.567550e+12</td>\n",
       "      <td>6.539643e+12</td>\n",
       "      <td>5.623103e+11</td>\n",
       "      <td>11.825223</td>\n",
       "      <td>16.711712</td>\n",
       "      <td>9.852687</td>\n",
       "    </tr>\n",
       "    <tr>\n",
       "      <th>16</th>\n",
       "      <td>2010</td>\n",
       "      <td>Financial Services</td>\n",
       "      <td>1.395098e+12</td>\n",
       "      <td>5.545866e+11</td>\n",
       "      <td>9.960512e+10</td>\n",
       "      <td>9.567550e+12</td>\n",
       "      <td>6.539643e+12</td>\n",
       "      <td>5.623103e+11</td>\n",
       "      <td>14.581554</td>\n",
       "      <td>8.480380</td>\n",
       "      <td>17.713551</td>\n",
       "    </tr>\n",
       "    <tr>\n",
       "      <th>17</th>\n",
       "      <td>2010</td>\n",
       "      <td>Healthcare</td>\n",
       "      <td>1.211155e+12</td>\n",
       "      <td>8.279366e+11</td>\n",
       "      <td>5.161063e+10</td>\n",
       "      <td>9.567550e+12</td>\n",
       "      <td>6.539643e+12</td>\n",
       "      <td>5.623103e+11</td>\n",
       "      <td>12.658992</td>\n",
       "      <td>12.660273</td>\n",
       "      <td>9.178319</td>\n",
       "    </tr>\n",
       "    <tr>\n",
       "      <th>18</th>\n",
       "      <td>2010</td>\n",
       "      <td>Industrials</td>\n",
       "      <td>1.169379e+12</td>\n",
       "      <td>8.721625e+11</td>\n",
       "      <td>6.320336e+10</td>\n",
       "      <td>9.567550e+12</td>\n",
       "      <td>6.539643e+12</td>\n",
       "      <td>5.623103e+11</td>\n",
       "      <td>12.222347</td>\n",
       "      <td>13.336547</td>\n",
       "      <td>11.239943</td>\n",
       "    </tr>\n",
       "    <tr>\n",
       "      <th>19</th>\n",
       "      <td>2010</td>\n",
       "      <td>Real Estate</td>\n",
       "      <td>2.047961e+11</td>\n",
       "      <td>2.876882e+10</td>\n",
       "      <td>3.522414e+09</td>\n",
       "      <td>9.567550e+12</td>\n",
       "      <td>6.539643e+12</td>\n",
       "      <td>5.623103e+11</td>\n",
       "      <td>2.140528</td>\n",
       "      <td>0.439914</td>\n",
       "      <td>0.626418</td>\n",
       "    </tr>\n",
       "  </tbody>\n",
       "</table>\n",
       "</div>"
      ],
      "text/plain": [
       "    year                  sector    Market Cap       Revenue    Net Income  \\\n",
       "0   2009         Basic Materials  2.238894e+11  2.188823e+11  5.859802e+09   \n",
       "1   2009  Communication Services  2.795924e+11  2.509090e+11  1.853613e+10   \n",
       "2   2009       Consumer Cyclical  5.168301e+11  4.982796e+11  2.341369e+10   \n",
       "3   2009      Consumer Defensive  7.713372e+11  5.881110e+11  5.252357e+10   \n",
       "4   2009                  Energy  1.033407e+12  1.026162e+12  4.281917e+10   \n",
       "5   2009      Financial Services  1.389071e+12  9.545676e+11  5.287795e+10   \n",
       "6   2009              Healthcare  9.203762e+11  8.559956e+11  7.830622e+10   \n",
       "7   2009             Industrials  9.850110e+11  9.764624e+11  4.906216e+10   \n",
       "8   2009             Real Estate  1.499598e+11  3.438135e+10  2.567748e+09   \n",
       "9   2009              Technology  1.516484e+12  6.307988e+11  7.449512e+10   \n",
       "10  2009               Utilities  3.162322e+11  2.662273e+11  2.292232e+10   \n",
       "11  2010         Basic Materials  2.312354e+11  1.725665e+11  1.506657e+10   \n",
       "12  2010  Communication Services  3.059946e+11  2.623609e+11  2.444755e+10   \n",
       "13  2010       Consumer Cyclical  8.116080e+11  6.148233e+11  4.201964e+10   \n",
       "14  2010      Consumer Defensive  1.062999e+12  1.206604e+12  8.095500e+10   \n",
       "15  2010                  Energy  1.131384e+12  1.092886e+12  5.540267e+10   \n",
       "16  2010      Financial Services  1.395098e+12  5.545866e+11  9.960512e+10   \n",
       "17  2010              Healthcare  1.211155e+12  8.279366e+11  5.161063e+10   \n",
       "18  2010             Industrials  1.169379e+12  8.721625e+11  6.320336e+10   \n",
       "19  2010             Real Estate  2.047961e+11  2.876882e+10  3.522414e+09   \n",
       "\n",
       "    Sum_market_cap   Sum_revenue  Sum_net_income  Relative_market_cap  \\\n",
       "0     8.102190e+12  6.300777e+12    4.233839e+11             2.763320   \n",
       "1     8.102190e+12  6.300777e+12    4.233839e+11             3.450825   \n",
       "2     8.102190e+12  6.300777e+12    4.233839e+11             6.378894   \n",
       "3     8.102190e+12  6.300777e+12    4.233839e+11             9.520108   \n",
       "4     8.102190e+12  6.300777e+12    4.233839e+11            12.754662   \n",
       "5     8.102190e+12  6.300777e+12    4.233839e+11            17.144389   \n",
       "6     8.102190e+12  6.300777e+12    4.233839e+11            11.359598   \n",
       "7     8.102190e+12  6.300777e+12    4.233839e+11            12.157343   \n",
       "8     8.102190e+12  6.300777e+12    4.233839e+11             1.850855   \n",
       "9     8.102190e+12  6.300777e+12    4.233839e+11            18.716964   \n",
       "10    8.102190e+12  6.300777e+12    4.233839e+11             3.903045   \n",
       "11    9.567550e+12  6.539643e+12    5.623103e+11             2.416871   \n",
       "12    9.567550e+12  6.539643e+12    5.623103e+11             3.198254   \n",
       "13    9.567550e+12  6.539643e+12    5.623103e+11             8.482924   \n",
       "14    9.567550e+12  6.539643e+12    5.623103e+11            11.110456   \n",
       "15    9.567550e+12  6.539643e+12    5.623103e+11            11.825223   \n",
       "16    9.567550e+12  6.539643e+12    5.623103e+11            14.581554   \n",
       "17    9.567550e+12  6.539643e+12    5.623103e+11            12.658992   \n",
       "18    9.567550e+12  6.539643e+12    5.623103e+11            12.222347   \n",
       "19    9.567550e+12  6.539643e+12    5.623103e+11             2.140528   \n",
       "\n",
       "    Relative_revenue  Relative_net_income  \n",
       "0           3.473894             1.384040  \n",
       "1           3.982192             4.378090  \n",
       "2           7.908224             5.530134  \n",
       "3           9.333943            12.405662  \n",
       "4          16.286280            10.113558  \n",
       "5          15.149997            12.489362  \n",
       "6          13.585556            18.495325  \n",
       "7          15.497492            11.588103  \n",
       "8           0.545668             0.606482  \n",
       "9          10.011444            17.595170  \n",
       "10          4.225309             5.414074  \n",
       "11          2.638775             2.679405  \n",
       "12          4.011853             4.347697  \n",
       "13          9.401481             7.472678  \n",
       "14         18.450607            14.396855  \n",
       "15         16.711712             9.852687  \n",
       "16          8.480380            17.713551  \n",
       "17         12.660273             9.178319  \n",
       "18         13.336547            11.239943  \n",
       "19          0.439914             0.626418  "
      ]
     },
     "execution_count": 5,
     "metadata": {},
     "output_type": "execute_result"
    }
   ],
   "source": [
    "df_1 = pd.DataFrame(df_metricas.groupby([\"year\",\"sector\"])['Market Cap','Revenue', 'Net Income'].sum()).reset_index()\n",
    "df_1= df_1[(df_1['sector']!=\"NaN\")&(df_1['year']<=2018)]\n",
    "\n",
    "helper_1 = df_1.groupby('year')['Market Cap','Revenue','Net Income'].\\\n",
    "    agg('sum').reset_index().rename(columns={'Market Cap':'Sum_market_cap','Revenue':'Sum_revenue','Net Income':'Sum_net_income'})\n",
    "helper_1.head(10)\n",
    "\n",
    "df_1 =df_1.merge(helper_1)\n",
    "\n",
    "df_1['Relative_market_cap'] = df_1['Market Cap']*100/df_1['Sum_market_cap']\n",
    "df_1['Relative_revenue'] = df_1['Revenue']*100/df_1['Sum_revenue']\n",
    "df_1['Relative_net_income'] = df_1['Net Income']*100/df_1['Sum_net_income']\n",
    "\n",
    "df_1.head(20)"
   ]
  },
  {
   "cell_type": "code",
   "execution_count": 9,
   "metadata": {
    "ExecuteTime": {
     "end_time": "2020-05-10T18:43:25.548154Z",
     "start_time": "2020-05-10T18:43:25.444864Z"
    }
   },
   "outputs": [
    {
     "data": {
      "text/html": [
       "<div>\n",
       "<style scoped>\n",
       "    .dataframe tbody tr th:only-of-type {\n",
       "        vertical-align: middle;\n",
       "    }\n",
       "\n",
       "    .dataframe tbody tr th {\n",
       "        vertical-align: top;\n",
       "    }\n",
       "\n",
       "    .dataframe thead th {\n",
       "        text-align: right;\n",
       "    }\n",
       "</style>\n",
       "<table border=\"1\" class=\"dataframe\">\n",
       "  <thead>\n",
       "    <tr style=\"text-align: right;\">\n",
       "      <th></th>\n",
       "      <th>year</th>\n",
       "      <th>sector</th>\n",
       "      <th>Market Cap</th>\n",
       "      <th>Revenue</th>\n",
       "      <th>Net Income</th>\n",
       "      <th>Sum_market_cap</th>\n",
       "      <th>Sum_revenue</th>\n",
       "      <th>Sum_net_income</th>\n",
       "      <th>Relative_market_cap</th>\n",
       "      <th>Relative_revenue</th>\n",
       "      <th>Relative_net_income</th>\n",
       "    </tr>\n",
       "  </thead>\n",
       "  <tbody>\n",
       "    <tr>\n",
       "      <th>0</th>\n",
       "      <td>2009</td>\n",
       "      <td>Basic Materials</td>\n",
       "      <td>2.238894e+11</td>\n",
       "      <td>2.188823e+11</td>\n",
       "      <td>5.859802e+09</td>\n",
       "      <td>8.102190e+12</td>\n",
       "      <td>6.300777e+12</td>\n",
       "      <td>4.233839e+11</td>\n",
       "      <td>2.763320</td>\n",
       "      <td>3.473894</td>\n",
       "      <td>1.384040</td>\n",
       "    </tr>\n",
       "    <tr>\n",
       "      <th>1</th>\n",
       "      <td>2009</td>\n",
       "      <td>Communication Services</td>\n",
       "      <td>2.795924e+11</td>\n",
       "      <td>2.509090e+11</td>\n",
       "      <td>1.853613e+10</td>\n",
       "      <td>8.102190e+12</td>\n",
       "      <td>6.300777e+12</td>\n",
       "      <td>4.233839e+11</td>\n",
       "      <td>3.450825</td>\n",
       "      <td>3.982192</td>\n",
       "      <td>4.378090</td>\n",
       "    </tr>\n",
       "    <tr>\n",
       "      <th>2</th>\n",
       "      <td>2009</td>\n",
       "      <td>Consumer Cyclical</td>\n",
       "      <td>5.168301e+11</td>\n",
       "      <td>4.982796e+11</td>\n",
       "      <td>2.341369e+10</td>\n",
       "      <td>8.102190e+12</td>\n",
       "      <td>6.300777e+12</td>\n",
       "      <td>4.233839e+11</td>\n",
       "      <td>6.378894</td>\n",
       "      <td>7.908224</td>\n",
       "      <td>5.530134</td>\n",
       "    </tr>\n",
       "    <tr>\n",
       "      <th>3</th>\n",
       "      <td>2009</td>\n",
       "      <td>Consumer Defensive</td>\n",
       "      <td>7.713372e+11</td>\n",
       "      <td>5.881110e+11</td>\n",
       "      <td>5.252357e+10</td>\n",
       "      <td>8.102190e+12</td>\n",
       "      <td>6.300777e+12</td>\n",
       "      <td>4.233839e+11</td>\n",
       "      <td>9.520108</td>\n",
       "      <td>9.333943</td>\n",
       "      <td>12.405662</td>\n",
       "    </tr>\n",
       "    <tr>\n",
       "      <th>4</th>\n",
       "      <td>2009</td>\n",
       "      <td>Energy</td>\n",
       "      <td>1.033407e+12</td>\n",
       "      <td>1.026162e+12</td>\n",
       "      <td>4.281917e+10</td>\n",
       "      <td>8.102190e+12</td>\n",
       "      <td>6.300777e+12</td>\n",
       "      <td>4.233839e+11</td>\n",
       "      <td>12.754662</td>\n",
       "      <td>16.286280</td>\n",
       "      <td>10.113558</td>\n",
       "    </tr>\n",
       "    <tr>\n",
       "      <th>5</th>\n",
       "      <td>2009</td>\n",
       "      <td>Financial Services</td>\n",
       "      <td>1.389071e+12</td>\n",
       "      <td>9.545676e+11</td>\n",
       "      <td>5.287795e+10</td>\n",
       "      <td>8.102190e+12</td>\n",
       "      <td>6.300777e+12</td>\n",
       "      <td>4.233839e+11</td>\n",
       "      <td>17.144389</td>\n",
       "      <td>15.149997</td>\n",
       "      <td>12.489362</td>\n",
       "    </tr>\n",
       "    <tr>\n",
       "      <th>6</th>\n",
       "      <td>2009</td>\n",
       "      <td>Healthcare</td>\n",
       "      <td>9.203762e+11</td>\n",
       "      <td>8.559956e+11</td>\n",
       "      <td>7.830622e+10</td>\n",
       "      <td>8.102190e+12</td>\n",
       "      <td>6.300777e+12</td>\n",
       "      <td>4.233839e+11</td>\n",
       "      <td>11.359598</td>\n",
       "      <td>13.585556</td>\n",
       "      <td>18.495325</td>\n",
       "    </tr>\n",
       "    <tr>\n",
       "      <th>7</th>\n",
       "      <td>2009</td>\n",
       "      <td>Industrials</td>\n",
       "      <td>9.850110e+11</td>\n",
       "      <td>9.764624e+11</td>\n",
       "      <td>4.906216e+10</td>\n",
       "      <td>8.102190e+12</td>\n",
       "      <td>6.300777e+12</td>\n",
       "      <td>4.233839e+11</td>\n",
       "      <td>12.157343</td>\n",
       "      <td>15.497492</td>\n",
       "      <td>11.588103</td>\n",
       "    </tr>\n",
       "    <tr>\n",
       "      <th>8</th>\n",
       "      <td>2009</td>\n",
       "      <td>Real Estate</td>\n",
       "      <td>1.499598e+11</td>\n",
       "      <td>3.438135e+10</td>\n",
       "      <td>2.567748e+09</td>\n",
       "      <td>8.102190e+12</td>\n",
       "      <td>6.300777e+12</td>\n",
       "      <td>4.233839e+11</td>\n",
       "      <td>1.850855</td>\n",
       "      <td>0.545668</td>\n",
       "      <td>0.606482</td>\n",
       "    </tr>\n",
       "    <tr>\n",
       "      <th>9</th>\n",
       "      <td>2009</td>\n",
       "      <td>Technology</td>\n",
       "      <td>1.516484e+12</td>\n",
       "      <td>6.307988e+11</td>\n",
       "      <td>7.449512e+10</td>\n",
       "      <td>8.102190e+12</td>\n",
       "      <td>6.300777e+12</td>\n",
       "      <td>4.233839e+11</td>\n",
       "      <td>18.716964</td>\n",
       "      <td>10.011444</td>\n",
       "      <td>17.595170</td>\n",
       "    </tr>\n",
       "    <tr>\n",
       "      <th>10</th>\n",
       "      <td>2009</td>\n",
       "      <td>Utilities</td>\n",
       "      <td>3.162322e+11</td>\n",
       "      <td>2.662273e+11</td>\n",
       "      <td>2.292232e+10</td>\n",
       "      <td>8.102190e+12</td>\n",
       "      <td>6.300777e+12</td>\n",
       "      <td>4.233839e+11</td>\n",
       "      <td>3.903045</td>\n",
       "      <td>4.225309</td>\n",
       "      <td>5.414074</td>\n",
       "    </tr>\n",
       "    <tr>\n",
       "      <th>11</th>\n",
       "      <td>2010</td>\n",
       "      <td>Basic Materials</td>\n",
       "      <td>2.312354e+11</td>\n",
       "      <td>1.725665e+11</td>\n",
       "      <td>1.506657e+10</td>\n",
       "      <td>9.567550e+12</td>\n",
       "      <td>6.539643e+12</td>\n",
       "      <td>5.623103e+11</td>\n",
       "      <td>2.416871</td>\n",
       "      <td>2.638775</td>\n",
       "      <td>2.679405</td>\n",
       "    </tr>\n",
       "    <tr>\n",
       "      <th>12</th>\n",
       "      <td>2010</td>\n",
       "      <td>Communication Services</td>\n",
       "      <td>3.059946e+11</td>\n",
       "      <td>2.623609e+11</td>\n",
       "      <td>2.444755e+10</td>\n",
       "      <td>9.567550e+12</td>\n",
       "      <td>6.539643e+12</td>\n",
       "      <td>5.623103e+11</td>\n",
       "      <td>3.198254</td>\n",
       "      <td>4.011853</td>\n",
       "      <td>4.347697</td>\n",
       "    </tr>\n",
       "    <tr>\n",
       "      <th>13</th>\n",
       "      <td>2010</td>\n",
       "      <td>Consumer Cyclical</td>\n",
       "      <td>8.116080e+11</td>\n",
       "      <td>6.148233e+11</td>\n",
       "      <td>4.201964e+10</td>\n",
       "      <td>9.567550e+12</td>\n",
       "      <td>6.539643e+12</td>\n",
       "      <td>5.623103e+11</td>\n",
       "      <td>8.482924</td>\n",
       "      <td>9.401481</td>\n",
       "      <td>7.472678</td>\n",
       "    </tr>\n",
       "    <tr>\n",
       "      <th>14</th>\n",
       "      <td>2010</td>\n",
       "      <td>Consumer Defensive</td>\n",
       "      <td>1.062999e+12</td>\n",
       "      <td>1.206604e+12</td>\n",
       "      <td>8.095500e+10</td>\n",
       "      <td>9.567550e+12</td>\n",
       "      <td>6.539643e+12</td>\n",
       "      <td>5.623103e+11</td>\n",
       "      <td>11.110456</td>\n",
       "      <td>18.450607</td>\n",
       "      <td>14.396855</td>\n",
       "    </tr>\n",
       "    <tr>\n",
       "      <th>15</th>\n",
       "      <td>2010</td>\n",
       "      <td>Energy</td>\n",
       "      <td>1.131384e+12</td>\n",
       "      <td>1.092886e+12</td>\n",
       "      <td>5.540267e+10</td>\n",
       "      <td>9.567550e+12</td>\n",
       "      <td>6.539643e+12</td>\n",
       "      <td>5.623103e+11</td>\n",
       "      <td>11.825223</td>\n",
       "      <td>16.711712</td>\n",
       "      <td>9.852687</td>\n",
       "    </tr>\n",
       "    <tr>\n",
       "      <th>16</th>\n",
       "      <td>2010</td>\n",
       "      <td>Financial Services</td>\n",
       "      <td>1.395098e+12</td>\n",
       "      <td>5.545866e+11</td>\n",
       "      <td>9.960512e+10</td>\n",
       "      <td>9.567550e+12</td>\n",
       "      <td>6.539643e+12</td>\n",
       "      <td>5.623103e+11</td>\n",
       "      <td>14.581554</td>\n",
       "      <td>8.480380</td>\n",
       "      <td>17.713551</td>\n",
       "    </tr>\n",
       "    <tr>\n",
       "      <th>17</th>\n",
       "      <td>2010</td>\n",
       "      <td>Healthcare</td>\n",
       "      <td>1.211155e+12</td>\n",
       "      <td>8.279366e+11</td>\n",
       "      <td>5.161063e+10</td>\n",
       "      <td>9.567550e+12</td>\n",
       "      <td>6.539643e+12</td>\n",
       "      <td>5.623103e+11</td>\n",
       "      <td>12.658992</td>\n",
       "      <td>12.660273</td>\n",
       "      <td>9.178319</td>\n",
       "    </tr>\n",
       "    <tr>\n",
       "      <th>18</th>\n",
       "      <td>2010</td>\n",
       "      <td>Industrials</td>\n",
       "      <td>1.169379e+12</td>\n",
       "      <td>8.721625e+11</td>\n",
       "      <td>6.320336e+10</td>\n",
       "      <td>9.567550e+12</td>\n",
       "      <td>6.539643e+12</td>\n",
       "      <td>5.623103e+11</td>\n",
       "      <td>12.222347</td>\n",
       "      <td>13.336547</td>\n",
       "      <td>11.239943</td>\n",
       "    </tr>\n",
       "    <tr>\n",
       "      <th>19</th>\n",
       "      <td>2010</td>\n",
       "      <td>Real Estate</td>\n",
       "      <td>2.047961e+11</td>\n",
       "      <td>2.876882e+10</td>\n",
       "      <td>3.522414e+09</td>\n",
       "      <td>9.567550e+12</td>\n",
       "      <td>6.539643e+12</td>\n",
       "      <td>5.623103e+11</td>\n",
       "      <td>2.140528</td>\n",
       "      <td>0.439914</td>\n",
       "      <td>0.626418</td>\n",
       "    </tr>\n",
       "    <tr>\n",
       "      <th>20</th>\n",
       "      <td>2010</td>\n",
       "      <td>Technology</td>\n",
       "      <td>1.674233e+12</td>\n",
       "      <td>7.000227e+11</td>\n",
       "      <td>1.072457e+11</td>\n",
       "      <td>9.567550e+12</td>\n",
       "      <td>6.539643e+12</td>\n",
       "      <td>5.623103e+11</td>\n",
       "      <td>17.499082</td>\n",
       "      <td>10.704295</td>\n",
       "      <td>19.072329</td>\n",
       "    </tr>\n",
       "    <tr>\n",
       "      <th>21</th>\n",
       "      <td>2010</td>\n",
       "      <td>Utilities</td>\n",
       "      <td>3.696680e+11</td>\n",
       "      <td>2.069249e+11</td>\n",
       "      <td>1.923167e+10</td>\n",
       "      <td>9.567550e+12</td>\n",
       "      <td>6.539643e+12</td>\n",
       "      <td>5.623103e+11</td>\n",
       "      <td>3.863769</td>\n",
       "      <td>3.164162</td>\n",
       "      <td>3.420117</td>\n",
       "    </tr>\n",
       "    <tr>\n",
       "      <th>22</th>\n",
       "      <td>2011</td>\n",
       "      <td>Basic Materials</td>\n",
       "      <td>2.541424e+11</td>\n",
       "      <td>2.487015e+11</td>\n",
       "      <td>2.066516e+10</td>\n",
       "      <td>1.012699e+13</td>\n",
       "      <td>8.075593e+12</td>\n",
       "      <td>7.418601e+11</td>\n",
       "      <td>2.509557</td>\n",
       "      <td>3.079669</td>\n",
       "      <td>2.785586</td>\n",
       "    </tr>\n",
       "    <tr>\n",
       "      <th>23</th>\n",
       "      <td>2011</td>\n",
       "      <td>Communication Services</td>\n",
       "      <td>3.455591e+11</td>\n",
       "      <td>2.805477e+11</td>\n",
       "      <td>8.564039e+09</td>\n",
       "      <td>1.012699e+13</td>\n",
       "      <td>8.075593e+12</td>\n",
       "      <td>7.418601e+11</td>\n",
       "      <td>3.412261</td>\n",
       "      <td>3.474019</td>\n",
       "      <td>1.154401</td>\n",
       "    </tr>\n",
       "    <tr>\n",
       "      <th>24</th>\n",
       "      <td>2011</td>\n",
       "      <td>Consumer Cyclical</td>\n",
       "      <td>9.372370e+11</td>\n",
       "      <td>9.900225e+11</td>\n",
       "      <td>8.988204e+10</td>\n",
       "      <td>1.012699e+13</td>\n",
       "      <td>8.075593e+12</td>\n",
       "      <td>7.418601e+11</td>\n",
       "      <td>9.254847</td>\n",
       "      <td>12.259440</td>\n",
       "      <td>12.115767</td>\n",
       "    </tr>\n",
       "    <tr>\n",
       "      <th>25</th>\n",
       "      <td>2011</td>\n",
       "      <td>Consumer Defensive</td>\n",
       "      <td>1.175882e+12</td>\n",
       "      <td>1.317049e+12</td>\n",
       "      <td>8.246766e+10</td>\n",
       "      <td>1.012699e+13</td>\n",
       "      <td>8.075593e+12</td>\n",
       "      <td>7.418601e+11</td>\n",
       "      <td>11.611369</td>\n",
       "      <td>16.309012</td>\n",
       "      <td>11.116336</td>\n",
       "    </tr>\n",
       "    <tr>\n",
       "      <th>26</th>\n",
       "      <td>2011</td>\n",
       "      <td>Energy</td>\n",
       "      <td>1.217234e+12</td>\n",
       "      <td>1.278586e+12</td>\n",
       "      <td>9.268964e+10</td>\n",
       "      <td>1.012699e+13</td>\n",
       "      <td>8.075593e+12</td>\n",
       "      <td>7.418601e+11</td>\n",
       "      <td>12.019710</td>\n",
       "      <td>15.832722</td>\n",
       "      <td>12.494220</td>\n",
       "    </tr>\n",
       "    <tr>\n",
       "      <th>27</th>\n",
       "      <td>2011</td>\n",
       "      <td>Financial Services</td>\n",
       "      <td>1.197854e+12</td>\n",
       "      <td>7.577012e+11</td>\n",
       "      <td>1.274083e+11</td>\n",
       "      <td>1.012699e+13</td>\n",
       "      <td>8.075593e+12</td>\n",
       "      <td>7.418601e+11</td>\n",
       "      <td>11.828337</td>\n",
       "      <td>9.382607</td>\n",
       "      <td>17.174173</td>\n",
       "    </tr>\n",
       "    <tr>\n",
       "      <th>28</th>\n",
       "      <td>2011</td>\n",
       "      <td>Healthcare</td>\n",
       "      <td>1.311674e+12</td>\n",
       "      <td>9.697251e+11</td>\n",
       "      <td>7.080219e+10</td>\n",
       "      <td>1.012699e+13</td>\n",
       "      <td>8.075593e+12</td>\n",
       "      <td>7.418601e+11</td>\n",
       "      <td>12.952263</td>\n",
       "      <td>12.008097</td>\n",
       "      <td>9.543873</td>\n",
       "    </tr>\n",
       "    <tr>\n",
       "      <th>29</th>\n",
       "      <td>2011</td>\n",
       "      <td>Industrials</td>\n",
       "      <td>1.216002e+12</td>\n",
       "      <td>1.084241e+12</td>\n",
       "      <td>7.789311e+10</td>\n",
       "      <td>1.012699e+13</td>\n",
       "      <td>8.075593e+12</td>\n",
       "      <td>7.418601e+11</td>\n",
       "      <td>12.007547</td>\n",
       "      <td>13.426147</td>\n",
       "      <td>10.499703</td>\n",
       "    </tr>\n",
       "    <tr>\n",
       "      <th>30</th>\n",
       "      <td>2011</td>\n",
       "      <td>Real Estate</td>\n",
       "      <td>2.417991e+11</td>\n",
       "      <td>3.944500e+10</td>\n",
       "      <td>7.211697e+09</td>\n",
       "      <td>1.012699e+13</td>\n",
       "      <td>8.075593e+12</td>\n",
       "      <td>7.418601e+11</td>\n",
       "      <td>2.387672</td>\n",
       "      <td>0.488447</td>\n",
       "      <td>0.972110</td>\n",
       "    </tr>\n",
       "    <tr>\n",
       "      <th>31</th>\n",
       "      <td>2011</td>\n",
       "      <td>Technology</td>\n",
       "      <td>1.799243e+12</td>\n",
       "      <td>8.830778e+11</td>\n",
       "      <td>1.413943e+11</td>\n",
       "      <td>1.012699e+13</td>\n",
       "      <td>8.075593e+12</td>\n",
       "      <td>7.418601e+11</td>\n",
       "      <td>17.766815</td>\n",
       "      <td>10.935144</td>\n",
       "      <td>19.059426</td>\n",
       "    </tr>\n",
       "    <tr>\n",
       "      <th>32</th>\n",
       "      <td>2011</td>\n",
       "      <td>Utilities</td>\n",
       "      <td>4.303588e+11</td>\n",
       "      <td>2.264958e+11</td>\n",
       "      <td>2.288197e+10</td>\n",
       "      <td>1.012699e+13</td>\n",
       "      <td>8.075593e+12</td>\n",
       "      <td>7.418601e+11</td>\n",
       "      <td>4.249625</td>\n",
       "      <td>2.804695</td>\n",
       "      <td>3.084405</td>\n",
       "    </tr>\n",
       "    <tr>\n",
       "      <th>33</th>\n",
       "      <td>2012</td>\n",
       "      <td>Basic Materials</td>\n",
       "      <td>2.836891e+11</td>\n",
       "      <td>2.504811e+11</td>\n",
       "      <td>1.880020e+10</td>\n",
       "      <td>1.112339e+13</td>\n",
       "      <td>9.178107e+12</td>\n",
       "      <td>7.772886e+11</td>\n",
       "      <td>2.550383</td>\n",
       "      <td>2.729115</td>\n",
       "      <td>2.418690</td>\n",
       "    </tr>\n",
       "    <tr>\n",
       "      <th>34</th>\n",
       "      <td>2012</td>\n",
       "      <td>Communication Services</td>\n",
       "      <td>4.120200e+11</td>\n",
       "      <td>2.908658e+11</td>\n",
       "      <td>9.722085e+09</td>\n",
       "      <td>1.112339e+13</td>\n",
       "      <td>9.178107e+12</td>\n",
       "      <td>7.772886e+11</td>\n",
       "      <td>3.704087</td>\n",
       "      <td>3.169126</td>\n",
       "      <td>1.250769</td>\n",
       "    </tr>\n",
       "    <tr>\n",
       "      <th>35</th>\n",
       "      <td>2012</td>\n",
       "      <td>Consumer Cyclical</td>\n",
       "      <td>1.080316e+12</td>\n",
       "      <td>1.123948e+12</td>\n",
       "      <td>7.008778e+10</td>\n",
       "      <td>1.112339e+13</td>\n",
       "      <td>9.178107e+12</td>\n",
       "      <td>7.772886e+11</td>\n",
       "      <td>9.712111</td>\n",
       "      <td>12.245965</td>\n",
       "      <td>9.016957</td>\n",
       "    </tr>\n",
       "    <tr>\n",
       "      <th>36</th>\n",
       "      <td>2012</td>\n",
       "      <td>Consumer Defensive</td>\n",
       "      <td>1.276351e+12</td>\n",
       "      <td>1.361547e+12</td>\n",
       "      <td>7.922827e+10</td>\n",
       "      <td>1.112339e+13</td>\n",
       "      <td>9.178107e+12</td>\n",
       "      <td>7.772886e+11</td>\n",
       "      <td>11.474479</td>\n",
       "      <td>14.834724</td>\n",
       "      <td>10.192903</td>\n",
       "    </tr>\n",
       "    <tr>\n",
       "      <th>37</th>\n",
       "      <td>2012</td>\n",
       "      <td>Energy</td>\n",
       "      <td>1.121679e+12</td>\n",
       "      <td>1.436461e+12</td>\n",
       "      <td>1.170329e+11</td>\n",
       "      <td>1.112339e+13</td>\n",
       "      <td>9.178107e+12</td>\n",
       "      <td>7.772886e+11</td>\n",
       "      <td>10.083967</td>\n",
       "      <td>15.650955</td>\n",
       "      <td>15.056553</td>\n",
       "    </tr>\n",
       "    <tr>\n",
       "      <th>38</th>\n",
       "      <td>2012</td>\n",
       "      <td>Financial Services</td>\n",
       "      <td>1.522748e+12</td>\n",
       "      <td>8.460999e+11</td>\n",
       "      <td>1.282232e+11</td>\n",
       "      <td>1.112339e+13</td>\n",
       "      <td>9.178107e+12</td>\n",
       "      <td>7.772886e+11</td>\n",
       "      <td>13.689606</td>\n",
       "      <td>9.218675</td>\n",
       "      <td>16.496220</td>\n",
       "    </tr>\n",
       "    <tr>\n",
       "      <th>39</th>\n",
       "      <td>2012</td>\n",
       "      <td>Healthcare</td>\n",
       "      <td>1.582713e+12</td>\n",
       "      <td>1.348269e+12</td>\n",
       "      <td>1.078772e+11</td>\n",
       "      <td>1.112339e+13</td>\n",
       "      <td>9.178107e+12</td>\n",
       "      <td>7.772886e+11</td>\n",
       "      <td>14.228695</td>\n",
       "      <td>14.690057</td>\n",
       "      <td>13.878650</td>\n",
       "    </tr>\n",
       "    <tr>\n",
       "      <th>40</th>\n",
       "      <td>2012</td>\n",
       "      <td>Industrials</td>\n",
       "      <td>1.259861e+12</td>\n",
       "      <td>1.202711e+12</td>\n",
       "      <td>8.201267e+10</td>\n",
       "      <td>1.112339e+13</td>\n",
       "      <td>9.178107e+12</td>\n",
       "      <td>7.772886e+11</td>\n",
       "      <td>11.326235</td>\n",
       "      <td>13.104126</td>\n",
       "      <td>10.551123</td>\n",
       "    </tr>\n",
       "    <tr>\n",
       "      <th>41</th>\n",
       "      <td>2012</td>\n",
       "      <td>Real Estate</td>\n",
       "      <td>3.023236e+11</td>\n",
       "      <td>4.630594e+10</td>\n",
       "      <td>8.501170e+09</td>\n",
       "      <td>1.112339e+13</td>\n",
       "      <td>9.178107e+12</td>\n",
       "      <td>7.772886e+11</td>\n",
       "      <td>2.717909</td>\n",
       "      <td>0.504526</td>\n",
       "      <td>1.093695</td>\n",
       "    </tr>\n",
       "    <tr>\n",
       "      <th>42</th>\n",
       "      <td>2012</td>\n",
       "      <td>Technology</td>\n",
       "      <td>1.884209e+12</td>\n",
       "      <td>9.927076e+11</td>\n",
       "      <td>1.364335e+11</td>\n",
       "      <td>1.112339e+13</td>\n",
       "      <td>9.178107e+12</td>\n",
       "      <td>7.772886e+11</td>\n",
       "      <td>16.939163</td>\n",
       "      <td>10.816038</td>\n",
       "      <td>17.552484</td>\n",
       "    </tr>\n",
       "    <tr>\n",
       "      <th>43</th>\n",
       "      <td>2012</td>\n",
       "      <td>Utilities</td>\n",
       "      <td>3.974793e+11</td>\n",
       "      <td>2.787109e+11</td>\n",
       "      <td>1.936969e+10</td>\n",
       "      <td>1.112339e+13</td>\n",
       "      <td>9.178107e+12</td>\n",
       "      <td>7.772886e+11</td>\n",
       "      <td>3.573365</td>\n",
       "      <td>3.036692</td>\n",
       "      <td>2.491956</td>\n",
       "    </tr>\n",
       "    <tr>\n",
       "      <th>44</th>\n",
       "      <td>2013</td>\n",
       "      <td>Basic Materials</td>\n",
       "      <td>4.189892e+11</td>\n",
       "      <td>2.834956e+11</td>\n",
       "      <td>2.660622e+10</td>\n",
       "      <td>1.442795e+13</td>\n",
       "      <td>9.720284e+12</td>\n",
       "      <td>9.237680e+11</td>\n",
       "      <td>2.904010</td>\n",
       "      <td>2.916536</td>\n",
       "      <td>2.880184</td>\n",
       "    </tr>\n",
       "    <tr>\n",
       "      <th>45</th>\n",
       "      <td>2013</td>\n",
       "      <td>Communication Services</td>\n",
       "      <td>4.213921e+11</td>\n",
       "      <td>2.984977e+11</td>\n",
       "      <td>3.075332e+10</td>\n",
       "      <td>1.442795e+13</td>\n",
       "      <td>9.720284e+12</td>\n",
       "      <td>9.237680e+11</td>\n",
       "      <td>2.920665</td>\n",
       "      <td>3.070874</td>\n",
       "      <td>3.329117</td>\n",
       "    </tr>\n",
       "    <tr>\n",
       "      <th>46</th>\n",
       "      <td>2013</td>\n",
       "      <td>Consumer Cyclical</td>\n",
       "      <td>1.463336e+12</td>\n",
       "      <td>1.242108e+12</td>\n",
       "      <td>8.994732e+10</td>\n",
       "      <td>1.442795e+13</td>\n",
       "      <td>9.720284e+12</td>\n",
       "      <td>9.237680e+11</td>\n",
       "      <td>10.142370</td>\n",
       "      <td>12.778516</td>\n",
       "      <td>9.737003</td>\n",
       "    </tr>\n",
       "    <tr>\n",
       "      <th>47</th>\n",
       "      <td>2013</td>\n",
       "      <td>Consumer Defensive</td>\n",
       "      <td>1.506297e+12</td>\n",
       "      <td>1.429341e+12</td>\n",
       "      <td>8.678793e+10</td>\n",
       "      <td>1.442795e+13</td>\n",
       "      <td>9.720284e+12</td>\n",
       "      <td>9.237680e+11</td>\n",
       "      <td>10.440133</td>\n",
       "      <td>14.704727</td>\n",
       "      <td>9.394992</td>\n",
       "    </tr>\n",
       "    <tr>\n",
       "      <th>48</th>\n",
       "      <td>2013</td>\n",
       "      <td>Energy</td>\n",
       "      <td>1.352983e+12</td>\n",
       "      <td>1.402184e+12</td>\n",
       "      <td>1.051426e+11</td>\n",
       "      <td>1.442795e+13</td>\n",
       "      <td>9.720284e+12</td>\n",
       "      <td>9.237680e+11</td>\n",
       "      <td>9.377510</td>\n",
       "      <td>14.425342</td>\n",
       "      <td>11.381929</td>\n",
       "    </tr>\n",
       "    <tr>\n",
       "      <th>49</th>\n",
       "      <td>2013</td>\n",
       "      <td>Financial Services</td>\n",
       "      <td>2.268036e+12</td>\n",
       "      <td>9.312118e+11</td>\n",
       "      <td>1.710702e+11</td>\n",
       "      <td>1.442795e+13</td>\n",
       "      <td>9.720284e+12</td>\n",
       "      <td>9.237680e+11</td>\n",
       "      <td>15.719732</td>\n",
       "      <td>9.580088</td>\n",
       "      <td>18.518736</td>\n",
       "    </tr>\n",
       "    <tr>\n",
       "      <th>50</th>\n",
       "      <td>2013</td>\n",
       "      <td>Healthcare</td>\n",
       "      <td>2.126551e+12</td>\n",
       "      <td>1.460246e+12</td>\n",
       "      <td>1.104415e+11</td>\n",
       "      <td>1.442795e+13</td>\n",
       "      <td>9.720284e+12</td>\n",
       "      <td>9.237680e+11</td>\n",
       "      <td>14.739103</td>\n",
       "      <td>15.022671</td>\n",
       "      <td>11.955549</td>\n",
       "    </tr>\n",
       "    <tr>\n",
       "      <th>51</th>\n",
       "      <td>2013</td>\n",
       "      <td>Industrials</td>\n",
       "      <td>1.710031e+12</td>\n",
       "      <td>1.226434e+12</td>\n",
       "      <td>1.019680e+11</td>\n",
       "      <td>1.442795e+13</td>\n",
       "      <td>9.720284e+12</td>\n",
       "      <td>9.237680e+11</td>\n",
       "      <td>11.852205</td>\n",
       "      <td>12.617266</td>\n",
       "      <td>11.038270</td>\n",
       "    </tr>\n",
       "    <tr>\n",
       "      <th>52</th>\n",
       "      <td>2013</td>\n",
       "      <td>Real Estate</td>\n",
       "      <td>3.230289e+11</td>\n",
       "      <td>5.105078e+10</td>\n",
       "      <td>1.100124e+10</td>\n",
       "      <td>1.442795e+13</td>\n",
       "      <td>9.720284e+12</td>\n",
       "      <td>9.237680e+11</td>\n",
       "      <td>2.238910</td>\n",
       "      <td>0.525198</td>\n",
       "      <td>1.190909</td>\n",
       "    </tr>\n",
       "    <tr>\n",
       "      <th>53</th>\n",
       "      <td>2013</td>\n",
       "      <td>Technology</td>\n",
       "      <td>2.391382e+12</td>\n",
       "      <td>1.104981e+12</td>\n",
       "      <td>1.662238e+11</td>\n",
       "      <td>1.442795e+13</td>\n",
       "      <td>9.720284e+12</td>\n",
       "      <td>9.237680e+11</td>\n",
       "      <td>16.574646</td>\n",
       "      <td>11.367785</td>\n",
       "      <td>17.994106</td>\n",
       "    </tr>\n",
       "    <tr>\n",
       "      <th>54</th>\n",
       "      <td>2013</td>\n",
       "      <td>Utilities</td>\n",
       "      <td>4.459270e+11</td>\n",
       "      <td>2.907333e+11</td>\n",
       "      <td>2.382586e+10</td>\n",
       "      <td>1.442795e+13</td>\n",
       "      <td>9.720284e+12</td>\n",
       "      <td>9.237680e+11</td>\n",
       "      <td>3.090716</td>\n",
       "      <td>2.990996</td>\n",
       "      <td>2.579204</td>\n",
       "    </tr>\n",
       "    <tr>\n",
       "      <th>55</th>\n",
       "      <td>2014</td>\n",
       "      <td>Basic Materials</td>\n",
       "      <td>4.293564e+11</td>\n",
       "      <td>2.980611e+11</td>\n",
       "      <td>2.636212e+10</td>\n",
       "      <td>1.690695e+13</td>\n",
       "      <td>1.004203e+13</td>\n",
       "      <td>9.186714e+11</td>\n",
       "      <td>2.539526</td>\n",
       "      <td>2.968136</td>\n",
       "      <td>2.869592</td>\n",
       "    </tr>\n",
       "    <tr>\n",
       "      <th>56</th>\n",
       "      <td>2014</td>\n",
       "      <td>Communication Services</td>\n",
       "      <td>5.066597e+11</td>\n",
       "      <td>3.124401e+11</td>\n",
       "      <td>1.845011e+10</td>\n",
       "      <td>1.690695e+13</td>\n",
       "      <td>1.004203e+13</td>\n",
       "      <td>9.186714e+11</td>\n",
       "      <td>2.996754</td>\n",
       "      <td>3.111324</td>\n",
       "      <td>2.008347</td>\n",
       "    </tr>\n",
       "    <tr>\n",
       "      <th>57</th>\n",
       "      <td>2014</td>\n",
       "      <td>Consumer Cyclical</td>\n",
       "      <td>1.691582e+12</td>\n",
       "      <td>1.281811e+12</td>\n",
       "      <td>9.071554e+10</td>\n",
       "      <td>1.690695e+13</td>\n",
       "      <td>1.004203e+13</td>\n",
       "      <td>9.186714e+11</td>\n",
       "      <td>10.005243</td>\n",
       "      <td>12.764461</td>\n",
       "      <td>9.874645</td>\n",
       "    </tr>\n",
       "    <tr>\n",
       "      <th>58</th>\n",
       "      <td>2014</td>\n",
       "      <td>Consumer Defensive</td>\n",
       "      <td>1.610817e+12</td>\n",
       "      <td>1.430984e+12</td>\n",
       "      <td>8.117922e+10</td>\n",
       "      <td>1.690695e+13</td>\n",
       "      <td>1.004203e+13</td>\n",
       "      <td>9.186714e+11</td>\n",
       "      <td>9.527542</td>\n",
       "      <td>14.249943</td>\n",
       "      <td>8.836590</td>\n",
       "    </tr>\n",
       "    <tr>\n",
       "      <th>59</th>\n",
       "      <td>2014</td>\n",
       "      <td>Energy</td>\n",
       "      <td>1.308220e+12</td>\n",
       "      <td>1.349352e+12</td>\n",
       "      <td>9.419277e+10</td>\n",
       "      <td>1.690695e+13</td>\n",
       "      <td>1.004203e+13</td>\n",
       "      <td>9.186714e+11</td>\n",
       "      <td>7.737763</td>\n",
       "      <td>13.437046</td>\n",
       "      <td>10.253151</td>\n",
       "    </tr>\n",
       "    <tr>\n",
       "      <th>60</th>\n",
       "      <td>2014</td>\n",
       "      <td>Financial Services</td>\n",
       "      <td>2.408402e+12</td>\n",
       "      <td>1.001000e+12</td>\n",
       "      <td>1.774239e+11</td>\n",
       "      <td>1.690695e+13</td>\n",
       "      <td>1.004203e+13</td>\n",
       "      <td>9.186714e+11</td>\n",
       "      <td>14.245040</td>\n",
       "      <td>9.968099</td>\n",
       "      <td>19.313101</td>\n",
       "    </tr>\n",
       "    <tr>\n",
       "      <th>61</th>\n",
       "      <td>2014</td>\n",
       "      <td>Healthcare</td>\n",
       "      <td>2.662738e+12</td>\n",
       "      <td>1.580302e+12</td>\n",
       "      <td>1.150180e+11</td>\n",
       "      <td>1.690695e+13</td>\n",
       "      <td>1.004203e+13</td>\n",
       "      <td>9.186714e+11</td>\n",
       "      <td>15.749365</td>\n",
       "      <td>15.736881</td>\n",
       "      <td>12.520039</td>\n",
       "    </tr>\n",
       "    <tr>\n",
       "      <th>62</th>\n",
       "      <td>2014</td>\n",
       "      <td>Industrials</td>\n",
       "      <td>1.994593e+12</td>\n",
       "      <td>1.231906e+12</td>\n",
       "      <td>1.044595e+11</td>\n",
       "      <td>1.690695e+13</td>\n",
       "      <td>1.004203e+13</td>\n",
       "      <td>9.186714e+11</td>\n",
       "      <td>11.797470</td>\n",
       "      <td>12.267499</td>\n",
       "      <td>11.370712</td>\n",
       "    </tr>\n",
       "    <tr>\n",
       "      <th>63</th>\n",
       "      <td>2014</td>\n",
       "      <td>Real Estate</td>\n",
       "      <td>4.299271e+11</td>\n",
       "      <td>5.606528e+10</td>\n",
       "      <td>1.371365e+10</td>\n",
       "      <td>1.690695e+13</td>\n",
       "      <td>1.004203e+13</td>\n",
       "      <td>9.186714e+11</td>\n",
       "      <td>2.542901</td>\n",
       "      <td>0.558306</td>\n",
       "      <td>1.492770</td>\n",
       "    </tr>\n",
       "    <tr>\n",
       "      <th>64</th>\n",
       "      <td>2014</td>\n",
       "      <td>Technology</td>\n",
       "      <td>3.318725e+12</td>\n",
       "      <td>1.186346e+12</td>\n",
       "      <td>1.706109e+11</td>\n",
       "      <td>1.690695e+13</td>\n",
       "      <td>1.004203e+13</td>\n",
       "      <td>9.186714e+11</td>\n",
       "      <td>19.629351</td>\n",
       "      <td>11.813805</td>\n",
       "      <td>18.571479</td>\n",
       "    </tr>\n",
       "    <tr>\n",
       "      <th>65</th>\n",
       "      <td>2014</td>\n",
       "      <td>Utilities</td>\n",
       "      <td>5.459333e+11</td>\n",
       "      <td>3.137632e+11</td>\n",
       "      <td>2.654570e+10</td>\n",
       "      <td>1.690695e+13</td>\n",
       "      <td>1.004203e+13</td>\n",
       "      <td>9.186714e+11</td>\n",
       "      <td>3.229046</td>\n",
       "      <td>3.124500</td>\n",
       "      <td>2.889575</td>\n",
       "    </tr>\n",
       "    <tr>\n",
       "      <th>66</th>\n",
       "      <td>2015</td>\n",
       "      <td>Basic Materials</td>\n",
       "      <td>4.467032e+11</td>\n",
       "      <td>2.712370e+11</td>\n",
       "      <td>1.603193e+10</td>\n",
       "      <td>1.773219e+13</td>\n",
       "      <td>9.901700e+12</td>\n",
       "      <td>8.274714e+11</td>\n",
       "      <td>2.519165</td>\n",
       "      <td>2.739297</td>\n",
       "      <td>1.937460</td>\n",
       "    </tr>\n",
       "    <tr>\n",
       "      <th>67</th>\n",
       "      <td>2015</td>\n",
       "      <td>Communication Services</td>\n",
       "      <td>5.350431e+11</td>\n",
       "      <td>3.343334e+11</td>\n",
       "      <td>3.321015e+10</td>\n",
       "      <td>1.773219e+13</td>\n",
       "      <td>9.901700e+12</td>\n",
       "      <td>8.274714e+11</td>\n",
       "      <td>3.017355</td>\n",
       "      <td>3.376525</td>\n",
       "      <td>4.013450</td>\n",
       "    </tr>\n",
       "    <tr>\n",
       "      <th>68</th>\n",
       "      <td>2015</td>\n",
       "      <td>Consumer Cyclical</td>\n",
       "      <td>1.881675e+12</td>\n",
       "      <td>1.323919e+12</td>\n",
       "      <td>1.060722e+11</td>\n",
       "      <td>1.773219e+13</td>\n",
       "      <td>9.901700e+12</td>\n",
       "      <td>8.274714e+11</td>\n",
       "      <td>10.611632</td>\n",
       "      <td>13.370622</td>\n",
       "      <td>12.818838</td>\n",
       "    </tr>\n",
       "    <tr>\n",
       "      <th>69</th>\n",
       "      <td>2015</td>\n",
       "      <td>Consumer Defensive</td>\n",
       "      <td>1.711332e+12</td>\n",
       "      <td>1.442860e+12</td>\n",
       "      <td>7.451389e+10</td>\n",
       "      <td>1.773219e+13</td>\n",
       "      <td>9.901700e+12</td>\n",
       "      <td>8.274714e+11</td>\n",
       "      <td>9.650989</td>\n",
       "      <td>14.571840</td>\n",
       "      <td>9.005011</td>\n",
       "    </tr>\n",
       "    <tr>\n",
       "      <th>70</th>\n",
       "      <td>2015</td>\n",
       "      <td>Energy</td>\n",
       "      <td>1.197210e+12</td>\n",
       "      <td>9.016262e+11</td>\n",
       "      <td>-4.266637e+10</td>\n",
       "      <td>1.773219e+13</td>\n",
       "      <td>9.901700e+12</td>\n",
       "      <td>8.274714e+11</td>\n",
       "      <td>6.751616</td>\n",
       "      <td>9.105772</td>\n",
       "      <td>-5.156234</td>\n",
       "    </tr>\n",
       "    <tr>\n",
       "      <th>71</th>\n",
       "      <td>2015</td>\n",
       "      <td>Financial Services</td>\n",
       "      <td>2.582190e+12</td>\n",
       "      <td>1.000001e+12</td>\n",
       "      <td>2.009713e+11</td>\n",
       "      <td>1.773219e+13</td>\n",
       "      <td>9.901700e+12</td>\n",
       "      <td>8.274714e+11</td>\n",
       "      <td>14.562159</td>\n",
       "      <td>10.099283</td>\n",
       "      <td>24.287403</td>\n",
       "    </tr>\n",
       "    <tr>\n",
       "      <th>72</th>\n",
       "      <td>2015</td>\n",
       "      <td>Healthcare</td>\n",
       "      <td>2.595812e+12</td>\n",
       "      <td>1.694424e+12</td>\n",
       "      <td>1.091289e+11</td>\n",
       "      <td>1.773219e+13</td>\n",
       "      <td>9.901700e+12</td>\n",
       "      <td>8.274714e+11</td>\n",
       "      <td>14.638983</td>\n",
       "      <td>17.112453</td>\n",
       "      <td>13.188239</td>\n",
       "    </tr>\n",
       "    <tr>\n",
       "      <th>73</th>\n",
       "      <td>2015</td>\n",
       "      <td>Industrials</td>\n",
       "      <td>1.948850e+12</td>\n",
       "      <td>1.231664e+12</td>\n",
       "      <td>9.901303e+10</td>\n",
       "      <td>1.773219e+13</td>\n",
       "      <td>9.901700e+12</td>\n",
       "      <td>8.274714e+11</td>\n",
       "      <td>10.990464</td>\n",
       "      <td>12.438912</td>\n",
       "      <td>11.965734</td>\n",
       "    </tr>\n",
       "    <tr>\n",
       "      <th>74</th>\n",
       "      <td>2015</td>\n",
       "      <td>Real Estate</td>\n",
       "      <td>4.583418e+11</td>\n",
       "      <td>6.118880e+10</td>\n",
       "      <td>1.497283e+10</td>\n",
       "      <td>1.773219e+13</td>\n",
       "      <td>9.901700e+12</td>\n",
       "      <td>8.274714e+11</td>\n",
       "      <td>2.584801</td>\n",
       "      <td>0.617963</td>\n",
       "      <td>1.809468</td>\n",
       "    </tr>\n",
       "    <tr>\n",
       "      <th>75</th>\n",
       "      <td>2015</td>\n",
       "      <td>Technology</td>\n",
       "      <td>3.864214e+12</td>\n",
       "      <td>1.331348e+12</td>\n",
       "      <td>1.956118e+11</td>\n",
       "      <td>1.773219e+13</td>\n",
       "      <td>9.901700e+12</td>\n",
       "      <td>8.274714e+11</td>\n",
       "      <td>21.792084</td>\n",
       "      <td>13.445648</td>\n",
       "      <td>23.639709</td>\n",
       "    </tr>\n",
       "    <tr>\n",
       "      <th>76</th>\n",
       "      <td>2015</td>\n",
       "      <td>Utilities</td>\n",
       "      <td>5.108203e+11</td>\n",
       "      <td>3.090999e+11</td>\n",
       "      <td>2.061168e+10</td>\n",
       "      <td>1.773219e+13</td>\n",
       "      <td>9.901700e+12</td>\n",
       "      <td>8.274714e+11</td>\n",
       "      <td>2.880751</td>\n",
       "      <td>3.121686</td>\n",
       "      <td>2.490924</td>\n",
       "    </tr>\n",
       "    <tr>\n",
       "      <th>77</th>\n",
       "      <td>2016</td>\n",
       "      <td>Basic Materials</td>\n",
       "      <td>4.784872e+11</td>\n",
       "      <td>2.761491e+11</td>\n",
       "      <td>1.450316e+10</td>\n",
       "      <td>1.923652e+13</td>\n",
       "      <td>1.024484e+13</td>\n",
       "      <td>9.077287e+11</td>\n",
       "      <td>2.487390</td>\n",
       "      <td>2.695495</td>\n",
       "      <td>1.597741</td>\n",
       "    </tr>\n",
       "    <tr>\n",
       "      <th>78</th>\n",
       "      <td>2016</td>\n",
       "      <td>Communication Services</td>\n",
       "      <td>6.618048e+11</td>\n",
       "      <td>3.675830e+11</td>\n",
       "      <td>3.254719e+10</td>\n",
       "      <td>1.923652e+13</td>\n",
       "      <td>1.024484e+13</td>\n",
       "      <td>9.077287e+11</td>\n",
       "      <td>3.440356</td>\n",
       "      <td>3.587983</td>\n",
       "      <td>3.585564</td>\n",
       "    </tr>\n",
       "    <tr>\n",
       "      <th>79</th>\n",
       "      <td>2016</td>\n",
       "      <td>Consumer Cyclical</td>\n",
       "      <td>1.926570e+12</td>\n",
       "      <td>1.433727e+12</td>\n",
       "      <td>1.162908e+11</td>\n",
       "      <td>1.923652e+13</td>\n",
       "      <td>1.024484e+13</td>\n",
       "      <td>9.077287e+11</td>\n",
       "      <td>10.015167</td>\n",
       "      <td>13.994632</td>\n",
       "      <td>12.811183</td>\n",
       "    </tr>\n",
       "    <tr>\n",
       "      <th>80</th>\n",
       "      <td>2016</td>\n",
       "      <td>Consumer Defensive</td>\n",
       "      <td>1.935582e+12</td>\n",
       "      <td>1.491620e+12</td>\n",
       "      <td>9.530438e+10</td>\n",
       "      <td>1.923652e+13</td>\n",
       "      <td>1.024484e+13</td>\n",
       "      <td>9.077287e+11</td>\n",
       "      <td>10.062017</td>\n",
       "      <td>14.559724</td>\n",
       "      <td>10.499215</td>\n",
       "    </tr>\n",
       "    <tr>\n",
       "      <th>81</th>\n",
       "      <td>2016</td>\n",
       "      <td>Energy</td>\n",
       "      <td>1.352110e+12</td>\n",
       "      <td>7.430258e+11</td>\n",
       "      <td>-2.430423e+10</td>\n",
       "      <td>1.923652e+13</td>\n",
       "      <td>1.024484e+13</td>\n",
       "      <td>9.077287e+11</td>\n",
       "      <td>7.028870</td>\n",
       "      <td>7.252685</td>\n",
       "      <td>-2.677478</td>\n",
       "    </tr>\n",
       "    <tr>\n",
       "      <th>82</th>\n",
       "      <td>2016</td>\n",
       "      <td>Financial Services</td>\n",
       "      <td>2.928697e+12</td>\n",
       "      <td>1.009377e+12</td>\n",
       "      <td>1.887786e+11</td>\n",
       "      <td>1.923652e+13</td>\n",
       "      <td>1.024484e+13</td>\n",
       "      <td>9.077287e+11</td>\n",
       "      <td>15.224668</td>\n",
       "      <td>9.852541</td>\n",
       "      <td>20.796814</td>\n",
       "    </tr>\n",
       "    <tr>\n",
       "      <th>83</th>\n",
       "      <td>2016</td>\n",
       "      <td>Healthcare</td>\n",
       "      <td>2.776303e+12</td>\n",
       "      <td>1.946281e+12</td>\n",
       "      <td>1.420533e+11</td>\n",
       "      <td>1.923652e+13</td>\n",
       "      <td>1.024484e+13</td>\n",
       "      <td>9.077287e+11</td>\n",
       "      <td>14.432461</td>\n",
       "      <td>18.997680</td>\n",
       "      <td>15.649309</td>\n",
       "    </tr>\n",
       "    <tr>\n",
       "      <th>84</th>\n",
       "      <td>2016</td>\n",
       "      <td>Industrials</td>\n",
       "      <td>2.128481e+12</td>\n",
       "      <td>1.242743e+12</td>\n",
       "      <td>1.020144e+11</td>\n",
       "      <td>1.923652e+13</td>\n",
       "      <td>1.024484e+13</td>\n",
       "      <td>9.077287e+11</td>\n",
       "      <td>11.064793</td>\n",
       "      <td>12.130427</td>\n",
       "      <td>11.238426</td>\n",
       "    </tr>\n",
       "    <tr>\n",
       "      <th>85</th>\n",
       "      <td>2016</td>\n",
       "      <td>Real Estate</td>\n",
       "      <td>4.381675e+11</td>\n",
       "      <td>6.577578e+10</td>\n",
       "      <td>1.948998e+10</td>\n",
       "      <td>1.923652e+13</td>\n",
       "      <td>1.024484e+13</td>\n",
       "      <td>9.077287e+11</td>\n",
       "      <td>2.277790</td>\n",
       "      <td>0.642038</td>\n",
       "      <td>2.147115</td>\n",
       "    </tr>\n",
       "    <tr>\n",
       "      <th>86</th>\n",
       "      <td>2016</td>\n",
       "      <td>Technology</td>\n",
       "      <td>4.044573e+12</td>\n",
       "      <td>1.360954e+12</td>\n",
       "      <td>2.051984e+11</td>\n",
       "      <td>1.923652e+13</td>\n",
       "      <td>1.024484e+13</td>\n",
       "      <td>9.077287e+11</td>\n",
       "      <td>21.025490</td>\n",
       "      <td>13.284290</td>\n",
       "      <td>22.605695</td>\n",
       "    </tr>\n",
       "    <tr>\n",
       "      <th>87</th>\n",
       "      <td>2016</td>\n",
       "      <td>Utilities</td>\n",
       "      <td>5.657455e+11</td>\n",
       "      <td>3.076017e+11</td>\n",
       "      <td>1.585271e+10</td>\n",
       "      <td>1.923652e+13</td>\n",
       "      <td>1.024484e+13</td>\n",
       "      <td>9.077287e+11</td>\n",
       "      <td>2.940997</td>\n",
       "      <td>3.002505</td>\n",
       "      <td>1.746415</td>\n",
       "    </tr>\n",
       "    <tr>\n",
       "      <th>88</th>\n",
       "      <td>2017</td>\n",
       "      <td>Basic Materials</td>\n",
       "      <td>7.345783e+11</td>\n",
       "      <td>3.021117e+11</td>\n",
       "      <td>2.732039e+10</td>\n",
       "      <td>2.318718e+13</td>\n",
       "      <td>1.086223e+13</td>\n",
       "      <td>1.003546e+12</td>\n",
       "      <td>3.168037</td>\n",
       "      <td>2.781304</td>\n",
       "      <td>2.722386</td>\n",
       "    </tr>\n",
       "    <tr>\n",
       "      <th>89</th>\n",
       "      <td>2017</td>\n",
       "      <td>Communication Services</td>\n",
       "      <td>7.212918e+11</td>\n",
       "      <td>3.802927e+11</td>\n",
       "      <td>7.483517e+10</td>\n",
       "      <td>2.318718e+13</td>\n",
       "      <td>1.086223e+13</td>\n",
       "      <td>1.003546e+12</td>\n",
       "      <td>3.110736</td>\n",
       "      <td>3.501055</td>\n",
       "      <td>7.457076</td>\n",
       "    </tr>\n",
       "    <tr>\n",
       "      <th>90</th>\n",
       "      <td>2017</td>\n",
       "      <td>Consumer Cyclical</td>\n",
       "      <td>2.139782e+12</td>\n",
       "      <td>1.419905e+12</td>\n",
       "      <td>1.089239e+11</td>\n",
       "      <td>2.318718e+13</td>\n",
       "      <td>1.086223e+13</td>\n",
       "      <td>1.003546e+12</td>\n",
       "      <td>9.228302</td>\n",
       "      <td>13.071949</td>\n",
       "      <td>10.853903</td>\n",
       "    </tr>\n",
       "    <tr>\n",
       "      <th>91</th>\n",
       "      <td>2017</td>\n",
       "      <td>Consumer Defensive</td>\n",
       "      <td>1.937342e+12</td>\n",
       "      <td>1.489971e+12</td>\n",
       "      <td>9.954603e+10</td>\n",
       "      <td>2.318718e+13</td>\n",
       "      <td>1.086223e+13</td>\n",
       "      <td>1.003546e+12</td>\n",
       "      <td>8.355231</td>\n",
       "      <td>13.716991</td>\n",
       "      <td>9.919431</td>\n",
       "    </tr>\n",
       "    <tr>\n",
       "      <th>92</th>\n",
       "      <td>2017</td>\n",
       "      <td>Energy</td>\n",
       "      <td>1.276558e+12</td>\n",
       "      <td>8.938067e+11</td>\n",
       "      <td>4.045190e+10</td>\n",
       "      <td>2.318718e+13</td>\n",
       "      <td>1.086223e+13</td>\n",
       "      <td>1.003546e+12</td>\n",
       "      <td>5.505447</td>\n",
       "      <td>8.228574</td>\n",
       "      <td>4.030898</td>\n",
       "    </tr>\n",
       "    <tr>\n",
       "      <th>93</th>\n",
       "      <td>2017</td>\n",
       "      <td>Financial Services</td>\n",
       "      <td>3.547066e+12</td>\n",
       "      <td>1.085827e+12</td>\n",
       "      <td>1.773798e+11</td>\n",
       "      <td>2.318718e+13</td>\n",
       "      <td>1.086223e+13</td>\n",
       "      <td>1.003546e+12</td>\n",
       "      <td>15.297535</td>\n",
       "      <td>9.996358</td>\n",
       "      <td>17.675309</td>\n",
       "    </tr>\n",
       "    <tr>\n",
       "      <th>94</th>\n",
       "      <td>2017</td>\n",
       "      <td>Healthcare</td>\n",
       "      <td>3.704979e+12</td>\n",
       "      <td>2.124644e+12</td>\n",
       "      <td>1.283736e+11</td>\n",
       "      <td>2.318718e+13</td>\n",
       "      <td>1.086223e+13</td>\n",
       "      <td>1.003546e+12</td>\n",
       "      <td>15.978569</td>\n",
       "      <td>19.559922</td>\n",
       "      <td>12.791999</td>\n",
       "    </tr>\n",
       "    <tr>\n",
       "      <th>95</th>\n",
       "      <td>2017</td>\n",
       "      <td>Industrials</td>\n",
       "      <td>2.438342e+12</td>\n",
       "      <td>1.293586e+12</td>\n",
       "      <td>1.060693e+11</td>\n",
       "      <td>2.318718e+13</td>\n",
       "      <td>1.086223e+13</td>\n",
       "      <td>1.003546e+12</td>\n",
       "      <td>10.515909</td>\n",
       "      <td>11.909028</td>\n",
       "      <td>10.569457</td>\n",
       "    </tr>\n",
       "    <tr>\n",
       "      <th>96</th>\n",
       "      <td>2017</td>\n",
       "      <td>Real Estate</td>\n",
       "      <td>5.002766e+11</td>\n",
       "      <td>6.934762e+10</td>\n",
       "      <td>1.632791e+10</td>\n",
       "      <td>2.318718e+13</td>\n",
       "      <td>1.086223e+13</td>\n",
       "      <td>1.003546e+12</td>\n",
       "      <td>2.157557</td>\n",
       "      <td>0.638429</td>\n",
       "      <td>1.627022</td>\n",
       "    </tr>\n",
       "    <tr>\n",
       "      <th>97</th>\n",
       "      <td>2017</td>\n",
       "      <td>Technology</td>\n",
       "      <td>5.482390e+12</td>\n",
       "      <td>1.486621e+12</td>\n",
       "      <td>1.963699e+11</td>\n",
       "      <td>2.318718e+13</td>\n",
       "      <td>1.086223e+13</td>\n",
       "      <td>1.003546e+12</td>\n",
       "      <td>23.644064</td>\n",
       "      <td>13.686147</td>\n",
       "      <td>19.567604</td>\n",
       "    </tr>\n",
       "    <tr>\n",
       "      <th>98</th>\n",
       "      <td>2017</td>\n",
       "      <td>Utilities</td>\n",
       "      <td>7.045684e+11</td>\n",
       "      <td>3.161173e+11</td>\n",
       "      <td>2.794788e+10</td>\n",
       "      <td>2.318718e+13</td>\n",
       "      <td>1.086223e+13</td>\n",
       "      <td>1.003546e+12</td>\n",
       "      <td>3.038613</td>\n",
       "      <td>2.910243</td>\n",
       "      <td>2.784914</td>\n",
       "    </tr>\n",
       "    <tr>\n",
       "      <th>99</th>\n",
       "      <td>2018</td>\n",
       "      <td>Basic Materials</td>\n",
       "      <td>6.847114e+11</td>\n",
       "      <td>3.245454e+11</td>\n",
       "      <td>2.721966e+10</td>\n",
       "      <td>2.410115e+13</td>\n",
       "      <td>1.159142e+13</td>\n",
       "      <td>1.151396e+12</td>\n",
       "      <td>2.840991</td>\n",
       "      <td>2.799875</td>\n",
       "      <td>2.364057</td>\n",
       "    </tr>\n",
       "    <tr>\n",
       "      <th>100</th>\n",
       "      <td>2018</td>\n",
       "      <td>Communication Services</td>\n",
       "      <td>7.683077e+11</td>\n",
       "      <td>4.074174e+11</td>\n",
       "      <td>3.846518e+10</td>\n",
       "      <td>2.410115e+13</td>\n",
       "      <td>1.159142e+13</td>\n",
       "      <td>1.151396e+12</td>\n",
       "      <td>3.187847</td>\n",
       "      <td>3.514818</td>\n",
       "      <td>3.340743</td>\n",
       "    </tr>\n",
       "    <tr>\n",
       "      <th>101</th>\n",
       "      <td>2018</td>\n",
       "      <td>Consumer Cyclical</td>\n",
       "      <td>2.102306e+12</td>\n",
       "      <td>1.482062e+12</td>\n",
       "      <td>1.197020e+11</td>\n",
       "      <td>2.410115e+13</td>\n",
       "      <td>1.159142e+13</td>\n",
       "      <td>1.151396e+12</td>\n",
       "      <td>8.722848</td>\n",
       "      <td>12.785853</td>\n",
       "      <td>10.396248</td>\n",
       "    </tr>\n",
       "    <tr>\n",
       "      <th>102</th>\n",
       "      <td>2018</td>\n",
       "      <td>Consumer Defensive</td>\n",
       "      <td>1.911905e+12</td>\n",
       "      <td>1.493338e+12</td>\n",
       "      <td>7.676643e+10</td>\n",
       "      <td>2.410115e+13</td>\n",
       "      <td>1.159142e+13</td>\n",
       "      <td>1.151396e+12</td>\n",
       "      <td>7.932840</td>\n",
       "      <td>12.883128</td>\n",
       "      <td>6.667248</td>\n",
       "    </tr>\n",
       "    <tr>\n",
       "      <th>103</th>\n",
       "      <td>2018</td>\n",
       "      <td>Energy</td>\n",
       "      <td>1.218668e+12</td>\n",
       "      <td>1.068732e+12</td>\n",
       "      <td>7.118166e+10</td>\n",
       "      <td>2.410115e+13</td>\n",
       "      <td>1.159142e+13</td>\n",
       "      <td>1.151396e+12</td>\n",
       "      <td>5.056474</td>\n",
       "      <td>9.220027</td>\n",
       "      <td>6.182204</td>\n",
       "    </tr>\n",
       "    <tr>\n",
       "      <th>104</th>\n",
       "      <td>2018</td>\n",
       "      <td>Financial Services</td>\n",
       "      <td>3.391394e+12</td>\n",
       "      <td>1.159516e+12</td>\n",
       "      <td>2.551684e+11</td>\n",
       "      <td>2.410115e+13</td>\n",
       "      <td>1.159142e+13</td>\n",
       "      <td>1.151396e+12</td>\n",
       "      <td>14.071505</td>\n",
       "      <td>10.003221</td>\n",
       "      <td>22.161655</td>\n",
       "    </tr>\n",
       "    <tr>\n",
       "      <th>105</th>\n",
       "      <td>2018</td>\n",
       "      <td>Healthcare</td>\n",
       "      <td>3.916752e+12</td>\n",
       "      <td>2.106740e+12</td>\n",
       "      <td>1.287113e+11</td>\n",
       "      <td>2.410115e+13</td>\n",
       "      <td>1.159142e+13</td>\n",
       "      <td>1.151396e+12</td>\n",
       "      <td>16.251310</td>\n",
       "      <td>18.174989</td>\n",
       "      <td>11.178714</td>\n",
       "    </tr>\n",
       "    <tr>\n",
       "      <th>106</th>\n",
       "      <td>2018</td>\n",
       "      <td>Industrials</td>\n",
       "      <td>2.394213e+12</td>\n",
       "      <td>1.396410e+12</td>\n",
       "      <td>1.026832e+11</td>\n",
       "      <td>2.410115e+13</td>\n",
       "      <td>1.159142e+13</td>\n",
       "      <td>1.151396e+12</td>\n",
       "      <td>9.934020</td>\n",
       "      <td>12.046923</td>\n",
       "      <td>8.918146</td>\n",
       "    </tr>\n",
       "    <tr>\n",
       "      <th>107</th>\n",
       "      <td>2018</td>\n",
       "      <td>Real Estate</td>\n",
       "      <td>5.296103e+11</td>\n",
       "      <td>8.176633e+10</td>\n",
       "      <td>1.804700e+10</td>\n",
       "      <td>2.410115e+13</td>\n",
       "      <td>1.159142e+13</td>\n",
       "      <td>1.151396e+12</td>\n",
       "      <td>2.197448</td>\n",
       "      <td>0.705404</td>\n",
       "      <td>1.567402</td>\n",
       "    </tr>\n",
       "    <tr>\n",
       "      <th>108</th>\n",
       "      <td>2018</td>\n",
       "      <td>Technology</td>\n",
       "      <td>6.470230e+12</td>\n",
       "      <td>1.745915e+12</td>\n",
       "      <td>2.876692e+11</td>\n",
       "      <td>2.410115e+13</td>\n",
       "      <td>1.159142e+13</td>\n",
       "      <td>1.151396e+12</td>\n",
       "      <td>26.846150</td>\n",
       "      <td>15.062125</td>\n",
       "      <td>24.984386</td>\n",
       "    </tr>\n",
       "    <tr>\n",
       "      <th>109</th>\n",
       "      <td>2018</td>\n",
       "      <td>Utilities</td>\n",
       "      <td>7.130487e+11</td>\n",
       "      <td>3.249817e+11</td>\n",
       "      <td>2.578203e+10</td>\n",
       "      <td>2.410115e+13</td>\n",
       "      <td>1.159142e+13</td>\n",
       "      <td>1.151396e+12</td>\n",
       "      <td>2.958568</td>\n",
       "      <td>2.803639</td>\n",
       "      <td>2.239197</td>\n",
       "    </tr>\n",
       "  </tbody>\n",
       "</table>\n",
       "</div>"
      ],
      "text/plain": [
       "     year                  sector    Market Cap       Revenue    Net Income  \\\n",
       "0    2009         Basic Materials  2.238894e+11  2.188823e+11  5.859802e+09   \n",
       "1    2009  Communication Services  2.795924e+11  2.509090e+11  1.853613e+10   \n",
       "2    2009       Consumer Cyclical  5.168301e+11  4.982796e+11  2.341369e+10   \n",
       "3    2009      Consumer Defensive  7.713372e+11  5.881110e+11  5.252357e+10   \n",
       "4    2009                  Energy  1.033407e+12  1.026162e+12  4.281917e+10   \n",
       "5    2009      Financial Services  1.389071e+12  9.545676e+11  5.287795e+10   \n",
       "6    2009              Healthcare  9.203762e+11  8.559956e+11  7.830622e+10   \n",
       "7    2009             Industrials  9.850110e+11  9.764624e+11  4.906216e+10   \n",
       "8    2009             Real Estate  1.499598e+11  3.438135e+10  2.567748e+09   \n",
       "9    2009              Technology  1.516484e+12  6.307988e+11  7.449512e+10   \n",
       "10   2009               Utilities  3.162322e+11  2.662273e+11  2.292232e+10   \n",
       "11   2010         Basic Materials  2.312354e+11  1.725665e+11  1.506657e+10   \n",
       "12   2010  Communication Services  3.059946e+11  2.623609e+11  2.444755e+10   \n",
       "13   2010       Consumer Cyclical  8.116080e+11  6.148233e+11  4.201964e+10   \n",
       "14   2010      Consumer Defensive  1.062999e+12  1.206604e+12  8.095500e+10   \n",
       "15   2010                  Energy  1.131384e+12  1.092886e+12  5.540267e+10   \n",
       "16   2010      Financial Services  1.395098e+12  5.545866e+11  9.960512e+10   \n",
       "17   2010              Healthcare  1.211155e+12  8.279366e+11  5.161063e+10   \n",
       "18   2010             Industrials  1.169379e+12  8.721625e+11  6.320336e+10   \n",
       "19   2010             Real Estate  2.047961e+11  2.876882e+10  3.522414e+09   \n",
       "20   2010              Technology  1.674233e+12  7.000227e+11  1.072457e+11   \n",
       "21   2010               Utilities  3.696680e+11  2.069249e+11  1.923167e+10   \n",
       "22   2011         Basic Materials  2.541424e+11  2.487015e+11  2.066516e+10   \n",
       "23   2011  Communication Services  3.455591e+11  2.805477e+11  8.564039e+09   \n",
       "24   2011       Consumer Cyclical  9.372370e+11  9.900225e+11  8.988204e+10   \n",
       "25   2011      Consumer Defensive  1.175882e+12  1.317049e+12  8.246766e+10   \n",
       "26   2011                  Energy  1.217234e+12  1.278586e+12  9.268964e+10   \n",
       "27   2011      Financial Services  1.197854e+12  7.577012e+11  1.274083e+11   \n",
       "28   2011              Healthcare  1.311674e+12  9.697251e+11  7.080219e+10   \n",
       "29   2011             Industrials  1.216002e+12  1.084241e+12  7.789311e+10   \n",
       "30   2011             Real Estate  2.417991e+11  3.944500e+10  7.211697e+09   \n",
       "31   2011              Technology  1.799243e+12  8.830778e+11  1.413943e+11   \n",
       "32   2011               Utilities  4.303588e+11  2.264958e+11  2.288197e+10   \n",
       "33   2012         Basic Materials  2.836891e+11  2.504811e+11  1.880020e+10   \n",
       "34   2012  Communication Services  4.120200e+11  2.908658e+11  9.722085e+09   \n",
       "35   2012       Consumer Cyclical  1.080316e+12  1.123948e+12  7.008778e+10   \n",
       "36   2012      Consumer Defensive  1.276351e+12  1.361547e+12  7.922827e+10   \n",
       "37   2012                  Energy  1.121679e+12  1.436461e+12  1.170329e+11   \n",
       "38   2012      Financial Services  1.522748e+12  8.460999e+11  1.282232e+11   \n",
       "39   2012              Healthcare  1.582713e+12  1.348269e+12  1.078772e+11   \n",
       "40   2012             Industrials  1.259861e+12  1.202711e+12  8.201267e+10   \n",
       "41   2012             Real Estate  3.023236e+11  4.630594e+10  8.501170e+09   \n",
       "42   2012              Technology  1.884209e+12  9.927076e+11  1.364335e+11   \n",
       "43   2012               Utilities  3.974793e+11  2.787109e+11  1.936969e+10   \n",
       "44   2013         Basic Materials  4.189892e+11  2.834956e+11  2.660622e+10   \n",
       "45   2013  Communication Services  4.213921e+11  2.984977e+11  3.075332e+10   \n",
       "46   2013       Consumer Cyclical  1.463336e+12  1.242108e+12  8.994732e+10   \n",
       "47   2013      Consumer Defensive  1.506297e+12  1.429341e+12  8.678793e+10   \n",
       "48   2013                  Energy  1.352983e+12  1.402184e+12  1.051426e+11   \n",
       "49   2013      Financial Services  2.268036e+12  9.312118e+11  1.710702e+11   \n",
       "50   2013              Healthcare  2.126551e+12  1.460246e+12  1.104415e+11   \n",
       "51   2013             Industrials  1.710031e+12  1.226434e+12  1.019680e+11   \n",
       "52   2013             Real Estate  3.230289e+11  5.105078e+10  1.100124e+10   \n",
       "53   2013              Technology  2.391382e+12  1.104981e+12  1.662238e+11   \n",
       "54   2013               Utilities  4.459270e+11  2.907333e+11  2.382586e+10   \n",
       "55   2014         Basic Materials  4.293564e+11  2.980611e+11  2.636212e+10   \n",
       "56   2014  Communication Services  5.066597e+11  3.124401e+11  1.845011e+10   \n",
       "57   2014       Consumer Cyclical  1.691582e+12  1.281811e+12  9.071554e+10   \n",
       "58   2014      Consumer Defensive  1.610817e+12  1.430984e+12  8.117922e+10   \n",
       "59   2014                  Energy  1.308220e+12  1.349352e+12  9.419277e+10   \n",
       "60   2014      Financial Services  2.408402e+12  1.001000e+12  1.774239e+11   \n",
       "61   2014              Healthcare  2.662738e+12  1.580302e+12  1.150180e+11   \n",
       "62   2014             Industrials  1.994593e+12  1.231906e+12  1.044595e+11   \n",
       "63   2014             Real Estate  4.299271e+11  5.606528e+10  1.371365e+10   \n",
       "64   2014              Technology  3.318725e+12  1.186346e+12  1.706109e+11   \n",
       "65   2014               Utilities  5.459333e+11  3.137632e+11  2.654570e+10   \n",
       "66   2015         Basic Materials  4.467032e+11  2.712370e+11  1.603193e+10   \n",
       "67   2015  Communication Services  5.350431e+11  3.343334e+11  3.321015e+10   \n",
       "68   2015       Consumer Cyclical  1.881675e+12  1.323919e+12  1.060722e+11   \n",
       "69   2015      Consumer Defensive  1.711332e+12  1.442860e+12  7.451389e+10   \n",
       "70   2015                  Energy  1.197210e+12  9.016262e+11 -4.266637e+10   \n",
       "71   2015      Financial Services  2.582190e+12  1.000001e+12  2.009713e+11   \n",
       "72   2015              Healthcare  2.595812e+12  1.694424e+12  1.091289e+11   \n",
       "73   2015             Industrials  1.948850e+12  1.231664e+12  9.901303e+10   \n",
       "74   2015             Real Estate  4.583418e+11  6.118880e+10  1.497283e+10   \n",
       "75   2015              Technology  3.864214e+12  1.331348e+12  1.956118e+11   \n",
       "76   2015               Utilities  5.108203e+11  3.090999e+11  2.061168e+10   \n",
       "77   2016         Basic Materials  4.784872e+11  2.761491e+11  1.450316e+10   \n",
       "78   2016  Communication Services  6.618048e+11  3.675830e+11  3.254719e+10   \n",
       "79   2016       Consumer Cyclical  1.926570e+12  1.433727e+12  1.162908e+11   \n",
       "80   2016      Consumer Defensive  1.935582e+12  1.491620e+12  9.530438e+10   \n",
       "81   2016                  Energy  1.352110e+12  7.430258e+11 -2.430423e+10   \n",
       "82   2016      Financial Services  2.928697e+12  1.009377e+12  1.887786e+11   \n",
       "83   2016              Healthcare  2.776303e+12  1.946281e+12  1.420533e+11   \n",
       "84   2016             Industrials  2.128481e+12  1.242743e+12  1.020144e+11   \n",
       "85   2016             Real Estate  4.381675e+11  6.577578e+10  1.948998e+10   \n",
       "86   2016              Technology  4.044573e+12  1.360954e+12  2.051984e+11   \n",
       "87   2016               Utilities  5.657455e+11  3.076017e+11  1.585271e+10   \n",
       "88   2017         Basic Materials  7.345783e+11  3.021117e+11  2.732039e+10   \n",
       "89   2017  Communication Services  7.212918e+11  3.802927e+11  7.483517e+10   \n",
       "90   2017       Consumer Cyclical  2.139782e+12  1.419905e+12  1.089239e+11   \n",
       "91   2017      Consumer Defensive  1.937342e+12  1.489971e+12  9.954603e+10   \n",
       "92   2017                  Energy  1.276558e+12  8.938067e+11  4.045190e+10   \n",
       "93   2017      Financial Services  3.547066e+12  1.085827e+12  1.773798e+11   \n",
       "94   2017              Healthcare  3.704979e+12  2.124644e+12  1.283736e+11   \n",
       "95   2017             Industrials  2.438342e+12  1.293586e+12  1.060693e+11   \n",
       "96   2017             Real Estate  5.002766e+11  6.934762e+10  1.632791e+10   \n",
       "97   2017              Technology  5.482390e+12  1.486621e+12  1.963699e+11   \n",
       "98   2017               Utilities  7.045684e+11  3.161173e+11  2.794788e+10   \n",
       "99   2018         Basic Materials  6.847114e+11  3.245454e+11  2.721966e+10   \n",
       "100  2018  Communication Services  7.683077e+11  4.074174e+11  3.846518e+10   \n",
       "101  2018       Consumer Cyclical  2.102306e+12  1.482062e+12  1.197020e+11   \n",
       "102  2018      Consumer Defensive  1.911905e+12  1.493338e+12  7.676643e+10   \n",
       "103  2018                  Energy  1.218668e+12  1.068732e+12  7.118166e+10   \n",
       "104  2018      Financial Services  3.391394e+12  1.159516e+12  2.551684e+11   \n",
       "105  2018              Healthcare  3.916752e+12  2.106740e+12  1.287113e+11   \n",
       "106  2018             Industrials  2.394213e+12  1.396410e+12  1.026832e+11   \n",
       "107  2018             Real Estate  5.296103e+11  8.176633e+10  1.804700e+10   \n",
       "108  2018              Technology  6.470230e+12  1.745915e+12  2.876692e+11   \n",
       "109  2018               Utilities  7.130487e+11  3.249817e+11  2.578203e+10   \n",
       "\n",
       "     Sum_market_cap   Sum_revenue  Sum_net_income  Relative_market_cap  \\\n",
       "0      8.102190e+12  6.300777e+12    4.233839e+11             2.763320   \n",
       "1      8.102190e+12  6.300777e+12    4.233839e+11             3.450825   \n",
       "2      8.102190e+12  6.300777e+12    4.233839e+11             6.378894   \n",
       "3      8.102190e+12  6.300777e+12    4.233839e+11             9.520108   \n",
       "4      8.102190e+12  6.300777e+12    4.233839e+11            12.754662   \n",
       "5      8.102190e+12  6.300777e+12    4.233839e+11            17.144389   \n",
       "6      8.102190e+12  6.300777e+12    4.233839e+11            11.359598   \n",
       "7      8.102190e+12  6.300777e+12    4.233839e+11            12.157343   \n",
       "8      8.102190e+12  6.300777e+12    4.233839e+11             1.850855   \n",
       "9      8.102190e+12  6.300777e+12    4.233839e+11            18.716964   \n",
       "10     8.102190e+12  6.300777e+12    4.233839e+11             3.903045   \n",
       "11     9.567550e+12  6.539643e+12    5.623103e+11             2.416871   \n",
       "12     9.567550e+12  6.539643e+12    5.623103e+11             3.198254   \n",
       "13     9.567550e+12  6.539643e+12    5.623103e+11             8.482924   \n",
       "14     9.567550e+12  6.539643e+12    5.623103e+11            11.110456   \n",
       "15     9.567550e+12  6.539643e+12    5.623103e+11            11.825223   \n",
       "16     9.567550e+12  6.539643e+12    5.623103e+11            14.581554   \n",
       "17     9.567550e+12  6.539643e+12    5.623103e+11            12.658992   \n",
       "18     9.567550e+12  6.539643e+12    5.623103e+11            12.222347   \n",
       "19     9.567550e+12  6.539643e+12    5.623103e+11             2.140528   \n",
       "20     9.567550e+12  6.539643e+12    5.623103e+11            17.499082   \n",
       "21     9.567550e+12  6.539643e+12    5.623103e+11             3.863769   \n",
       "22     1.012699e+13  8.075593e+12    7.418601e+11             2.509557   \n",
       "23     1.012699e+13  8.075593e+12    7.418601e+11             3.412261   \n",
       "24     1.012699e+13  8.075593e+12    7.418601e+11             9.254847   \n",
       "25     1.012699e+13  8.075593e+12    7.418601e+11            11.611369   \n",
       "26     1.012699e+13  8.075593e+12    7.418601e+11            12.019710   \n",
       "27     1.012699e+13  8.075593e+12    7.418601e+11            11.828337   \n",
       "28     1.012699e+13  8.075593e+12    7.418601e+11            12.952263   \n",
       "29     1.012699e+13  8.075593e+12    7.418601e+11            12.007547   \n",
       "30     1.012699e+13  8.075593e+12    7.418601e+11             2.387672   \n",
       "31     1.012699e+13  8.075593e+12    7.418601e+11            17.766815   \n",
       "32     1.012699e+13  8.075593e+12    7.418601e+11             4.249625   \n",
       "33     1.112339e+13  9.178107e+12    7.772886e+11             2.550383   \n",
       "34     1.112339e+13  9.178107e+12    7.772886e+11             3.704087   \n",
       "35     1.112339e+13  9.178107e+12    7.772886e+11             9.712111   \n",
       "36     1.112339e+13  9.178107e+12    7.772886e+11            11.474479   \n",
       "37     1.112339e+13  9.178107e+12    7.772886e+11            10.083967   \n",
       "38     1.112339e+13  9.178107e+12    7.772886e+11            13.689606   \n",
       "39     1.112339e+13  9.178107e+12    7.772886e+11            14.228695   \n",
       "40     1.112339e+13  9.178107e+12    7.772886e+11            11.326235   \n",
       "41     1.112339e+13  9.178107e+12    7.772886e+11             2.717909   \n",
       "42     1.112339e+13  9.178107e+12    7.772886e+11            16.939163   \n",
       "43     1.112339e+13  9.178107e+12    7.772886e+11             3.573365   \n",
       "44     1.442795e+13  9.720284e+12    9.237680e+11             2.904010   \n",
       "45     1.442795e+13  9.720284e+12    9.237680e+11             2.920665   \n",
       "46     1.442795e+13  9.720284e+12    9.237680e+11            10.142370   \n",
       "47     1.442795e+13  9.720284e+12    9.237680e+11            10.440133   \n",
       "48     1.442795e+13  9.720284e+12    9.237680e+11             9.377510   \n",
       "49     1.442795e+13  9.720284e+12    9.237680e+11            15.719732   \n",
       "50     1.442795e+13  9.720284e+12    9.237680e+11            14.739103   \n",
       "51     1.442795e+13  9.720284e+12    9.237680e+11            11.852205   \n",
       "52     1.442795e+13  9.720284e+12    9.237680e+11             2.238910   \n",
       "53     1.442795e+13  9.720284e+12    9.237680e+11            16.574646   \n",
       "54     1.442795e+13  9.720284e+12    9.237680e+11             3.090716   \n",
       "55     1.690695e+13  1.004203e+13    9.186714e+11             2.539526   \n",
       "56     1.690695e+13  1.004203e+13    9.186714e+11             2.996754   \n",
       "57     1.690695e+13  1.004203e+13    9.186714e+11            10.005243   \n",
       "58     1.690695e+13  1.004203e+13    9.186714e+11             9.527542   \n",
       "59     1.690695e+13  1.004203e+13    9.186714e+11             7.737763   \n",
       "60     1.690695e+13  1.004203e+13    9.186714e+11            14.245040   \n",
       "61     1.690695e+13  1.004203e+13    9.186714e+11            15.749365   \n",
       "62     1.690695e+13  1.004203e+13    9.186714e+11            11.797470   \n",
       "63     1.690695e+13  1.004203e+13    9.186714e+11             2.542901   \n",
       "64     1.690695e+13  1.004203e+13    9.186714e+11            19.629351   \n",
       "65     1.690695e+13  1.004203e+13    9.186714e+11             3.229046   \n",
       "66     1.773219e+13  9.901700e+12    8.274714e+11             2.519165   \n",
       "67     1.773219e+13  9.901700e+12    8.274714e+11             3.017355   \n",
       "68     1.773219e+13  9.901700e+12    8.274714e+11            10.611632   \n",
       "69     1.773219e+13  9.901700e+12    8.274714e+11             9.650989   \n",
       "70     1.773219e+13  9.901700e+12    8.274714e+11             6.751616   \n",
       "71     1.773219e+13  9.901700e+12    8.274714e+11            14.562159   \n",
       "72     1.773219e+13  9.901700e+12    8.274714e+11            14.638983   \n",
       "73     1.773219e+13  9.901700e+12    8.274714e+11            10.990464   \n",
       "74     1.773219e+13  9.901700e+12    8.274714e+11             2.584801   \n",
       "75     1.773219e+13  9.901700e+12    8.274714e+11            21.792084   \n",
       "76     1.773219e+13  9.901700e+12    8.274714e+11             2.880751   \n",
       "77     1.923652e+13  1.024484e+13    9.077287e+11             2.487390   \n",
       "78     1.923652e+13  1.024484e+13    9.077287e+11             3.440356   \n",
       "79     1.923652e+13  1.024484e+13    9.077287e+11            10.015167   \n",
       "80     1.923652e+13  1.024484e+13    9.077287e+11            10.062017   \n",
       "81     1.923652e+13  1.024484e+13    9.077287e+11             7.028870   \n",
       "82     1.923652e+13  1.024484e+13    9.077287e+11            15.224668   \n",
       "83     1.923652e+13  1.024484e+13    9.077287e+11            14.432461   \n",
       "84     1.923652e+13  1.024484e+13    9.077287e+11            11.064793   \n",
       "85     1.923652e+13  1.024484e+13    9.077287e+11             2.277790   \n",
       "86     1.923652e+13  1.024484e+13    9.077287e+11            21.025490   \n",
       "87     1.923652e+13  1.024484e+13    9.077287e+11             2.940997   \n",
       "88     2.318718e+13  1.086223e+13    1.003546e+12             3.168037   \n",
       "89     2.318718e+13  1.086223e+13    1.003546e+12             3.110736   \n",
       "90     2.318718e+13  1.086223e+13    1.003546e+12             9.228302   \n",
       "91     2.318718e+13  1.086223e+13    1.003546e+12             8.355231   \n",
       "92     2.318718e+13  1.086223e+13    1.003546e+12             5.505447   \n",
       "93     2.318718e+13  1.086223e+13    1.003546e+12            15.297535   \n",
       "94     2.318718e+13  1.086223e+13    1.003546e+12            15.978569   \n",
       "95     2.318718e+13  1.086223e+13    1.003546e+12            10.515909   \n",
       "96     2.318718e+13  1.086223e+13    1.003546e+12             2.157557   \n",
       "97     2.318718e+13  1.086223e+13    1.003546e+12            23.644064   \n",
       "98     2.318718e+13  1.086223e+13    1.003546e+12             3.038613   \n",
       "99     2.410115e+13  1.159142e+13    1.151396e+12             2.840991   \n",
       "100    2.410115e+13  1.159142e+13    1.151396e+12             3.187847   \n",
       "101    2.410115e+13  1.159142e+13    1.151396e+12             8.722848   \n",
       "102    2.410115e+13  1.159142e+13    1.151396e+12             7.932840   \n",
       "103    2.410115e+13  1.159142e+13    1.151396e+12             5.056474   \n",
       "104    2.410115e+13  1.159142e+13    1.151396e+12            14.071505   \n",
       "105    2.410115e+13  1.159142e+13    1.151396e+12            16.251310   \n",
       "106    2.410115e+13  1.159142e+13    1.151396e+12             9.934020   \n",
       "107    2.410115e+13  1.159142e+13    1.151396e+12             2.197448   \n",
       "108    2.410115e+13  1.159142e+13    1.151396e+12            26.846150   \n",
       "109    2.410115e+13  1.159142e+13    1.151396e+12             2.958568   \n",
       "\n",
       "     Relative_revenue  Relative_net_income  \n",
       "0            3.473894             1.384040  \n",
       "1            3.982192             4.378090  \n",
       "2            7.908224             5.530134  \n",
       "3            9.333943            12.405662  \n",
       "4           16.286280            10.113558  \n",
       "5           15.149997            12.489362  \n",
       "6           13.585556            18.495325  \n",
       "7           15.497492            11.588103  \n",
       "8            0.545668             0.606482  \n",
       "9           10.011444            17.595170  \n",
       "10           4.225309             5.414074  \n",
       "11           2.638775             2.679405  \n",
       "12           4.011853             4.347697  \n",
       "13           9.401481             7.472678  \n",
       "14          18.450607            14.396855  \n",
       "15          16.711712             9.852687  \n",
       "16           8.480380            17.713551  \n",
       "17          12.660273             9.178319  \n",
       "18          13.336547            11.239943  \n",
       "19           0.439914             0.626418  \n",
       "20          10.704295            19.072329  \n",
       "21           3.164162             3.420117  \n",
       "22           3.079669             2.785586  \n",
       "23           3.474019             1.154401  \n",
       "24          12.259440            12.115767  \n",
       "25          16.309012            11.116336  \n",
       "26          15.832722            12.494220  \n",
       "27           9.382607            17.174173  \n",
       "28          12.008097             9.543873  \n",
       "29          13.426147            10.499703  \n",
       "30           0.488447             0.972110  \n",
       "31          10.935144            19.059426  \n",
       "32           2.804695             3.084405  \n",
       "33           2.729115             2.418690  \n",
       "34           3.169126             1.250769  \n",
       "35          12.245965             9.016957  \n",
       "36          14.834724            10.192903  \n",
       "37          15.650955            15.056553  \n",
       "38           9.218675            16.496220  \n",
       "39          14.690057            13.878650  \n",
       "40          13.104126            10.551123  \n",
       "41           0.504526             1.093695  \n",
       "42          10.816038            17.552484  \n",
       "43           3.036692             2.491956  \n",
       "44           2.916536             2.880184  \n",
       "45           3.070874             3.329117  \n",
       "46          12.778516             9.737003  \n",
       "47          14.704727             9.394992  \n",
       "48          14.425342            11.381929  \n",
       "49           9.580088            18.518736  \n",
       "50          15.022671            11.955549  \n",
       "51          12.617266            11.038270  \n",
       "52           0.525198             1.190909  \n",
       "53          11.367785            17.994106  \n",
       "54           2.990996             2.579204  \n",
       "55           2.968136             2.869592  \n",
       "56           3.111324             2.008347  \n",
       "57          12.764461             9.874645  \n",
       "58          14.249943             8.836590  \n",
       "59          13.437046            10.253151  \n",
       "60           9.968099            19.313101  \n",
       "61          15.736881            12.520039  \n",
       "62          12.267499            11.370712  \n",
       "63           0.558306             1.492770  \n",
       "64          11.813805            18.571479  \n",
       "65           3.124500             2.889575  \n",
       "66           2.739297             1.937460  \n",
       "67           3.376525             4.013450  \n",
       "68          13.370622            12.818838  \n",
       "69          14.571840             9.005011  \n",
       "70           9.105772            -5.156234  \n",
       "71          10.099283            24.287403  \n",
       "72          17.112453            13.188239  \n",
       "73          12.438912            11.965734  \n",
       "74           0.617963             1.809468  \n",
       "75          13.445648            23.639709  \n",
       "76           3.121686             2.490924  \n",
       "77           2.695495             1.597741  \n",
       "78           3.587983             3.585564  \n",
       "79          13.994632            12.811183  \n",
       "80          14.559724            10.499215  \n",
       "81           7.252685            -2.677478  \n",
       "82           9.852541            20.796814  \n",
       "83          18.997680            15.649309  \n",
       "84          12.130427            11.238426  \n",
       "85           0.642038             2.147115  \n",
       "86          13.284290            22.605695  \n",
       "87           3.002505             1.746415  \n",
       "88           2.781304             2.722386  \n",
       "89           3.501055             7.457076  \n",
       "90          13.071949            10.853903  \n",
       "91          13.716991             9.919431  \n",
       "92           8.228574             4.030898  \n",
       "93           9.996358            17.675309  \n",
       "94          19.559922            12.791999  \n",
       "95          11.909028            10.569457  \n",
       "96           0.638429             1.627022  \n",
       "97          13.686147            19.567604  \n",
       "98           2.910243             2.784914  \n",
       "99           2.799875             2.364057  \n",
       "100          3.514818             3.340743  \n",
       "101         12.785853            10.396248  \n",
       "102         12.883128             6.667248  \n",
       "103          9.220027             6.182204  \n",
       "104         10.003221            22.161655  \n",
       "105         18.174989            11.178714  \n",
       "106         12.046923             8.918146  \n",
       "107          0.705404             1.567402  \n",
       "108         15.062125            24.984386  \n",
       "109          2.803639             2.239197  "
      ]
     },
     "execution_count": 9,
     "metadata": {},
     "output_type": "execute_result"
    }
   ],
   "source": [
    "df_1"
   ]
  },
  {
   "cell_type": "markdown",
   "metadata": {},
   "source": [
    "## Market cap"
   ]
  },
  {
   "cell_type": "code",
   "execution_count": 14,
   "metadata": {
    "ExecuteTime": {
     "end_time": "2020-05-10T21:22:27.763004Z",
     "start_time": "2020-05-10T21:22:26.431915Z"
    }
   },
   "outputs": [
    {
     "data": {
      "application/vnd.plotly.v1+json": {
       "config": {
        "plotlyServerURL": "https://plot.ly"
       },
       "data": [
        {
         "hoverlabel": {
          "namelength": 0
         },
         "hovertemplate": "sector=Basic Materials<br>year=%{x}<br>Market Cap=%{y}",
         "legendgroup": "Basic Materials",
         "line": {
          "color": "#636efa"
         },
         "mode": "lines",
         "name": "Basic Materials",
         "orientation": "v",
         "showlegend": true,
         "stackgroup": "1",
         "type": "scatter",
         "x": [
          2009,
          2010,
          2011,
          2012,
          2013,
          2014,
          2015,
          2016,
          2017,
          2018
         ],
         "xaxis": "x",
         "y": [
          223889407967.457,
          231235378159.6296,
          254142414327.504,
          283689084944.672,
          418989244784.7688,
          429356410114.36,
          446703235138.22,
          478487222399.6067,
          734578265963.76,
          684711410461.38
         ],
         "yaxis": "y"
        },
        {
         "hoverlabel": {
          "namelength": 0
         },
         "hovertemplate": "sector=Communication Services<br>year=%{x}<br>Market Cap=%{y}",
         "legendgroup": "Communication Services",
         "line": {
          "color": "#EF553B"
         },
         "mode": "lines",
         "name": "Communication Services",
         "orientation": "v",
         "showlegend": true,
         "stackgroup": "1",
         "type": "scatter",
         "x": [
          2009,
          2010,
          2011,
          2012,
          2013,
          2014,
          2015,
          2016,
          2017,
          2018
         ],
         "xaxis": "x",
         "y": [
          279592371272.08,
          305994574375.86,
          345559139956.74,
          412020017365.0499,
          421392143243.6,
          506659716568.4,
          535043129368.18,
          661804842285,
          721291812663.05,
          768307653415.5
         ],
         "yaxis": "y"
        },
        {
         "hoverlabel": {
          "namelength": 0
         },
         "hovertemplate": "sector=Consumer Cyclical<br>year=%{x}<br>Market Cap=%{y}",
         "legendgroup": "Consumer Cyclical",
         "line": {
          "color": "#00cc96"
         },
         "mode": "lines",
         "name": "Consumer Cyclical",
         "orientation": "v",
         "showlegend": true,
         "stackgroup": "1",
         "type": "scatter",
         "x": [
          2009,
          2010,
          2011,
          2012,
          2013,
          2014,
          2015,
          2016,
          2017,
          2018
         ],
         "xaxis": "x",
         "y": [
          516830138368.00946,
          811608046162.2607,
          937236978350.8838,
          1080315961740.2839,
          1463336350408.04,
          1691581682622.847,
          1881674865525.4202,
          1926569668508.03,
          2139782439900.5398,
          2102306206128.4202
         ],
         "yaxis": "y"
        },
        {
         "hoverlabel": {
          "namelength": 0
         },
         "hovertemplate": "sector=Consumer Defensive<br>year=%{x}<br>Market Cap=%{y}",
         "legendgroup": "Consumer Defensive",
         "line": {
          "color": "#ab63fa"
         },
         "mode": "lines",
         "name": "Consumer Defensive",
         "orientation": "v",
         "showlegend": true,
         "stackgroup": "1",
         "type": "scatter",
         "x": [
          2009,
          2010,
          2011,
          2012,
          2013,
          2014,
          2015,
          2016,
          2017,
          2018
         ],
         "xaxis": "x",
         "y": [
          771337234509.86,
          1062998516315.0569,
          1175881634081.2695,
          1276350988886.8306,
          1506297411106.25,
          1610817022008.33,
          1711331795607.2,
          1935581965723.9,
          1937342072733,
          1911905195347.42
         ],
         "yaxis": "y"
        },
        {
         "hoverlabel": {
          "namelength": 0
         },
         "hovertemplate": "sector=Energy<br>year=%{x}<br>Market Cap=%{y}",
         "legendgroup": "Energy",
         "line": {
          "color": "#FFA15A"
         },
         "mode": "lines",
         "name": "Energy",
         "orientation": "v",
         "showlegend": true,
         "stackgroup": "1",
         "type": "scatter",
         "x": [
          2009,
          2010,
          2011,
          2012,
          2013,
          2014,
          2015,
          2016,
          2017,
          2018
         ],
         "xaxis": "x",
         "y": [
          1033406957105.8601,
          1131384152823.5647,
          1217234193935.292,
          1121678938328.58,
          1352982687927.07,
          1308219855996.34,
          1197209515972.77,
          1352110051693.5,
          1276557681159.62,
          1218668118241.14
         ],
         "yaxis": "y"
        },
        {
         "hoverlabel": {
          "namelength": 0
         },
         "hovertemplate": "sector=Financial Services<br>year=%{x}<br>Market Cap=%{y}",
         "legendgroup": "Financial Services",
         "line": {
          "color": "#19d3f3"
         },
         "mode": "lines",
         "name": "Financial Services",
         "orientation": "v",
         "showlegend": true,
         "stackgroup": "1",
         "type": "scatter",
         "x": [
          2009,
          2010,
          2011,
          2012,
          2013,
          2014,
          2015,
          2016,
          2017,
          2018
         ],
         "xaxis": "x",
         "y": [
          1389070989446.4524,
          1395097561379.0088,
          1197853915135.5352,
          1522748176077.0813,
          2268035557004.4805,
          2408402069039.03,
          2582189887615.8604,
          2928696511849.2007,
          3547066276043.7505,
          3391393863208.42
         ],
         "yaxis": "y"
        },
        {
         "hoverlabel": {
          "namelength": 0
         },
         "hovertemplate": "sector=Healthcare<br>year=%{x}<br>Market Cap=%{y}",
         "legendgroup": "Healthcare",
         "line": {
          "color": "#FF6692"
         },
         "mode": "lines",
         "name": "Healthcare",
         "orientation": "v",
         "showlegend": true,
         "stackgroup": "1",
         "type": "scatter",
         "x": [
          2009,
          2010,
          2011,
          2012,
          2013,
          2014,
          2015,
          2016,
          2017,
          2018
         ],
         "xaxis": "x",
         "y": [
          920376232796.9299,
          1211155425615.4502,
          1311673702810.6997,
          1582713162665.4497,
          2126550763946.58,
          2662737717476.3003,
          2595812340548.24,
          2776303456781.83,
          3704978874087.75,
          3916751849691.41
         ],
         "yaxis": "y"
        },
        {
         "hoverlabel": {
          "namelength": 0
         },
         "hovertemplate": "sector=Industrials<br>year=%{x}<br>Market Cap=%{y}",
         "legendgroup": "Industrials",
         "line": {
          "color": "#B6E880"
         },
         "mode": "lines",
         "name": "Industrials",
         "orientation": "v",
         "showlegend": true,
         "stackgroup": "1",
         "type": "scatter",
         "x": [
          2009,
          2010,
          2011,
          2012,
          2013,
          2014,
          2015,
          2016,
          2017,
          2018
         ],
         "xaxis": "x",
         "y": [
          985011043645.8236,
          1169379226004.2104,
          1216002473525.27,
          1259861240704.426,
          1710030532475.6836,
          1994592659967.9302,
          1948850114287.5298,
          2128481312256.8098,
          2438342142192.1997,
          2394212616487.55
         ],
         "yaxis": "y"
        },
        {
         "hoverlabel": {
          "namelength": 0
         },
         "hovertemplate": "sector=Real Estate<br>year=%{x}<br>Market Cap=%{y}",
         "legendgroup": "Real Estate",
         "line": {
          "color": "#FF97FF"
         },
         "mode": "lines",
         "name": "Real Estate",
         "orientation": "v",
         "showlegend": true,
         "stackgroup": "1",
         "type": "scatter",
         "x": [
          2009,
          2010,
          2011,
          2012,
          2013,
          2014,
          2015,
          2016,
          2017,
          2018
         ],
         "xaxis": "x",
         "y": [
          149959774187.22,
          204796075253.2348,
          241799139599.76,
          302323605203.58,
          323028922774.11005,
          429927070298.64996,
          458341841643.82,
          438167507989.51996,
          500276627001.5101,
          529610255040.36
         ],
         "yaxis": "y"
        },
        {
         "hoverlabel": {
          "namelength": 0
         },
         "hovertemplate": "sector=Technology<br>year=%{x}<br>Market Cap=%{y}",
         "legendgroup": "Technology",
         "line": {
          "color": "#FECB52"
         },
         "mode": "lines",
         "name": "Technology",
         "orientation": "v",
         "showlegend": true,
         "stackgroup": "1",
         "type": "scatter",
         "x": [
          2009,
          2010,
          2011,
          2012,
          2013,
          2014,
          2015,
          2016,
          2017,
          2018
         ],
         "xaxis": "x",
         "y": [
          1516484015681.0603,
          1674233487848.0498,
          1799242665485.7302,
          1884209086784.26,
          2391382073557.134,
          3318724992787.0024,
          3864213908197.9395,
          4044572817285.8706,
          5482390457379.281,
          6470229553620.52
         ],
         "yaxis": "y"
        },
        {
         "hoverlabel": {
          "namelength": 0
         },
         "hovertemplate": "sector=Utilities<br>year=%{x}<br>Market Cap=%{y}",
         "legendgroup": "Utilities",
         "line": {
          "color": "#636efa"
         },
         "mode": "lines",
         "name": "Utilities",
         "orientation": "v",
         "showlegend": true,
         "stackgroup": "1",
         "type": "scatter",
         "x": [
          2009,
          2010,
          2011,
          2012,
          2013,
          2014,
          2015,
          2016,
          2017,
          2018
         ],
         "xaxis": "x",
         "y": [
          316232172845.64996,
          369668001230.37994,
          430358841140.2899,
          397479302418.66003,
          445926986665.9,
          545933317978.94,
          510820273433.85,
          565745542666.24,
          704568399796.5901,
          713048692433.63
         ],
         "yaxis": "y"
        }
       ],
       "layout": {
        "legend": {
         "title": {
          "text": "sector"
         },
         "tracegroupgap": 0
        },
        "template": {
         "data": {
          "bar": [
           {
            "error_x": {
             "color": "#2a3f5f"
            },
            "error_y": {
             "color": "#2a3f5f"
            },
            "marker": {
             "line": {
              "color": "#E5ECF6",
              "width": 0.5
             }
            },
            "type": "bar"
           }
          ],
          "barpolar": [
           {
            "marker": {
             "line": {
              "color": "#E5ECF6",
              "width": 0.5
             }
            },
            "type": "barpolar"
           }
          ],
          "carpet": [
           {
            "aaxis": {
             "endlinecolor": "#2a3f5f",
             "gridcolor": "white",
             "linecolor": "white",
             "minorgridcolor": "white",
             "startlinecolor": "#2a3f5f"
            },
            "baxis": {
             "endlinecolor": "#2a3f5f",
             "gridcolor": "white",
             "linecolor": "white",
             "minorgridcolor": "white",
             "startlinecolor": "#2a3f5f"
            },
            "type": "carpet"
           }
          ],
          "choropleth": [
           {
            "colorbar": {
             "outlinewidth": 0,
             "ticks": ""
            },
            "type": "choropleth"
           }
          ],
          "contour": [
           {
            "colorbar": {
             "outlinewidth": 0,
             "ticks": ""
            },
            "colorscale": [
             [
              0,
              "#0d0887"
             ],
             [
              0.1111111111111111,
              "#46039f"
             ],
             [
              0.2222222222222222,
              "#7201a8"
             ],
             [
              0.3333333333333333,
              "#9c179e"
             ],
             [
              0.4444444444444444,
              "#bd3786"
             ],
             [
              0.5555555555555556,
              "#d8576b"
             ],
             [
              0.6666666666666666,
              "#ed7953"
             ],
             [
              0.7777777777777778,
              "#fb9f3a"
             ],
             [
              0.8888888888888888,
              "#fdca26"
             ],
             [
              1,
              "#f0f921"
             ]
            ],
            "type": "contour"
           }
          ],
          "contourcarpet": [
           {
            "colorbar": {
             "outlinewidth": 0,
             "ticks": ""
            },
            "type": "contourcarpet"
           }
          ],
          "heatmap": [
           {
            "colorbar": {
             "outlinewidth": 0,
             "ticks": ""
            },
            "colorscale": [
             [
              0,
              "#0d0887"
             ],
             [
              0.1111111111111111,
              "#46039f"
             ],
             [
              0.2222222222222222,
              "#7201a8"
             ],
             [
              0.3333333333333333,
              "#9c179e"
             ],
             [
              0.4444444444444444,
              "#bd3786"
             ],
             [
              0.5555555555555556,
              "#d8576b"
             ],
             [
              0.6666666666666666,
              "#ed7953"
             ],
             [
              0.7777777777777778,
              "#fb9f3a"
             ],
             [
              0.8888888888888888,
              "#fdca26"
             ],
             [
              1,
              "#f0f921"
             ]
            ],
            "type": "heatmap"
           }
          ],
          "heatmapgl": [
           {
            "colorbar": {
             "outlinewidth": 0,
             "ticks": ""
            },
            "colorscale": [
             [
              0,
              "#0d0887"
             ],
             [
              0.1111111111111111,
              "#46039f"
             ],
             [
              0.2222222222222222,
              "#7201a8"
             ],
             [
              0.3333333333333333,
              "#9c179e"
             ],
             [
              0.4444444444444444,
              "#bd3786"
             ],
             [
              0.5555555555555556,
              "#d8576b"
             ],
             [
              0.6666666666666666,
              "#ed7953"
             ],
             [
              0.7777777777777778,
              "#fb9f3a"
             ],
             [
              0.8888888888888888,
              "#fdca26"
             ],
             [
              1,
              "#f0f921"
             ]
            ],
            "type": "heatmapgl"
           }
          ],
          "histogram": [
           {
            "marker": {
             "colorbar": {
              "outlinewidth": 0,
              "ticks": ""
             }
            },
            "type": "histogram"
           }
          ],
          "histogram2d": [
           {
            "colorbar": {
             "outlinewidth": 0,
             "ticks": ""
            },
            "colorscale": [
             [
              0,
              "#0d0887"
             ],
             [
              0.1111111111111111,
              "#46039f"
             ],
             [
              0.2222222222222222,
              "#7201a8"
             ],
             [
              0.3333333333333333,
              "#9c179e"
             ],
             [
              0.4444444444444444,
              "#bd3786"
             ],
             [
              0.5555555555555556,
              "#d8576b"
             ],
             [
              0.6666666666666666,
              "#ed7953"
             ],
             [
              0.7777777777777778,
              "#fb9f3a"
             ],
             [
              0.8888888888888888,
              "#fdca26"
             ],
             [
              1,
              "#f0f921"
             ]
            ],
            "type": "histogram2d"
           }
          ],
          "histogram2dcontour": [
           {
            "colorbar": {
             "outlinewidth": 0,
             "ticks": ""
            },
            "colorscale": [
             [
              0,
              "#0d0887"
             ],
             [
              0.1111111111111111,
              "#46039f"
             ],
             [
              0.2222222222222222,
              "#7201a8"
             ],
             [
              0.3333333333333333,
              "#9c179e"
             ],
             [
              0.4444444444444444,
              "#bd3786"
             ],
             [
              0.5555555555555556,
              "#d8576b"
             ],
             [
              0.6666666666666666,
              "#ed7953"
             ],
             [
              0.7777777777777778,
              "#fb9f3a"
             ],
             [
              0.8888888888888888,
              "#fdca26"
             ],
             [
              1,
              "#f0f921"
             ]
            ],
            "type": "histogram2dcontour"
           }
          ],
          "mesh3d": [
           {
            "colorbar": {
             "outlinewidth": 0,
             "ticks": ""
            },
            "type": "mesh3d"
           }
          ],
          "parcoords": [
           {
            "line": {
             "colorbar": {
              "outlinewidth": 0,
              "ticks": ""
             }
            },
            "type": "parcoords"
           }
          ],
          "pie": [
           {
            "automargin": true,
            "type": "pie"
           }
          ],
          "scatter": [
           {
            "marker": {
             "colorbar": {
              "outlinewidth": 0,
              "ticks": ""
             }
            },
            "type": "scatter"
           }
          ],
          "scatter3d": [
           {
            "line": {
             "colorbar": {
              "outlinewidth": 0,
              "ticks": ""
             }
            },
            "marker": {
             "colorbar": {
              "outlinewidth": 0,
              "ticks": ""
             }
            },
            "type": "scatter3d"
           }
          ],
          "scattercarpet": [
           {
            "marker": {
             "colorbar": {
              "outlinewidth": 0,
              "ticks": ""
             }
            },
            "type": "scattercarpet"
           }
          ],
          "scattergeo": [
           {
            "marker": {
             "colorbar": {
              "outlinewidth": 0,
              "ticks": ""
             }
            },
            "type": "scattergeo"
           }
          ],
          "scattergl": [
           {
            "marker": {
             "colorbar": {
              "outlinewidth": 0,
              "ticks": ""
             }
            },
            "type": "scattergl"
           }
          ],
          "scattermapbox": [
           {
            "marker": {
             "colorbar": {
              "outlinewidth": 0,
              "ticks": ""
             }
            },
            "type": "scattermapbox"
           }
          ],
          "scatterpolar": [
           {
            "marker": {
             "colorbar": {
              "outlinewidth": 0,
              "ticks": ""
             }
            },
            "type": "scatterpolar"
           }
          ],
          "scatterpolargl": [
           {
            "marker": {
             "colorbar": {
              "outlinewidth": 0,
              "ticks": ""
             }
            },
            "type": "scatterpolargl"
           }
          ],
          "scatterternary": [
           {
            "marker": {
             "colorbar": {
              "outlinewidth": 0,
              "ticks": ""
             }
            },
            "type": "scatterternary"
           }
          ],
          "surface": [
           {
            "colorbar": {
             "outlinewidth": 0,
             "ticks": ""
            },
            "colorscale": [
             [
              0,
              "#0d0887"
             ],
             [
              0.1111111111111111,
              "#46039f"
             ],
             [
              0.2222222222222222,
              "#7201a8"
             ],
             [
              0.3333333333333333,
              "#9c179e"
             ],
             [
              0.4444444444444444,
              "#bd3786"
             ],
             [
              0.5555555555555556,
              "#d8576b"
             ],
             [
              0.6666666666666666,
              "#ed7953"
             ],
             [
              0.7777777777777778,
              "#fb9f3a"
             ],
             [
              0.8888888888888888,
              "#fdca26"
             ],
             [
              1,
              "#f0f921"
             ]
            ],
            "type": "surface"
           }
          ],
          "table": [
           {
            "cells": {
             "fill": {
              "color": "#EBF0F8"
             },
             "line": {
              "color": "white"
             }
            },
            "header": {
             "fill": {
              "color": "#C8D4E3"
             },
             "line": {
              "color": "white"
             }
            },
            "type": "table"
           }
          ]
         },
         "layout": {
          "annotationdefaults": {
           "arrowcolor": "#2a3f5f",
           "arrowhead": 0,
           "arrowwidth": 1
          },
          "coloraxis": {
           "colorbar": {
            "outlinewidth": 0,
            "ticks": ""
           }
          },
          "colorscale": {
           "diverging": [
            [
             0,
             "#8e0152"
            ],
            [
             0.1,
             "#c51b7d"
            ],
            [
             0.2,
             "#de77ae"
            ],
            [
             0.3,
             "#f1b6da"
            ],
            [
             0.4,
             "#fde0ef"
            ],
            [
             0.5,
             "#f7f7f7"
            ],
            [
             0.6,
             "#e6f5d0"
            ],
            [
             0.7,
             "#b8e186"
            ],
            [
             0.8,
             "#7fbc41"
            ],
            [
             0.9,
             "#4d9221"
            ],
            [
             1,
             "#276419"
            ]
           ],
           "sequential": [
            [
             0,
             "#0d0887"
            ],
            [
             0.1111111111111111,
             "#46039f"
            ],
            [
             0.2222222222222222,
             "#7201a8"
            ],
            [
             0.3333333333333333,
             "#9c179e"
            ],
            [
             0.4444444444444444,
             "#bd3786"
            ],
            [
             0.5555555555555556,
             "#d8576b"
            ],
            [
             0.6666666666666666,
             "#ed7953"
            ],
            [
             0.7777777777777778,
             "#fb9f3a"
            ],
            [
             0.8888888888888888,
             "#fdca26"
            ],
            [
             1,
             "#f0f921"
            ]
           ],
           "sequentialminus": [
            [
             0,
             "#0d0887"
            ],
            [
             0.1111111111111111,
             "#46039f"
            ],
            [
             0.2222222222222222,
             "#7201a8"
            ],
            [
             0.3333333333333333,
             "#9c179e"
            ],
            [
             0.4444444444444444,
             "#bd3786"
            ],
            [
             0.5555555555555556,
             "#d8576b"
            ],
            [
             0.6666666666666666,
             "#ed7953"
            ],
            [
             0.7777777777777778,
             "#fb9f3a"
            ],
            [
             0.8888888888888888,
             "#fdca26"
            ],
            [
             1,
             "#f0f921"
            ]
           ]
          },
          "colorway": [
           "#636efa",
           "#EF553B",
           "#00cc96",
           "#ab63fa",
           "#FFA15A",
           "#19d3f3",
           "#FF6692",
           "#B6E880",
           "#FF97FF",
           "#FECB52"
          ],
          "font": {
           "color": "#2a3f5f"
          },
          "geo": {
           "bgcolor": "white",
           "lakecolor": "white",
           "landcolor": "#E5ECF6",
           "showlakes": true,
           "showland": true,
           "subunitcolor": "white"
          },
          "hoverlabel": {
           "align": "left"
          },
          "hovermode": "closest",
          "mapbox": {
           "style": "light"
          },
          "paper_bgcolor": "white",
          "plot_bgcolor": "#E5ECF6",
          "polar": {
           "angularaxis": {
            "gridcolor": "white",
            "linecolor": "white",
            "ticks": ""
           },
           "bgcolor": "#E5ECF6",
           "radialaxis": {
            "gridcolor": "white",
            "linecolor": "white",
            "ticks": ""
           }
          },
          "scene": {
           "xaxis": {
            "backgroundcolor": "#E5ECF6",
            "gridcolor": "white",
            "gridwidth": 2,
            "linecolor": "white",
            "showbackground": true,
            "ticks": "",
            "zerolinecolor": "white"
           },
           "yaxis": {
            "backgroundcolor": "#E5ECF6",
            "gridcolor": "white",
            "gridwidth": 2,
            "linecolor": "white",
            "showbackground": true,
            "ticks": "",
            "zerolinecolor": "white"
           },
           "zaxis": {
            "backgroundcolor": "#E5ECF6",
            "gridcolor": "white",
            "gridwidth": 2,
            "linecolor": "white",
            "showbackground": true,
            "ticks": "",
            "zerolinecolor": "white"
           }
          },
          "shapedefaults": {
           "line": {
            "color": "#2a3f5f"
           }
          },
          "ternary": {
           "aaxis": {
            "gridcolor": "white",
            "linecolor": "white",
            "ticks": ""
           },
           "baxis": {
            "gridcolor": "white",
            "linecolor": "white",
            "ticks": ""
           },
           "bgcolor": "#E5ECF6",
           "caxis": {
            "gridcolor": "white",
            "linecolor": "white",
            "ticks": ""
           }
          },
          "title": {
           "x": 0.05
          },
          "xaxis": {
           "automargin": true,
           "gridcolor": "white",
           "linecolor": "white",
           "ticks": "",
           "title": {
            "standoff": 15
           },
           "zerolinecolor": "white",
           "zerolinewidth": 2
          },
          "yaxis": {
           "automargin": true,
           "gridcolor": "white",
           "linecolor": "white",
           "ticks": "",
           "title": {
            "standoff": 15
           },
           "zerolinecolor": "white",
           "zerolinewidth": 2
          }
         }
        },
        "title": {
         "text": "Evolution of market cap"
        },
        "xaxis": {
         "anchor": "y",
         "domain": [
          0,
          1
         ],
         "title": {
          "text": "year"
         }
        },
        "yaxis": {
         "anchor": "x",
         "domain": [
          0,
          1
         ],
         "title": {
          "text": "Market Cap"
         }
        }
       }
      },
      "text/html": [
       "<div>\n",
       "        \n",
       "        \n",
       "            <div id=\"79569b77-aca1-4ca3-a81e-9eac78907af7\" class=\"plotly-graph-div\" style=\"height:525px; width:100%;\"></div>\n",
       "            <script type=\"text/javascript\">\n",
       "                require([\"plotly\"], function(Plotly) {\n",
       "                    window.PLOTLYENV=window.PLOTLYENV || {};\n",
       "                    \n",
       "                if (document.getElementById(\"79569b77-aca1-4ca3-a81e-9eac78907af7\")) {\n",
       "                    Plotly.newPlot(\n",
       "                        '79569b77-aca1-4ca3-a81e-9eac78907af7',\n",
       "                        [{\"hoverlabel\": {\"namelength\": 0}, \"hovertemplate\": \"sector=Basic Materials<br>year=%{x}<br>Market Cap=%{y}\", \"legendgroup\": \"Basic Materials\", \"line\": {\"color\": \"#636efa\"}, \"mode\": \"lines\", \"name\": \"Basic Materials\", \"orientation\": \"v\", \"showlegend\": true, \"stackgroup\": \"1\", \"type\": \"scatter\", \"x\": [2009, 2010, 2011, 2012, 2013, 2014, 2015, 2016, 2017, 2018], \"xaxis\": \"x\", \"y\": [223889407967.457, 231235378159.6296, 254142414327.504, 283689084944.672, 418989244784.7688, 429356410114.36, 446703235138.22, 478487222399.6067, 734578265963.76, 684711410461.38], \"yaxis\": \"y\"}, {\"hoverlabel\": {\"namelength\": 0}, \"hovertemplate\": \"sector=Communication Services<br>year=%{x}<br>Market Cap=%{y}\", \"legendgroup\": \"Communication Services\", \"line\": {\"color\": \"#EF553B\"}, \"mode\": \"lines\", \"name\": \"Communication Services\", \"orientation\": \"v\", \"showlegend\": true, \"stackgroup\": \"1\", \"type\": \"scatter\", \"x\": [2009, 2010, 2011, 2012, 2013, 2014, 2015, 2016, 2017, 2018], \"xaxis\": \"x\", \"y\": [279592371272.08, 305994574375.86, 345559139956.74, 412020017365.0499, 421392143243.6, 506659716568.4, 535043129368.18, 661804842285.0, 721291812663.05, 768307653415.5], \"yaxis\": \"y\"}, {\"hoverlabel\": {\"namelength\": 0}, \"hovertemplate\": \"sector=Consumer Cyclical<br>year=%{x}<br>Market Cap=%{y}\", \"legendgroup\": \"Consumer Cyclical\", \"line\": {\"color\": \"#00cc96\"}, \"mode\": \"lines\", \"name\": \"Consumer Cyclical\", \"orientation\": \"v\", \"showlegend\": true, \"stackgroup\": \"1\", \"type\": \"scatter\", \"x\": [2009, 2010, 2011, 2012, 2013, 2014, 2015, 2016, 2017, 2018], \"xaxis\": \"x\", \"y\": [516830138368.00946, 811608046162.2607, 937236978350.8838, 1080315961740.2839, 1463336350408.04, 1691581682622.847, 1881674865525.4202, 1926569668508.03, 2139782439900.5398, 2102306206128.4202], \"yaxis\": \"y\"}, {\"hoverlabel\": {\"namelength\": 0}, \"hovertemplate\": \"sector=Consumer Defensive<br>year=%{x}<br>Market Cap=%{y}\", \"legendgroup\": \"Consumer Defensive\", \"line\": {\"color\": \"#ab63fa\"}, \"mode\": \"lines\", \"name\": \"Consumer Defensive\", \"orientation\": \"v\", \"showlegend\": true, \"stackgroup\": \"1\", \"type\": \"scatter\", \"x\": [2009, 2010, 2011, 2012, 2013, 2014, 2015, 2016, 2017, 2018], \"xaxis\": \"x\", \"y\": [771337234509.86, 1062998516315.0569, 1175881634081.2695, 1276350988886.8306, 1506297411106.25, 1610817022008.33, 1711331795607.2, 1935581965723.9, 1937342072733.0, 1911905195347.42], \"yaxis\": \"y\"}, {\"hoverlabel\": {\"namelength\": 0}, \"hovertemplate\": \"sector=Energy<br>year=%{x}<br>Market Cap=%{y}\", \"legendgroup\": \"Energy\", \"line\": {\"color\": \"#FFA15A\"}, \"mode\": \"lines\", \"name\": \"Energy\", \"orientation\": \"v\", \"showlegend\": true, \"stackgroup\": \"1\", \"type\": \"scatter\", \"x\": [2009, 2010, 2011, 2012, 2013, 2014, 2015, 2016, 2017, 2018], \"xaxis\": \"x\", \"y\": [1033406957105.8601, 1131384152823.5647, 1217234193935.292, 1121678938328.58, 1352982687927.07, 1308219855996.34, 1197209515972.77, 1352110051693.5, 1276557681159.62, 1218668118241.14], \"yaxis\": \"y\"}, {\"hoverlabel\": {\"namelength\": 0}, \"hovertemplate\": \"sector=Financial Services<br>year=%{x}<br>Market Cap=%{y}\", \"legendgroup\": \"Financial Services\", \"line\": {\"color\": \"#19d3f3\"}, \"mode\": \"lines\", \"name\": \"Financial Services\", \"orientation\": \"v\", \"showlegend\": true, \"stackgroup\": \"1\", \"type\": \"scatter\", \"x\": [2009, 2010, 2011, 2012, 2013, 2014, 2015, 2016, 2017, 2018], \"xaxis\": \"x\", \"y\": [1389070989446.4524, 1395097561379.0088, 1197853915135.5352, 1522748176077.0813, 2268035557004.4805, 2408402069039.03, 2582189887615.8604, 2928696511849.2007, 3547066276043.7505, 3391393863208.42], \"yaxis\": \"y\"}, {\"hoverlabel\": {\"namelength\": 0}, \"hovertemplate\": \"sector=Healthcare<br>year=%{x}<br>Market Cap=%{y}\", \"legendgroup\": \"Healthcare\", \"line\": {\"color\": \"#FF6692\"}, \"mode\": \"lines\", \"name\": \"Healthcare\", \"orientation\": \"v\", \"showlegend\": true, \"stackgroup\": \"1\", \"type\": \"scatter\", \"x\": [2009, 2010, 2011, 2012, 2013, 2014, 2015, 2016, 2017, 2018], \"xaxis\": \"x\", \"y\": [920376232796.9299, 1211155425615.4502, 1311673702810.6997, 1582713162665.4497, 2126550763946.58, 2662737717476.3003, 2595812340548.24, 2776303456781.83, 3704978874087.75, 3916751849691.41], \"yaxis\": \"y\"}, {\"hoverlabel\": {\"namelength\": 0}, \"hovertemplate\": \"sector=Industrials<br>year=%{x}<br>Market Cap=%{y}\", \"legendgroup\": \"Industrials\", \"line\": {\"color\": \"#B6E880\"}, \"mode\": \"lines\", \"name\": \"Industrials\", \"orientation\": \"v\", \"showlegend\": true, \"stackgroup\": \"1\", \"type\": \"scatter\", \"x\": [2009, 2010, 2011, 2012, 2013, 2014, 2015, 2016, 2017, 2018], \"xaxis\": \"x\", \"y\": [985011043645.8236, 1169379226004.2104, 1216002473525.27, 1259861240704.426, 1710030532475.6836, 1994592659967.9302, 1948850114287.5298, 2128481312256.8098, 2438342142192.1997, 2394212616487.55], \"yaxis\": \"y\"}, {\"hoverlabel\": {\"namelength\": 0}, \"hovertemplate\": \"sector=Real Estate<br>year=%{x}<br>Market Cap=%{y}\", \"legendgroup\": \"Real Estate\", \"line\": {\"color\": \"#FF97FF\"}, \"mode\": \"lines\", \"name\": \"Real Estate\", \"orientation\": \"v\", \"showlegend\": true, \"stackgroup\": \"1\", \"type\": \"scatter\", \"x\": [2009, 2010, 2011, 2012, 2013, 2014, 2015, 2016, 2017, 2018], \"xaxis\": \"x\", \"y\": [149959774187.22, 204796075253.2348, 241799139599.76, 302323605203.58, 323028922774.11005, 429927070298.64996, 458341841643.82, 438167507989.51996, 500276627001.5101, 529610255040.36], \"yaxis\": \"y\"}, {\"hoverlabel\": {\"namelength\": 0}, \"hovertemplate\": \"sector=Technology<br>year=%{x}<br>Market Cap=%{y}\", \"legendgroup\": \"Technology\", \"line\": {\"color\": \"#FECB52\"}, \"mode\": \"lines\", \"name\": \"Technology\", \"orientation\": \"v\", \"showlegend\": true, \"stackgroup\": \"1\", \"type\": \"scatter\", \"x\": [2009, 2010, 2011, 2012, 2013, 2014, 2015, 2016, 2017, 2018], \"xaxis\": \"x\", \"y\": [1516484015681.0603, 1674233487848.0498, 1799242665485.7302, 1884209086784.26, 2391382073557.134, 3318724992787.0024, 3864213908197.9395, 4044572817285.8706, 5482390457379.281, 6470229553620.52], \"yaxis\": \"y\"}, {\"hoverlabel\": {\"namelength\": 0}, \"hovertemplate\": \"sector=Utilities<br>year=%{x}<br>Market Cap=%{y}\", \"legendgroup\": \"Utilities\", \"line\": {\"color\": \"#636efa\"}, \"mode\": \"lines\", \"name\": \"Utilities\", \"orientation\": \"v\", \"showlegend\": true, \"stackgroup\": \"1\", \"type\": \"scatter\", \"x\": [2009, 2010, 2011, 2012, 2013, 2014, 2015, 2016, 2017, 2018], \"xaxis\": \"x\", \"y\": [316232172845.64996, 369668001230.37994, 430358841140.2899, 397479302418.66003, 445926986665.9, 545933317978.94, 510820273433.85, 565745542666.24, 704568399796.5901, 713048692433.63], \"yaxis\": \"y\"}],\n",
       "                        {\"legend\": {\"title\": {\"text\": \"sector\"}, \"tracegroupgap\": 0}, \"template\": {\"data\": {\"bar\": [{\"error_x\": {\"color\": \"#2a3f5f\"}, \"error_y\": {\"color\": \"#2a3f5f\"}, \"marker\": {\"line\": {\"color\": \"#E5ECF6\", \"width\": 0.5}}, \"type\": \"bar\"}], \"barpolar\": [{\"marker\": {\"line\": {\"color\": \"#E5ECF6\", \"width\": 0.5}}, \"type\": \"barpolar\"}], \"carpet\": [{\"aaxis\": {\"endlinecolor\": \"#2a3f5f\", \"gridcolor\": \"white\", \"linecolor\": \"white\", \"minorgridcolor\": \"white\", \"startlinecolor\": \"#2a3f5f\"}, \"baxis\": {\"endlinecolor\": \"#2a3f5f\", \"gridcolor\": \"white\", \"linecolor\": \"white\", \"minorgridcolor\": \"white\", \"startlinecolor\": \"#2a3f5f\"}, \"type\": \"carpet\"}], \"choropleth\": [{\"colorbar\": {\"outlinewidth\": 0, \"ticks\": \"\"}, \"type\": \"choropleth\"}], \"contour\": [{\"colorbar\": {\"outlinewidth\": 0, \"ticks\": \"\"}, \"colorscale\": [[0.0, \"#0d0887\"], [0.1111111111111111, \"#46039f\"], [0.2222222222222222, \"#7201a8\"], [0.3333333333333333, \"#9c179e\"], [0.4444444444444444, \"#bd3786\"], [0.5555555555555556, \"#d8576b\"], [0.6666666666666666, \"#ed7953\"], [0.7777777777777778, \"#fb9f3a\"], [0.8888888888888888, \"#fdca26\"], [1.0, \"#f0f921\"]], \"type\": \"contour\"}], \"contourcarpet\": [{\"colorbar\": {\"outlinewidth\": 0, \"ticks\": \"\"}, \"type\": \"contourcarpet\"}], \"heatmap\": [{\"colorbar\": {\"outlinewidth\": 0, \"ticks\": \"\"}, \"colorscale\": [[0.0, \"#0d0887\"], [0.1111111111111111, \"#46039f\"], [0.2222222222222222, \"#7201a8\"], [0.3333333333333333, \"#9c179e\"], [0.4444444444444444, \"#bd3786\"], [0.5555555555555556, \"#d8576b\"], [0.6666666666666666, \"#ed7953\"], [0.7777777777777778, \"#fb9f3a\"], [0.8888888888888888, \"#fdca26\"], [1.0, \"#f0f921\"]], \"type\": \"heatmap\"}], \"heatmapgl\": [{\"colorbar\": {\"outlinewidth\": 0, \"ticks\": \"\"}, \"colorscale\": [[0.0, \"#0d0887\"], [0.1111111111111111, \"#46039f\"], [0.2222222222222222, \"#7201a8\"], [0.3333333333333333, \"#9c179e\"], [0.4444444444444444, \"#bd3786\"], [0.5555555555555556, \"#d8576b\"], [0.6666666666666666, \"#ed7953\"], [0.7777777777777778, \"#fb9f3a\"], [0.8888888888888888, \"#fdca26\"], [1.0, \"#f0f921\"]], \"type\": \"heatmapgl\"}], \"histogram\": [{\"marker\": {\"colorbar\": {\"outlinewidth\": 0, \"ticks\": \"\"}}, \"type\": \"histogram\"}], \"histogram2d\": [{\"colorbar\": {\"outlinewidth\": 0, \"ticks\": \"\"}, \"colorscale\": [[0.0, \"#0d0887\"], [0.1111111111111111, \"#46039f\"], [0.2222222222222222, \"#7201a8\"], [0.3333333333333333, \"#9c179e\"], [0.4444444444444444, \"#bd3786\"], [0.5555555555555556, \"#d8576b\"], [0.6666666666666666, \"#ed7953\"], [0.7777777777777778, \"#fb9f3a\"], [0.8888888888888888, \"#fdca26\"], [1.0, \"#f0f921\"]], \"type\": \"histogram2d\"}], \"histogram2dcontour\": [{\"colorbar\": {\"outlinewidth\": 0, \"ticks\": \"\"}, \"colorscale\": [[0.0, \"#0d0887\"], [0.1111111111111111, \"#46039f\"], [0.2222222222222222, \"#7201a8\"], [0.3333333333333333, \"#9c179e\"], [0.4444444444444444, \"#bd3786\"], [0.5555555555555556, \"#d8576b\"], [0.6666666666666666, \"#ed7953\"], [0.7777777777777778, \"#fb9f3a\"], [0.8888888888888888, \"#fdca26\"], [1.0, \"#f0f921\"]], \"type\": \"histogram2dcontour\"}], \"mesh3d\": [{\"colorbar\": {\"outlinewidth\": 0, \"ticks\": \"\"}, \"type\": \"mesh3d\"}], \"parcoords\": [{\"line\": {\"colorbar\": {\"outlinewidth\": 0, \"ticks\": \"\"}}, \"type\": \"parcoords\"}], \"pie\": [{\"automargin\": true, \"type\": \"pie\"}], \"scatter\": [{\"marker\": {\"colorbar\": {\"outlinewidth\": 0, \"ticks\": \"\"}}, \"type\": \"scatter\"}], \"scatter3d\": [{\"line\": {\"colorbar\": {\"outlinewidth\": 0, \"ticks\": \"\"}}, \"marker\": {\"colorbar\": {\"outlinewidth\": 0, \"ticks\": \"\"}}, \"type\": \"scatter3d\"}], \"scattercarpet\": [{\"marker\": {\"colorbar\": {\"outlinewidth\": 0, \"ticks\": \"\"}}, \"type\": \"scattercarpet\"}], \"scattergeo\": [{\"marker\": {\"colorbar\": {\"outlinewidth\": 0, \"ticks\": \"\"}}, \"type\": \"scattergeo\"}], \"scattergl\": [{\"marker\": {\"colorbar\": {\"outlinewidth\": 0, \"ticks\": \"\"}}, \"type\": \"scattergl\"}], \"scattermapbox\": [{\"marker\": {\"colorbar\": {\"outlinewidth\": 0, \"ticks\": \"\"}}, \"type\": \"scattermapbox\"}], \"scatterpolar\": [{\"marker\": {\"colorbar\": {\"outlinewidth\": 0, \"ticks\": \"\"}}, \"type\": \"scatterpolar\"}], \"scatterpolargl\": [{\"marker\": {\"colorbar\": {\"outlinewidth\": 0, \"ticks\": \"\"}}, \"type\": \"scatterpolargl\"}], \"scatterternary\": [{\"marker\": {\"colorbar\": {\"outlinewidth\": 0, \"ticks\": \"\"}}, \"type\": \"scatterternary\"}], \"surface\": [{\"colorbar\": {\"outlinewidth\": 0, \"ticks\": \"\"}, \"colorscale\": [[0.0, \"#0d0887\"], [0.1111111111111111, \"#46039f\"], [0.2222222222222222, \"#7201a8\"], [0.3333333333333333, \"#9c179e\"], [0.4444444444444444, \"#bd3786\"], [0.5555555555555556, \"#d8576b\"], [0.6666666666666666, \"#ed7953\"], [0.7777777777777778, \"#fb9f3a\"], [0.8888888888888888, \"#fdca26\"], [1.0, \"#f0f921\"]], \"type\": \"surface\"}], \"table\": [{\"cells\": {\"fill\": {\"color\": \"#EBF0F8\"}, \"line\": {\"color\": \"white\"}}, \"header\": {\"fill\": {\"color\": \"#C8D4E3\"}, \"line\": {\"color\": \"white\"}}, \"type\": \"table\"}]}, \"layout\": {\"annotationdefaults\": {\"arrowcolor\": \"#2a3f5f\", \"arrowhead\": 0, \"arrowwidth\": 1}, \"coloraxis\": {\"colorbar\": {\"outlinewidth\": 0, \"ticks\": \"\"}}, \"colorscale\": {\"diverging\": [[0, \"#8e0152\"], [0.1, \"#c51b7d\"], [0.2, \"#de77ae\"], [0.3, \"#f1b6da\"], [0.4, \"#fde0ef\"], [0.5, \"#f7f7f7\"], [0.6, \"#e6f5d0\"], [0.7, \"#b8e186\"], [0.8, \"#7fbc41\"], [0.9, \"#4d9221\"], [1, \"#276419\"]], \"sequential\": [[0.0, \"#0d0887\"], [0.1111111111111111, \"#46039f\"], [0.2222222222222222, \"#7201a8\"], [0.3333333333333333, \"#9c179e\"], [0.4444444444444444, \"#bd3786\"], [0.5555555555555556, \"#d8576b\"], [0.6666666666666666, \"#ed7953\"], [0.7777777777777778, \"#fb9f3a\"], [0.8888888888888888, \"#fdca26\"], [1.0, \"#f0f921\"]], \"sequentialminus\": [[0.0, \"#0d0887\"], [0.1111111111111111, \"#46039f\"], [0.2222222222222222, \"#7201a8\"], [0.3333333333333333, \"#9c179e\"], [0.4444444444444444, \"#bd3786\"], [0.5555555555555556, \"#d8576b\"], [0.6666666666666666, \"#ed7953\"], [0.7777777777777778, \"#fb9f3a\"], [0.8888888888888888, \"#fdca26\"], [1.0, \"#f0f921\"]]}, \"colorway\": [\"#636efa\", \"#EF553B\", \"#00cc96\", \"#ab63fa\", \"#FFA15A\", \"#19d3f3\", \"#FF6692\", \"#B6E880\", \"#FF97FF\", \"#FECB52\"], \"font\": {\"color\": \"#2a3f5f\"}, \"geo\": {\"bgcolor\": \"white\", \"lakecolor\": \"white\", \"landcolor\": \"#E5ECF6\", \"showlakes\": true, \"showland\": true, \"subunitcolor\": \"white\"}, \"hoverlabel\": {\"align\": \"left\"}, \"hovermode\": \"closest\", \"mapbox\": {\"style\": \"light\"}, \"paper_bgcolor\": \"white\", \"plot_bgcolor\": \"#E5ECF6\", \"polar\": {\"angularaxis\": {\"gridcolor\": \"white\", \"linecolor\": \"white\", \"ticks\": \"\"}, \"bgcolor\": \"#E5ECF6\", \"radialaxis\": {\"gridcolor\": \"white\", \"linecolor\": \"white\", \"ticks\": \"\"}}, \"scene\": {\"xaxis\": {\"backgroundcolor\": \"#E5ECF6\", \"gridcolor\": \"white\", \"gridwidth\": 2, \"linecolor\": \"white\", \"showbackground\": true, \"ticks\": \"\", \"zerolinecolor\": \"white\"}, \"yaxis\": {\"backgroundcolor\": \"#E5ECF6\", \"gridcolor\": \"white\", \"gridwidth\": 2, \"linecolor\": \"white\", \"showbackground\": true, \"ticks\": \"\", \"zerolinecolor\": \"white\"}, \"zaxis\": {\"backgroundcolor\": \"#E5ECF6\", \"gridcolor\": \"white\", \"gridwidth\": 2, \"linecolor\": \"white\", \"showbackground\": true, \"ticks\": \"\", \"zerolinecolor\": \"white\"}}, \"shapedefaults\": {\"line\": {\"color\": \"#2a3f5f\"}}, \"ternary\": {\"aaxis\": {\"gridcolor\": \"white\", \"linecolor\": \"white\", \"ticks\": \"\"}, \"baxis\": {\"gridcolor\": \"white\", \"linecolor\": \"white\", \"ticks\": \"\"}, \"bgcolor\": \"#E5ECF6\", \"caxis\": {\"gridcolor\": \"white\", \"linecolor\": \"white\", \"ticks\": \"\"}}, \"title\": {\"x\": 0.05}, \"xaxis\": {\"automargin\": true, \"gridcolor\": \"white\", \"linecolor\": \"white\", \"ticks\": \"\", \"title\": {\"standoff\": 15}, \"zerolinecolor\": \"white\", \"zerolinewidth\": 2}, \"yaxis\": {\"automargin\": true, \"gridcolor\": \"white\", \"linecolor\": \"white\", \"ticks\": \"\", \"title\": {\"standoff\": 15}, \"zerolinecolor\": \"white\", \"zerolinewidth\": 2}}}, \"title\": {\"text\": \"Evolution of market cap\"}, \"xaxis\": {\"anchor\": \"y\", \"domain\": [0.0, 1.0], \"title\": {\"text\": \"year\"}}, \"yaxis\": {\"anchor\": \"x\", \"domain\": [0.0, 1.0], \"title\": {\"text\": \"Market Cap\"}}},\n",
       "                        {\"responsive\": true}\n",
       "                    ).then(function(){\n",
       "                            \n",
       "var gd = document.getElementById('79569b77-aca1-4ca3-a81e-9eac78907af7');\n",
       "var x = new MutationObserver(function (mutations, observer) {{\n",
       "        var display = window.getComputedStyle(gd).display;\n",
       "        if (!display || display === 'none') {{\n",
       "            console.log([gd, 'removed!']);\n",
       "            Plotly.purge(gd);\n",
       "            observer.disconnect();\n",
       "        }}\n",
       "}});\n",
       "\n",
       "// Listen for the removal of the full notebook cells\n",
       "var notebookContainer = gd.closest('#notebook-container');\n",
       "if (notebookContainer) {{\n",
       "    x.observe(notebookContainer, {childList: true});\n",
       "}}\n",
       "\n",
       "// Listen for the clearing of the current output cell\n",
       "var outputEl = gd.closest('.output');\n",
       "if (outputEl) {{\n",
       "    x.observe(outputEl, {childList: true});\n",
       "}}\n",
       "\n",
       "                        })\n",
       "                };\n",
       "                });\n",
       "            </script>\n",
       "        </div>"
      ]
     },
     "metadata": {},
     "output_type": "display_data"
    },
    {
     "data": {
      "application/vnd.plotly.v1+json": {
       "config": {
        "plotlyServerURL": "https://plot.ly"
       },
       "data": [
        {
         "alignmentgroup": "True",
         "hoverlabel": {
          "namelength": 0
         },
         "hovertemplate": "sector=Basic Materials<br>year=%{x}<br>Relative_market_cap=%{y}",
         "legendgroup": "Basic Materials",
         "marker": {
          "color": "#636efa"
         },
         "name": "Basic Materials",
         "offsetgroup": "Basic Materials",
         "orientation": "v",
         "showlegend": true,
         "textposition": "auto",
         "type": "bar",
         "x": [
          2009,
          2010,
          2011,
          2012,
          2013,
          2014,
          2015,
          2016,
          2017,
          2018
         ],
         "xaxis": "x",
         "y": [
          2.7633195300558744,
          2.4168712721702357,
          2.5095565151857233,
          2.550383435587606,
          2.904010390489435,
          2.5395257349722486,
          2.5191654966524055,
          2.4873896111512988,
          3.1680369187446207,
          2.840991159123455
         ],
         "yaxis": "y"
        },
        {
         "alignmentgroup": "True",
         "hoverlabel": {
          "namelength": 0
         },
         "hovertemplate": "sector=Communication Services<br>year=%{x}<br>Relative_market_cap=%{y}",
         "legendgroup": "Communication Services",
         "marker": {
          "color": "#EF553B"
         },
         "name": "Communication Services",
         "offsetgroup": "Communication Services",
         "orientation": "v",
         "showlegend": true,
         "textposition": "auto",
         "type": "bar",
         "x": [
          2009,
          2010,
          2011,
          2012,
          2013,
          2014,
          2015,
          2016,
          2017,
          2018
         ],
         "xaxis": "x",
         "y": [
          3.4508245253972527,
          3.19825409993465,
          3.412260772587464,
          3.7040869148112656,
          2.9206648563942132,
          2.9967536498558123,
          3.0173548895570224,
          3.440356214851111,
          3.1107360475833956,
          3.187847051313946
         ],
         "yaxis": "y"
        },
        {
         "alignmentgroup": "True",
         "hoverlabel": {
          "namelength": 0
         },
         "hovertemplate": "sector=Consumer Cyclical<br>year=%{x}<br>Relative_market_cap=%{y}",
         "legendgroup": "Consumer Cyclical",
         "marker": {
          "color": "#00cc96"
         },
         "name": "Consumer Cyclical",
         "offsetgroup": "Consumer Cyclical",
         "orientation": "v",
         "showlegend": true,
         "textposition": "auto",
         "type": "bar",
         "x": [
          2009,
          2010,
          2011,
          2012,
          2013,
          2014,
          2015,
          2016,
          2017,
          2018
         ],
         "xaxis": "x",
         "y": [
          6.378894062203196,
          8.482924138354196,
          9.254847017634932,
          9.712111181720882,
          10.142370047108944,
          10.005242997732767,
          10.611632117871173,
          10.015166872322345,
          9.2283015735464,
          8.722847690469576
         ],
         "yaxis": "y"
        },
        {
         "alignmentgroup": "True",
         "hoverlabel": {
          "namelength": 0
         },
         "hovertemplate": "sector=Consumer Defensive<br>year=%{x}<br>Relative_market_cap=%{y}",
         "legendgroup": "Consumer Defensive",
         "marker": {
          "color": "#ab63fa"
         },
         "name": "Consumer Defensive",
         "offsetgroup": "Consumer Defensive",
         "orientation": "v",
         "showlegend": true,
         "textposition": "auto",
         "type": "bar",
         "x": [
          2009,
          2010,
          2011,
          2012,
          2013,
          2014,
          2015,
          2016,
          2017,
          2018
         ],
         "xaxis": "x",
         "y": [
          9.520107555468622,
          11.110456353559735,
          11.611369254142344,
          11.474478902449468,
          10.440132741991809,
          9.527542119685469,
          9.650989009479426,
          10.062016805649595,
          8.3552311510373,
          7.932839549736975
         ],
         "yaxis": "y"
        },
        {
         "alignmentgroup": "True",
         "hoverlabel": {
          "namelength": 0
         },
         "hovertemplate": "sector=Energy<br>year=%{x}<br>Relative_market_cap=%{y}",
         "legendgroup": "Energy",
         "marker": {
          "color": "#FFA15A"
         },
         "name": "Energy",
         "offsetgroup": "Energy",
         "orientation": "v",
         "showlegend": true,
         "textposition": "auto",
         "type": "bar",
         "x": [
          2009,
          2010,
          2011,
          2012,
          2013,
          2014,
          2015,
          2016,
          2017,
          2018
         ],
         "xaxis": "x",
         "y": [
          12.754661567023803,
          11.825222760075569,
          12.019709539552307,
          10.083967047652285,
          9.377509883125683,
          7.737762644371618,
          6.75161643718412,
          7.028870026767139,
          5.505447207200953,
          5.056473861733573
         ],
         "yaxis": "y"
        },
        {
         "alignmentgroup": "True",
         "hoverlabel": {
          "namelength": 0
         },
         "hovertemplate": "sector=Financial Services<br>year=%{x}<br>Relative_market_cap=%{y}",
         "legendgroup": "Financial Services",
         "marker": {
          "color": "#19d3f3"
         },
         "name": "Financial Services",
         "offsetgroup": "Financial Services",
         "orientation": "v",
         "showlegend": true,
         "textposition": "auto",
         "type": "bar",
         "x": [
          2009,
          2010,
          2011,
          2012,
          2013,
          2014,
          2015,
          2016,
          2017,
          2018
         ],
         "xaxis": "x",
         "y": [
          17.14438851135534,
          14.58155427948413,
          11.828336898914014,
          13.689605737195162,
          15.719732440683247,
          14.245039529876738,
          14.562159301742792,
          15.22466836471731,
          15.29753524765322,
          14.071504922034746
         ],
         "yaxis": "y"
        },
        {
         "alignmentgroup": "True",
         "hoverlabel": {
          "namelength": 0
         },
         "hovertemplate": "sector=Healthcare<br>year=%{x}<br>Relative_market_cap=%{y}",
         "legendgroup": "Healthcare",
         "marker": {
          "color": "#FF6692"
         },
         "name": "Healthcare",
         "offsetgroup": "Healthcare",
         "orientation": "v",
         "showlegend": true,
         "textposition": "auto",
         "type": "bar",
         "x": [
          2009,
          2010,
          2011,
          2012,
          2013,
          2014,
          2015,
          2016,
          2017,
          2018
         ],
         "xaxis": "x",
         "y": [
          11.359597768272646,
          12.65899179269336,
          12.952262594170747,
          14.228694890167102,
          14.739102712711464,
          15.749365328472056,
          14.638982594496435,
          14.432461416984829,
          15.978569473300935,
          16.251309978835764
         ],
         "yaxis": "y"
        },
        {
         "alignmentgroup": "True",
         "hoverlabel": {
          "namelength": 0
         },
         "hovertemplate": "sector=Industrials<br>year=%{x}<br>Relative_market_cap=%{y}",
         "legendgroup": "Industrials",
         "marker": {
          "color": "#B6E880"
         },
         "name": "Industrials",
         "offsetgroup": "Industrials",
         "orientation": "v",
         "showlegend": true,
         "textposition": "auto",
         "type": "bar",
         "x": [
          2009,
          2010,
          2011,
          2012,
          2013,
          2014,
          2015,
          2016,
          2017,
          2018
         ],
         "xaxis": "x",
         "y": [
          12.157342676179036,
          12.22234711701941,
          12.007546784319036,
          11.326234987356232,
          11.85220502954564,
          11.797470053902659,
          10.990464316966811,
          11.064793490380202,
          10.515908630731026,
          9.934020044911485
         ],
         "yaxis": "y"
        },
        {
         "alignmentgroup": "True",
         "hoverlabel": {
          "namelength": 0
         },
         "hovertemplate": "sector=Real Estate<br>year=%{x}<br>Relative_market_cap=%{y}",
         "legendgroup": "Real Estate",
         "marker": {
          "color": "#FF97FF"
         },
         "name": "Real Estate",
         "offsetgroup": "Real Estate",
         "orientation": "v",
         "showlegend": true,
         "textposition": "auto",
         "type": "bar",
         "x": [
          2009,
          2010,
          2011,
          2012,
          2013,
          2014,
          2015,
          2016,
          2017,
          2018
         ],
         "xaxis": "x",
         "y": [
          1.8508547434032527,
          2.140527781138513,
          2.3876715256466716,
          2.71790899198224,
          2.2389103296589585,
          2.54290103388427,
          2.5848009647477945,
          2.277789784754096,
          2.157557468497177,
          2.1974484861248658
         ],
         "yaxis": "y"
        },
        {
         "alignmentgroup": "True",
         "hoverlabel": {
          "namelength": 0
         },
         "hovertemplate": "sector=Technology<br>year=%{x}<br>Relative_market_cap=%{y}",
         "legendgroup": "Technology",
         "marker": {
          "color": "#FECB52"
         },
         "name": "Technology",
         "offsetgroup": "Technology",
         "orientation": "v",
         "showlegend": true,
         "textposition": "auto",
         "type": "bar",
         "x": [
          2009,
          2010,
          2011,
          2012,
          2013,
          2014,
          2015,
          2016,
          2017,
          2018
         ],
         "xaxis": "x",
         "y": [
          18.716963591945085,
          17.499081896075417,
          17.766814585113444,
          16.939162975041626,
          16.574645950178187,
          19.629350646548797,
          21.79208383437047,
          21.02549020391581,
          23.64406378013862,
          26.84614960184309
         ],
         "yaxis": "y"
        },
        {
         "alignmentgroup": "True",
         "hoverlabel": {
          "namelength": 0
         },
         "hovertemplate": "sector=Utilities<br>year=%{x}<br>Relative_market_cap=%{y}",
         "legendgroup": "Utilities",
         "marker": {
          "color": "#636efa"
         },
         "name": "Utilities",
         "offsetgroup": "Utilities",
         "orientation": "v",
         "showlegend": true,
         "textposition": "auto",
         "type": "bar",
         "x": [
          2009,
          2010,
          2011,
          2012,
          2013,
          2014,
          2015,
          2016,
          2017,
          2018
         ],
         "xaxis": "x",
         "y": [
          3.903045468695894,
          3.863768509494792,
          4.249624512733335,
          3.5733649360361337,
          3.0907156181124305,
          3.2290462606975687,
          2.880751036931543,
          2.940997208506264,
          3.0386125015663574,
          2.9585676538725396
         ],
         "yaxis": "y"
        }
       ],
       "layout": {
        "barmode": "relative",
        "legend": {
         "title": {
          "text": "sector"
         },
         "tracegroupgap": 0
        },
        "template": {
         "data": {
          "bar": [
           {
            "error_x": {
             "color": "#2a3f5f"
            },
            "error_y": {
             "color": "#2a3f5f"
            },
            "marker": {
             "line": {
              "color": "#E5ECF6",
              "width": 0.5
             }
            },
            "type": "bar"
           }
          ],
          "barpolar": [
           {
            "marker": {
             "line": {
              "color": "#E5ECF6",
              "width": 0.5
             }
            },
            "type": "barpolar"
           }
          ],
          "carpet": [
           {
            "aaxis": {
             "endlinecolor": "#2a3f5f",
             "gridcolor": "white",
             "linecolor": "white",
             "minorgridcolor": "white",
             "startlinecolor": "#2a3f5f"
            },
            "baxis": {
             "endlinecolor": "#2a3f5f",
             "gridcolor": "white",
             "linecolor": "white",
             "minorgridcolor": "white",
             "startlinecolor": "#2a3f5f"
            },
            "type": "carpet"
           }
          ],
          "choropleth": [
           {
            "colorbar": {
             "outlinewidth": 0,
             "ticks": ""
            },
            "type": "choropleth"
           }
          ],
          "contour": [
           {
            "colorbar": {
             "outlinewidth": 0,
             "ticks": ""
            },
            "colorscale": [
             [
              0,
              "#0d0887"
             ],
             [
              0.1111111111111111,
              "#46039f"
             ],
             [
              0.2222222222222222,
              "#7201a8"
             ],
             [
              0.3333333333333333,
              "#9c179e"
             ],
             [
              0.4444444444444444,
              "#bd3786"
             ],
             [
              0.5555555555555556,
              "#d8576b"
             ],
             [
              0.6666666666666666,
              "#ed7953"
             ],
             [
              0.7777777777777778,
              "#fb9f3a"
             ],
             [
              0.8888888888888888,
              "#fdca26"
             ],
             [
              1,
              "#f0f921"
             ]
            ],
            "type": "contour"
           }
          ],
          "contourcarpet": [
           {
            "colorbar": {
             "outlinewidth": 0,
             "ticks": ""
            },
            "type": "contourcarpet"
           }
          ],
          "heatmap": [
           {
            "colorbar": {
             "outlinewidth": 0,
             "ticks": ""
            },
            "colorscale": [
             [
              0,
              "#0d0887"
             ],
             [
              0.1111111111111111,
              "#46039f"
             ],
             [
              0.2222222222222222,
              "#7201a8"
             ],
             [
              0.3333333333333333,
              "#9c179e"
             ],
             [
              0.4444444444444444,
              "#bd3786"
             ],
             [
              0.5555555555555556,
              "#d8576b"
             ],
             [
              0.6666666666666666,
              "#ed7953"
             ],
             [
              0.7777777777777778,
              "#fb9f3a"
             ],
             [
              0.8888888888888888,
              "#fdca26"
             ],
             [
              1,
              "#f0f921"
             ]
            ],
            "type": "heatmap"
           }
          ],
          "heatmapgl": [
           {
            "colorbar": {
             "outlinewidth": 0,
             "ticks": ""
            },
            "colorscale": [
             [
              0,
              "#0d0887"
             ],
             [
              0.1111111111111111,
              "#46039f"
             ],
             [
              0.2222222222222222,
              "#7201a8"
             ],
             [
              0.3333333333333333,
              "#9c179e"
             ],
             [
              0.4444444444444444,
              "#bd3786"
             ],
             [
              0.5555555555555556,
              "#d8576b"
             ],
             [
              0.6666666666666666,
              "#ed7953"
             ],
             [
              0.7777777777777778,
              "#fb9f3a"
             ],
             [
              0.8888888888888888,
              "#fdca26"
             ],
             [
              1,
              "#f0f921"
             ]
            ],
            "type": "heatmapgl"
           }
          ],
          "histogram": [
           {
            "marker": {
             "colorbar": {
              "outlinewidth": 0,
              "ticks": ""
             }
            },
            "type": "histogram"
           }
          ],
          "histogram2d": [
           {
            "colorbar": {
             "outlinewidth": 0,
             "ticks": ""
            },
            "colorscale": [
             [
              0,
              "#0d0887"
             ],
             [
              0.1111111111111111,
              "#46039f"
             ],
             [
              0.2222222222222222,
              "#7201a8"
             ],
             [
              0.3333333333333333,
              "#9c179e"
             ],
             [
              0.4444444444444444,
              "#bd3786"
             ],
             [
              0.5555555555555556,
              "#d8576b"
             ],
             [
              0.6666666666666666,
              "#ed7953"
             ],
             [
              0.7777777777777778,
              "#fb9f3a"
             ],
             [
              0.8888888888888888,
              "#fdca26"
             ],
             [
              1,
              "#f0f921"
             ]
            ],
            "type": "histogram2d"
           }
          ],
          "histogram2dcontour": [
           {
            "colorbar": {
             "outlinewidth": 0,
             "ticks": ""
            },
            "colorscale": [
             [
              0,
              "#0d0887"
             ],
             [
              0.1111111111111111,
              "#46039f"
             ],
             [
              0.2222222222222222,
              "#7201a8"
             ],
             [
              0.3333333333333333,
              "#9c179e"
             ],
             [
              0.4444444444444444,
              "#bd3786"
             ],
             [
              0.5555555555555556,
              "#d8576b"
             ],
             [
              0.6666666666666666,
              "#ed7953"
             ],
             [
              0.7777777777777778,
              "#fb9f3a"
             ],
             [
              0.8888888888888888,
              "#fdca26"
             ],
             [
              1,
              "#f0f921"
             ]
            ],
            "type": "histogram2dcontour"
           }
          ],
          "mesh3d": [
           {
            "colorbar": {
             "outlinewidth": 0,
             "ticks": ""
            },
            "type": "mesh3d"
           }
          ],
          "parcoords": [
           {
            "line": {
             "colorbar": {
              "outlinewidth": 0,
              "ticks": ""
             }
            },
            "type": "parcoords"
           }
          ],
          "pie": [
           {
            "automargin": true,
            "type": "pie"
           }
          ],
          "scatter": [
           {
            "marker": {
             "colorbar": {
              "outlinewidth": 0,
              "ticks": ""
             }
            },
            "type": "scatter"
           }
          ],
          "scatter3d": [
           {
            "line": {
             "colorbar": {
              "outlinewidth": 0,
              "ticks": ""
             }
            },
            "marker": {
             "colorbar": {
              "outlinewidth": 0,
              "ticks": ""
             }
            },
            "type": "scatter3d"
           }
          ],
          "scattercarpet": [
           {
            "marker": {
             "colorbar": {
              "outlinewidth": 0,
              "ticks": ""
             }
            },
            "type": "scattercarpet"
           }
          ],
          "scattergeo": [
           {
            "marker": {
             "colorbar": {
              "outlinewidth": 0,
              "ticks": ""
             }
            },
            "type": "scattergeo"
           }
          ],
          "scattergl": [
           {
            "marker": {
             "colorbar": {
              "outlinewidth": 0,
              "ticks": ""
             }
            },
            "type": "scattergl"
           }
          ],
          "scattermapbox": [
           {
            "marker": {
             "colorbar": {
              "outlinewidth": 0,
              "ticks": ""
             }
            },
            "type": "scattermapbox"
           }
          ],
          "scatterpolar": [
           {
            "marker": {
             "colorbar": {
              "outlinewidth": 0,
              "ticks": ""
             }
            },
            "type": "scatterpolar"
           }
          ],
          "scatterpolargl": [
           {
            "marker": {
             "colorbar": {
              "outlinewidth": 0,
              "ticks": ""
             }
            },
            "type": "scatterpolargl"
           }
          ],
          "scatterternary": [
           {
            "marker": {
             "colorbar": {
              "outlinewidth": 0,
              "ticks": ""
             }
            },
            "type": "scatterternary"
           }
          ],
          "surface": [
           {
            "colorbar": {
             "outlinewidth": 0,
             "ticks": ""
            },
            "colorscale": [
             [
              0,
              "#0d0887"
             ],
             [
              0.1111111111111111,
              "#46039f"
             ],
             [
              0.2222222222222222,
              "#7201a8"
             ],
             [
              0.3333333333333333,
              "#9c179e"
             ],
             [
              0.4444444444444444,
              "#bd3786"
             ],
             [
              0.5555555555555556,
              "#d8576b"
             ],
             [
              0.6666666666666666,
              "#ed7953"
             ],
             [
              0.7777777777777778,
              "#fb9f3a"
             ],
             [
              0.8888888888888888,
              "#fdca26"
             ],
             [
              1,
              "#f0f921"
             ]
            ],
            "type": "surface"
           }
          ],
          "table": [
           {
            "cells": {
             "fill": {
              "color": "#EBF0F8"
             },
             "line": {
              "color": "white"
             }
            },
            "header": {
             "fill": {
              "color": "#C8D4E3"
             },
             "line": {
              "color": "white"
             }
            },
            "type": "table"
           }
          ]
         },
         "layout": {
          "annotationdefaults": {
           "arrowcolor": "#2a3f5f",
           "arrowhead": 0,
           "arrowwidth": 1
          },
          "coloraxis": {
           "colorbar": {
            "outlinewidth": 0,
            "ticks": ""
           }
          },
          "colorscale": {
           "diverging": [
            [
             0,
             "#8e0152"
            ],
            [
             0.1,
             "#c51b7d"
            ],
            [
             0.2,
             "#de77ae"
            ],
            [
             0.3,
             "#f1b6da"
            ],
            [
             0.4,
             "#fde0ef"
            ],
            [
             0.5,
             "#f7f7f7"
            ],
            [
             0.6,
             "#e6f5d0"
            ],
            [
             0.7,
             "#b8e186"
            ],
            [
             0.8,
             "#7fbc41"
            ],
            [
             0.9,
             "#4d9221"
            ],
            [
             1,
             "#276419"
            ]
           ],
           "sequential": [
            [
             0,
             "#0d0887"
            ],
            [
             0.1111111111111111,
             "#46039f"
            ],
            [
             0.2222222222222222,
             "#7201a8"
            ],
            [
             0.3333333333333333,
             "#9c179e"
            ],
            [
             0.4444444444444444,
             "#bd3786"
            ],
            [
             0.5555555555555556,
             "#d8576b"
            ],
            [
             0.6666666666666666,
             "#ed7953"
            ],
            [
             0.7777777777777778,
             "#fb9f3a"
            ],
            [
             0.8888888888888888,
             "#fdca26"
            ],
            [
             1,
             "#f0f921"
            ]
           ],
           "sequentialminus": [
            [
             0,
             "#0d0887"
            ],
            [
             0.1111111111111111,
             "#46039f"
            ],
            [
             0.2222222222222222,
             "#7201a8"
            ],
            [
             0.3333333333333333,
             "#9c179e"
            ],
            [
             0.4444444444444444,
             "#bd3786"
            ],
            [
             0.5555555555555556,
             "#d8576b"
            ],
            [
             0.6666666666666666,
             "#ed7953"
            ],
            [
             0.7777777777777778,
             "#fb9f3a"
            ],
            [
             0.8888888888888888,
             "#fdca26"
            ],
            [
             1,
             "#f0f921"
            ]
           ]
          },
          "colorway": [
           "#636efa",
           "#EF553B",
           "#00cc96",
           "#ab63fa",
           "#FFA15A",
           "#19d3f3",
           "#FF6692",
           "#B6E880",
           "#FF97FF",
           "#FECB52"
          ],
          "font": {
           "color": "#2a3f5f"
          },
          "geo": {
           "bgcolor": "white",
           "lakecolor": "white",
           "landcolor": "#E5ECF6",
           "showlakes": true,
           "showland": true,
           "subunitcolor": "white"
          },
          "hoverlabel": {
           "align": "left"
          },
          "hovermode": "closest",
          "mapbox": {
           "style": "light"
          },
          "paper_bgcolor": "white",
          "plot_bgcolor": "#E5ECF6",
          "polar": {
           "angularaxis": {
            "gridcolor": "white",
            "linecolor": "white",
            "ticks": ""
           },
           "bgcolor": "#E5ECF6",
           "radialaxis": {
            "gridcolor": "white",
            "linecolor": "white",
            "ticks": ""
           }
          },
          "scene": {
           "xaxis": {
            "backgroundcolor": "#E5ECF6",
            "gridcolor": "white",
            "gridwidth": 2,
            "linecolor": "white",
            "showbackground": true,
            "ticks": "",
            "zerolinecolor": "white"
           },
           "yaxis": {
            "backgroundcolor": "#E5ECF6",
            "gridcolor": "white",
            "gridwidth": 2,
            "linecolor": "white",
            "showbackground": true,
            "ticks": "",
            "zerolinecolor": "white"
           },
           "zaxis": {
            "backgroundcolor": "#E5ECF6",
            "gridcolor": "white",
            "gridwidth": 2,
            "linecolor": "white",
            "showbackground": true,
            "ticks": "",
            "zerolinecolor": "white"
           }
          },
          "shapedefaults": {
           "line": {
            "color": "#2a3f5f"
           }
          },
          "ternary": {
           "aaxis": {
            "gridcolor": "white",
            "linecolor": "white",
            "ticks": ""
           },
           "baxis": {
            "gridcolor": "white",
            "linecolor": "white",
            "ticks": ""
           },
           "bgcolor": "#E5ECF6",
           "caxis": {
            "gridcolor": "white",
            "linecolor": "white",
            "ticks": ""
           }
          },
          "title": {
           "x": 0.05
          },
          "xaxis": {
           "automargin": true,
           "gridcolor": "white",
           "linecolor": "white",
           "ticks": "",
           "title": {
            "standoff": 15
           },
           "zerolinecolor": "white",
           "zerolinewidth": 2
          },
          "yaxis": {
           "automargin": true,
           "gridcolor": "white",
           "linecolor": "white",
           "ticks": "",
           "title": {
            "standoff": 15
           },
           "zerolinecolor": "white",
           "zerolinewidth": 2
          }
         }
        },
        "title": {
         "text": "Evolution of market cap"
        },
        "xaxis": {
         "anchor": "y",
         "domain": [
          0,
          1
         ],
         "title": {
          "text": "year"
         }
        },
        "yaxis": {
         "anchor": "x",
         "domain": [
          0,
          1
         ],
         "title": {
          "text": "Relative_market_cap"
         }
        }
       }
      },
      "text/html": [
       "<div>\n",
       "        \n",
       "        \n",
       "            <div id=\"9f545873-a94b-4583-a8ec-4459865abea9\" class=\"plotly-graph-div\" style=\"height:525px; width:100%;\"></div>\n",
       "            <script type=\"text/javascript\">\n",
       "                require([\"plotly\"], function(Plotly) {\n",
       "                    window.PLOTLYENV=window.PLOTLYENV || {};\n",
       "                    \n",
       "                if (document.getElementById(\"9f545873-a94b-4583-a8ec-4459865abea9\")) {\n",
       "                    Plotly.newPlot(\n",
       "                        '9f545873-a94b-4583-a8ec-4459865abea9',\n",
       "                        [{\"alignmentgroup\": \"True\", \"hoverlabel\": {\"namelength\": 0}, \"hovertemplate\": \"sector=Basic Materials<br>year=%{x}<br>Relative_market_cap=%{y}\", \"legendgroup\": \"Basic Materials\", \"marker\": {\"color\": \"#636efa\"}, \"name\": \"Basic Materials\", \"offsetgroup\": \"Basic Materials\", \"orientation\": \"v\", \"showlegend\": true, \"textposition\": \"auto\", \"type\": \"bar\", \"x\": [2009, 2010, 2011, 2012, 2013, 2014, 2015, 2016, 2017, 2018], \"xaxis\": \"x\", \"y\": [2.7633195300558744, 2.4168712721702357, 2.5095565151857233, 2.550383435587606, 2.904010390489435, 2.5395257349722486, 2.5191654966524055, 2.4873896111512988, 3.1680369187446207, 2.840991159123455], \"yaxis\": \"y\"}, {\"alignmentgroup\": \"True\", \"hoverlabel\": {\"namelength\": 0}, \"hovertemplate\": \"sector=Communication Services<br>year=%{x}<br>Relative_market_cap=%{y}\", \"legendgroup\": \"Communication Services\", \"marker\": {\"color\": \"#EF553B\"}, \"name\": \"Communication Services\", \"offsetgroup\": \"Communication Services\", \"orientation\": \"v\", \"showlegend\": true, \"textposition\": \"auto\", \"type\": \"bar\", \"x\": [2009, 2010, 2011, 2012, 2013, 2014, 2015, 2016, 2017, 2018], \"xaxis\": \"x\", \"y\": [3.4508245253972527, 3.19825409993465, 3.412260772587464, 3.7040869148112656, 2.9206648563942132, 2.9967536498558123, 3.0173548895570224, 3.440356214851111, 3.1107360475833956, 3.187847051313946], \"yaxis\": \"y\"}, {\"alignmentgroup\": \"True\", \"hoverlabel\": {\"namelength\": 0}, \"hovertemplate\": \"sector=Consumer Cyclical<br>year=%{x}<br>Relative_market_cap=%{y}\", \"legendgroup\": \"Consumer Cyclical\", \"marker\": {\"color\": \"#00cc96\"}, \"name\": \"Consumer Cyclical\", \"offsetgroup\": \"Consumer Cyclical\", \"orientation\": \"v\", \"showlegend\": true, \"textposition\": \"auto\", \"type\": \"bar\", \"x\": [2009, 2010, 2011, 2012, 2013, 2014, 2015, 2016, 2017, 2018], \"xaxis\": \"x\", \"y\": [6.378894062203196, 8.482924138354196, 9.254847017634932, 9.712111181720882, 10.142370047108944, 10.005242997732767, 10.611632117871173, 10.015166872322345, 9.2283015735464, 8.722847690469576], \"yaxis\": \"y\"}, {\"alignmentgroup\": \"True\", \"hoverlabel\": {\"namelength\": 0}, \"hovertemplate\": \"sector=Consumer Defensive<br>year=%{x}<br>Relative_market_cap=%{y}\", \"legendgroup\": \"Consumer Defensive\", \"marker\": {\"color\": \"#ab63fa\"}, \"name\": \"Consumer Defensive\", \"offsetgroup\": \"Consumer Defensive\", \"orientation\": \"v\", \"showlegend\": true, \"textposition\": \"auto\", \"type\": \"bar\", \"x\": [2009, 2010, 2011, 2012, 2013, 2014, 2015, 2016, 2017, 2018], \"xaxis\": \"x\", \"y\": [9.520107555468622, 11.110456353559735, 11.611369254142344, 11.474478902449468, 10.440132741991809, 9.527542119685469, 9.650989009479426, 10.062016805649595, 8.3552311510373, 7.932839549736975], \"yaxis\": \"y\"}, {\"alignmentgroup\": \"True\", \"hoverlabel\": {\"namelength\": 0}, \"hovertemplate\": \"sector=Energy<br>year=%{x}<br>Relative_market_cap=%{y}\", \"legendgroup\": \"Energy\", \"marker\": {\"color\": \"#FFA15A\"}, \"name\": \"Energy\", \"offsetgroup\": \"Energy\", \"orientation\": \"v\", \"showlegend\": true, \"textposition\": \"auto\", \"type\": \"bar\", \"x\": [2009, 2010, 2011, 2012, 2013, 2014, 2015, 2016, 2017, 2018], \"xaxis\": \"x\", \"y\": [12.754661567023803, 11.825222760075569, 12.019709539552307, 10.083967047652285, 9.377509883125683, 7.737762644371618, 6.75161643718412, 7.028870026767139, 5.505447207200953, 5.056473861733573], \"yaxis\": \"y\"}, {\"alignmentgroup\": \"True\", \"hoverlabel\": {\"namelength\": 0}, \"hovertemplate\": \"sector=Financial Services<br>year=%{x}<br>Relative_market_cap=%{y}\", \"legendgroup\": \"Financial Services\", \"marker\": {\"color\": \"#19d3f3\"}, \"name\": \"Financial Services\", \"offsetgroup\": \"Financial Services\", \"orientation\": \"v\", \"showlegend\": true, \"textposition\": \"auto\", \"type\": \"bar\", \"x\": [2009, 2010, 2011, 2012, 2013, 2014, 2015, 2016, 2017, 2018], \"xaxis\": \"x\", \"y\": [17.14438851135534, 14.58155427948413, 11.828336898914014, 13.689605737195162, 15.719732440683247, 14.245039529876738, 14.562159301742792, 15.22466836471731, 15.29753524765322, 14.071504922034746], \"yaxis\": \"y\"}, {\"alignmentgroup\": \"True\", \"hoverlabel\": {\"namelength\": 0}, \"hovertemplate\": \"sector=Healthcare<br>year=%{x}<br>Relative_market_cap=%{y}\", \"legendgroup\": \"Healthcare\", \"marker\": {\"color\": \"#FF6692\"}, \"name\": \"Healthcare\", \"offsetgroup\": \"Healthcare\", \"orientation\": \"v\", \"showlegend\": true, \"textposition\": \"auto\", \"type\": \"bar\", \"x\": [2009, 2010, 2011, 2012, 2013, 2014, 2015, 2016, 2017, 2018], \"xaxis\": \"x\", \"y\": [11.359597768272646, 12.65899179269336, 12.952262594170747, 14.228694890167102, 14.739102712711464, 15.749365328472056, 14.638982594496435, 14.432461416984829, 15.978569473300935, 16.251309978835764], \"yaxis\": \"y\"}, {\"alignmentgroup\": \"True\", \"hoverlabel\": {\"namelength\": 0}, \"hovertemplate\": \"sector=Industrials<br>year=%{x}<br>Relative_market_cap=%{y}\", \"legendgroup\": \"Industrials\", \"marker\": {\"color\": \"#B6E880\"}, \"name\": \"Industrials\", \"offsetgroup\": \"Industrials\", \"orientation\": \"v\", \"showlegend\": true, \"textposition\": \"auto\", \"type\": \"bar\", \"x\": [2009, 2010, 2011, 2012, 2013, 2014, 2015, 2016, 2017, 2018], \"xaxis\": \"x\", \"y\": [12.157342676179036, 12.22234711701941, 12.007546784319036, 11.326234987356232, 11.85220502954564, 11.797470053902659, 10.990464316966811, 11.064793490380202, 10.515908630731026, 9.934020044911485], \"yaxis\": \"y\"}, {\"alignmentgroup\": \"True\", \"hoverlabel\": {\"namelength\": 0}, \"hovertemplate\": \"sector=Real Estate<br>year=%{x}<br>Relative_market_cap=%{y}\", \"legendgroup\": \"Real Estate\", \"marker\": {\"color\": \"#FF97FF\"}, \"name\": \"Real Estate\", \"offsetgroup\": \"Real Estate\", \"orientation\": \"v\", \"showlegend\": true, \"textposition\": \"auto\", \"type\": \"bar\", \"x\": [2009, 2010, 2011, 2012, 2013, 2014, 2015, 2016, 2017, 2018], \"xaxis\": \"x\", \"y\": [1.8508547434032527, 2.140527781138513, 2.3876715256466716, 2.71790899198224, 2.2389103296589585, 2.54290103388427, 2.5848009647477945, 2.277789784754096, 2.157557468497177, 2.1974484861248658], \"yaxis\": \"y\"}, {\"alignmentgroup\": \"True\", \"hoverlabel\": {\"namelength\": 0}, \"hovertemplate\": \"sector=Technology<br>year=%{x}<br>Relative_market_cap=%{y}\", \"legendgroup\": \"Technology\", \"marker\": {\"color\": \"#FECB52\"}, \"name\": \"Technology\", \"offsetgroup\": \"Technology\", \"orientation\": \"v\", \"showlegend\": true, \"textposition\": \"auto\", \"type\": \"bar\", \"x\": [2009, 2010, 2011, 2012, 2013, 2014, 2015, 2016, 2017, 2018], \"xaxis\": \"x\", \"y\": [18.716963591945085, 17.499081896075417, 17.766814585113444, 16.939162975041626, 16.574645950178187, 19.629350646548797, 21.79208383437047, 21.02549020391581, 23.64406378013862, 26.84614960184309], \"yaxis\": \"y\"}, {\"alignmentgroup\": \"True\", \"hoverlabel\": {\"namelength\": 0}, \"hovertemplate\": \"sector=Utilities<br>year=%{x}<br>Relative_market_cap=%{y}\", \"legendgroup\": \"Utilities\", \"marker\": {\"color\": \"#636efa\"}, \"name\": \"Utilities\", \"offsetgroup\": \"Utilities\", \"orientation\": \"v\", \"showlegend\": true, \"textposition\": \"auto\", \"type\": \"bar\", \"x\": [2009, 2010, 2011, 2012, 2013, 2014, 2015, 2016, 2017, 2018], \"xaxis\": \"x\", \"y\": [3.903045468695894, 3.863768509494792, 4.249624512733335, 3.5733649360361337, 3.0907156181124305, 3.2290462606975687, 2.880751036931543, 2.940997208506264, 3.0386125015663574, 2.9585676538725396], \"yaxis\": \"y\"}],\n",
       "                        {\"barmode\": \"relative\", \"legend\": {\"title\": {\"text\": \"sector\"}, \"tracegroupgap\": 0}, \"template\": {\"data\": {\"bar\": [{\"error_x\": {\"color\": \"#2a3f5f\"}, \"error_y\": {\"color\": \"#2a3f5f\"}, \"marker\": {\"line\": {\"color\": \"#E5ECF6\", \"width\": 0.5}}, \"type\": \"bar\"}], \"barpolar\": [{\"marker\": {\"line\": {\"color\": \"#E5ECF6\", \"width\": 0.5}}, \"type\": \"barpolar\"}], \"carpet\": [{\"aaxis\": {\"endlinecolor\": \"#2a3f5f\", \"gridcolor\": \"white\", \"linecolor\": \"white\", \"minorgridcolor\": \"white\", \"startlinecolor\": \"#2a3f5f\"}, \"baxis\": {\"endlinecolor\": \"#2a3f5f\", \"gridcolor\": \"white\", \"linecolor\": \"white\", \"minorgridcolor\": \"white\", \"startlinecolor\": \"#2a3f5f\"}, \"type\": \"carpet\"}], \"choropleth\": [{\"colorbar\": {\"outlinewidth\": 0, \"ticks\": \"\"}, \"type\": \"choropleth\"}], \"contour\": [{\"colorbar\": {\"outlinewidth\": 0, \"ticks\": \"\"}, \"colorscale\": [[0.0, \"#0d0887\"], [0.1111111111111111, \"#46039f\"], [0.2222222222222222, \"#7201a8\"], [0.3333333333333333, \"#9c179e\"], [0.4444444444444444, \"#bd3786\"], [0.5555555555555556, \"#d8576b\"], [0.6666666666666666, \"#ed7953\"], [0.7777777777777778, \"#fb9f3a\"], [0.8888888888888888, \"#fdca26\"], [1.0, \"#f0f921\"]], \"type\": \"contour\"}], \"contourcarpet\": [{\"colorbar\": {\"outlinewidth\": 0, \"ticks\": \"\"}, \"type\": \"contourcarpet\"}], \"heatmap\": [{\"colorbar\": {\"outlinewidth\": 0, \"ticks\": \"\"}, \"colorscale\": [[0.0, \"#0d0887\"], [0.1111111111111111, \"#46039f\"], [0.2222222222222222, \"#7201a8\"], [0.3333333333333333, \"#9c179e\"], [0.4444444444444444, \"#bd3786\"], [0.5555555555555556, \"#d8576b\"], [0.6666666666666666, \"#ed7953\"], [0.7777777777777778, \"#fb9f3a\"], [0.8888888888888888, \"#fdca26\"], [1.0, \"#f0f921\"]], \"type\": \"heatmap\"}], \"heatmapgl\": [{\"colorbar\": {\"outlinewidth\": 0, \"ticks\": \"\"}, \"colorscale\": [[0.0, \"#0d0887\"], [0.1111111111111111, \"#46039f\"], [0.2222222222222222, \"#7201a8\"], [0.3333333333333333, \"#9c179e\"], [0.4444444444444444, \"#bd3786\"], [0.5555555555555556, \"#d8576b\"], [0.6666666666666666, \"#ed7953\"], [0.7777777777777778, \"#fb9f3a\"], [0.8888888888888888, \"#fdca26\"], [1.0, \"#f0f921\"]], \"type\": \"heatmapgl\"}], \"histogram\": [{\"marker\": {\"colorbar\": {\"outlinewidth\": 0, \"ticks\": \"\"}}, \"type\": \"histogram\"}], \"histogram2d\": [{\"colorbar\": {\"outlinewidth\": 0, \"ticks\": \"\"}, \"colorscale\": [[0.0, \"#0d0887\"], [0.1111111111111111, \"#46039f\"], [0.2222222222222222, \"#7201a8\"], [0.3333333333333333, \"#9c179e\"], [0.4444444444444444, \"#bd3786\"], [0.5555555555555556, \"#d8576b\"], [0.6666666666666666, \"#ed7953\"], [0.7777777777777778, \"#fb9f3a\"], [0.8888888888888888, \"#fdca26\"], [1.0, \"#f0f921\"]], \"type\": \"histogram2d\"}], \"histogram2dcontour\": [{\"colorbar\": {\"outlinewidth\": 0, \"ticks\": \"\"}, \"colorscale\": [[0.0, \"#0d0887\"], [0.1111111111111111, \"#46039f\"], [0.2222222222222222, \"#7201a8\"], [0.3333333333333333, \"#9c179e\"], [0.4444444444444444, \"#bd3786\"], [0.5555555555555556, \"#d8576b\"], [0.6666666666666666, \"#ed7953\"], [0.7777777777777778, \"#fb9f3a\"], [0.8888888888888888, \"#fdca26\"], [1.0, \"#f0f921\"]], \"type\": \"histogram2dcontour\"}], \"mesh3d\": [{\"colorbar\": {\"outlinewidth\": 0, \"ticks\": \"\"}, \"type\": \"mesh3d\"}], \"parcoords\": [{\"line\": {\"colorbar\": {\"outlinewidth\": 0, \"ticks\": \"\"}}, \"type\": \"parcoords\"}], \"pie\": [{\"automargin\": true, \"type\": \"pie\"}], \"scatter\": [{\"marker\": {\"colorbar\": {\"outlinewidth\": 0, \"ticks\": \"\"}}, \"type\": \"scatter\"}], \"scatter3d\": [{\"line\": {\"colorbar\": {\"outlinewidth\": 0, \"ticks\": \"\"}}, \"marker\": {\"colorbar\": {\"outlinewidth\": 0, \"ticks\": \"\"}}, \"type\": \"scatter3d\"}], \"scattercarpet\": [{\"marker\": {\"colorbar\": {\"outlinewidth\": 0, \"ticks\": \"\"}}, \"type\": \"scattercarpet\"}], \"scattergeo\": [{\"marker\": {\"colorbar\": {\"outlinewidth\": 0, \"ticks\": \"\"}}, \"type\": \"scattergeo\"}], \"scattergl\": [{\"marker\": {\"colorbar\": {\"outlinewidth\": 0, \"ticks\": \"\"}}, \"type\": \"scattergl\"}], \"scattermapbox\": [{\"marker\": {\"colorbar\": {\"outlinewidth\": 0, \"ticks\": \"\"}}, \"type\": \"scattermapbox\"}], \"scatterpolar\": [{\"marker\": {\"colorbar\": {\"outlinewidth\": 0, \"ticks\": \"\"}}, \"type\": \"scatterpolar\"}], \"scatterpolargl\": [{\"marker\": {\"colorbar\": {\"outlinewidth\": 0, \"ticks\": \"\"}}, \"type\": \"scatterpolargl\"}], \"scatterternary\": [{\"marker\": {\"colorbar\": {\"outlinewidth\": 0, \"ticks\": \"\"}}, \"type\": \"scatterternary\"}], \"surface\": [{\"colorbar\": {\"outlinewidth\": 0, \"ticks\": \"\"}, \"colorscale\": [[0.0, \"#0d0887\"], [0.1111111111111111, \"#46039f\"], [0.2222222222222222, \"#7201a8\"], [0.3333333333333333, \"#9c179e\"], [0.4444444444444444, \"#bd3786\"], [0.5555555555555556, \"#d8576b\"], [0.6666666666666666, \"#ed7953\"], [0.7777777777777778, \"#fb9f3a\"], [0.8888888888888888, \"#fdca26\"], [1.0, \"#f0f921\"]], \"type\": \"surface\"}], \"table\": [{\"cells\": {\"fill\": {\"color\": \"#EBF0F8\"}, \"line\": {\"color\": \"white\"}}, \"header\": {\"fill\": {\"color\": \"#C8D4E3\"}, \"line\": {\"color\": \"white\"}}, \"type\": \"table\"}]}, \"layout\": {\"annotationdefaults\": {\"arrowcolor\": \"#2a3f5f\", \"arrowhead\": 0, \"arrowwidth\": 1}, \"coloraxis\": {\"colorbar\": {\"outlinewidth\": 0, \"ticks\": \"\"}}, \"colorscale\": {\"diverging\": [[0, \"#8e0152\"], [0.1, \"#c51b7d\"], [0.2, \"#de77ae\"], [0.3, \"#f1b6da\"], [0.4, \"#fde0ef\"], [0.5, \"#f7f7f7\"], [0.6, \"#e6f5d0\"], [0.7, \"#b8e186\"], [0.8, \"#7fbc41\"], [0.9, \"#4d9221\"], [1, \"#276419\"]], \"sequential\": [[0.0, \"#0d0887\"], [0.1111111111111111, \"#46039f\"], [0.2222222222222222, \"#7201a8\"], [0.3333333333333333, \"#9c179e\"], [0.4444444444444444, \"#bd3786\"], [0.5555555555555556, \"#d8576b\"], [0.6666666666666666, \"#ed7953\"], [0.7777777777777778, \"#fb9f3a\"], [0.8888888888888888, \"#fdca26\"], [1.0, \"#f0f921\"]], \"sequentialminus\": [[0.0, \"#0d0887\"], [0.1111111111111111, \"#46039f\"], [0.2222222222222222, \"#7201a8\"], [0.3333333333333333, \"#9c179e\"], [0.4444444444444444, \"#bd3786\"], [0.5555555555555556, \"#d8576b\"], [0.6666666666666666, \"#ed7953\"], [0.7777777777777778, \"#fb9f3a\"], [0.8888888888888888, \"#fdca26\"], [1.0, \"#f0f921\"]]}, \"colorway\": [\"#636efa\", \"#EF553B\", \"#00cc96\", \"#ab63fa\", \"#FFA15A\", \"#19d3f3\", \"#FF6692\", \"#B6E880\", \"#FF97FF\", \"#FECB52\"], \"font\": {\"color\": \"#2a3f5f\"}, \"geo\": {\"bgcolor\": \"white\", \"lakecolor\": \"white\", \"landcolor\": \"#E5ECF6\", \"showlakes\": true, \"showland\": true, \"subunitcolor\": \"white\"}, \"hoverlabel\": {\"align\": \"left\"}, \"hovermode\": \"closest\", \"mapbox\": {\"style\": \"light\"}, \"paper_bgcolor\": \"white\", \"plot_bgcolor\": \"#E5ECF6\", \"polar\": {\"angularaxis\": {\"gridcolor\": \"white\", \"linecolor\": \"white\", \"ticks\": \"\"}, \"bgcolor\": \"#E5ECF6\", \"radialaxis\": {\"gridcolor\": \"white\", \"linecolor\": \"white\", \"ticks\": \"\"}}, \"scene\": {\"xaxis\": {\"backgroundcolor\": \"#E5ECF6\", \"gridcolor\": \"white\", \"gridwidth\": 2, \"linecolor\": \"white\", \"showbackground\": true, \"ticks\": \"\", \"zerolinecolor\": \"white\"}, \"yaxis\": {\"backgroundcolor\": \"#E5ECF6\", \"gridcolor\": \"white\", \"gridwidth\": 2, \"linecolor\": \"white\", \"showbackground\": true, \"ticks\": \"\", \"zerolinecolor\": \"white\"}, \"zaxis\": {\"backgroundcolor\": \"#E5ECF6\", \"gridcolor\": \"white\", \"gridwidth\": 2, \"linecolor\": \"white\", \"showbackground\": true, \"ticks\": \"\", \"zerolinecolor\": \"white\"}}, \"shapedefaults\": {\"line\": {\"color\": \"#2a3f5f\"}}, \"ternary\": {\"aaxis\": {\"gridcolor\": \"white\", \"linecolor\": \"white\", \"ticks\": \"\"}, \"baxis\": {\"gridcolor\": \"white\", \"linecolor\": \"white\", \"ticks\": \"\"}, \"bgcolor\": \"#E5ECF6\", \"caxis\": {\"gridcolor\": \"white\", \"linecolor\": \"white\", \"ticks\": \"\"}}, \"title\": {\"x\": 0.05}, \"xaxis\": {\"automargin\": true, \"gridcolor\": \"white\", \"linecolor\": \"white\", \"ticks\": \"\", \"title\": {\"standoff\": 15}, \"zerolinecolor\": \"white\", \"zerolinewidth\": 2}, \"yaxis\": {\"automargin\": true, \"gridcolor\": \"white\", \"linecolor\": \"white\", \"ticks\": \"\", \"title\": {\"standoff\": 15}, \"zerolinecolor\": \"white\", \"zerolinewidth\": 2}}}, \"title\": {\"text\": \"Evolution of market cap\"}, \"xaxis\": {\"anchor\": \"y\", \"domain\": [0.0, 1.0], \"title\": {\"text\": \"year\"}}, \"yaxis\": {\"anchor\": \"x\", \"domain\": [0.0, 1.0], \"title\": {\"text\": \"Relative_market_cap\"}}},\n",
       "                        {\"responsive\": true}\n",
       "                    ).then(function(){\n",
       "                            \n",
       "var gd = document.getElementById('9f545873-a94b-4583-a8ec-4459865abea9');\n",
       "var x = new MutationObserver(function (mutations, observer) {{\n",
       "        var display = window.getComputedStyle(gd).display;\n",
       "        if (!display || display === 'none') {{\n",
       "            console.log([gd, 'removed!']);\n",
       "            Plotly.purge(gd);\n",
       "            observer.disconnect();\n",
       "        }}\n",
       "}});\n",
       "\n",
       "// Listen for the removal of the full notebook cells\n",
       "var notebookContainer = gd.closest('#notebook-container');\n",
       "if (notebookContainer) {{\n",
       "    x.observe(notebookContainer, {childList: true});\n",
       "}}\n",
       "\n",
       "// Listen for the clearing of the current output cell\n",
       "var outputEl = gd.closest('.output');\n",
       "if (outputEl) {{\n",
       "    x.observe(outputEl, {childList: true});\n",
       "}}\n",
       "\n",
       "                        })\n",
       "                };\n",
       "                });\n",
       "            </script>\n",
       "        </div>"
      ]
     },
     "metadata": {},
     "output_type": "display_data"
    },
    {
     "data": {
      "application/vnd.plotly.v1+json": {
       "config": {
        "plotlyServerURL": "https://plot.ly"
       },
       "data": [
        {
         "alignmentgroup": "True",
         "hoverlabel": {
          "namelength": 0
         },
         "hovertemplate": "sector=Basic Materials<br>year=%{x}<br>Market Cap=%{y}",
         "legendgroup": "Basic Materials",
         "marker": {
          "color": "#636efa"
         },
         "name": "Basic Materials",
         "offsetgroup": "Basic Materials",
         "orientation": "v",
         "showlegend": true,
         "textposition": "auto",
         "type": "bar",
         "x": [
          2009,
          2010,
          2011,
          2012,
          2013,
          2014,
          2015,
          2016,
          2017,
          2018
         ],
         "xaxis": "x",
         "y": [
          223889407967.457,
          231235378159.6296,
          254142414327.504,
          283689084944.672,
          418989244784.7688,
          429356410114.36,
          446703235138.22,
          478487222399.6067,
          734578265963.76,
          684711410461.38
         ],
         "yaxis": "y"
        },
        {
         "alignmentgroup": "True",
         "hoverlabel": {
          "namelength": 0
         },
         "hovertemplate": "sector=Communication Services<br>year=%{x}<br>Market Cap=%{y}",
         "legendgroup": "Communication Services",
         "marker": {
          "color": "#EF553B"
         },
         "name": "Communication Services",
         "offsetgroup": "Communication Services",
         "orientation": "v",
         "showlegend": true,
         "textposition": "auto",
         "type": "bar",
         "x": [
          2009,
          2010,
          2011,
          2012,
          2013,
          2014,
          2015,
          2016,
          2017,
          2018
         ],
         "xaxis": "x",
         "y": [
          279592371272.08,
          305994574375.86,
          345559139956.74,
          412020017365.0499,
          421392143243.6,
          506659716568.4,
          535043129368.18,
          661804842285,
          721291812663.05,
          768307653415.5
         ],
         "yaxis": "y"
        },
        {
         "alignmentgroup": "True",
         "hoverlabel": {
          "namelength": 0
         },
         "hovertemplate": "sector=Consumer Cyclical<br>year=%{x}<br>Market Cap=%{y}",
         "legendgroup": "Consumer Cyclical",
         "marker": {
          "color": "#00cc96"
         },
         "name": "Consumer Cyclical",
         "offsetgroup": "Consumer Cyclical",
         "orientation": "v",
         "showlegend": true,
         "textposition": "auto",
         "type": "bar",
         "x": [
          2009,
          2010,
          2011,
          2012,
          2013,
          2014,
          2015,
          2016,
          2017,
          2018
         ],
         "xaxis": "x",
         "y": [
          516830138368.00946,
          811608046162.2607,
          937236978350.8838,
          1080315961740.2839,
          1463336350408.04,
          1691581682622.847,
          1881674865525.4202,
          1926569668508.03,
          2139782439900.5398,
          2102306206128.4202
         ],
         "yaxis": "y"
        },
        {
         "alignmentgroup": "True",
         "hoverlabel": {
          "namelength": 0
         },
         "hovertemplate": "sector=Consumer Defensive<br>year=%{x}<br>Market Cap=%{y}",
         "legendgroup": "Consumer Defensive",
         "marker": {
          "color": "#ab63fa"
         },
         "name": "Consumer Defensive",
         "offsetgroup": "Consumer Defensive",
         "orientation": "v",
         "showlegend": true,
         "textposition": "auto",
         "type": "bar",
         "x": [
          2009,
          2010,
          2011,
          2012,
          2013,
          2014,
          2015,
          2016,
          2017,
          2018
         ],
         "xaxis": "x",
         "y": [
          771337234509.86,
          1062998516315.0569,
          1175881634081.2695,
          1276350988886.8306,
          1506297411106.25,
          1610817022008.33,
          1711331795607.2,
          1935581965723.9,
          1937342072733,
          1911905195347.42
         ],
         "yaxis": "y"
        },
        {
         "alignmentgroup": "True",
         "hoverlabel": {
          "namelength": 0
         },
         "hovertemplate": "sector=Energy<br>year=%{x}<br>Market Cap=%{y}",
         "legendgroup": "Energy",
         "marker": {
          "color": "#FFA15A"
         },
         "name": "Energy",
         "offsetgroup": "Energy",
         "orientation": "v",
         "showlegend": true,
         "textposition": "auto",
         "type": "bar",
         "x": [
          2009,
          2010,
          2011,
          2012,
          2013,
          2014,
          2015,
          2016,
          2017,
          2018
         ],
         "xaxis": "x",
         "y": [
          1033406957105.8601,
          1131384152823.5647,
          1217234193935.292,
          1121678938328.58,
          1352982687927.07,
          1308219855996.34,
          1197209515972.77,
          1352110051693.5,
          1276557681159.62,
          1218668118241.14
         ],
         "yaxis": "y"
        },
        {
         "alignmentgroup": "True",
         "hoverlabel": {
          "namelength": 0
         },
         "hovertemplate": "sector=Financial Services<br>year=%{x}<br>Market Cap=%{y}",
         "legendgroup": "Financial Services",
         "marker": {
          "color": "#19d3f3"
         },
         "name": "Financial Services",
         "offsetgroup": "Financial Services",
         "orientation": "v",
         "showlegend": true,
         "textposition": "auto",
         "type": "bar",
         "x": [
          2009,
          2010,
          2011,
          2012,
          2013,
          2014,
          2015,
          2016,
          2017,
          2018
         ],
         "xaxis": "x",
         "y": [
          1389070989446.4524,
          1395097561379.0088,
          1197853915135.5352,
          1522748176077.0813,
          2268035557004.4805,
          2408402069039.03,
          2582189887615.8604,
          2928696511849.2007,
          3547066276043.7505,
          3391393863208.42
         ],
         "yaxis": "y"
        },
        {
         "alignmentgroup": "True",
         "hoverlabel": {
          "namelength": 0
         },
         "hovertemplate": "sector=Healthcare<br>year=%{x}<br>Market Cap=%{y}",
         "legendgroup": "Healthcare",
         "marker": {
          "color": "#FF6692"
         },
         "name": "Healthcare",
         "offsetgroup": "Healthcare",
         "orientation": "v",
         "showlegend": true,
         "textposition": "auto",
         "type": "bar",
         "x": [
          2009,
          2010,
          2011,
          2012,
          2013,
          2014,
          2015,
          2016,
          2017,
          2018
         ],
         "xaxis": "x",
         "y": [
          920376232796.9299,
          1211155425615.4502,
          1311673702810.6997,
          1582713162665.4497,
          2126550763946.58,
          2662737717476.3003,
          2595812340548.24,
          2776303456781.83,
          3704978874087.75,
          3916751849691.41
         ],
         "yaxis": "y"
        },
        {
         "alignmentgroup": "True",
         "hoverlabel": {
          "namelength": 0
         },
         "hovertemplate": "sector=Industrials<br>year=%{x}<br>Market Cap=%{y}",
         "legendgroup": "Industrials",
         "marker": {
          "color": "#B6E880"
         },
         "name": "Industrials",
         "offsetgroup": "Industrials",
         "orientation": "v",
         "showlegend": true,
         "textposition": "auto",
         "type": "bar",
         "x": [
          2009,
          2010,
          2011,
          2012,
          2013,
          2014,
          2015,
          2016,
          2017,
          2018
         ],
         "xaxis": "x",
         "y": [
          985011043645.8236,
          1169379226004.2104,
          1216002473525.27,
          1259861240704.426,
          1710030532475.6836,
          1994592659967.9302,
          1948850114287.5298,
          2128481312256.8098,
          2438342142192.1997,
          2394212616487.55
         ],
         "yaxis": "y"
        },
        {
         "alignmentgroup": "True",
         "hoverlabel": {
          "namelength": 0
         },
         "hovertemplate": "sector=Real Estate<br>year=%{x}<br>Market Cap=%{y}",
         "legendgroup": "Real Estate",
         "marker": {
          "color": "#FF97FF"
         },
         "name": "Real Estate",
         "offsetgroup": "Real Estate",
         "orientation": "v",
         "showlegend": true,
         "textposition": "auto",
         "type": "bar",
         "x": [
          2009,
          2010,
          2011,
          2012,
          2013,
          2014,
          2015,
          2016,
          2017,
          2018
         ],
         "xaxis": "x",
         "y": [
          149959774187.22,
          204796075253.2348,
          241799139599.76,
          302323605203.58,
          323028922774.11005,
          429927070298.64996,
          458341841643.82,
          438167507989.51996,
          500276627001.5101,
          529610255040.36
         ],
         "yaxis": "y"
        },
        {
         "alignmentgroup": "True",
         "hoverlabel": {
          "namelength": 0
         },
         "hovertemplate": "sector=Technology<br>year=%{x}<br>Market Cap=%{y}",
         "legendgroup": "Technology",
         "marker": {
          "color": "#FECB52"
         },
         "name": "Technology",
         "offsetgroup": "Technology",
         "orientation": "v",
         "showlegend": true,
         "textposition": "auto",
         "type": "bar",
         "x": [
          2009,
          2010,
          2011,
          2012,
          2013,
          2014,
          2015,
          2016,
          2017,
          2018
         ],
         "xaxis": "x",
         "y": [
          1516484015681.0603,
          1674233487848.0498,
          1799242665485.7302,
          1884209086784.26,
          2391382073557.134,
          3318724992787.0024,
          3864213908197.9395,
          4044572817285.8706,
          5482390457379.281,
          6470229553620.52
         ],
         "yaxis": "y"
        },
        {
         "alignmentgroup": "True",
         "hoverlabel": {
          "namelength": 0
         },
         "hovertemplate": "sector=Utilities<br>year=%{x}<br>Market Cap=%{y}",
         "legendgroup": "Utilities",
         "marker": {
          "color": "#636efa"
         },
         "name": "Utilities",
         "offsetgroup": "Utilities",
         "orientation": "v",
         "showlegend": true,
         "textposition": "auto",
         "type": "bar",
         "x": [
          2009,
          2010,
          2011,
          2012,
          2013,
          2014,
          2015,
          2016,
          2017,
          2018
         ],
         "xaxis": "x",
         "y": [
          316232172845.64996,
          369668001230.37994,
          430358841140.2899,
          397479302418.66003,
          445926986665.9,
          545933317978.94,
          510820273433.85,
          565745542666.24,
          704568399796.5901,
          713048692433.63
         ],
         "yaxis": "y"
        }
       ],
       "layout": {
        "barmode": "group",
        "legend": {
         "title": {
          "text": "sector"
         },
         "tracegroupgap": 0
        },
        "template": {
         "data": {
          "bar": [
           {
            "error_x": {
             "color": "#2a3f5f"
            },
            "error_y": {
             "color": "#2a3f5f"
            },
            "marker": {
             "line": {
              "color": "#E5ECF6",
              "width": 0.5
             }
            },
            "type": "bar"
           }
          ],
          "barpolar": [
           {
            "marker": {
             "line": {
              "color": "#E5ECF6",
              "width": 0.5
             }
            },
            "type": "barpolar"
           }
          ],
          "carpet": [
           {
            "aaxis": {
             "endlinecolor": "#2a3f5f",
             "gridcolor": "white",
             "linecolor": "white",
             "minorgridcolor": "white",
             "startlinecolor": "#2a3f5f"
            },
            "baxis": {
             "endlinecolor": "#2a3f5f",
             "gridcolor": "white",
             "linecolor": "white",
             "minorgridcolor": "white",
             "startlinecolor": "#2a3f5f"
            },
            "type": "carpet"
           }
          ],
          "choropleth": [
           {
            "colorbar": {
             "outlinewidth": 0,
             "ticks": ""
            },
            "type": "choropleth"
           }
          ],
          "contour": [
           {
            "colorbar": {
             "outlinewidth": 0,
             "ticks": ""
            },
            "colorscale": [
             [
              0,
              "#0d0887"
             ],
             [
              0.1111111111111111,
              "#46039f"
             ],
             [
              0.2222222222222222,
              "#7201a8"
             ],
             [
              0.3333333333333333,
              "#9c179e"
             ],
             [
              0.4444444444444444,
              "#bd3786"
             ],
             [
              0.5555555555555556,
              "#d8576b"
             ],
             [
              0.6666666666666666,
              "#ed7953"
             ],
             [
              0.7777777777777778,
              "#fb9f3a"
             ],
             [
              0.8888888888888888,
              "#fdca26"
             ],
             [
              1,
              "#f0f921"
             ]
            ],
            "type": "contour"
           }
          ],
          "contourcarpet": [
           {
            "colorbar": {
             "outlinewidth": 0,
             "ticks": ""
            },
            "type": "contourcarpet"
           }
          ],
          "heatmap": [
           {
            "colorbar": {
             "outlinewidth": 0,
             "ticks": ""
            },
            "colorscale": [
             [
              0,
              "#0d0887"
             ],
             [
              0.1111111111111111,
              "#46039f"
             ],
             [
              0.2222222222222222,
              "#7201a8"
             ],
             [
              0.3333333333333333,
              "#9c179e"
             ],
             [
              0.4444444444444444,
              "#bd3786"
             ],
             [
              0.5555555555555556,
              "#d8576b"
             ],
             [
              0.6666666666666666,
              "#ed7953"
             ],
             [
              0.7777777777777778,
              "#fb9f3a"
             ],
             [
              0.8888888888888888,
              "#fdca26"
             ],
             [
              1,
              "#f0f921"
             ]
            ],
            "type": "heatmap"
           }
          ],
          "heatmapgl": [
           {
            "colorbar": {
             "outlinewidth": 0,
             "ticks": ""
            },
            "colorscale": [
             [
              0,
              "#0d0887"
             ],
             [
              0.1111111111111111,
              "#46039f"
             ],
             [
              0.2222222222222222,
              "#7201a8"
             ],
             [
              0.3333333333333333,
              "#9c179e"
             ],
             [
              0.4444444444444444,
              "#bd3786"
             ],
             [
              0.5555555555555556,
              "#d8576b"
             ],
             [
              0.6666666666666666,
              "#ed7953"
             ],
             [
              0.7777777777777778,
              "#fb9f3a"
             ],
             [
              0.8888888888888888,
              "#fdca26"
             ],
             [
              1,
              "#f0f921"
             ]
            ],
            "type": "heatmapgl"
           }
          ],
          "histogram": [
           {
            "marker": {
             "colorbar": {
              "outlinewidth": 0,
              "ticks": ""
             }
            },
            "type": "histogram"
           }
          ],
          "histogram2d": [
           {
            "colorbar": {
             "outlinewidth": 0,
             "ticks": ""
            },
            "colorscale": [
             [
              0,
              "#0d0887"
             ],
             [
              0.1111111111111111,
              "#46039f"
             ],
             [
              0.2222222222222222,
              "#7201a8"
             ],
             [
              0.3333333333333333,
              "#9c179e"
             ],
             [
              0.4444444444444444,
              "#bd3786"
             ],
             [
              0.5555555555555556,
              "#d8576b"
             ],
             [
              0.6666666666666666,
              "#ed7953"
             ],
             [
              0.7777777777777778,
              "#fb9f3a"
             ],
             [
              0.8888888888888888,
              "#fdca26"
             ],
             [
              1,
              "#f0f921"
             ]
            ],
            "type": "histogram2d"
           }
          ],
          "histogram2dcontour": [
           {
            "colorbar": {
             "outlinewidth": 0,
             "ticks": ""
            },
            "colorscale": [
             [
              0,
              "#0d0887"
             ],
             [
              0.1111111111111111,
              "#46039f"
             ],
             [
              0.2222222222222222,
              "#7201a8"
             ],
             [
              0.3333333333333333,
              "#9c179e"
             ],
             [
              0.4444444444444444,
              "#bd3786"
             ],
             [
              0.5555555555555556,
              "#d8576b"
             ],
             [
              0.6666666666666666,
              "#ed7953"
             ],
             [
              0.7777777777777778,
              "#fb9f3a"
             ],
             [
              0.8888888888888888,
              "#fdca26"
             ],
             [
              1,
              "#f0f921"
             ]
            ],
            "type": "histogram2dcontour"
           }
          ],
          "mesh3d": [
           {
            "colorbar": {
             "outlinewidth": 0,
             "ticks": ""
            },
            "type": "mesh3d"
           }
          ],
          "parcoords": [
           {
            "line": {
             "colorbar": {
              "outlinewidth": 0,
              "ticks": ""
             }
            },
            "type": "parcoords"
           }
          ],
          "pie": [
           {
            "automargin": true,
            "type": "pie"
           }
          ],
          "scatter": [
           {
            "marker": {
             "colorbar": {
              "outlinewidth": 0,
              "ticks": ""
             }
            },
            "type": "scatter"
           }
          ],
          "scatter3d": [
           {
            "line": {
             "colorbar": {
              "outlinewidth": 0,
              "ticks": ""
             }
            },
            "marker": {
             "colorbar": {
              "outlinewidth": 0,
              "ticks": ""
             }
            },
            "type": "scatter3d"
           }
          ],
          "scattercarpet": [
           {
            "marker": {
             "colorbar": {
              "outlinewidth": 0,
              "ticks": ""
             }
            },
            "type": "scattercarpet"
           }
          ],
          "scattergeo": [
           {
            "marker": {
             "colorbar": {
              "outlinewidth": 0,
              "ticks": ""
             }
            },
            "type": "scattergeo"
           }
          ],
          "scattergl": [
           {
            "marker": {
             "colorbar": {
              "outlinewidth": 0,
              "ticks": ""
             }
            },
            "type": "scattergl"
           }
          ],
          "scattermapbox": [
           {
            "marker": {
             "colorbar": {
              "outlinewidth": 0,
              "ticks": ""
             }
            },
            "type": "scattermapbox"
           }
          ],
          "scatterpolar": [
           {
            "marker": {
             "colorbar": {
              "outlinewidth": 0,
              "ticks": ""
             }
            },
            "type": "scatterpolar"
           }
          ],
          "scatterpolargl": [
           {
            "marker": {
             "colorbar": {
              "outlinewidth": 0,
              "ticks": ""
             }
            },
            "type": "scatterpolargl"
           }
          ],
          "scatterternary": [
           {
            "marker": {
             "colorbar": {
              "outlinewidth": 0,
              "ticks": ""
             }
            },
            "type": "scatterternary"
           }
          ],
          "surface": [
           {
            "colorbar": {
             "outlinewidth": 0,
             "ticks": ""
            },
            "colorscale": [
             [
              0,
              "#0d0887"
             ],
             [
              0.1111111111111111,
              "#46039f"
             ],
             [
              0.2222222222222222,
              "#7201a8"
             ],
             [
              0.3333333333333333,
              "#9c179e"
             ],
             [
              0.4444444444444444,
              "#bd3786"
             ],
             [
              0.5555555555555556,
              "#d8576b"
             ],
             [
              0.6666666666666666,
              "#ed7953"
             ],
             [
              0.7777777777777778,
              "#fb9f3a"
             ],
             [
              0.8888888888888888,
              "#fdca26"
             ],
             [
              1,
              "#f0f921"
             ]
            ],
            "type": "surface"
           }
          ],
          "table": [
           {
            "cells": {
             "fill": {
              "color": "#EBF0F8"
             },
             "line": {
              "color": "white"
             }
            },
            "header": {
             "fill": {
              "color": "#C8D4E3"
             },
             "line": {
              "color": "white"
             }
            },
            "type": "table"
           }
          ]
         },
         "layout": {
          "annotationdefaults": {
           "arrowcolor": "#2a3f5f",
           "arrowhead": 0,
           "arrowwidth": 1
          },
          "coloraxis": {
           "colorbar": {
            "outlinewidth": 0,
            "ticks": ""
           }
          },
          "colorscale": {
           "diverging": [
            [
             0,
             "#8e0152"
            ],
            [
             0.1,
             "#c51b7d"
            ],
            [
             0.2,
             "#de77ae"
            ],
            [
             0.3,
             "#f1b6da"
            ],
            [
             0.4,
             "#fde0ef"
            ],
            [
             0.5,
             "#f7f7f7"
            ],
            [
             0.6,
             "#e6f5d0"
            ],
            [
             0.7,
             "#b8e186"
            ],
            [
             0.8,
             "#7fbc41"
            ],
            [
             0.9,
             "#4d9221"
            ],
            [
             1,
             "#276419"
            ]
           ],
           "sequential": [
            [
             0,
             "#0d0887"
            ],
            [
             0.1111111111111111,
             "#46039f"
            ],
            [
             0.2222222222222222,
             "#7201a8"
            ],
            [
             0.3333333333333333,
             "#9c179e"
            ],
            [
             0.4444444444444444,
             "#bd3786"
            ],
            [
             0.5555555555555556,
             "#d8576b"
            ],
            [
             0.6666666666666666,
             "#ed7953"
            ],
            [
             0.7777777777777778,
             "#fb9f3a"
            ],
            [
             0.8888888888888888,
             "#fdca26"
            ],
            [
             1,
             "#f0f921"
            ]
           ],
           "sequentialminus": [
            [
             0,
             "#0d0887"
            ],
            [
             0.1111111111111111,
             "#46039f"
            ],
            [
             0.2222222222222222,
             "#7201a8"
            ],
            [
             0.3333333333333333,
             "#9c179e"
            ],
            [
             0.4444444444444444,
             "#bd3786"
            ],
            [
             0.5555555555555556,
             "#d8576b"
            ],
            [
             0.6666666666666666,
             "#ed7953"
            ],
            [
             0.7777777777777778,
             "#fb9f3a"
            ],
            [
             0.8888888888888888,
             "#fdca26"
            ],
            [
             1,
             "#f0f921"
            ]
           ]
          },
          "colorway": [
           "#636efa",
           "#EF553B",
           "#00cc96",
           "#ab63fa",
           "#FFA15A",
           "#19d3f3",
           "#FF6692",
           "#B6E880",
           "#FF97FF",
           "#FECB52"
          ],
          "font": {
           "color": "#2a3f5f"
          },
          "geo": {
           "bgcolor": "white",
           "lakecolor": "white",
           "landcolor": "#E5ECF6",
           "showlakes": true,
           "showland": true,
           "subunitcolor": "white"
          },
          "hoverlabel": {
           "align": "left"
          },
          "hovermode": "closest",
          "mapbox": {
           "style": "light"
          },
          "paper_bgcolor": "white",
          "plot_bgcolor": "#E5ECF6",
          "polar": {
           "angularaxis": {
            "gridcolor": "white",
            "linecolor": "white",
            "ticks": ""
           },
           "bgcolor": "#E5ECF6",
           "radialaxis": {
            "gridcolor": "white",
            "linecolor": "white",
            "ticks": ""
           }
          },
          "scene": {
           "xaxis": {
            "backgroundcolor": "#E5ECF6",
            "gridcolor": "white",
            "gridwidth": 2,
            "linecolor": "white",
            "showbackground": true,
            "ticks": "",
            "zerolinecolor": "white"
           },
           "yaxis": {
            "backgroundcolor": "#E5ECF6",
            "gridcolor": "white",
            "gridwidth": 2,
            "linecolor": "white",
            "showbackground": true,
            "ticks": "",
            "zerolinecolor": "white"
           },
           "zaxis": {
            "backgroundcolor": "#E5ECF6",
            "gridcolor": "white",
            "gridwidth": 2,
            "linecolor": "white",
            "showbackground": true,
            "ticks": "",
            "zerolinecolor": "white"
           }
          },
          "shapedefaults": {
           "line": {
            "color": "#2a3f5f"
           }
          },
          "ternary": {
           "aaxis": {
            "gridcolor": "white",
            "linecolor": "white",
            "ticks": ""
           },
           "baxis": {
            "gridcolor": "white",
            "linecolor": "white",
            "ticks": ""
           },
           "bgcolor": "#E5ECF6",
           "caxis": {
            "gridcolor": "white",
            "linecolor": "white",
            "ticks": ""
           }
          },
          "title": {
           "x": 0.05
          },
          "xaxis": {
           "automargin": true,
           "gridcolor": "white",
           "linecolor": "white",
           "ticks": "",
           "title": {
            "standoff": 15
           },
           "zerolinecolor": "white",
           "zerolinewidth": 2
          },
          "yaxis": {
           "automargin": true,
           "gridcolor": "white",
           "linecolor": "white",
           "ticks": "",
           "title": {
            "standoff": 15
           },
           "zerolinecolor": "white",
           "zerolinewidth": 2
          }
         }
        },
        "title": {
         "text": "Evolution of market cap"
        },
        "xaxis": {
         "anchor": "y",
         "domain": [
          0,
          1
         ],
         "title": {
          "text": "year"
         }
        },
        "yaxis": {
         "anchor": "x",
         "domain": [
          0,
          1
         ],
         "title": {
          "text": "Market Cap"
         }
        }
       }
      },
      "text/html": [
       "<div>\n",
       "        \n",
       "        \n",
       "            <div id=\"f890a16c-944f-4e81-a4de-2bc8d161b608\" class=\"plotly-graph-div\" style=\"height:525px; width:100%;\"></div>\n",
       "            <script type=\"text/javascript\">\n",
       "                require([\"plotly\"], function(Plotly) {\n",
       "                    window.PLOTLYENV=window.PLOTLYENV || {};\n",
       "                    \n",
       "                if (document.getElementById(\"f890a16c-944f-4e81-a4de-2bc8d161b608\")) {\n",
       "                    Plotly.newPlot(\n",
       "                        'f890a16c-944f-4e81-a4de-2bc8d161b608',\n",
       "                        [{\"alignmentgroup\": \"True\", \"hoverlabel\": {\"namelength\": 0}, \"hovertemplate\": \"sector=Basic Materials<br>year=%{x}<br>Market Cap=%{y}\", \"legendgroup\": \"Basic Materials\", \"marker\": {\"color\": \"#636efa\"}, \"name\": \"Basic Materials\", \"offsetgroup\": \"Basic Materials\", \"orientation\": \"v\", \"showlegend\": true, \"textposition\": \"auto\", \"type\": \"bar\", \"x\": [2009, 2010, 2011, 2012, 2013, 2014, 2015, 2016, 2017, 2018], \"xaxis\": \"x\", \"y\": [223889407967.457, 231235378159.6296, 254142414327.504, 283689084944.672, 418989244784.7688, 429356410114.36, 446703235138.22, 478487222399.6067, 734578265963.76, 684711410461.38], \"yaxis\": \"y\"}, {\"alignmentgroup\": \"True\", \"hoverlabel\": {\"namelength\": 0}, \"hovertemplate\": \"sector=Communication Services<br>year=%{x}<br>Market Cap=%{y}\", \"legendgroup\": \"Communication Services\", \"marker\": {\"color\": \"#EF553B\"}, \"name\": \"Communication Services\", \"offsetgroup\": \"Communication Services\", \"orientation\": \"v\", \"showlegend\": true, \"textposition\": \"auto\", \"type\": \"bar\", \"x\": [2009, 2010, 2011, 2012, 2013, 2014, 2015, 2016, 2017, 2018], \"xaxis\": \"x\", \"y\": [279592371272.08, 305994574375.86, 345559139956.74, 412020017365.0499, 421392143243.6, 506659716568.4, 535043129368.18, 661804842285.0, 721291812663.05, 768307653415.5], \"yaxis\": \"y\"}, {\"alignmentgroup\": \"True\", \"hoverlabel\": {\"namelength\": 0}, \"hovertemplate\": \"sector=Consumer Cyclical<br>year=%{x}<br>Market Cap=%{y}\", \"legendgroup\": \"Consumer Cyclical\", \"marker\": {\"color\": \"#00cc96\"}, \"name\": \"Consumer Cyclical\", \"offsetgroup\": \"Consumer Cyclical\", \"orientation\": \"v\", \"showlegend\": true, \"textposition\": \"auto\", \"type\": \"bar\", \"x\": [2009, 2010, 2011, 2012, 2013, 2014, 2015, 2016, 2017, 2018], \"xaxis\": \"x\", \"y\": [516830138368.00946, 811608046162.2607, 937236978350.8838, 1080315961740.2839, 1463336350408.04, 1691581682622.847, 1881674865525.4202, 1926569668508.03, 2139782439900.5398, 2102306206128.4202], \"yaxis\": \"y\"}, {\"alignmentgroup\": \"True\", \"hoverlabel\": {\"namelength\": 0}, \"hovertemplate\": \"sector=Consumer Defensive<br>year=%{x}<br>Market Cap=%{y}\", \"legendgroup\": \"Consumer Defensive\", \"marker\": {\"color\": \"#ab63fa\"}, \"name\": \"Consumer Defensive\", \"offsetgroup\": \"Consumer Defensive\", \"orientation\": \"v\", \"showlegend\": true, \"textposition\": \"auto\", \"type\": \"bar\", \"x\": [2009, 2010, 2011, 2012, 2013, 2014, 2015, 2016, 2017, 2018], \"xaxis\": \"x\", \"y\": [771337234509.86, 1062998516315.0569, 1175881634081.2695, 1276350988886.8306, 1506297411106.25, 1610817022008.33, 1711331795607.2, 1935581965723.9, 1937342072733.0, 1911905195347.42], \"yaxis\": \"y\"}, {\"alignmentgroup\": \"True\", \"hoverlabel\": {\"namelength\": 0}, \"hovertemplate\": \"sector=Energy<br>year=%{x}<br>Market Cap=%{y}\", \"legendgroup\": \"Energy\", \"marker\": {\"color\": \"#FFA15A\"}, \"name\": \"Energy\", \"offsetgroup\": \"Energy\", \"orientation\": \"v\", \"showlegend\": true, \"textposition\": \"auto\", \"type\": \"bar\", \"x\": [2009, 2010, 2011, 2012, 2013, 2014, 2015, 2016, 2017, 2018], \"xaxis\": \"x\", \"y\": [1033406957105.8601, 1131384152823.5647, 1217234193935.292, 1121678938328.58, 1352982687927.07, 1308219855996.34, 1197209515972.77, 1352110051693.5, 1276557681159.62, 1218668118241.14], \"yaxis\": \"y\"}, {\"alignmentgroup\": \"True\", \"hoverlabel\": {\"namelength\": 0}, \"hovertemplate\": \"sector=Financial Services<br>year=%{x}<br>Market Cap=%{y}\", \"legendgroup\": \"Financial Services\", \"marker\": {\"color\": \"#19d3f3\"}, \"name\": \"Financial Services\", \"offsetgroup\": \"Financial Services\", \"orientation\": \"v\", \"showlegend\": true, \"textposition\": \"auto\", \"type\": \"bar\", \"x\": [2009, 2010, 2011, 2012, 2013, 2014, 2015, 2016, 2017, 2018], \"xaxis\": \"x\", \"y\": [1389070989446.4524, 1395097561379.0088, 1197853915135.5352, 1522748176077.0813, 2268035557004.4805, 2408402069039.03, 2582189887615.8604, 2928696511849.2007, 3547066276043.7505, 3391393863208.42], \"yaxis\": \"y\"}, {\"alignmentgroup\": \"True\", \"hoverlabel\": {\"namelength\": 0}, \"hovertemplate\": \"sector=Healthcare<br>year=%{x}<br>Market Cap=%{y}\", \"legendgroup\": \"Healthcare\", \"marker\": {\"color\": \"#FF6692\"}, \"name\": \"Healthcare\", \"offsetgroup\": \"Healthcare\", \"orientation\": \"v\", \"showlegend\": true, \"textposition\": \"auto\", \"type\": \"bar\", \"x\": [2009, 2010, 2011, 2012, 2013, 2014, 2015, 2016, 2017, 2018], \"xaxis\": \"x\", \"y\": [920376232796.9299, 1211155425615.4502, 1311673702810.6997, 1582713162665.4497, 2126550763946.58, 2662737717476.3003, 2595812340548.24, 2776303456781.83, 3704978874087.75, 3916751849691.41], \"yaxis\": \"y\"}, {\"alignmentgroup\": \"True\", \"hoverlabel\": {\"namelength\": 0}, \"hovertemplate\": \"sector=Industrials<br>year=%{x}<br>Market Cap=%{y}\", \"legendgroup\": \"Industrials\", \"marker\": {\"color\": \"#B6E880\"}, \"name\": \"Industrials\", \"offsetgroup\": \"Industrials\", \"orientation\": \"v\", \"showlegend\": true, \"textposition\": \"auto\", \"type\": \"bar\", \"x\": [2009, 2010, 2011, 2012, 2013, 2014, 2015, 2016, 2017, 2018], \"xaxis\": \"x\", \"y\": [985011043645.8236, 1169379226004.2104, 1216002473525.27, 1259861240704.426, 1710030532475.6836, 1994592659967.9302, 1948850114287.5298, 2128481312256.8098, 2438342142192.1997, 2394212616487.55], \"yaxis\": \"y\"}, {\"alignmentgroup\": \"True\", \"hoverlabel\": {\"namelength\": 0}, \"hovertemplate\": \"sector=Real Estate<br>year=%{x}<br>Market Cap=%{y}\", \"legendgroup\": \"Real Estate\", \"marker\": {\"color\": \"#FF97FF\"}, \"name\": \"Real Estate\", \"offsetgroup\": \"Real Estate\", \"orientation\": \"v\", \"showlegend\": true, \"textposition\": \"auto\", \"type\": \"bar\", \"x\": [2009, 2010, 2011, 2012, 2013, 2014, 2015, 2016, 2017, 2018], \"xaxis\": \"x\", \"y\": [149959774187.22, 204796075253.2348, 241799139599.76, 302323605203.58, 323028922774.11005, 429927070298.64996, 458341841643.82, 438167507989.51996, 500276627001.5101, 529610255040.36], \"yaxis\": \"y\"}, {\"alignmentgroup\": \"True\", \"hoverlabel\": {\"namelength\": 0}, \"hovertemplate\": \"sector=Technology<br>year=%{x}<br>Market Cap=%{y}\", \"legendgroup\": \"Technology\", \"marker\": {\"color\": \"#FECB52\"}, \"name\": \"Technology\", \"offsetgroup\": \"Technology\", \"orientation\": \"v\", \"showlegend\": true, \"textposition\": \"auto\", \"type\": \"bar\", \"x\": [2009, 2010, 2011, 2012, 2013, 2014, 2015, 2016, 2017, 2018], \"xaxis\": \"x\", \"y\": [1516484015681.0603, 1674233487848.0498, 1799242665485.7302, 1884209086784.26, 2391382073557.134, 3318724992787.0024, 3864213908197.9395, 4044572817285.8706, 5482390457379.281, 6470229553620.52], \"yaxis\": \"y\"}, {\"alignmentgroup\": \"True\", \"hoverlabel\": {\"namelength\": 0}, \"hovertemplate\": \"sector=Utilities<br>year=%{x}<br>Market Cap=%{y}\", \"legendgroup\": \"Utilities\", \"marker\": {\"color\": \"#636efa\"}, \"name\": \"Utilities\", \"offsetgroup\": \"Utilities\", \"orientation\": \"v\", \"showlegend\": true, \"textposition\": \"auto\", \"type\": \"bar\", \"x\": [2009, 2010, 2011, 2012, 2013, 2014, 2015, 2016, 2017, 2018], \"xaxis\": \"x\", \"y\": [316232172845.64996, 369668001230.37994, 430358841140.2899, 397479302418.66003, 445926986665.9, 545933317978.94, 510820273433.85, 565745542666.24, 704568399796.5901, 713048692433.63], \"yaxis\": \"y\"}],\n",
       "                        {\"barmode\": \"group\", \"legend\": {\"title\": {\"text\": \"sector\"}, \"tracegroupgap\": 0}, \"template\": {\"data\": {\"bar\": [{\"error_x\": {\"color\": \"#2a3f5f\"}, \"error_y\": {\"color\": \"#2a3f5f\"}, \"marker\": {\"line\": {\"color\": \"#E5ECF6\", \"width\": 0.5}}, \"type\": \"bar\"}], \"barpolar\": [{\"marker\": {\"line\": {\"color\": \"#E5ECF6\", \"width\": 0.5}}, \"type\": \"barpolar\"}], \"carpet\": [{\"aaxis\": {\"endlinecolor\": \"#2a3f5f\", \"gridcolor\": \"white\", \"linecolor\": \"white\", \"minorgridcolor\": \"white\", \"startlinecolor\": \"#2a3f5f\"}, \"baxis\": {\"endlinecolor\": \"#2a3f5f\", \"gridcolor\": \"white\", \"linecolor\": \"white\", \"minorgridcolor\": \"white\", \"startlinecolor\": \"#2a3f5f\"}, \"type\": \"carpet\"}], \"choropleth\": [{\"colorbar\": {\"outlinewidth\": 0, \"ticks\": \"\"}, \"type\": \"choropleth\"}], \"contour\": [{\"colorbar\": {\"outlinewidth\": 0, \"ticks\": \"\"}, \"colorscale\": [[0.0, \"#0d0887\"], [0.1111111111111111, \"#46039f\"], [0.2222222222222222, \"#7201a8\"], [0.3333333333333333, \"#9c179e\"], [0.4444444444444444, \"#bd3786\"], [0.5555555555555556, \"#d8576b\"], [0.6666666666666666, \"#ed7953\"], [0.7777777777777778, \"#fb9f3a\"], [0.8888888888888888, \"#fdca26\"], [1.0, \"#f0f921\"]], \"type\": \"contour\"}], \"contourcarpet\": [{\"colorbar\": {\"outlinewidth\": 0, \"ticks\": \"\"}, \"type\": \"contourcarpet\"}], \"heatmap\": [{\"colorbar\": {\"outlinewidth\": 0, \"ticks\": \"\"}, \"colorscale\": [[0.0, \"#0d0887\"], [0.1111111111111111, \"#46039f\"], [0.2222222222222222, \"#7201a8\"], [0.3333333333333333, \"#9c179e\"], [0.4444444444444444, \"#bd3786\"], [0.5555555555555556, \"#d8576b\"], [0.6666666666666666, \"#ed7953\"], [0.7777777777777778, \"#fb9f3a\"], [0.8888888888888888, \"#fdca26\"], [1.0, \"#f0f921\"]], \"type\": \"heatmap\"}], \"heatmapgl\": [{\"colorbar\": {\"outlinewidth\": 0, \"ticks\": \"\"}, \"colorscale\": [[0.0, \"#0d0887\"], [0.1111111111111111, \"#46039f\"], [0.2222222222222222, \"#7201a8\"], [0.3333333333333333, \"#9c179e\"], [0.4444444444444444, \"#bd3786\"], [0.5555555555555556, \"#d8576b\"], [0.6666666666666666, \"#ed7953\"], [0.7777777777777778, \"#fb9f3a\"], [0.8888888888888888, \"#fdca26\"], [1.0, \"#f0f921\"]], \"type\": \"heatmapgl\"}], \"histogram\": [{\"marker\": {\"colorbar\": {\"outlinewidth\": 0, \"ticks\": \"\"}}, \"type\": \"histogram\"}], \"histogram2d\": [{\"colorbar\": {\"outlinewidth\": 0, \"ticks\": \"\"}, \"colorscale\": [[0.0, \"#0d0887\"], [0.1111111111111111, \"#46039f\"], [0.2222222222222222, \"#7201a8\"], [0.3333333333333333, \"#9c179e\"], [0.4444444444444444, \"#bd3786\"], [0.5555555555555556, \"#d8576b\"], [0.6666666666666666, \"#ed7953\"], [0.7777777777777778, \"#fb9f3a\"], [0.8888888888888888, \"#fdca26\"], [1.0, \"#f0f921\"]], \"type\": \"histogram2d\"}], \"histogram2dcontour\": [{\"colorbar\": {\"outlinewidth\": 0, \"ticks\": \"\"}, \"colorscale\": [[0.0, \"#0d0887\"], [0.1111111111111111, \"#46039f\"], [0.2222222222222222, \"#7201a8\"], [0.3333333333333333, \"#9c179e\"], [0.4444444444444444, \"#bd3786\"], [0.5555555555555556, \"#d8576b\"], [0.6666666666666666, \"#ed7953\"], [0.7777777777777778, \"#fb9f3a\"], [0.8888888888888888, \"#fdca26\"], [1.0, \"#f0f921\"]], \"type\": \"histogram2dcontour\"}], \"mesh3d\": [{\"colorbar\": {\"outlinewidth\": 0, \"ticks\": \"\"}, \"type\": \"mesh3d\"}], \"parcoords\": [{\"line\": {\"colorbar\": {\"outlinewidth\": 0, \"ticks\": \"\"}}, \"type\": \"parcoords\"}], \"pie\": [{\"automargin\": true, \"type\": \"pie\"}], \"scatter\": [{\"marker\": {\"colorbar\": {\"outlinewidth\": 0, \"ticks\": \"\"}}, \"type\": \"scatter\"}], \"scatter3d\": [{\"line\": {\"colorbar\": {\"outlinewidth\": 0, \"ticks\": \"\"}}, \"marker\": {\"colorbar\": {\"outlinewidth\": 0, \"ticks\": \"\"}}, \"type\": \"scatter3d\"}], \"scattercarpet\": [{\"marker\": {\"colorbar\": {\"outlinewidth\": 0, \"ticks\": \"\"}}, \"type\": \"scattercarpet\"}], \"scattergeo\": [{\"marker\": {\"colorbar\": {\"outlinewidth\": 0, \"ticks\": \"\"}}, \"type\": \"scattergeo\"}], \"scattergl\": [{\"marker\": {\"colorbar\": {\"outlinewidth\": 0, \"ticks\": \"\"}}, \"type\": \"scattergl\"}], \"scattermapbox\": [{\"marker\": {\"colorbar\": {\"outlinewidth\": 0, \"ticks\": \"\"}}, \"type\": \"scattermapbox\"}], \"scatterpolar\": [{\"marker\": {\"colorbar\": {\"outlinewidth\": 0, \"ticks\": \"\"}}, \"type\": \"scatterpolar\"}], \"scatterpolargl\": [{\"marker\": {\"colorbar\": {\"outlinewidth\": 0, \"ticks\": \"\"}}, \"type\": \"scatterpolargl\"}], \"scatterternary\": [{\"marker\": {\"colorbar\": {\"outlinewidth\": 0, \"ticks\": \"\"}}, \"type\": \"scatterternary\"}], \"surface\": [{\"colorbar\": {\"outlinewidth\": 0, \"ticks\": \"\"}, \"colorscale\": [[0.0, \"#0d0887\"], [0.1111111111111111, \"#46039f\"], [0.2222222222222222, \"#7201a8\"], [0.3333333333333333, \"#9c179e\"], [0.4444444444444444, \"#bd3786\"], [0.5555555555555556, \"#d8576b\"], [0.6666666666666666, \"#ed7953\"], [0.7777777777777778, \"#fb9f3a\"], [0.8888888888888888, \"#fdca26\"], [1.0, \"#f0f921\"]], \"type\": \"surface\"}], \"table\": [{\"cells\": {\"fill\": {\"color\": \"#EBF0F8\"}, \"line\": {\"color\": \"white\"}}, \"header\": {\"fill\": {\"color\": \"#C8D4E3\"}, \"line\": {\"color\": \"white\"}}, \"type\": \"table\"}]}, \"layout\": {\"annotationdefaults\": {\"arrowcolor\": \"#2a3f5f\", \"arrowhead\": 0, \"arrowwidth\": 1}, \"coloraxis\": {\"colorbar\": {\"outlinewidth\": 0, \"ticks\": \"\"}}, \"colorscale\": {\"diverging\": [[0, \"#8e0152\"], [0.1, \"#c51b7d\"], [0.2, \"#de77ae\"], [0.3, \"#f1b6da\"], [0.4, \"#fde0ef\"], [0.5, \"#f7f7f7\"], [0.6, \"#e6f5d0\"], [0.7, \"#b8e186\"], [0.8, \"#7fbc41\"], [0.9, \"#4d9221\"], [1, \"#276419\"]], \"sequential\": [[0.0, \"#0d0887\"], [0.1111111111111111, \"#46039f\"], [0.2222222222222222, \"#7201a8\"], [0.3333333333333333, \"#9c179e\"], [0.4444444444444444, \"#bd3786\"], [0.5555555555555556, \"#d8576b\"], [0.6666666666666666, \"#ed7953\"], [0.7777777777777778, \"#fb9f3a\"], [0.8888888888888888, \"#fdca26\"], [1.0, \"#f0f921\"]], \"sequentialminus\": [[0.0, \"#0d0887\"], [0.1111111111111111, \"#46039f\"], [0.2222222222222222, \"#7201a8\"], [0.3333333333333333, \"#9c179e\"], [0.4444444444444444, \"#bd3786\"], [0.5555555555555556, \"#d8576b\"], [0.6666666666666666, \"#ed7953\"], [0.7777777777777778, \"#fb9f3a\"], [0.8888888888888888, \"#fdca26\"], [1.0, \"#f0f921\"]]}, \"colorway\": [\"#636efa\", \"#EF553B\", \"#00cc96\", \"#ab63fa\", \"#FFA15A\", \"#19d3f3\", \"#FF6692\", \"#B6E880\", \"#FF97FF\", \"#FECB52\"], \"font\": {\"color\": \"#2a3f5f\"}, \"geo\": {\"bgcolor\": \"white\", \"lakecolor\": \"white\", \"landcolor\": \"#E5ECF6\", \"showlakes\": true, \"showland\": true, \"subunitcolor\": \"white\"}, \"hoverlabel\": {\"align\": \"left\"}, \"hovermode\": \"closest\", \"mapbox\": {\"style\": \"light\"}, \"paper_bgcolor\": \"white\", \"plot_bgcolor\": \"#E5ECF6\", \"polar\": {\"angularaxis\": {\"gridcolor\": \"white\", \"linecolor\": \"white\", \"ticks\": \"\"}, \"bgcolor\": \"#E5ECF6\", \"radialaxis\": {\"gridcolor\": \"white\", \"linecolor\": \"white\", \"ticks\": \"\"}}, \"scene\": {\"xaxis\": {\"backgroundcolor\": \"#E5ECF6\", \"gridcolor\": \"white\", \"gridwidth\": 2, \"linecolor\": \"white\", \"showbackground\": true, \"ticks\": \"\", \"zerolinecolor\": \"white\"}, \"yaxis\": {\"backgroundcolor\": \"#E5ECF6\", \"gridcolor\": \"white\", \"gridwidth\": 2, \"linecolor\": \"white\", \"showbackground\": true, \"ticks\": \"\", \"zerolinecolor\": \"white\"}, \"zaxis\": {\"backgroundcolor\": \"#E5ECF6\", \"gridcolor\": \"white\", \"gridwidth\": 2, \"linecolor\": \"white\", \"showbackground\": true, \"ticks\": \"\", \"zerolinecolor\": \"white\"}}, \"shapedefaults\": {\"line\": {\"color\": \"#2a3f5f\"}}, \"ternary\": {\"aaxis\": {\"gridcolor\": \"white\", \"linecolor\": \"white\", \"ticks\": \"\"}, \"baxis\": {\"gridcolor\": \"white\", \"linecolor\": \"white\", \"ticks\": \"\"}, \"bgcolor\": \"#E5ECF6\", \"caxis\": {\"gridcolor\": \"white\", \"linecolor\": \"white\", \"ticks\": \"\"}}, \"title\": {\"x\": 0.05}, \"xaxis\": {\"automargin\": true, \"gridcolor\": \"white\", \"linecolor\": \"white\", \"ticks\": \"\", \"title\": {\"standoff\": 15}, \"zerolinecolor\": \"white\", \"zerolinewidth\": 2}, \"yaxis\": {\"automargin\": true, \"gridcolor\": \"white\", \"linecolor\": \"white\", \"ticks\": \"\", \"title\": {\"standoff\": 15}, \"zerolinecolor\": \"white\", \"zerolinewidth\": 2}}}, \"title\": {\"text\": \"Evolution of market cap\"}, \"xaxis\": {\"anchor\": \"y\", \"domain\": [0.0, 1.0], \"title\": {\"text\": \"year\"}}, \"yaxis\": {\"anchor\": \"x\", \"domain\": [0.0, 1.0], \"title\": {\"text\": \"Market Cap\"}}},\n",
       "                        {\"responsive\": true}\n",
       "                    ).then(function(){\n",
       "                            \n",
       "var gd = document.getElementById('f890a16c-944f-4e81-a4de-2bc8d161b608');\n",
       "var x = new MutationObserver(function (mutations, observer) {{\n",
       "        var display = window.getComputedStyle(gd).display;\n",
       "        if (!display || display === 'none') {{\n",
       "            console.log([gd, 'removed!']);\n",
       "            Plotly.purge(gd);\n",
       "            observer.disconnect();\n",
       "        }}\n",
       "}});\n",
       "\n",
       "// Listen for the removal of the full notebook cells\n",
       "var notebookContainer = gd.closest('#notebook-container');\n",
       "if (notebookContainer) {{\n",
       "    x.observe(notebookContainer, {childList: true});\n",
       "}}\n",
       "\n",
       "// Listen for the clearing of the current output cell\n",
       "var outputEl = gd.closest('.output');\n",
       "if (outputEl) {{\n",
       "    x.observe(outputEl, {childList: true});\n",
       "}}\n",
       "\n",
       "                        })\n",
       "                };\n",
       "                });\n",
       "            </script>\n",
       "        </div>"
      ]
     },
     "metadata": {},
     "output_type": "display_data"
    }
   ],
   "source": [
    "#Stacked barplot absolute\n",
    "stacked_bar_absolute = px.area(df_1, x=\"year\", y=\"Market Cap\", color=\"sector\", title=\"Evolution of market cap\")\n",
    "\n",
    "#Stacked barplot relative\n",
    "stacked_bar_relative = px.bar(df_1, x=\"year\", y=\"Relative_market_cap\", color=\"sector\", title=\"Evolution of market cap\")\n",
    "\n",
    "#Grouped barplot\n",
    "grouped_bar_absolute = px.bar(df_1, x=\"year\", y=\"Market Cap\", color=\"sector\",barmode=\"group\",title=\"Evolution of market cap\")\n",
    "\n",
    "\n",
    "stacked_bar_absolute.show()\n",
    "stacked_bar_relative.show()\n",
    "grouped_bar_absolute.show()"
   ]
  },
  {
   "cell_type": "markdown",
   "metadata": {},
   "source": [
    "## Revenue"
   ]
  },
  {
   "cell_type": "code",
   "execution_count": 7,
   "metadata": {
    "ExecuteTime": {
     "end_time": "2020-05-10T15:49:39.940136Z",
     "start_time": "2020-05-10T15:49:38.281545Z"
    }
   },
   "outputs": [
    {
     "data": {
      "application/vnd.plotly.v1+json": {
       "config": {
        "plotlyServerURL": "https://plot.ly"
       },
       "data": [
        {
         "alignmentgroup": "True",
         "hoverlabel": {
          "namelength": 0
         },
         "hovertemplate": "sector=Basic Materials<br>year=%{x}<br>Revenue=%{y}",
         "legendgroup": "Basic Materials",
         "marker": {
          "color": "#636efa"
         },
         "name": "Basic Materials",
         "offsetgroup": "Basic Materials",
         "orientation": "v",
         "showlegend": true,
         "textposition": "auto",
         "type": "bar",
         "x": [
          2009,
          2010,
          2011,
          2012,
          2013,
          2014,
          2015,
          2016,
          2017,
          2018
         ],
         "xaxis": "x",
         "y": [
          218882303000,
          172566453000,
          248701510000,
          250481078000,
          283495550000,
          298061075000,
          271236955000,
          276149093000,
          302111666000,
          324545402000
         ],
         "yaxis": "y"
        },
        {
         "alignmentgroup": "True",
         "hoverlabel": {
          "namelength": 0
         },
         "hovertemplate": "sector=Communication Services<br>year=%{x}<br>Revenue=%{y}",
         "legendgroup": "Communication Services",
         "marker": {
          "color": "#EF553B"
         },
         "name": "Communication Services",
         "offsetgroup": "Communication Services",
         "orientation": "v",
         "showlegend": true,
         "textposition": "auto",
         "type": "bar",
         "x": [
          2009,
          2010,
          2011,
          2012,
          2013,
          2014,
          2015,
          2016,
          2017,
          2018
         ],
         "xaxis": "x",
         "y": [
          250909047000,
          262360857000,
          280547672000,
          290865818000,
          298497700000,
          312440087000,
          334333402000,
          367583024000,
          380292662000,
          407417438000
         ],
         "yaxis": "y"
        },
        {
         "alignmentgroup": "True",
         "hoverlabel": {
          "namelength": 0
         },
         "hovertemplate": "sector=Consumer Cyclical<br>year=%{x}<br>Revenue=%{y}",
         "legendgroup": "Consumer Cyclical",
         "marker": {
          "color": "#00cc96"
         },
         "name": "Consumer Cyclical",
         "offsetgroup": "Consumer Cyclical",
         "orientation": "v",
         "showlegend": true,
         "textposition": "auto",
         "type": "bar",
         "x": [
          2009,
          2010,
          2011,
          2012,
          2013,
          2014,
          2015,
          2016,
          2017,
          2018
         ],
         "xaxis": "x",
         "y": [
          498279580000,
          614823293000,
          990022541000,
          1123947868000,
          1242108017000,
          1281810983000,
          1323918826000,
          1433727327000,
          1419905204000,
          1482062443000
         ],
         "yaxis": "y"
        },
        {
         "alignmentgroup": "True",
         "hoverlabel": {
          "namelength": 0
         },
         "hovertemplate": "sector=Consumer Defensive<br>year=%{x}<br>Revenue=%{y}",
         "legendgroup": "Consumer Defensive",
         "marker": {
          "color": "#ab63fa"
         },
         "name": "Consumer Defensive",
         "offsetgroup": "Consumer Defensive",
         "orientation": "v",
         "showlegend": true,
         "textposition": "auto",
         "type": "bar",
         "x": [
          2009,
          2010,
          2011,
          2012,
          2013,
          2014,
          2015,
          2016,
          2017,
          2018
         ],
         "xaxis": "x",
         "y": [
          588110968000,
          1206603754000,
          1317049496000,
          1361546951000,
          1429341222000,
          1430983570000,
          1442859893000,
          1491620079000,
          1489971127000,
          1493338043000
         ],
         "yaxis": "y"
        },
        {
         "alignmentgroup": "True",
         "hoverlabel": {
          "namelength": 0
         },
         "hovertemplate": "sector=Energy<br>year=%{x}<br>Revenue=%{y}",
         "legendgroup": "Energy",
         "marker": {
          "color": "#FFA15A"
         },
         "name": "Energy",
         "offsetgroup": "Energy",
         "orientation": "v",
         "showlegend": true,
         "textposition": "auto",
         "type": "bar",
         "x": [
          2009,
          2010,
          2011,
          2012,
          2013,
          2014,
          2015,
          2016,
          2017,
          2018
         ],
         "xaxis": "x",
         "y": [
          1026162201000,
          1092886269000,
          1278586279000,
          1436461458000,
          1402184249000,
          1349352163000,
          901626172000,
          743025756000,
          893806684000,
          1068732441000
         ],
         "yaxis": "y"
        },
        {
         "alignmentgroup": "True",
         "hoverlabel": {
          "namelength": 0
         },
         "hovertemplate": "sector=Financial Services<br>year=%{x}<br>Revenue=%{y}",
         "legendgroup": "Financial Services",
         "marker": {
          "color": "#19d3f3"
         },
         "name": "Financial Services",
         "offsetgroup": "Financial Services",
         "orientation": "v",
         "showlegend": true,
         "textposition": "auto",
         "type": "bar",
         "x": [
          2009,
          2010,
          2011,
          2012,
          2013,
          2014,
          2015,
          2016,
          2017,
          2018
         ],
         "xaxis": "x",
         "y": [
          954567551000,
          554586563000,
          757701188000,
          846099868000,
          931211800000,
          1000999506000,
          1000000738000,
          1009376807000,
          1085827489000,
          1159515803000
         ],
         "yaxis": "y"
        },
        {
         "alignmentgroup": "True",
         "hoverlabel": {
          "namelength": 0
         },
         "hovertemplate": "sector=Healthcare<br>year=%{x}<br>Revenue=%{y}",
         "legendgroup": "Healthcare",
         "marker": {
          "color": "#FF6692"
         },
         "name": "Healthcare",
         "offsetgroup": "Healthcare",
         "orientation": "v",
         "showlegend": true,
         "textposition": "auto",
         "type": "bar",
         "x": [
          2009,
          2010,
          2011,
          2012,
          2013,
          2014,
          2015,
          2016,
          2017,
          2018
         ],
         "xaxis": "x",
         "y": [
          855995569000,
          827936620000,
          969725081000,
          1348269213000,
          1460246300000,
          1580302299000,
          1694423725000,
          1946281472000,
          2124643843000,
          2106740074000
         ],
         "yaxis": "y"
        },
        {
         "alignmentgroup": "True",
         "hoverlabel": {
          "namelength": 0
         },
         "hovertemplate": "sector=Industrials<br>year=%{x}<br>Revenue=%{y}",
         "legendgroup": "Industrials",
         "marker": {
          "color": "#B6E880"
         },
         "name": "Industrials",
         "offsetgroup": "Industrials",
         "orientation": "v",
         "showlegend": true,
         "textposition": "auto",
         "type": "bar",
         "x": [
          2009,
          2010,
          2011,
          2012,
          2013,
          2014,
          2015,
          2016,
          2017,
          2018
         ],
         "xaxis": "x",
         "y": [
          976462444000,
          872162504000,
          1084241029000,
          1202710787000,
          1226434074000,
          1231905927000,
          1231663789000,
          1242742512000,
          1293586056000,
          1396409979000
         ],
         "yaxis": "y"
        },
        {
         "alignmentgroup": "True",
         "hoverlabel": {
          "namelength": 0
         },
         "hovertemplate": "sector=Real Estate<br>year=%{x}<br>Revenue=%{y}",
         "legendgroup": "Real Estate",
         "marker": {
          "color": "#FF97FF"
         },
         "name": "Real Estate",
         "offsetgroup": "Real Estate",
         "orientation": "v",
         "showlegend": true,
         "textposition": "auto",
         "type": "bar",
         "x": [
          2009,
          2010,
          2011,
          2012,
          2013,
          2014,
          2015,
          2016,
          2017,
          2018
         ],
         "xaxis": "x",
         "y": [
          34381347000,
          28768819000,
          39444999000,
          46305941000,
          51050784000,
          56065282000,
          61188803000,
          65775775000,
          69347622000,
          81766332000
         ],
         "yaxis": "y"
        },
        {
         "alignmentgroup": "True",
         "hoverlabel": {
          "namelength": 0
         },
         "hovertemplate": "sector=Technology<br>year=%{x}<br>Revenue=%{y}",
         "legendgroup": "Technology",
         "marker": {
          "color": "#FECB52"
         },
         "name": "Technology",
         "offsetgroup": "Technology",
         "orientation": "v",
         "showlegend": true,
         "textposition": "auto",
         "type": "bar",
         "x": [
          2009,
          2010,
          2011,
          2012,
          2013,
          2014,
          2015,
          2016,
          2017,
          2018
         ],
         "xaxis": "x",
         "y": [
          630798750000,
          700022656000,
          883077805000,
          992707608000,
          1104981036000,
          1186345873000,
          1331347677000,
          1360953965000,
          1486620780000,
          1745914800000
         ],
         "yaxis": "y"
        },
        {
         "alignmentgroup": "True",
         "hoverlabel": {
          "namelength": 0
         },
         "hovertemplate": "sector=Utilities<br>year=%{x}<br>Revenue=%{y}",
         "legendgroup": "Utilities",
         "marker": {
          "color": "#636efa"
         },
         "name": "Utilities",
         "offsetgroup": "Utilities",
         "orientation": "v",
         "showlegend": true,
         "textposition": "auto",
         "type": "bar",
         "x": [
          2009,
          2010,
          2011,
          2012,
          2013,
          2014,
          2015,
          2016,
          2017,
          2018
         ],
         "xaxis": "x",
         "y": [
          266227285000,
          206924891000,
          226495785000,
          278710895000,
          290733294000,
          313763217000,
          309099942000,
          307601737000,
          316117314000,
          324981700000
         ],
         "yaxis": "y"
        }
       ],
       "layout": {
        "barmode": "relative",
        "legend": {
         "title": {
          "text": "sector"
         },
         "tracegroupgap": 0
        },
        "template": {
         "data": {
          "bar": [
           {
            "error_x": {
             "color": "#2a3f5f"
            },
            "error_y": {
             "color": "#2a3f5f"
            },
            "marker": {
             "line": {
              "color": "#E5ECF6",
              "width": 0.5
             }
            },
            "type": "bar"
           }
          ],
          "barpolar": [
           {
            "marker": {
             "line": {
              "color": "#E5ECF6",
              "width": 0.5
             }
            },
            "type": "barpolar"
           }
          ],
          "carpet": [
           {
            "aaxis": {
             "endlinecolor": "#2a3f5f",
             "gridcolor": "white",
             "linecolor": "white",
             "minorgridcolor": "white",
             "startlinecolor": "#2a3f5f"
            },
            "baxis": {
             "endlinecolor": "#2a3f5f",
             "gridcolor": "white",
             "linecolor": "white",
             "minorgridcolor": "white",
             "startlinecolor": "#2a3f5f"
            },
            "type": "carpet"
           }
          ],
          "choropleth": [
           {
            "colorbar": {
             "outlinewidth": 0,
             "ticks": ""
            },
            "type": "choropleth"
           }
          ],
          "contour": [
           {
            "colorbar": {
             "outlinewidth": 0,
             "ticks": ""
            },
            "colorscale": [
             [
              0,
              "#0d0887"
             ],
             [
              0.1111111111111111,
              "#46039f"
             ],
             [
              0.2222222222222222,
              "#7201a8"
             ],
             [
              0.3333333333333333,
              "#9c179e"
             ],
             [
              0.4444444444444444,
              "#bd3786"
             ],
             [
              0.5555555555555556,
              "#d8576b"
             ],
             [
              0.6666666666666666,
              "#ed7953"
             ],
             [
              0.7777777777777778,
              "#fb9f3a"
             ],
             [
              0.8888888888888888,
              "#fdca26"
             ],
             [
              1,
              "#f0f921"
             ]
            ],
            "type": "contour"
           }
          ],
          "contourcarpet": [
           {
            "colorbar": {
             "outlinewidth": 0,
             "ticks": ""
            },
            "type": "contourcarpet"
           }
          ],
          "heatmap": [
           {
            "colorbar": {
             "outlinewidth": 0,
             "ticks": ""
            },
            "colorscale": [
             [
              0,
              "#0d0887"
             ],
             [
              0.1111111111111111,
              "#46039f"
             ],
             [
              0.2222222222222222,
              "#7201a8"
             ],
             [
              0.3333333333333333,
              "#9c179e"
             ],
             [
              0.4444444444444444,
              "#bd3786"
             ],
             [
              0.5555555555555556,
              "#d8576b"
             ],
             [
              0.6666666666666666,
              "#ed7953"
             ],
             [
              0.7777777777777778,
              "#fb9f3a"
             ],
             [
              0.8888888888888888,
              "#fdca26"
             ],
             [
              1,
              "#f0f921"
             ]
            ],
            "type": "heatmap"
           }
          ],
          "heatmapgl": [
           {
            "colorbar": {
             "outlinewidth": 0,
             "ticks": ""
            },
            "colorscale": [
             [
              0,
              "#0d0887"
             ],
             [
              0.1111111111111111,
              "#46039f"
             ],
             [
              0.2222222222222222,
              "#7201a8"
             ],
             [
              0.3333333333333333,
              "#9c179e"
             ],
             [
              0.4444444444444444,
              "#bd3786"
             ],
             [
              0.5555555555555556,
              "#d8576b"
             ],
             [
              0.6666666666666666,
              "#ed7953"
             ],
             [
              0.7777777777777778,
              "#fb9f3a"
             ],
             [
              0.8888888888888888,
              "#fdca26"
             ],
             [
              1,
              "#f0f921"
             ]
            ],
            "type": "heatmapgl"
           }
          ],
          "histogram": [
           {
            "marker": {
             "colorbar": {
              "outlinewidth": 0,
              "ticks": ""
             }
            },
            "type": "histogram"
           }
          ],
          "histogram2d": [
           {
            "colorbar": {
             "outlinewidth": 0,
             "ticks": ""
            },
            "colorscale": [
             [
              0,
              "#0d0887"
             ],
             [
              0.1111111111111111,
              "#46039f"
             ],
             [
              0.2222222222222222,
              "#7201a8"
             ],
             [
              0.3333333333333333,
              "#9c179e"
             ],
             [
              0.4444444444444444,
              "#bd3786"
             ],
             [
              0.5555555555555556,
              "#d8576b"
             ],
             [
              0.6666666666666666,
              "#ed7953"
             ],
             [
              0.7777777777777778,
              "#fb9f3a"
             ],
             [
              0.8888888888888888,
              "#fdca26"
             ],
             [
              1,
              "#f0f921"
             ]
            ],
            "type": "histogram2d"
           }
          ],
          "histogram2dcontour": [
           {
            "colorbar": {
             "outlinewidth": 0,
             "ticks": ""
            },
            "colorscale": [
             [
              0,
              "#0d0887"
             ],
             [
              0.1111111111111111,
              "#46039f"
             ],
             [
              0.2222222222222222,
              "#7201a8"
             ],
             [
              0.3333333333333333,
              "#9c179e"
             ],
             [
              0.4444444444444444,
              "#bd3786"
             ],
             [
              0.5555555555555556,
              "#d8576b"
             ],
             [
              0.6666666666666666,
              "#ed7953"
             ],
             [
              0.7777777777777778,
              "#fb9f3a"
             ],
             [
              0.8888888888888888,
              "#fdca26"
             ],
             [
              1,
              "#f0f921"
             ]
            ],
            "type": "histogram2dcontour"
           }
          ],
          "mesh3d": [
           {
            "colorbar": {
             "outlinewidth": 0,
             "ticks": ""
            },
            "type": "mesh3d"
           }
          ],
          "parcoords": [
           {
            "line": {
             "colorbar": {
              "outlinewidth": 0,
              "ticks": ""
             }
            },
            "type": "parcoords"
           }
          ],
          "pie": [
           {
            "automargin": true,
            "type": "pie"
           }
          ],
          "scatter": [
           {
            "marker": {
             "colorbar": {
              "outlinewidth": 0,
              "ticks": ""
             }
            },
            "type": "scatter"
           }
          ],
          "scatter3d": [
           {
            "line": {
             "colorbar": {
              "outlinewidth": 0,
              "ticks": ""
             }
            },
            "marker": {
             "colorbar": {
              "outlinewidth": 0,
              "ticks": ""
             }
            },
            "type": "scatter3d"
           }
          ],
          "scattercarpet": [
           {
            "marker": {
             "colorbar": {
              "outlinewidth": 0,
              "ticks": ""
             }
            },
            "type": "scattercarpet"
           }
          ],
          "scattergeo": [
           {
            "marker": {
             "colorbar": {
              "outlinewidth": 0,
              "ticks": ""
             }
            },
            "type": "scattergeo"
           }
          ],
          "scattergl": [
           {
            "marker": {
             "colorbar": {
              "outlinewidth": 0,
              "ticks": ""
             }
            },
            "type": "scattergl"
           }
          ],
          "scattermapbox": [
           {
            "marker": {
             "colorbar": {
              "outlinewidth": 0,
              "ticks": ""
             }
            },
            "type": "scattermapbox"
           }
          ],
          "scatterpolar": [
           {
            "marker": {
             "colorbar": {
              "outlinewidth": 0,
              "ticks": ""
             }
            },
            "type": "scatterpolar"
           }
          ],
          "scatterpolargl": [
           {
            "marker": {
             "colorbar": {
              "outlinewidth": 0,
              "ticks": ""
             }
            },
            "type": "scatterpolargl"
           }
          ],
          "scatterternary": [
           {
            "marker": {
             "colorbar": {
              "outlinewidth": 0,
              "ticks": ""
             }
            },
            "type": "scatterternary"
           }
          ],
          "surface": [
           {
            "colorbar": {
             "outlinewidth": 0,
             "ticks": ""
            },
            "colorscale": [
             [
              0,
              "#0d0887"
             ],
             [
              0.1111111111111111,
              "#46039f"
             ],
             [
              0.2222222222222222,
              "#7201a8"
             ],
             [
              0.3333333333333333,
              "#9c179e"
             ],
             [
              0.4444444444444444,
              "#bd3786"
             ],
             [
              0.5555555555555556,
              "#d8576b"
             ],
             [
              0.6666666666666666,
              "#ed7953"
             ],
             [
              0.7777777777777778,
              "#fb9f3a"
             ],
             [
              0.8888888888888888,
              "#fdca26"
             ],
             [
              1,
              "#f0f921"
             ]
            ],
            "type": "surface"
           }
          ],
          "table": [
           {
            "cells": {
             "fill": {
              "color": "#EBF0F8"
             },
             "line": {
              "color": "white"
             }
            },
            "header": {
             "fill": {
              "color": "#C8D4E3"
             },
             "line": {
              "color": "white"
             }
            },
            "type": "table"
           }
          ]
         },
         "layout": {
          "annotationdefaults": {
           "arrowcolor": "#2a3f5f",
           "arrowhead": 0,
           "arrowwidth": 1
          },
          "coloraxis": {
           "colorbar": {
            "outlinewidth": 0,
            "ticks": ""
           }
          },
          "colorscale": {
           "diverging": [
            [
             0,
             "#8e0152"
            ],
            [
             0.1,
             "#c51b7d"
            ],
            [
             0.2,
             "#de77ae"
            ],
            [
             0.3,
             "#f1b6da"
            ],
            [
             0.4,
             "#fde0ef"
            ],
            [
             0.5,
             "#f7f7f7"
            ],
            [
             0.6,
             "#e6f5d0"
            ],
            [
             0.7,
             "#b8e186"
            ],
            [
             0.8,
             "#7fbc41"
            ],
            [
             0.9,
             "#4d9221"
            ],
            [
             1,
             "#276419"
            ]
           ],
           "sequential": [
            [
             0,
             "#0d0887"
            ],
            [
             0.1111111111111111,
             "#46039f"
            ],
            [
             0.2222222222222222,
             "#7201a8"
            ],
            [
             0.3333333333333333,
             "#9c179e"
            ],
            [
             0.4444444444444444,
             "#bd3786"
            ],
            [
             0.5555555555555556,
             "#d8576b"
            ],
            [
             0.6666666666666666,
             "#ed7953"
            ],
            [
             0.7777777777777778,
             "#fb9f3a"
            ],
            [
             0.8888888888888888,
             "#fdca26"
            ],
            [
             1,
             "#f0f921"
            ]
           ],
           "sequentialminus": [
            [
             0,
             "#0d0887"
            ],
            [
             0.1111111111111111,
             "#46039f"
            ],
            [
             0.2222222222222222,
             "#7201a8"
            ],
            [
             0.3333333333333333,
             "#9c179e"
            ],
            [
             0.4444444444444444,
             "#bd3786"
            ],
            [
             0.5555555555555556,
             "#d8576b"
            ],
            [
             0.6666666666666666,
             "#ed7953"
            ],
            [
             0.7777777777777778,
             "#fb9f3a"
            ],
            [
             0.8888888888888888,
             "#fdca26"
            ],
            [
             1,
             "#f0f921"
            ]
           ]
          },
          "colorway": [
           "#636efa",
           "#EF553B",
           "#00cc96",
           "#ab63fa",
           "#FFA15A",
           "#19d3f3",
           "#FF6692",
           "#B6E880",
           "#FF97FF",
           "#FECB52"
          ],
          "font": {
           "color": "#2a3f5f"
          },
          "geo": {
           "bgcolor": "white",
           "lakecolor": "white",
           "landcolor": "#E5ECF6",
           "showlakes": true,
           "showland": true,
           "subunitcolor": "white"
          },
          "hoverlabel": {
           "align": "left"
          },
          "hovermode": "closest",
          "mapbox": {
           "style": "light"
          },
          "paper_bgcolor": "white",
          "plot_bgcolor": "#E5ECF6",
          "polar": {
           "angularaxis": {
            "gridcolor": "white",
            "linecolor": "white",
            "ticks": ""
           },
           "bgcolor": "#E5ECF6",
           "radialaxis": {
            "gridcolor": "white",
            "linecolor": "white",
            "ticks": ""
           }
          },
          "scene": {
           "xaxis": {
            "backgroundcolor": "#E5ECF6",
            "gridcolor": "white",
            "gridwidth": 2,
            "linecolor": "white",
            "showbackground": true,
            "ticks": "",
            "zerolinecolor": "white"
           },
           "yaxis": {
            "backgroundcolor": "#E5ECF6",
            "gridcolor": "white",
            "gridwidth": 2,
            "linecolor": "white",
            "showbackground": true,
            "ticks": "",
            "zerolinecolor": "white"
           },
           "zaxis": {
            "backgroundcolor": "#E5ECF6",
            "gridcolor": "white",
            "gridwidth": 2,
            "linecolor": "white",
            "showbackground": true,
            "ticks": "",
            "zerolinecolor": "white"
           }
          },
          "shapedefaults": {
           "line": {
            "color": "#2a3f5f"
           }
          },
          "ternary": {
           "aaxis": {
            "gridcolor": "white",
            "linecolor": "white",
            "ticks": ""
           },
           "baxis": {
            "gridcolor": "white",
            "linecolor": "white",
            "ticks": ""
           },
           "bgcolor": "#E5ECF6",
           "caxis": {
            "gridcolor": "white",
            "linecolor": "white",
            "ticks": ""
           }
          },
          "title": {
           "x": 0.05
          },
          "xaxis": {
           "automargin": true,
           "gridcolor": "white",
           "linecolor": "white",
           "ticks": "",
           "title": {
            "standoff": 15
           },
           "zerolinecolor": "white",
           "zerolinewidth": 2
          },
          "yaxis": {
           "automargin": true,
           "gridcolor": "white",
           "linecolor": "white",
           "ticks": "",
           "title": {
            "standoff": 15
           },
           "zerolinecolor": "white",
           "zerolinewidth": 2
          }
         }
        },
        "title": {
         "text": "Evolution of revenue"
        },
        "xaxis": {
         "anchor": "y",
         "domain": [
          0,
          1
         ],
         "title": {
          "text": "year"
         }
        },
        "yaxis": {
         "anchor": "x",
         "domain": [
          0,
          1
         ],
         "title": {
          "text": "Revenue"
         }
        }
       }
      },
      "text/html": [
       "<div>\n",
       "        \n",
       "        \n",
       "            <div id=\"671b8690-41ba-4d9c-8ad4-a2221f2d0940\" class=\"plotly-graph-div\" style=\"height:525px; width:100%;\"></div>\n",
       "            <script type=\"text/javascript\">\n",
       "                require([\"plotly\"], function(Plotly) {\n",
       "                    window.PLOTLYENV=window.PLOTLYENV || {};\n",
       "                    \n",
       "                if (document.getElementById(\"671b8690-41ba-4d9c-8ad4-a2221f2d0940\")) {\n",
       "                    Plotly.newPlot(\n",
       "                        '671b8690-41ba-4d9c-8ad4-a2221f2d0940',\n",
       "                        [{\"alignmentgroup\": \"True\", \"hoverlabel\": {\"namelength\": 0}, \"hovertemplate\": \"sector=Basic Materials<br>year=%{x}<br>Revenue=%{y}\", \"legendgroup\": \"Basic Materials\", \"marker\": {\"color\": \"#636efa\"}, \"name\": \"Basic Materials\", \"offsetgroup\": \"Basic Materials\", \"orientation\": \"v\", \"showlegend\": true, \"textposition\": \"auto\", \"type\": \"bar\", \"x\": [2009, 2010, 2011, 2012, 2013, 2014, 2015, 2016, 2017, 2018], \"xaxis\": \"x\", \"y\": [218882303000.0, 172566453000.0, 248701510000.0, 250481078000.0, 283495550000.0, 298061075000.0, 271236955000.0, 276149093000.0, 302111666000.0, 324545402000.0], \"yaxis\": \"y\"}, {\"alignmentgroup\": \"True\", \"hoverlabel\": {\"namelength\": 0}, \"hovertemplate\": \"sector=Communication Services<br>year=%{x}<br>Revenue=%{y}\", \"legendgroup\": \"Communication Services\", \"marker\": {\"color\": \"#EF553B\"}, \"name\": \"Communication Services\", \"offsetgroup\": \"Communication Services\", \"orientation\": \"v\", \"showlegend\": true, \"textposition\": \"auto\", \"type\": \"bar\", \"x\": [2009, 2010, 2011, 2012, 2013, 2014, 2015, 2016, 2017, 2018], \"xaxis\": \"x\", \"y\": [250909047000.0, 262360857000.0, 280547672000.0, 290865818000.0, 298497700000.0, 312440087000.0, 334333402000.0, 367583024000.0, 380292662000.0, 407417438000.0], \"yaxis\": \"y\"}, {\"alignmentgroup\": \"True\", \"hoverlabel\": {\"namelength\": 0}, \"hovertemplate\": \"sector=Consumer Cyclical<br>year=%{x}<br>Revenue=%{y}\", \"legendgroup\": \"Consumer Cyclical\", \"marker\": {\"color\": \"#00cc96\"}, \"name\": \"Consumer Cyclical\", \"offsetgroup\": \"Consumer Cyclical\", \"orientation\": \"v\", \"showlegend\": true, \"textposition\": \"auto\", \"type\": \"bar\", \"x\": [2009, 2010, 2011, 2012, 2013, 2014, 2015, 2016, 2017, 2018], \"xaxis\": \"x\", \"y\": [498279580000.0, 614823293000.0, 990022541000.0, 1123947868000.0, 1242108017000.0, 1281810983000.0, 1323918826000.0, 1433727327000.0, 1419905204000.0, 1482062443000.0], \"yaxis\": \"y\"}, {\"alignmentgroup\": \"True\", \"hoverlabel\": {\"namelength\": 0}, \"hovertemplate\": \"sector=Consumer Defensive<br>year=%{x}<br>Revenue=%{y}\", \"legendgroup\": \"Consumer Defensive\", \"marker\": {\"color\": \"#ab63fa\"}, \"name\": \"Consumer Defensive\", \"offsetgroup\": \"Consumer Defensive\", \"orientation\": \"v\", \"showlegend\": true, \"textposition\": \"auto\", \"type\": \"bar\", \"x\": [2009, 2010, 2011, 2012, 2013, 2014, 2015, 2016, 2017, 2018], \"xaxis\": \"x\", \"y\": [588110968000.0, 1206603754000.0, 1317049496000.0, 1361546951000.0, 1429341222000.0, 1430983570000.0, 1442859893000.0, 1491620079000.0, 1489971127000.0, 1493338043000.0], \"yaxis\": \"y\"}, {\"alignmentgroup\": \"True\", \"hoverlabel\": {\"namelength\": 0}, \"hovertemplate\": \"sector=Energy<br>year=%{x}<br>Revenue=%{y}\", \"legendgroup\": \"Energy\", \"marker\": {\"color\": \"#FFA15A\"}, \"name\": \"Energy\", \"offsetgroup\": \"Energy\", \"orientation\": \"v\", \"showlegend\": true, \"textposition\": \"auto\", \"type\": \"bar\", \"x\": [2009, 2010, 2011, 2012, 2013, 2014, 2015, 2016, 2017, 2018], \"xaxis\": \"x\", \"y\": [1026162201000.0, 1092886269000.0, 1278586279000.0, 1436461458000.0, 1402184249000.0, 1349352163000.0, 901626172000.0, 743025756000.0, 893806684000.0, 1068732441000.0], \"yaxis\": \"y\"}, {\"alignmentgroup\": \"True\", \"hoverlabel\": {\"namelength\": 0}, \"hovertemplate\": \"sector=Financial Services<br>year=%{x}<br>Revenue=%{y}\", \"legendgroup\": \"Financial Services\", \"marker\": {\"color\": \"#19d3f3\"}, \"name\": \"Financial Services\", \"offsetgroup\": \"Financial Services\", \"orientation\": \"v\", \"showlegend\": true, \"textposition\": \"auto\", \"type\": \"bar\", \"x\": [2009, 2010, 2011, 2012, 2013, 2014, 2015, 2016, 2017, 2018], \"xaxis\": \"x\", \"y\": [954567551000.0, 554586563000.0, 757701188000.0, 846099868000.0, 931211800000.0, 1000999506000.0, 1000000738000.0, 1009376807000.0, 1085827489000.0, 1159515803000.0], \"yaxis\": \"y\"}, {\"alignmentgroup\": \"True\", \"hoverlabel\": {\"namelength\": 0}, \"hovertemplate\": \"sector=Healthcare<br>year=%{x}<br>Revenue=%{y}\", \"legendgroup\": \"Healthcare\", \"marker\": {\"color\": \"#FF6692\"}, \"name\": \"Healthcare\", \"offsetgroup\": \"Healthcare\", \"orientation\": \"v\", \"showlegend\": true, \"textposition\": \"auto\", \"type\": \"bar\", \"x\": [2009, 2010, 2011, 2012, 2013, 2014, 2015, 2016, 2017, 2018], \"xaxis\": \"x\", \"y\": [855995569000.0, 827936620000.0, 969725081000.0, 1348269213000.0, 1460246300000.0, 1580302299000.0, 1694423725000.0, 1946281472000.0, 2124643843000.0, 2106740074000.0], \"yaxis\": \"y\"}, {\"alignmentgroup\": \"True\", \"hoverlabel\": {\"namelength\": 0}, \"hovertemplate\": \"sector=Industrials<br>year=%{x}<br>Revenue=%{y}\", \"legendgroup\": \"Industrials\", \"marker\": {\"color\": \"#B6E880\"}, \"name\": \"Industrials\", \"offsetgroup\": \"Industrials\", \"orientation\": \"v\", \"showlegend\": true, \"textposition\": \"auto\", \"type\": \"bar\", \"x\": [2009, 2010, 2011, 2012, 2013, 2014, 2015, 2016, 2017, 2018], \"xaxis\": \"x\", \"y\": [976462444000.0, 872162504000.0, 1084241029000.0, 1202710787000.0, 1226434074000.0, 1231905927000.0, 1231663789000.0, 1242742512000.0, 1293586056000.0, 1396409979000.0], \"yaxis\": \"y\"}, {\"alignmentgroup\": \"True\", \"hoverlabel\": {\"namelength\": 0}, \"hovertemplate\": \"sector=Real Estate<br>year=%{x}<br>Revenue=%{y}\", \"legendgroup\": \"Real Estate\", \"marker\": {\"color\": \"#FF97FF\"}, \"name\": \"Real Estate\", \"offsetgroup\": \"Real Estate\", \"orientation\": \"v\", \"showlegend\": true, \"textposition\": \"auto\", \"type\": \"bar\", \"x\": [2009, 2010, 2011, 2012, 2013, 2014, 2015, 2016, 2017, 2018], \"xaxis\": \"x\", \"y\": [34381347000.0, 28768819000.0, 39444999000.0, 46305941000.0, 51050784000.0, 56065282000.0, 61188803000.0, 65775775000.0, 69347622000.0, 81766332000.0], \"yaxis\": \"y\"}, {\"alignmentgroup\": \"True\", \"hoverlabel\": {\"namelength\": 0}, \"hovertemplate\": \"sector=Technology<br>year=%{x}<br>Revenue=%{y}\", \"legendgroup\": \"Technology\", \"marker\": {\"color\": \"#FECB52\"}, \"name\": \"Technology\", \"offsetgroup\": \"Technology\", \"orientation\": \"v\", \"showlegend\": true, \"textposition\": \"auto\", \"type\": \"bar\", \"x\": [2009, 2010, 2011, 2012, 2013, 2014, 2015, 2016, 2017, 2018], \"xaxis\": \"x\", \"y\": [630798750000.0, 700022656000.0, 883077805000.0, 992707608000.0, 1104981036000.0, 1186345873000.0, 1331347677000.0, 1360953965000.0, 1486620780000.0, 1745914800000.0], \"yaxis\": \"y\"}, {\"alignmentgroup\": \"True\", \"hoverlabel\": {\"namelength\": 0}, \"hovertemplate\": \"sector=Utilities<br>year=%{x}<br>Revenue=%{y}\", \"legendgroup\": \"Utilities\", \"marker\": {\"color\": \"#636efa\"}, \"name\": \"Utilities\", \"offsetgroup\": \"Utilities\", \"orientation\": \"v\", \"showlegend\": true, \"textposition\": \"auto\", \"type\": \"bar\", \"x\": [2009, 2010, 2011, 2012, 2013, 2014, 2015, 2016, 2017, 2018], \"xaxis\": \"x\", \"y\": [266227285000.0, 206924891000.0, 226495785000.0, 278710895000.0, 290733294000.0, 313763217000.0, 309099942000.0, 307601737000.0, 316117314000.0, 324981700000.0], \"yaxis\": \"y\"}],\n",
       "                        {\"barmode\": \"relative\", \"legend\": {\"title\": {\"text\": \"sector\"}, \"tracegroupgap\": 0}, \"template\": {\"data\": {\"bar\": [{\"error_x\": {\"color\": \"#2a3f5f\"}, \"error_y\": {\"color\": \"#2a3f5f\"}, \"marker\": {\"line\": {\"color\": \"#E5ECF6\", \"width\": 0.5}}, \"type\": \"bar\"}], \"barpolar\": [{\"marker\": {\"line\": {\"color\": \"#E5ECF6\", \"width\": 0.5}}, \"type\": \"barpolar\"}], \"carpet\": [{\"aaxis\": {\"endlinecolor\": \"#2a3f5f\", \"gridcolor\": \"white\", \"linecolor\": \"white\", \"minorgridcolor\": \"white\", \"startlinecolor\": \"#2a3f5f\"}, \"baxis\": {\"endlinecolor\": \"#2a3f5f\", \"gridcolor\": \"white\", \"linecolor\": \"white\", \"minorgridcolor\": \"white\", \"startlinecolor\": \"#2a3f5f\"}, \"type\": \"carpet\"}], \"choropleth\": [{\"colorbar\": {\"outlinewidth\": 0, \"ticks\": \"\"}, \"type\": \"choropleth\"}], \"contour\": [{\"colorbar\": {\"outlinewidth\": 0, \"ticks\": \"\"}, \"colorscale\": [[0.0, \"#0d0887\"], [0.1111111111111111, \"#46039f\"], [0.2222222222222222, \"#7201a8\"], [0.3333333333333333, \"#9c179e\"], [0.4444444444444444, \"#bd3786\"], [0.5555555555555556, \"#d8576b\"], [0.6666666666666666, \"#ed7953\"], [0.7777777777777778, \"#fb9f3a\"], [0.8888888888888888, \"#fdca26\"], [1.0, \"#f0f921\"]], \"type\": \"contour\"}], \"contourcarpet\": [{\"colorbar\": {\"outlinewidth\": 0, \"ticks\": \"\"}, \"type\": \"contourcarpet\"}], \"heatmap\": [{\"colorbar\": {\"outlinewidth\": 0, \"ticks\": \"\"}, \"colorscale\": [[0.0, \"#0d0887\"], [0.1111111111111111, \"#46039f\"], [0.2222222222222222, \"#7201a8\"], [0.3333333333333333, \"#9c179e\"], [0.4444444444444444, \"#bd3786\"], [0.5555555555555556, \"#d8576b\"], [0.6666666666666666, \"#ed7953\"], [0.7777777777777778, \"#fb9f3a\"], [0.8888888888888888, \"#fdca26\"], [1.0, \"#f0f921\"]], \"type\": \"heatmap\"}], \"heatmapgl\": [{\"colorbar\": {\"outlinewidth\": 0, \"ticks\": \"\"}, \"colorscale\": [[0.0, \"#0d0887\"], [0.1111111111111111, \"#46039f\"], [0.2222222222222222, \"#7201a8\"], [0.3333333333333333, \"#9c179e\"], [0.4444444444444444, \"#bd3786\"], [0.5555555555555556, \"#d8576b\"], [0.6666666666666666, \"#ed7953\"], [0.7777777777777778, \"#fb9f3a\"], [0.8888888888888888, \"#fdca26\"], [1.0, \"#f0f921\"]], \"type\": \"heatmapgl\"}], \"histogram\": [{\"marker\": {\"colorbar\": {\"outlinewidth\": 0, \"ticks\": \"\"}}, \"type\": \"histogram\"}], \"histogram2d\": [{\"colorbar\": {\"outlinewidth\": 0, \"ticks\": \"\"}, \"colorscale\": [[0.0, \"#0d0887\"], [0.1111111111111111, \"#46039f\"], [0.2222222222222222, \"#7201a8\"], [0.3333333333333333, \"#9c179e\"], [0.4444444444444444, \"#bd3786\"], [0.5555555555555556, \"#d8576b\"], [0.6666666666666666, \"#ed7953\"], [0.7777777777777778, \"#fb9f3a\"], [0.8888888888888888, \"#fdca26\"], [1.0, \"#f0f921\"]], \"type\": \"histogram2d\"}], \"histogram2dcontour\": [{\"colorbar\": {\"outlinewidth\": 0, \"ticks\": \"\"}, \"colorscale\": [[0.0, \"#0d0887\"], [0.1111111111111111, \"#46039f\"], [0.2222222222222222, \"#7201a8\"], [0.3333333333333333, \"#9c179e\"], [0.4444444444444444, \"#bd3786\"], [0.5555555555555556, \"#d8576b\"], [0.6666666666666666, \"#ed7953\"], [0.7777777777777778, \"#fb9f3a\"], [0.8888888888888888, \"#fdca26\"], [1.0, \"#f0f921\"]], \"type\": \"histogram2dcontour\"}], \"mesh3d\": [{\"colorbar\": {\"outlinewidth\": 0, \"ticks\": \"\"}, \"type\": \"mesh3d\"}], \"parcoords\": [{\"line\": {\"colorbar\": {\"outlinewidth\": 0, \"ticks\": \"\"}}, \"type\": \"parcoords\"}], \"pie\": [{\"automargin\": true, \"type\": \"pie\"}], \"scatter\": [{\"marker\": {\"colorbar\": {\"outlinewidth\": 0, \"ticks\": \"\"}}, \"type\": \"scatter\"}], \"scatter3d\": [{\"line\": {\"colorbar\": {\"outlinewidth\": 0, \"ticks\": \"\"}}, \"marker\": {\"colorbar\": {\"outlinewidth\": 0, \"ticks\": \"\"}}, \"type\": \"scatter3d\"}], \"scattercarpet\": [{\"marker\": {\"colorbar\": {\"outlinewidth\": 0, \"ticks\": \"\"}}, \"type\": \"scattercarpet\"}], \"scattergeo\": [{\"marker\": {\"colorbar\": {\"outlinewidth\": 0, \"ticks\": \"\"}}, \"type\": \"scattergeo\"}], \"scattergl\": [{\"marker\": {\"colorbar\": {\"outlinewidth\": 0, \"ticks\": \"\"}}, \"type\": \"scattergl\"}], \"scattermapbox\": [{\"marker\": {\"colorbar\": {\"outlinewidth\": 0, \"ticks\": \"\"}}, \"type\": \"scattermapbox\"}], \"scatterpolar\": [{\"marker\": {\"colorbar\": {\"outlinewidth\": 0, \"ticks\": \"\"}}, \"type\": \"scatterpolar\"}], \"scatterpolargl\": [{\"marker\": {\"colorbar\": {\"outlinewidth\": 0, \"ticks\": \"\"}}, \"type\": \"scatterpolargl\"}], \"scatterternary\": [{\"marker\": {\"colorbar\": {\"outlinewidth\": 0, \"ticks\": \"\"}}, \"type\": \"scatterternary\"}], \"surface\": [{\"colorbar\": {\"outlinewidth\": 0, \"ticks\": \"\"}, \"colorscale\": [[0.0, \"#0d0887\"], [0.1111111111111111, \"#46039f\"], [0.2222222222222222, \"#7201a8\"], [0.3333333333333333, \"#9c179e\"], [0.4444444444444444, \"#bd3786\"], [0.5555555555555556, \"#d8576b\"], [0.6666666666666666, \"#ed7953\"], [0.7777777777777778, \"#fb9f3a\"], [0.8888888888888888, \"#fdca26\"], [1.0, \"#f0f921\"]], \"type\": \"surface\"}], \"table\": [{\"cells\": {\"fill\": {\"color\": \"#EBF0F8\"}, \"line\": {\"color\": \"white\"}}, \"header\": {\"fill\": {\"color\": \"#C8D4E3\"}, \"line\": {\"color\": \"white\"}}, \"type\": \"table\"}]}, \"layout\": {\"annotationdefaults\": {\"arrowcolor\": \"#2a3f5f\", \"arrowhead\": 0, \"arrowwidth\": 1}, \"coloraxis\": {\"colorbar\": {\"outlinewidth\": 0, \"ticks\": \"\"}}, \"colorscale\": {\"diverging\": [[0, \"#8e0152\"], [0.1, \"#c51b7d\"], [0.2, \"#de77ae\"], [0.3, \"#f1b6da\"], [0.4, \"#fde0ef\"], [0.5, \"#f7f7f7\"], [0.6, \"#e6f5d0\"], [0.7, \"#b8e186\"], [0.8, \"#7fbc41\"], [0.9, \"#4d9221\"], [1, \"#276419\"]], \"sequential\": [[0.0, \"#0d0887\"], [0.1111111111111111, \"#46039f\"], [0.2222222222222222, \"#7201a8\"], [0.3333333333333333, \"#9c179e\"], [0.4444444444444444, \"#bd3786\"], [0.5555555555555556, \"#d8576b\"], [0.6666666666666666, \"#ed7953\"], [0.7777777777777778, \"#fb9f3a\"], [0.8888888888888888, \"#fdca26\"], [1.0, \"#f0f921\"]], \"sequentialminus\": [[0.0, \"#0d0887\"], [0.1111111111111111, \"#46039f\"], [0.2222222222222222, \"#7201a8\"], [0.3333333333333333, \"#9c179e\"], [0.4444444444444444, \"#bd3786\"], [0.5555555555555556, \"#d8576b\"], [0.6666666666666666, \"#ed7953\"], [0.7777777777777778, \"#fb9f3a\"], [0.8888888888888888, \"#fdca26\"], [1.0, \"#f0f921\"]]}, \"colorway\": [\"#636efa\", \"#EF553B\", \"#00cc96\", \"#ab63fa\", \"#FFA15A\", \"#19d3f3\", \"#FF6692\", \"#B6E880\", \"#FF97FF\", \"#FECB52\"], \"font\": {\"color\": \"#2a3f5f\"}, \"geo\": {\"bgcolor\": \"white\", \"lakecolor\": \"white\", \"landcolor\": \"#E5ECF6\", \"showlakes\": true, \"showland\": true, \"subunitcolor\": \"white\"}, \"hoverlabel\": {\"align\": \"left\"}, \"hovermode\": \"closest\", \"mapbox\": {\"style\": \"light\"}, \"paper_bgcolor\": \"white\", \"plot_bgcolor\": \"#E5ECF6\", \"polar\": {\"angularaxis\": {\"gridcolor\": \"white\", \"linecolor\": \"white\", \"ticks\": \"\"}, \"bgcolor\": \"#E5ECF6\", \"radialaxis\": {\"gridcolor\": \"white\", \"linecolor\": \"white\", \"ticks\": \"\"}}, \"scene\": {\"xaxis\": {\"backgroundcolor\": \"#E5ECF6\", \"gridcolor\": \"white\", \"gridwidth\": 2, \"linecolor\": \"white\", \"showbackground\": true, \"ticks\": \"\", \"zerolinecolor\": \"white\"}, \"yaxis\": {\"backgroundcolor\": \"#E5ECF6\", \"gridcolor\": \"white\", \"gridwidth\": 2, \"linecolor\": \"white\", \"showbackground\": true, \"ticks\": \"\", \"zerolinecolor\": \"white\"}, \"zaxis\": {\"backgroundcolor\": \"#E5ECF6\", \"gridcolor\": \"white\", \"gridwidth\": 2, \"linecolor\": \"white\", \"showbackground\": true, \"ticks\": \"\", \"zerolinecolor\": \"white\"}}, \"shapedefaults\": {\"line\": {\"color\": \"#2a3f5f\"}}, \"ternary\": {\"aaxis\": {\"gridcolor\": \"white\", \"linecolor\": \"white\", \"ticks\": \"\"}, \"baxis\": {\"gridcolor\": \"white\", \"linecolor\": \"white\", \"ticks\": \"\"}, \"bgcolor\": \"#E5ECF6\", \"caxis\": {\"gridcolor\": \"white\", \"linecolor\": \"white\", \"ticks\": \"\"}}, \"title\": {\"x\": 0.05}, \"xaxis\": {\"automargin\": true, \"gridcolor\": \"white\", \"linecolor\": \"white\", \"ticks\": \"\", \"title\": {\"standoff\": 15}, \"zerolinecolor\": \"white\", \"zerolinewidth\": 2}, \"yaxis\": {\"automargin\": true, \"gridcolor\": \"white\", \"linecolor\": \"white\", \"ticks\": \"\", \"title\": {\"standoff\": 15}, \"zerolinecolor\": \"white\", \"zerolinewidth\": 2}}}, \"title\": {\"text\": \"Evolution of revenue\"}, \"xaxis\": {\"anchor\": \"y\", \"domain\": [0.0, 1.0], \"title\": {\"text\": \"year\"}}, \"yaxis\": {\"anchor\": \"x\", \"domain\": [0.0, 1.0], \"title\": {\"text\": \"Revenue\"}}},\n",
       "                        {\"responsive\": true}\n",
       "                    ).then(function(){\n",
       "                            \n",
       "var gd = document.getElementById('671b8690-41ba-4d9c-8ad4-a2221f2d0940');\n",
       "var x = new MutationObserver(function (mutations, observer) {{\n",
       "        var display = window.getComputedStyle(gd).display;\n",
       "        if (!display || display === 'none') {{\n",
       "            console.log([gd, 'removed!']);\n",
       "            Plotly.purge(gd);\n",
       "            observer.disconnect();\n",
       "        }}\n",
       "}});\n",
       "\n",
       "// Listen for the removal of the full notebook cells\n",
       "var notebookContainer = gd.closest('#notebook-container');\n",
       "if (notebookContainer) {{\n",
       "    x.observe(notebookContainer, {childList: true});\n",
       "}}\n",
       "\n",
       "// Listen for the clearing of the current output cell\n",
       "var outputEl = gd.closest('.output');\n",
       "if (outputEl) {{\n",
       "    x.observe(outputEl, {childList: true});\n",
       "}}\n",
       "\n",
       "                        })\n",
       "                };\n",
       "                });\n",
       "            </script>\n",
       "        </div>"
      ]
     },
     "metadata": {},
     "output_type": "display_data"
    },
    {
     "data": {
      "application/vnd.plotly.v1+json": {
       "config": {
        "plotlyServerURL": "https://plot.ly"
       },
       "data": [
        {
         "alignmentgroup": "True",
         "hoverlabel": {
          "namelength": 0
         },
         "hovertemplate": "sector=Basic Materials<br>year=%{x}<br>Relative_revenue=%{y}",
         "legendgroup": "Basic Materials",
         "marker": {
          "color": "#636efa"
         },
         "name": "Basic Materials",
         "offsetgroup": "Basic Materials",
         "orientation": "v",
         "showlegend": true,
         "textposition": "auto",
         "type": "bar",
         "x": [
          2009,
          2010,
          2011,
          2012,
          2013,
          2014,
          2015,
          2016,
          2017,
          2018
         ],
         "xaxis": "x",
         "y": [
          3.4738937981259737,
          2.638774952554254,
          3.0796685536687654,
          2.729114672162722,
          2.91653566132122,
          2.968135681075086,
          2.739296859495355,
          2.6954950894352137,
          2.7813041481129606,
          2.7998750564259276
         ],
         "yaxis": "y"
        },
        {
         "alignmentgroup": "True",
         "hoverlabel": {
          "namelength": 0
         },
         "hovertemplate": "sector=Communication Services<br>year=%{x}<br>Relative_revenue=%{y}",
         "legendgroup": "Communication Services",
         "marker": {
          "color": "#EF553B"
         },
         "name": "Communication Services",
         "offsetgroup": "Communication Services",
         "orientation": "v",
         "showlegend": true,
         "textposition": "auto",
         "type": "bar",
         "x": [
          2009,
          2010,
          2011,
          2012,
          2013,
          2014,
          2015,
          2016,
          2017,
          2018
         ],
         "xaxis": "x",
         "y": [
          3.9821921202418933,
          4.0118530916450394,
          3.4740192902864933,
          3.169126298372175,
          3.070874258422621,
          3.111323980908624,
          3.3765252899369775,
          3.587982945689944,
          3.5010549983777195,
          3.514817696320827
         ],
         "yaxis": "y"
        },
        {
         "alignmentgroup": "True",
         "hoverlabel": {
          "namelength": 0
         },
         "hovertemplate": "sector=Consumer Cyclical<br>year=%{x}<br>Relative_revenue=%{y}",
         "legendgroup": "Consumer Cyclical",
         "marker": {
          "color": "#00cc96"
         },
         "name": "Consumer Cyclical",
         "offsetgroup": "Consumer Cyclical",
         "orientation": "v",
         "showlegend": true,
         "textposition": "auto",
         "type": "bar",
         "x": [
          2009,
          2010,
          2011,
          2012,
          2013,
          2014,
          2015,
          2016,
          2017,
          2018
         ],
         "xaxis": "x",
         "y": [
          7.908224278391365,
          9.401481444457373,
          12.259440189731643,
          12.245965411027218,
          12.778515665566829,
          12.764460824132202,
          13.370621574366874,
          13.994632129816827,
          13.071948813166253,
          12.785852582257114
         ],
         "yaxis": "y"
        },
        {
         "alignmentgroup": "True",
         "hoverlabel": {
          "namelength": 0
         },
         "hovertemplate": "sector=Consumer Defensive<br>year=%{x}<br>Relative_revenue=%{y}",
         "legendgroup": "Consumer Defensive",
         "marker": {
          "color": "#ab63fa"
         },
         "name": "Consumer Defensive",
         "offsetgroup": "Consumer Defensive",
         "orientation": "v",
         "showlegend": true,
         "textposition": "auto",
         "type": "bar",
         "x": [
          2009,
          2010,
          2011,
          2012,
          2013,
          2014,
          2015,
          2016,
          2017,
          2018
         ],
         "xaxis": "x",
         "y": [
          9.333943477125526,
          18.450606756767115,
          16.309012021907293,
          14.834724405060724,
          14.704726921320107,
          14.24994321432011,
          14.57184023315224,
          14.559724077194291,
          13.716990578224289,
          12.883127943398222
         ],
         "yaxis": "y"
        },
        {
         "alignmentgroup": "True",
         "hoverlabel": {
          "namelength": 0
         },
         "hovertemplate": "sector=Energy<br>year=%{x}<br>Relative_revenue=%{y}",
         "legendgroup": "Energy",
         "marker": {
          "color": "#FFA15A"
         },
         "name": "Energy",
         "offsetgroup": "Energy",
         "orientation": "v",
         "showlegend": true,
         "textposition": "auto",
         "type": "bar",
         "x": [
          2009,
          2010,
          2011,
          2012,
          2013,
          2014,
          2015,
          2016,
          2017,
          2018
         ],
         "xaxis": "x",
         "y": [
          16.286280147213176,
          16.711712285282186,
          15.832722352946947,
          15.650954843878688,
          14.425342358818025,
          13.437045750895669,
          9.105771525116918,
          7.252684609113988,
          8.228574125370884,
          9.220026797819475
         ],
         "yaxis": "y"
        },
        {
         "alignmentgroup": "True",
         "hoverlabel": {
          "namelength": 0
         },
         "hovertemplate": "sector=Financial Services<br>year=%{x}<br>Relative_revenue=%{y}",
         "legendgroup": "Financial Services",
         "marker": {
          "color": "#19d3f3"
         },
         "name": "Financial Services",
         "offsetgroup": "Financial Services",
         "orientation": "v",
         "showlegend": true,
         "textposition": "auto",
         "type": "bar",
         "x": [
          2009,
          2010,
          2011,
          2012,
          2013,
          2014,
          2015,
          2016,
          2017,
          2018
         ],
         "xaxis": "x",
         "y": [
          15.149997281009965,
          8.480380201518958,
          9.382606972354392,
          9.218674649243335,
          9.580088375084278,
          9.96809915718493,
          10.099283414741318,
          9.852540876019807,
          9.996358430232814,
          10.003220980315659
         ],
         "yaxis": "y"
        },
        {
         "alignmentgroup": "True",
         "hoverlabel": {
          "namelength": 0
         },
         "hovertemplate": "sector=Healthcare<br>year=%{x}<br>Relative_revenue=%{y}",
         "legendgroup": "Healthcare",
         "marker": {
          "color": "#FF6692"
         },
         "name": "Healthcare",
         "offsetgroup": "Healthcare",
         "orientation": "v",
         "showlegend": true,
         "textposition": "auto",
         "type": "bar",
         "x": [
          2009,
          2010,
          2011,
          2012,
          2013,
          2014,
          2015,
          2016,
          2017,
          2018
         ],
         "xaxis": "x",
         "y": [
          13.585555605070612,
          12.660273055264279,
          12.008096925746838,
          14.690056912097713,
          15.022671108108627,
          15.736880907870605,
          17.11245279444654,
          18.997680178637196,
          19.559922369229405,
          18.17498860626444
         ],
         "yaxis": "y"
        },
        {
         "alignmentgroup": "True",
         "hoverlabel": {
          "namelength": 0
         },
         "hovertemplate": "sector=Industrials<br>year=%{x}<br>Relative_revenue=%{y}",
         "legendgroup": "Industrials",
         "marker": {
          "color": "#B6E880"
         },
         "name": "Industrials",
         "offsetgroup": "Industrials",
         "orientation": "v",
         "showlegend": true,
         "textposition": "auto",
         "type": "bar",
         "x": [
          2009,
          2010,
          2011,
          2012,
          2013,
          2014,
          2015,
          2016,
          2017,
          2018
         ],
         "xaxis": "x",
         "y": [
          15.497492404922891,
          13.336546762725659,
          13.426146876264498,
          13.10412619339683,
          12.617265819800233,
          12.267498993810513,
          12.438912496867728,
          12.130426727595234,
          11.909027913850519,
          12.046923002613832
         ],
         "yaxis": "y"
        },
        {
         "alignmentgroup": "True",
         "hoverlabel": {
          "namelength": 0
         },
         "hovertemplate": "sector=Real Estate<br>year=%{x}<br>Relative_revenue=%{y}",
         "legendgroup": "Real Estate",
         "marker": {
          "color": "#FF97FF"
         },
         "name": "Real Estate",
         "offsetgroup": "Real Estate",
         "orientation": "v",
         "showlegend": true,
         "textposition": "auto",
         "type": "bar",
         "x": [
          2009,
          2010,
          2011,
          2012,
          2013,
          2014,
          2015,
          2016,
          2017,
          2018
         ],
         "xaxis": "x",
         "y": [
          0.5456683636708495,
          0.43991423403578284,
          0.4884470666052486,
          0.5045260264785404,
          0.5251984804502461,
          0.5583062597950328,
          0.6179626072493697,
          0.6420382431467754,
          0.6384289335267497,
          0.7054036569658167
         ],
         "yaxis": "y"
        },
        {
         "alignmentgroup": "True",
         "hoverlabel": {
          "namelength": 0
         },
         "hovertemplate": "sector=Technology<br>year=%{x}<br>Relative_revenue=%{y}",
         "legendgroup": "Technology",
         "marker": {
          "color": "#FECB52"
         },
         "name": "Technology",
         "offsetgroup": "Technology",
         "orientation": "v",
         "showlegend": true,
         "textposition": "auto",
         "type": "bar",
         "x": [
          2009,
          2010,
          2011,
          2012,
          2013,
          2014,
          2015,
          2016,
          2017,
          2018
         ],
         "xaxis": "x",
         "y": [
          10.011443755188452,
          10.704295178816146,
          10.935144489075833,
          10.816038160616507,
          11.367785478740906,
          11.813805327473478,
          13.445647590692559,
          13.284290343857416,
          13.686146572323775,
          15.062124648941603
         ],
         "yaxis": "y"
        },
        {
         "alignmentgroup": "True",
         "hoverlabel": {
          "namelength": 0
         },
         "hovertemplate": "sector=Utilities<br>year=%{x}<br>Relative_revenue=%{y}",
         "legendgroup": "Utilities",
         "marker": {
          "color": "#636efa"
         },
         "name": "Utilities",
         "offsetgroup": "Utilities",
         "orientation": "v",
         "showlegend": true,
         "textposition": "auto",
         "type": "bar",
         "x": [
          2009,
          2010,
          2011,
          2012,
          2013,
          2014,
          2015,
          2016,
          2017,
          2018
         ],
         "xaxis": "x",
         "y": [
          4.225308769039295,
          3.164162036933211,
          2.8046952614120504,
          3.0366924276655496,
          2.990995872366909,
          3.1244999025337505,
          3.1216856139341203,
          3.002504779493308,
          2.910243117584633,
          2.8036390286770843
         ],
         "yaxis": "y"
        }
       ],
       "layout": {
        "barmode": "relative",
        "legend": {
         "title": {
          "text": "sector"
         },
         "tracegroupgap": 0
        },
        "template": {
         "data": {
          "bar": [
           {
            "error_x": {
             "color": "#2a3f5f"
            },
            "error_y": {
             "color": "#2a3f5f"
            },
            "marker": {
             "line": {
              "color": "#E5ECF6",
              "width": 0.5
             }
            },
            "type": "bar"
           }
          ],
          "barpolar": [
           {
            "marker": {
             "line": {
              "color": "#E5ECF6",
              "width": 0.5
             }
            },
            "type": "barpolar"
           }
          ],
          "carpet": [
           {
            "aaxis": {
             "endlinecolor": "#2a3f5f",
             "gridcolor": "white",
             "linecolor": "white",
             "minorgridcolor": "white",
             "startlinecolor": "#2a3f5f"
            },
            "baxis": {
             "endlinecolor": "#2a3f5f",
             "gridcolor": "white",
             "linecolor": "white",
             "minorgridcolor": "white",
             "startlinecolor": "#2a3f5f"
            },
            "type": "carpet"
           }
          ],
          "choropleth": [
           {
            "colorbar": {
             "outlinewidth": 0,
             "ticks": ""
            },
            "type": "choropleth"
           }
          ],
          "contour": [
           {
            "colorbar": {
             "outlinewidth": 0,
             "ticks": ""
            },
            "colorscale": [
             [
              0,
              "#0d0887"
             ],
             [
              0.1111111111111111,
              "#46039f"
             ],
             [
              0.2222222222222222,
              "#7201a8"
             ],
             [
              0.3333333333333333,
              "#9c179e"
             ],
             [
              0.4444444444444444,
              "#bd3786"
             ],
             [
              0.5555555555555556,
              "#d8576b"
             ],
             [
              0.6666666666666666,
              "#ed7953"
             ],
             [
              0.7777777777777778,
              "#fb9f3a"
             ],
             [
              0.8888888888888888,
              "#fdca26"
             ],
             [
              1,
              "#f0f921"
             ]
            ],
            "type": "contour"
           }
          ],
          "contourcarpet": [
           {
            "colorbar": {
             "outlinewidth": 0,
             "ticks": ""
            },
            "type": "contourcarpet"
           }
          ],
          "heatmap": [
           {
            "colorbar": {
             "outlinewidth": 0,
             "ticks": ""
            },
            "colorscale": [
             [
              0,
              "#0d0887"
             ],
             [
              0.1111111111111111,
              "#46039f"
             ],
             [
              0.2222222222222222,
              "#7201a8"
             ],
             [
              0.3333333333333333,
              "#9c179e"
             ],
             [
              0.4444444444444444,
              "#bd3786"
             ],
             [
              0.5555555555555556,
              "#d8576b"
             ],
             [
              0.6666666666666666,
              "#ed7953"
             ],
             [
              0.7777777777777778,
              "#fb9f3a"
             ],
             [
              0.8888888888888888,
              "#fdca26"
             ],
             [
              1,
              "#f0f921"
             ]
            ],
            "type": "heatmap"
           }
          ],
          "heatmapgl": [
           {
            "colorbar": {
             "outlinewidth": 0,
             "ticks": ""
            },
            "colorscale": [
             [
              0,
              "#0d0887"
             ],
             [
              0.1111111111111111,
              "#46039f"
             ],
             [
              0.2222222222222222,
              "#7201a8"
             ],
             [
              0.3333333333333333,
              "#9c179e"
             ],
             [
              0.4444444444444444,
              "#bd3786"
             ],
             [
              0.5555555555555556,
              "#d8576b"
             ],
             [
              0.6666666666666666,
              "#ed7953"
             ],
             [
              0.7777777777777778,
              "#fb9f3a"
             ],
             [
              0.8888888888888888,
              "#fdca26"
             ],
             [
              1,
              "#f0f921"
             ]
            ],
            "type": "heatmapgl"
           }
          ],
          "histogram": [
           {
            "marker": {
             "colorbar": {
              "outlinewidth": 0,
              "ticks": ""
             }
            },
            "type": "histogram"
           }
          ],
          "histogram2d": [
           {
            "colorbar": {
             "outlinewidth": 0,
             "ticks": ""
            },
            "colorscale": [
             [
              0,
              "#0d0887"
             ],
             [
              0.1111111111111111,
              "#46039f"
             ],
             [
              0.2222222222222222,
              "#7201a8"
             ],
             [
              0.3333333333333333,
              "#9c179e"
             ],
             [
              0.4444444444444444,
              "#bd3786"
             ],
             [
              0.5555555555555556,
              "#d8576b"
             ],
             [
              0.6666666666666666,
              "#ed7953"
             ],
             [
              0.7777777777777778,
              "#fb9f3a"
             ],
             [
              0.8888888888888888,
              "#fdca26"
             ],
             [
              1,
              "#f0f921"
             ]
            ],
            "type": "histogram2d"
           }
          ],
          "histogram2dcontour": [
           {
            "colorbar": {
             "outlinewidth": 0,
             "ticks": ""
            },
            "colorscale": [
             [
              0,
              "#0d0887"
             ],
             [
              0.1111111111111111,
              "#46039f"
             ],
             [
              0.2222222222222222,
              "#7201a8"
             ],
             [
              0.3333333333333333,
              "#9c179e"
             ],
             [
              0.4444444444444444,
              "#bd3786"
             ],
             [
              0.5555555555555556,
              "#d8576b"
             ],
             [
              0.6666666666666666,
              "#ed7953"
             ],
             [
              0.7777777777777778,
              "#fb9f3a"
             ],
             [
              0.8888888888888888,
              "#fdca26"
             ],
             [
              1,
              "#f0f921"
             ]
            ],
            "type": "histogram2dcontour"
           }
          ],
          "mesh3d": [
           {
            "colorbar": {
             "outlinewidth": 0,
             "ticks": ""
            },
            "type": "mesh3d"
           }
          ],
          "parcoords": [
           {
            "line": {
             "colorbar": {
              "outlinewidth": 0,
              "ticks": ""
             }
            },
            "type": "parcoords"
           }
          ],
          "pie": [
           {
            "automargin": true,
            "type": "pie"
           }
          ],
          "scatter": [
           {
            "marker": {
             "colorbar": {
              "outlinewidth": 0,
              "ticks": ""
             }
            },
            "type": "scatter"
           }
          ],
          "scatter3d": [
           {
            "line": {
             "colorbar": {
              "outlinewidth": 0,
              "ticks": ""
             }
            },
            "marker": {
             "colorbar": {
              "outlinewidth": 0,
              "ticks": ""
             }
            },
            "type": "scatter3d"
           }
          ],
          "scattercarpet": [
           {
            "marker": {
             "colorbar": {
              "outlinewidth": 0,
              "ticks": ""
             }
            },
            "type": "scattercarpet"
           }
          ],
          "scattergeo": [
           {
            "marker": {
             "colorbar": {
              "outlinewidth": 0,
              "ticks": ""
             }
            },
            "type": "scattergeo"
           }
          ],
          "scattergl": [
           {
            "marker": {
             "colorbar": {
              "outlinewidth": 0,
              "ticks": ""
             }
            },
            "type": "scattergl"
           }
          ],
          "scattermapbox": [
           {
            "marker": {
             "colorbar": {
              "outlinewidth": 0,
              "ticks": ""
             }
            },
            "type": "scattermapbox"
           }
          ],
          "scatterpolar": [
           {
            "marker": {
             "colorbar": {
              "outlinewidth": 0,
              "ticks": ""
             }
            },
            "type": "scatterpolar"
           }
          ],
          "scatterpolargl": [
           {
            "marker": {
             "colorbar": {
              "outlinewidth": 0,
              "ticks": ""
             }
            },
            "type": "scatterpolargl"
           }
          ],
          "scatterternary": [
           {
            "marker": {
             "colorbar": {
              "outlinewidth": 0,
              "ticks": ""
             }
            },
            "type": "scatterternary"
           }
          ],
          "surface": [
           {
            "colorbar": {
             "outlinewidth": 0,
             "ticks": ""
            },
            "colorscale": [
             [
              0,
              "#0d0887"
             ],
             [
              0.1111111111111111,
              "#46039f"
             ],
             [
              0.2222222222222222,
              "#7201a8"
             ],
             [
              0.3333333333333333,
              "#9c179e"
             ],
             [
              0.4444444444444444,
              "#bd3786"
             ],
             [
              0.5555555555555556,
              "#d8576b"
             ],
             [
              0.6666666666666666,
              "#ed7953"
             ],
             [
              0.7777777777777778,
              "#fb9f3a"
             ],
             [
              0.8888888888888888,
              "#fdca26"
             ],
             [
              1,
              "#f0f921"
             ]
            ],
            "type": "surface"
           }
          ],
          "table": [
           {
            "cells": {
             "fill": {
              "color": "#EBF0F8"
             },
             "line": {
              "color": "white"
             }
            },
            "header": {
             "fill": {
              "color": "#C8D4E3"
             },
             "line": {
              "color": "white"
             }
            },
            "type": "table"
           }
          ]
         },
         "layout": {
          "annotationdefaults": {
           "arrowcolor": "#2a3f5f",
           "arrowhead": 0,
           "arrowwidth": 1
          },
          "coloraxis": {
           "colorbar": {
            "outlinewidth": 0,
            "ticks": ""
           }
          },
          "colorscale": {
           "diverging": [
            [
             0,
             "#8e0152"
            ],
            [
             0.1,
             "#c51b7d"
            ],
            [
             0.2,
             "#de77ae"
            ],
            [
             0.3,
             "#f1b6da"
            ],
            [
             0.4,
             "#fde0ef"
            ],
            [
             0.5,
             "#f7f7f7"
            ],
            [
             0.6,
             "#e6f5d0"
            ],
            [
             0.7,
             "#b8e186"
            ],
            [
             0.8,
             "#7fbc41"
            ],
            [
             0.9,
             "#4d9221"
            ],
            [
             1,
             "#276419"
            ]
           ],
           "sequential": [
            [
             0,
             "#0d0887"
            ],
            [
             0.1111111111111111,
             "#46039f"
            ],
            [
             0.2222222222222222,
             "#7201a8"
            ],
            [
             0.3333333333333333,
             "#9c179e"
            ],
            [
             0.4444444444444444,
             "#bd3786"
            ],
            [
             0.5555555555555556,
             "#d8576b"
            ],
            [
             0.6666666666666666,
             "#ed7953"
            ],
            [
             0.7777777777777778,
             "#fb9f3a"
            ],
            [
             0.8888888888888888,
             "#fdca26"
            ],
            [
             1,
             "#f0f921"
            ]
           ],
           "sequentialminus": [
            [
             0,
             "#0d0887"
            ],
            [
             0.1111111111111111,
             "#46039f"
            ],
            [
             0.2222222222222222,
             "#7201a8"
            ],
            [
             0.3333333333333333,
             "#9c179e"
            ],
            [
             0.4444444444444444,
             "#bd3786"
            ],
            [
             0.5555555555555556,
             "#d8576b"
            ],
            [
             0.6666666666666666,
             "#ed7953"
            ],
            [
             0.7777777777777778,
             "#fb9f3a"
            ],
            [
             0.8888888888888888,
             "#fdca26"
            ],
            [
             1,
             "#f0f921"
            ]
           ]
          },
          "colorway": [
           "#636efa",
           "#EF553B",
           "#00cc96",
           "#ab63fa",
           "#FFA15A",
           "#19d3f3",
           "#FF6692",
           "#B6E880",
           "#FF97FF",
           "#FECB52"
          ],
          "font": {
           "color": "#2a3f5f"
          },
          "geo": {
           "bgcolor": "white",
           "lakecolor": "white",
           "landcolor": "#E5ECF6",
           "showlakes": true,
           "showland": true,
           "subunitcolor": "white"
          },
          "hoverlabel": {
           "align": "left"
          },
          "hovermode": "closest",
          "mapbox": {
           "style": "light"
          },
          "paper_bgcolor": "white",
          "plot_bgcolor": "#E5ECF6",
          "polar": {
           "angularaxis": {
            "gridcolor": "white",
            "linecolor": "white",
            "ticks": ""
           },
           "bgcolor": "#E5ECF6",
           "radialaxis": {
            "gridcolor": "white",
            "linecolor": "white",
            "ticks": ""
           }
          },
          "scene": {
           "xaxis": {
            "backgroundcolor": "#E5ECF6",
            "gridcolor": "white",
            "gridwidth": 2,
            "linecolor": "white",
            "showbackground": true,
            "ticks": "",
            "zerolinecolor": "white"
           },
           "yaxis": {
            "backgroundcolor": "#E5ECF6",
            "gridcolor": "white",
            "gridwidth": 2,
            "linecolor": "white",
            "showbackground": true,
            "ticks": "",
            "zerolinecolor": "white"
           },
           "zaxis": {
            "backgroundcolor": "#E5ECF6",
            "gridcolor": "white",
            "gridwidth": 2,
            "linecolor": "white",
            "showbackground": true,
            "ticks": "",
            "zerolinecolor": "white"
           }
          },
          "shapedefaults": {
           "line": {
            "color": "#2a3f5f"
           }
          },
          "ternary": {
           "aaxis": {
            "gridcolor": "white",
            "linecolor": "white",
            "ticks": ""
           },
           "baxis": {
            "gridcolor": "white",
            "linecolor": "white",
            "ticks": ""
           },
           "bgcolor": "#E5ECF6",
           "caxis": {
            "gridcolor": "white",
            "linecolor": "white",
            "ticks": ""
           }
          },
          "title": {
           "x": 0.05
          },
          "xaxis": {
           "automargin": true,
           "gridcolor": "white",
           "linecolor": "white",
           "ticks": "",
           "title": {
            "standoff": 15
           },
           "zerolinecolor": "white",
           "zerolinewidth": 2
          },
          "yaxis": {
           "automargin": true,
           "gridcolor": "white",
           "linecolor": "white",
           "ticks": "",
           "title": {
            "standoff": 15
           },
           "zerolinecolor": "white",
           "zerolinewidth": 2
          }
         }
        },
        "title": {
         "text": "Evolution of revenue"
        },
        "xaxis": {
         "anchor": "y",
         "domain": [
          0,
          1
         ],
         "title": {
          "text": "year"
         }
        },
        "yaxis": {
         "anchor": "x",
         "domain": [
          0,
          1
         ],
         "title": {
          "text": "Relative_revenue"
         }
        }
       }
      },
      "text/html": [
       "<div>\n",
       "        \n",
       "        \n",
       "            <div id=\"e020352b-060b-4690-9444-82e8f4a39d6c\" class=\"plotly-graph-div\" style=\"height:525px; width:100%;\"></div>\n",
       "            <script type=\"text/javascript\">\n",
       "                require([\"plotly\"], function(Plotly) {\n",
       "                    window.PLOTLYENV=window.PLOTLYENV || {};\n",
       "                    \n",
       "                if (document.getElementById(\"e020352b-060b-4690-9444-82e8f4a39d6c\")) {\n",
       "                    Plotly.newPlot(\n",
       "                        'e020352b-060b-4690-9444-82e8f4a39d6c',\n",
       "                        [{\"alignmentgroup\": \"True\", \"hoverlabel\": {\"namelength\": 0}, \"hovertemplate\": \"sector=Basic Materials<br>year=%{x}<br>Relative_revenue=%{y}\", \"legendgroup\": \"Basic Materials\", \"marker\": {\"color\": \"#636efa\"}, \"name\": \"Basic Materials\", \"offsetgroup\": \"Basic Materials\", \"orientation\": \"v\", \"showlegend\": true, \"textposition\": \"auto\", \"type\": \"bar\", \"x\": [2009, 2010, 2011, 2012, 2013, 2014, 2015, 2016, 2017, 2018], \"xaxis\": \"x\", \"y\": [3.4738937981259737, 2.638774952554254, 3.0796685536687654, 2.729114672162722, 2.91653566132122, 2.968135681075086, 2.739296859495355, 2.6954950894352137, 2.7813041481129606, 2.7998750564259276], \"yaxis\": \"y\"}, {\"alignmentgroup\": \"True\", \"hoverlabel\": {\"namelength\": 0}, \"hovertemplate\": \"sector=Communication Services<br>year=%{x}<br>Relative_revenue=%{y}\", \"legendgroup\": \"Communication Services\", \"marker\": {\"color\": \"#EF553B\"}, \"name\": \"Communication Services\", \"offsetgroup\": \"Communication Services\", \"orientation\": \"v\", \"showlegend\": true, \"textposition\": \"auto\", \"type\": \"bar\", \"x\": [2009, 2010, 2011, 2012, 2013, 2014, 2015, 2016, 2017, 2018], \"xaxis\": \"x\", \"y\": [3.9821921202418933, 4.0118530916450394, 3.4740192902864933, 3.169126298372175, 3.070874258422621, 3.111323980908624, 3.3765252899369775, 3.587982945689944, 3.5010549983777195, 3.514817696320827], \"yaxis\": \"y\"}, {\"alignmentgroup\": \"True\", \"hoverlabel\": {\"namelength\": 0}, \"hovertemplate\": \"sector=Consumer Cyclical<br>year=%{x}<br>Relative_revenue=%{y}\", \"legendgroup\": \"Consumer Cyclical\", \"marker\": {\"color\": \"#00cc96\"}, \"name\": \"Consumer Cyclical\", \"offsetgroup\": \"Consumer Cyclical\", \"orientation\": \"v\", \"showlegend\": true, \"textposition\": \"auto\", \"type\": \"bar\", \"x\": [2009, 2010, 2011, 2012, 2013, 2014, 2015, 2016, 2017, 2018], \"xaxis\": \"x\", \"y\": [7.908224278391365, 9.401481444457373, 12.259440189731643, 12.245965411027218, 12.778515665566829, 12.764460824132202, 13.370621574366874, 13.994632129816827, 13.071948813166253, 12.785852582257114], \"yaxis\": \"y\"}, {\"alignmentgroup\": \"True\", \"hoverlabel\": {\"namelength\": 0}, \"hovertemplate\": \"sector=Consumer Defensive<br>year=%{x}<br>Relative_revenue=%{y}\", \"legendgroup\": \"Consumer Defensive\", \"marker\": {\"color\": \"#ab63fa\"}, \"name\": \"Consumer Defensive\", \"offsetgroup\": \"Consumer Defensive\", \"orientation\": \"v\", \"showlegend\": true, \"textposition\": \"auto\", \"type\": \"bar\", \"x\": [2009, 2010, 2011, 2012, 2013, 2014, 2015, 2016, 2017, 2018], \"xaxis\": \"x\", \"y\": [9.333943477125526, 18.450606756767115, 16.309012021907293, 14.834724405060724, 14.704726921320107, 14.24994321432011, 14.57184023315224, 14.559724077194291, 13.716990578224289, 12.883127943398222], \"yaxis\": \"y\"}, {\"alignmentgroup\": \"True\", \"hoverlabel\": {\"namelength\": 0}, \"hovertemplate\": \"sector=Energy<br>year=%{x}<br>Relative_revenue=%{y}\", \"legendgroup\": \"Energy\", \"marker\": {\"color\": \"#FFA15A\"}, \"name\": \"Energy\", \"offsetgroup\": \"Energy\", \"orientation\": \"v\", \"showlegend\": true, \"textposition\": \"auto\", \"type\": \"bar\", \"x\": [2009, 2010, 2011, 2012, 2013, 2014, 2015, 2016, 2017, 2018], \"xaxis\": \"x\", \"y\": [16.286280147213176, 16.711712285282186, 15.832722352946947, 15.650954843878688, 14.425342358818025, 13.437045750895669, 9.105771525116918, 7.252684609113988, 8.228574125370884, 9.220026797819475], \"yaxis\": \"y\"}, {\"alignmentgroup\": \"True\", \"hoverlabel\": {\"namelength\": 0}, \"hovertemplate\": \"sector=Financial Services<br>year=%{x}<br>Relative_revenue=%{y}\", \"legendgroup\": \"Financial Services\", \"marker\": {\"color\": \"#19d3f3\"}, \"name\": \"Financial Services\", \"offsetgroup\": \"Financial Services\", \"orientation\": \"v\", \"showlegend\": true, \"textposition\": \"auto\", \"type\": \"bar\", \"x\": [2009, 2010, 2011, 2012, 2013, 2014, 2015, 2016, 2017, 2018], \"xaxis\": \"x\", \"y\": [15.149997281009965, 8.480380201518958, 9.382606972354392, 9.218674649243335, 9.580088375084278, 9.96809915718493, 10.099283414741318, 9.852540876019807, 9.996358430232814, 10.003220980315659], \"yaxis\": \"y\"}, {\"alignmentgroup\": \"True\", \"hoverlabel\": {\"namelength\": 0}, \"hovertemplate\": \"sector=Healthcare<br>year=%{x}<br>Relative_revenue=%{y}\", \"legendgroup\": \"Healthcare\", \"marker\": {\"color\": \"#FF6692\"}, \"name\": \"Healthcare\", \"offsetgroup\": \"Healthcare\", \"orientation\": \"v\", \"showlegend\": true, \"textposition\": \"auto\", \"type\": \"bar\", \"x\": [2009, 2010, 2011, 2012, 2013, 2014, 2015, 2016, 2017, 2018], \"xaxis\": \"x\", \"y\": [13.585555605070612, 12.660273055264279, 12.008096925746838, 14.690056912097713, 15.022671108108627, 15.736880907870605, 17.11245279444654, 18.997680178637196, 19.559922369229405, 18.17498860626444], \"yaxis\": \"y\"}, {\"alignmentgroup\": \"True\", \"hoverlabel\": {\"namelength\": 0}, \"hovertemplate\": \"sector=Industrials<br>year=%{x}<br>Relative_revenue=%{y}\", \"legendgroup\": \"Industrials\", \"marker\": {\"color\": \"#B6E880\"}, \"name\": \"Industrials\", \"offsetgroup\": \"Industrials\", \"orientation\": \"v\", \"showlegend\": true, \"textposition\": \"auto\", \"type\": \"bar\", \"x\": [2009, 2010, 2011, 2012, 2013, 2014, 2015, 2016, 2017, 2018], \"xaxis\": \"x\", \"y\": [15.497492404922891, 13.336546762725659, 13.426146876264498, 13.10412619339683, 12.617265819800233, 12.267498993810513, 12.438912496867728, 12.130426727595234, 11.909027913850519, 12.046923002613832], \"yaxis\": \"y\"}, {\"alignmentgroup\": \"True\", \"hoverlabel\": {\"namelength\": 0}, \"hovertemplate\": \"sector=Real Estate<br>year=%{x}<br>Relative_revenue=%{y}\", \"legendgroup\": \"Real Estate\", \"marker\": {\"color\": \"#FF97FF\"}, \"name\": \"Real Estate\", \"offsetgroup\": \"Real Estate\", \"orientation\": \"v\", \"showlegend\": true, \"textposition\": \"auto\", \"type\": \"bar\", \"x\": [2009, 2010, 2011, 2012, 2013, 2014, 2015, 2016, 2017, 2018], \"xaxis\": \"x\", \"y\": [0.5456683636708495, 0.43991423403578284, 0.4884470666052486, 0.5045260264785404, 0.5251984804502461, 0.5583062597950328, 0.6179626072493697, 0.6420382431467754, 0.6384289335267497, 0.7054036569658167], \"yaxis\": \"y\"}, {\"alignmentgroup\": \"True\", \"hoverlabel\": {\"namelength\": 0}, \"hovertemplate\": \"sector=Technology<br>year=%{x}<br>Relative_revenue=%{y}\", \"legendgroup\": \"Technology\", \"marker\": {\"color\": \"#FECB52\"}, \"name\": \"Technology\", \"offsetgroup\": \"Technology\", \"orientation\": \"v\", \"showlegend\": true, \"textposition\": \"auto\", \"type\": \"bar\", \"x\": [2009, 2010, 2011, 2012, 2013, 2014, 2015, 2016, 2017, 2018], \"xaxis\": \"x\", \"y\": [10.011443755188452, 10.704295178816146, 10.935144489075833, 10.816038160616507, 11.367785478740906, 11.813805327473478, 13.445647590692559, 13.284290343857416, 13.686146572323775, 15.062124648941603], \"yaxis\": \"y\"}, {\"alignmentgroup\": \"True\", \"hoverlabel\": {\"namelength\": 0}, \"hovertemplate\": \"sector=Utilities<br>year=%{x}<br>Relative_revenue=%{y}\", \"legendgroup\": \"Utilities\", \"marker\": {\"color\": \"#636efa\"}, \"name\": \"Utilities\", \"offsetgroup\": \"Utilities\", \"orientation\": \"v\", \"showlegend\": true, \"textposition\": \"auto\", \"type\": \"bar\", \"x\": [2009, 2010, 2011, 2012, 2013, 2014, 2015, 2016, 2017, 2018], \"xaxis\": \"x\", \"y\": [4.225308769039295, 3.164162036933211, 2.8046952614120504, 3.0366924276655496, 2.990995872366909, 3.1244999025337505, 3.1216856139341203, 3.002504779493308, 2.910243117584633, 2.8036390286770843], \"yaxis\": \"y\"}],\n",
       "                        {\"barmode\": \"relative\", \"legend\": {\"title\": {\"text\": \"sector\"}, \"tracegroupgap\": 0}, \"template\": {\"data\": {\"bar\": [{\"error_x\": {\"color\": \"#2a3f5f\"}, \"error_y\": {\"color\": \"#2a3f5f\"}, \"marker\": {\"line\": {\"color\": \"#E5ECF6\", \"width\": 0.5}}, \"type\": \"bar\"}], \"barpolar\": [{\"marker\": {\"line\": {\"color\": \"#E5ECF6\", \"width\": 0.5}}, \"type\": \"barpolar\"}], \"carpet\": [{\"aaxis\": {\"endlinecolor\": \"#2a3f5f\", \"gridcolor\": \"white\", \"linecolor\": \"white\", \"minorgridcolor\": \"white\", \"startlinecolor\": \"#2a3f5f\"}, \"baxis\": {\"endlinecolor\": \"#2a3f5f\", \"gridcolor\": \"white\", \"linecolor\": \"white\", \"minorgridcolor\": \"white\", \"startlinecolor\": \"#2a3f5f\"}, \"type\": \"carpet\"}], \"choropleth\": [{\"colorbar\": {\"outlinewidth\": 0, \"ticks\": \"\"}, \"type\": \"choropleth\"}], \"contour\": [{\"colorbar\": {\"outlinewidth\": 0, \"ticks\": \"\"}, \"colorscale\": [[0.0, \"#0d0887\"], [0.1111111111111111, \"#46039f\"], [0.2222222222222222, \"#7201a8\"], [0.3333333333333333, \"#9c179e\"], [0.4444444444444444, \"#bd3786\"], [0.5555555555555556, \"#d8576b\"], [0.6666666666666666, \"#ed7953\"], [0.7777777777777778, \"#fb9f3a\"], [0.8888888888888888, \"#fdca26\"], [1.0, \"#f0f921\"]], \"type\": \"contour\"}], \"contourcarpet\": [{\"colorbar\": {\"outlinewidth\": 0, \"ticks\": \"\"}, \"type\": \"contourcarpet\"}], \"heatmap\": [{\"colorbar\": {\"outlinewidth\": 0, \"ticks\": \"\"}, \"colorscale\": [[0.0, \"#0d0887\"], [0.1111111111111111, \"#46039f\"], [0.2222222222222222, \"#7201a8\"], [0.3333333333333333, \"#9c179e\"], [0.4444444444444444, \"#bd3786\"], [0.5555555555555556, \"#d8576b\"], [0.6666666666666666, \"#ed7953\"], [0.7777777777777778, \"#fb9f3a\"], [0.8888888888888888, \"#fdca26\"], [1.0, \"#f0f921\"]], \"type\": \"heatmap\"}], \"heatmapgl\": [{\"colorbar\": {\"outlinewidth\": 0, \"ticks\": \"\"}, \"colorscale\": [[0.0, \"#0d0887\"], [0.1111111111111111, \"#46039f\"], [0.2222222222222222, \"#7201a8\"], [0.3333333333333333, \"#9c179e\"], [0.4444444444444444, \"#bd3786\"], [0.5555555555555556, \"#d8576b\"], [0.6666666666666666, \"#ed7953\"], [0.7777777777777778, \"#fb9f3a\"], [0.8888888888888888, \"#fdca26\"], [1.0, \"#f0f921\"]], \"type\": \"heatmapgl\"}], \"histogram\": [{\"marker\": {\"colorbar\": {\"outlinewidth\": 0, \"ticks\": \"\"}}, \"type\": \"histogram\"}], \"histogram2d\": [{\"colorbar\": {\"outlinewidth\": 0, \"ticks\": \"\"}, \"colorscale\": [[0.0, \"#0d0887\"], [0.1111111111111111, \"#46039f\"], [0.2222222222222222, \"#7201a8\"], [0.3333333333333333, \"#9c179e\"], [0.4444444444444444, \"#bd3786\"], [0.5555555555555556, \"#d8576b\"], [0.6666666666666666, \"#ed7953\"], [0.7777777777777778, \"#fb9f3a\"], [0.8888888888888888, \"#fdca26\"], [1.0, \"#f0f921\"]], \"type\": \"histogram2d\"}], \"histogram2dcontour\": [{\"colorbar\": {\"outlinewidth\": 0, \"ticks\": \"\"}, \"colorscale\": [[0.0, \"#0d0887\"], [0.1111111111111111, \"#46039f\"], [0.2222222222222222, \"#7201a8\"], [0.3333333333333333, \"#9c179e\"], [0.4444444444444444, \"#bd3786\"], [0.5555555555555556, \"#d8576b\"], [0.6666666666666666, \"#ed7953\"], [0.7777777777777778, \"#fb9f3a\"], [0.8888888888888888, \"#fdca26\"], [1.0, \"#f0f921\"]], \"type\": \"histogram2dcontour\"}], \"mesh3d\": [{\"colorbar\": {\"outlinewidth\": 0, \"ticks\": \"\"}, \"type\": \"mesh3d\"}], \"parcoords\": [{\"line\": {\"colorbar\": {\"outlinewidth\": 0, \"ticks\": \"\"}}, \"type\": \"parcoords\"}], \"pie\": [{\"automargin\": true, \"type\": \"pie\"}], \"scatter\": [{\"marker\": {\"colorbar\": {\"outlinewidth\": 0, \"ticks\": \"\"}}, \"type\": \"scatter\"}], \"scatter3d\": [{\"line\": {\"colorbar\": {\"outlinewidth\": 0, \"ticks\": \"\"}}, \"marker\": {\"colorbar\": {\"outlinewidth\": 0, \"ticks\": \"\"}}, \"type\": \"scatter3d\"}], \"scattercarpet\": [{\"marker\": {\"colorbar\": {\"outlinewidth\": 0, \"ticks\": \"\"}}, \"type\": \"scattercarpet\"}], \"scattergeo\": [{\"marker\": {\"colorbar\": {\"outlinewidth\": 0, \"ticks\": \"\"}}, \"type\": \"scattergeo\"}], \"scattergl\": [{\"marker\": {\"colorbar\": {\"outlinewidth\": 0, \"ticks\": \"\"}}, \"type\": \"scattergl\"}], \"scattermapbox\": [{\"marker\": {\"colorbar\": {\"outlinewidth\": 0, \"ticks\": \"\"}}, \"type\": \"scattermapbox\"}], \"scatterpolar\": [{\"marker\": {\"colorbar\": {\"outlinewidth\": 0, \"ticks\": \"\"}}, \"type\": \"scatterpolar\"}], \"scatterpolargl\": [{\"marker\": {\"colorbar\": {\"outlinewidth\": 0, \"ticks\": \"\"}}, \"type\": \"scatterpolargl\"}], \"scatterternary\": [{\"marker\": {\"colorbar\": {\"outlinewidth\": 0, \"ticks\": \"\"}}, \"type\": \"scatterternary\"}], \"surface\": [{\"colorbar\": {\"outlinewidth\": 0, \"ticks\": \"\"}, \"colorscale\": [[0.0, \"#0d0887\"], [0.1111111111111111, \"#46039f\"], [0.2222222222222222, \"#7201a8\"], [0.3333333333333333, \"#9c179e\"], [0.4444444444444444, \"#bd3786\"], [0.5555555555555556, \"#d8576b\"], [0.6666666666666666, \"#ed7953\"], [0.7777777777777778, \"#fb9f3a\"], [0.8888888888888888, \"#fdca26\"], [1.0, \"#f0f921\"]], \"type\": \"surface\"}], \"table\": [{\"cells\": {\"fill\": {\"color\": \"#EBF0F8\"}, \"line\": {\"color\": \"white\"}}, \"header\": {\"fill\": {\"color\": \"#C8D4E3\"}, \"line\": {\"color\": \"white\"}}, \"type\": \"table\"}]}, \"layout\": {\"annotationdefaults\": {\"arrowcolor\": \"#2a3f5f\", \"arrowhead\": 0, \"arrowwidth\": 1}, \"coloraxis\": {\"colorbar\": {\"outlinewidth\": 0, \"ticks\": \"\"}}, \"colorscale\": {\"diverging\": [[0, \"#8e0152\"], [0.1, \"#c51b7d\"], [0.2, \"#de77ae\"], [0.3, \"#f1b6da\"], [0.4, \"#fde0ef\"], [0.5, \"#f7f7f7\"], [0.6, \"#e6f5d0\"], [0.7, \"#b8e186\"], [0.8, \"#7fbc41\"], [0.9, \"#4d9221\"], [1, \"#276419\"]], \"sequential\": [[0.0, \"#0d0887\"], [0.1111111111111111, \"#46039f\"], [0.2222222222222222, \"#7201a8\"], [0.3333333333333333, \"#9c179e\"], [0.4444444444444444, \"#bd3786\"], [0.5555555555555556, \"#d8576b\"], [0.6666666666666666, \"#ed7953\"], [0.7777777777777778, \"#fb9f3a\"], [0.8888888888888888, \"#fdca26\"], [1.0, \"#f0f921\"]], \"sequentialminus\": [[0.0, \"#0d0887\"], [0.1111111111111111, \"#46039f\"], [0.2222222222222222, \"#7201a8\"], [0.3333333333333333, \"#9c179e\"], [0.4444444444444444, \"#bd3786\"], [0.5555555555555556, \"#d8576b\"], [0.6666666666666666, \"#ed7953\"], [0.7777777777777778, \"#fb9f3a\"], [0.8888888888888888, \"#fdca26\"], [1.0, \"#f0f921\"]]}, \"colorway\": [\"#636efa\", \"#EF553B\", \"#00cc96\", \"#ab63fa\", \"#FFA15A\", \"#19d3f3\", \"#FF6692\", \"#B6E880\", \"#FF97FF\", \"#FECB52\"], \"font\": {\"color\": \"#2a3f5f\"}, \"geo\": {\"bgcolor\": \"white\", \"lakecolor\": \"white\", \"landcolor\": \"#E5ECF6\", \"showlakes\": true, \"showland\": true, \"subunitcolor\": \"white\"}, \"hoverlabel\": {\"align\": \"left\"}, \"hovermode\": \"closest\", \"mapbox\": {\"style\": \"light\"}, \"paper_bgcolor\": \"white\", \"plot_bgcolor\": \"#E5ECF6\", \"polar\": {\"angularaxis\": {\"gridcolor\": \"white\", \"linecolor\": \"white\", \"ticks\": \"\"}, \"bgcolor\": \"#E5ECF6\", \"radialaxis\": {\"gridcolor\": \"white\", \"linecolor\": \"white\", \"ticks\": \"\"}}, \"scene\": {\"xaxis\": {\"backgroundcolor\": \"#E5ECF6\", \"gridcolor\": \"white\", \"gridwidth\": 2, \"linecolor\": \"white\", \"showbackground\": true, \"ticks\": \"\", \"zerolinecolor\": \"white\"}, \"yaxis\": {\"backgroundcolor\": \"#E5ECF6\", \"gridcolor\": \"white\", \"gridwidth\": 2, \"linecolor\": \"white\", \"showbackground\": true, \"ticks\": \"\", \"zerolinecolor\": \"white\"}, \"zaxis\": {\"backgroundcolor\": \"#E5ECF6\", \"gridcolor\": \"white\", \"gridwidth\": 2, \"linecolor\": \"white\", \"showbackground\": true, \"ticks\": \"\", \"zerolinecolor\": \"white\"}}, \"shapedefaults\": {\"line\": {\"color\": \"#2a3f5f\"}}, \"ternary\": {\"aaxis\": {\"gridcolor\": \"white\", \"linecolor\": \"white\", \"ticks\": \"\"}, \"baxis\": {\"gridcolor\": \"white\", \"linecolor\": \"white\", \"ticks\": \"\"}, \"bgcolor\": \"#E5ECF6\", \"caxis\": {\"gridcolor\": \"white\", \"linecolor\": \"white\", \"ticks\": \"\"}}, \"title\": {\"x\": 0.05}, \"xaxis\": {\"automargin\": true, \"gridcolor\": \"white\", \"linecolor\": \"white\", \"ticks\": \"\", \"title\": {\"standoff\": 15}, \"zerolinecolor\": \"white\", \"zerolinewidth\": 2}, \"yaxis\": {\"automargin\": true, \"gridcolor\": \"white\", \"linecolor\": \"white\", \"ticks\": \"\", \"title\": {\"standoff\": 15}, \"zerolinecolor\": \"white\", \"zerolinewidth\": 2}}}, \"title\": {\"text\": \"Evolution of revenue\"}, \"xaxis\": {\"anchor\": \"y\", \"domain\": [0.0, 1.0], \"title\": {\"text\": \"year\"}}, \"yaxis\": {\"anchor\": \"x\", \"domain\": [0.0, 1.0], \"title\": {\"text\": \"Relative_revenue\"}}},\n",
       "                        {\"responsive\": true}\n",
       "                    ).then(function(){\n",
       "                            \n",
       "var gd = document.getElementById('e020352b-060b-4690-9444-82e8f4a39d6c');\n",
       "var x = new MutationObserver(function (mutations, observer) {{\n",
       "        var display = window.getComputedStyle(gd).display;\n",
       "        if (!display || display === 'none') {{\n",
       "            console.log([gd, 'removed!']);\n",
       "            Plotly.purge(gd);\n",
       "            observer.disconnect();\n",
       "        }}\n",
       "}});\n",
       "\n",
       "// Listen for the removal of the full notebook cells\n",
       "var notebookContainer = gd.closest('#notebook-container');\n",
       "if (notebookContainer) {{\n",
       "    x.observe(notebookContainer, {childList: true});\n",
       "}}\n",
       "\n",
       "// Listen for the clearing of the current output cell\n",
       "var outputEl = gd.closest('.output');\n",
       "if (outputEl) {{\n",
       "    x.observe(outputEl, {childList: true});\n",
       "}}\n",
       "\n",
       "                        })\n",
       "                };\n",
       "                });\n",
       "            </script>\n",
       "        </div>"
      ]
     },
     "metadata": {},
     "output_type": "display_data"
    },
    {
     "data": {
      "application/vnd.plotly.v1+json": {
       "config": {
        "plotlyServerURL": "https://plot.ly"
       },
       "data": [
        {
         "alignmentgroup": "True",
         "hoverlabel": {
          "namelength": 0
         },
         "hovertemplate": "sector=Basic Materials<br>year=%{x}<br>Revenue=%{y}",
         "legendgroup": "Basic Materials",
         "marker": {
          "color": "#636efa"
         },
         "name": "Basic Materials",
         "offsetgroup": "Basic Materials",
         "orientation": "v",
         "showlegend": true,
         "textposition": "auto",
         "type": "bar",
         "x": [
          2009,
          2010,
          2011,
          2012,
          2013,
          2014,
          2015,
          2016,
          2017,
          2018
         ],
         "xaxis": "x",
         "y": [
          218882303000,
          172566453000,
          248701510000,
          250481078000,
          283495550000,
          298061075000,
          271236955000,
          276149093000,
          302111666000,
          324545402000
         ],
         "yaxis": "y"
        },
        {
         "alignmentgroup": "True",
         "hoverlabel": {
          "namelength": 0
         },
         "hovertemplate": "sector=Communication Services<br>year=%{x}<br>Revenue=%{y}",
         "legendgroup": "Communication Services",
         "marker": {
          "color": "#EF553B"
         },
         "name": "Communication Services",
         "offsetgroup": "Communication Services",
         "orientation": "v",
         "showlegend": true,
         "textposition": "auto",
         "type": "bar",
         "x": [
          2009,
          2010,
          2011,
          2012,
          2013,
          2014,
          2015,
          2016,
          2017,
          2018
         ],
         "xaxis": "x",
         "y": [
          250909047000,
          262360857000,
          280547672000,
          290865818000,
          298497700000,
          312440087000,
          334333402000,
          367583024000,
          380292662000,
          407417438000
         ],
         "yaxis": "y"
        },
        {
         "alignmentgroup": "True",
         "hoverlabel": {
          "namelength": 0
         },
         "hovertemplate": "sector=Consumer Cyclical<br>year=%{x}<br>Revenue=%{y}",
         "legendgroup": "Consumer Cyclical",
         "marker": {
          "color": "#00cc96"
         },
         "name": "Consumer Cyclical",
         "offsetgroup": "Consumer Cyclical",
         "orientation": "v",
         "showlegend": true,
         "textposition": "auto",
         "type": "bar",
         "x": [
          2009,
          2010,
          2011,
          2012,
          2013,
          2014,
          2015,
          2016,
          2017,
          2018
         ],
         "xaxis": "x",
         "y": [
          498279580000,
          614823293000,
          990022541000,
          1123947868000,
          1242108017000,
          1281810983000,
          1323918826000,
          1433727327000,
          1419905204000,
          1482062443000
         ],
         "yaxis": "y"
        },
        {
         "alignmentgroup": "True",
         "hoverlabel": {
          "namelength": 0
         },
         "hovertemplate": "sector=Consumer Defensive<br>year=%{x}<br>Revenue=%{y}",
         "legendgroup": "Consumer Defensive",
         "marker": {
          "color": "#ab63fa"
         },
         "name": "Consumer Defensive",
         "offsetgroup": "Consumer Defensive",
         "orientation": "v",
         "showlegend": true,
         "textposition": "auto",
         "type": "bar",
         "x": [
          2009,
          2010,
          2011,
          2012,
          2013,
          2014,
          2015,
          2016,
          2017,
          2018
         ],
         "xaxis": "x",
         "y": [
          588110968000,
          1206603754000,
          1317049496000,
          1361546951000,
          1429341222000,
          1430983570000,
          1442859893000,
          1491620079000,
          1489971127000,
          1493338043000
         ],
         "yaxis": "y"
        },
        {
         "alignmentgroup": "True",
         "hoverlabel": {
          "namelength": 0
         },
         "hovertemplate": "sector=Energy<br>year=%{x}<br>Revenue=%{y}",
         "legendgroup": "Energy",
         "marker": {
          "color": "#FFA15A"
         },
         "name": "Energy",
         "offsetgroup": "Energy",
         "orientation": "v",
         "showlegend": true,
         "textposition": "auto",
         "type": "bar",
         "x": [
          2009,
          2010,
          2011,
          2012,
          2013,
          2014,
          2015,
          2016,
          2017,
          2018
         ],
         "xaxis": "x",
         "y": [
          1026162201000,
          1092886269000,
          1278586279000,
          1436461458000,
          1402184249000,
          1349352163000,
          901626172000,
          743025756000,
          893806684000,
          1068732441000
         ],
         "yaxis": "y"
        },
        {
         "alignmentgroup": "True",
         "hoverlabel": {
          "namelength": 0
         },
         "hovertemplate": "sector=Financial Services<br>year=%{x}<br>Revenue=%{y}",
         "legendgroup": "Financial Services",
         "marker": {
          "color": "#19d3f3"
         },
         "name": "Financial Services",
         "offsetgroup": "Financial Services",
         "orientation": "v",
         "showlegend": true,
         "textposition": "auto",
         "type": "bar",
         "x": [
          2009,
          2010,
          2011,
          2012,
          2013,
          2014,
          2015,
          2016,
          2017,
          2018
         ],
         "xaxis": "x",
         "y": [
          954567551000,
          554586563000,
          757701188000,
          846099868000,
          931211800000,
          1000999506000,
          1000000738000,
          1009376807000,
          1085827489000,
          1159515803000
         ],
         "yaxis": "y"
        },
        {
         "alignmentgroup": "True",
         "hoverlabel": {
          "namelength": 0
         },
         "hovertemplate": "sector=Healthcare<br>year=%{x}<br>Revenue=%{y}",
         "legendgroup": "Healthcare",
         "marker": {
          "color": "#FF6692"
         },
         "name": "Healthcare",
         "offsetgroup": "Healthcare",
         "orientation": "v",
         "showlegend": true,
         "textposition": "auto",
         "type": "bar",
         "x": [
          2009,
          2010,
          2011,
          2012,
          2013,
          2014,
          2015,
          2016,
          2017,
          2018
         ],
         "xaxis": "x",
         "y": [
          855995569000,
          827936620000,
          969725081000,
          1348269213000,
          1460246300000,
          1580302299000,
          1694423725000,
          1946281472000,
          2124643843000,
          2106740074000
         ],
         "yaxis": "y"
        },
        {
         "alignmentgroup": "True",
         "hoverlabel": {
          "namelength": 0
         },
         "hovertemplate": "sector=Industrials<br>year=%{x}<br>Revenue=%{y}",
         "legendgroup": "Industrials",
         "marker": {
          "color": "#B6E880"
         },
         "name": "Industrials",
         "offsetgroup": "Industrials",
         "orientation": "v",
         "showlegend": true,
         "textposition": "auto",
         "type": "bar",
         "x": [
          2009,
          2010,
          2011,
          2012,
          2013,
          2014,
          2015,
          2016,
          2017,
          2018
         ],
         "xaxis": "x",
         "y": [
          976462444000,
          872162504000,
          1084241029000,
          1202710787000,
          1226434074000,
          1231905927000,
          1231663789000,
          1242742512000,
          1293586056000,
          1396409979000
         ],
         "yaxis": "y"
        },
        {
         "alignmentgroup": "True",
         "hoverlabel": {
          "namelength": 0
         },
         "hovertemplate": "sector=Real Estate<br>year=%{x}<br>Revenue=%{y}",
         "legendgroup": "Real Estate",
         "marker": {
          "color": "#FF97FF"
         },
         "name": "Real Estate",
         "offsetgroup": "Real Estate",
         "orientation": "v",
         "showlegend": true,
         "textposition": "auto",
         "type": "bar",
         "x": [
          2009,
          2010,
          2011,
          2012,
          2013,
          2014,
          2015,
          2016,
          2017,
          2018
         ],
         "xaxis": "x",
         "y": [
          34381347000,
          28768819000,
          39444999000,
          46305941000,
          51050784000,
          56065282000,
          61188803000,
          65775775000,
          69347622000,
          81766332000
         ],
         "yaxis": "y"
        },
        {
         "alignmentgroup": "True",
         "hoverlabel": {
          "namelength": 0
         },
         "hovertemplate": "sector=Technology<br>year=%{x}<br>Revenue=%{y}",
         "legendgroup": "Technology",
         "marker": {
          "color": "#FECB52"
         },
         "name": "Technology",
         "offsetgroup": "Technology",
         "orientation": "v",
         "showlegend": true,
         "textposition": "auto",
         "type": "bar",
         "x": [
          2009,
          2010,
          2011,
          2012,
          2013,
          2014,
          2015,
          2016,
          2017,
          2018
         ],
         "xaxis": "x",
         "y": [
          630798750000,
          700022656000,
          883077805000,
          992707608000,
          1104981036000,
          1186345873000,
          1331347677000,
          1360953965000,
          1486620780000,
          1745914800000
         ],
         "yaxis": "y"
        },
        {
         "alignmentgroup": "True",
         "hoverlabel": {
          "namelength": 0
         },
         "hovertemplate": "sector=Utilities<br>year=%{x}<br>Revenue=%{y}",
         "legendgroup": "Utilities",
         "marker": {
          "color": "#636efa"
         },
         "name": "Utilities",
         "offsetgroup": "Utilities",
         "orientation": "v",
         "showlegend": true,
         "textposition": "auto",
         "type": "bar",
         "x": [
          2009,
          2010,
          2011,
          2012,
          2013,
          2014,
          2015,
          2016,
          2017,
          2018
         ],
         "xaxis": "x",
         "y": [
          266227285000,
          206924891000,
          226495785000,
          278710895000,
          290733294000,
          313763217000,
          309099942000,
          307601737000,
          316117314000,
          324981700000
         ],
         "yaxis": "y"
        }
       ],
       "layout": {
        "barmode": "group",
        "legend": {
         "title": {
          "text": "sector"
         },
         "tracegroupgap": 0
        },
        "template": {
         "data": {
          "bar": [
           {
            "error_x": {
             "color": "#2a3f5f"
            },
            "error_y": {
             "color": "#2a3f5f"
            },
            "marker": {
             "line": {
              "color": "#E5ECF6",
              "width": 0.5
             }
            },
            "type": "bar"
           }
          ],
          "barpolar": [
           {
            "marker": {
             "line": {
              "color": "#E5ECF6",
              "width": 0.5
             }
            },
            "type": "barpolar"
           }
          ],
          "carpet": [
           {
            "aaxis": {
             "endlinecolor": "#2a3f5f",
             "gridcolor": "white",
             "linecolor": "white",
             "minorgridcolor": "white",
             "startlinecolor": "#2a3f5f"
            },
            "baxis": {
             "endlinecolor": "#2a3f5f",
             "gridcolor": "white",
             "linecolor": "white",
             "minorgridcolor": "white",
             "startlinecolor": "#2a3f5f"
            },
            "type": "carpet"
           }
          ],
          "choropleth": [
           {
            "colorbar": {
             "outlinewidth": 0,
             "ticks": ""
            },
            "type": "choropleth"
           }
          ],
          "contour": [
           {
            "colorbar": {
             "outlinewidth": 0,
             "ticks": ""
            },
            "colorscale": [
             [
              0,
              "#0d0887"
             ],
             [
              0.1111111111111111,
              "#46039f"
             ],
             [
              0.2222222222222222,
              "#7201a8"
             ],
             [
              0.3333333333333333,
              "#9c179e"
             ],
             [
              0.4444444444444444,
              "#bd3786"
             ],
             [
              0.5555555555555556,
              "#d8576b"
             ],
             [
              0.6666666666666666,
              "#ed7953"
             ],
             [
              0.7777777777777778,
              "#fb9f3a"
             ],
             [
              0.8888888888888888,
              "#fdca26"
             ],
             [
              1,
              "#f0f921"
             ]
            ],
            "type": "contour"
           }
          ],
          "contourcarpet": [
           {
            "colorbar": {
             "outlinewidth": 0,
             "ticks": ""
            },
            "type": "contourcarpet"
           }
          ],
          "heatmap": [
           {
            "colorbar": {
             "outlinewidth": 0,
             "ticks": ""
            },
            "colorscale": [
             [
              0,
              "#0d0887"
             ],
             [
              0.1111111111111111,
              "#46039f"
             ],
             [
              0.2222222222222222,
              "#7201a8"
             ],
             [
              0.3333333333333333,
              "#9c179e"
             ],
             [
              0.4444444444444444,
              "#bd3786"
             ],
             [
              0.5555555555555556,
              "#d8576b"
             ],
             [
              0.6666666666666666,
              "#ed7953"
             ],
             [
              0.7777777777777778,
              "#fb9f3a"
             ],
             [
              0.8888888888888888,
              "#fdca26"
             ],
             [
              1,
              "#f0f921"
             ]
            ],
            "type": "heatmap"
           }
          ],
          "heatmapgl": [
           {
            "colorbar": {
             "outlinewidth": 0,
             "ticks": ""
            },
            "colorscale": [
             [
              0,
              "#0d0887"
             ],
             [
              0.1111111111111111,
              "#46039f"
             ],
             [
              0.2222222222222222,
              "#7201a8"
             ],
             [
              0.3333333333333333,
              "#9c179e"
             ],
             [
              0.4444444444444444,
              "#bd3786"
             ],
             [
              0.5555555555555556,
              "#d8576b"
             ],
             [
              0.6666666666666666,
              "#ed7953"
             ],
             [
              0.7777777777777778,
              "#fb9f3a"
             ],
             [
              0.8888888888888888,
              "#fdca26"
             ],
             [
              1,
              "#f0f921"
             ]
            ],
            "type": "heatmapgl"
           }
          ],
          "histogram": [
           {
            "marker": {
             "colorbar": {
              "outlinewidth": 0,
              "ticks": ""
             }
            },
            "type": "histogram"
           }
          ],
          "histogram2d": [
           {
            "colorbar": {
             "outlinewidth": 0,
             "ticks": ""
            },
            "colorscale": [
             [
              0,
              "#0d0887"
             ],
             [
              0.1111111111111111,
              "#46039f"
             ],
             [
              0.2222222222222222,
              "#7201a8"
             ],
             [
              0.3333333333333333,
              "#9c179e"
             ],
             [
              0.4444444444444444,
              "#bd3786"
             ],
             [
              0.5555555555555556,
              "#d8576b"
             ],
             [
              0.6666666666666666,
              "#ed7953"
             ],
             [
              0.7777777777777778,
              "#fb9f3a"
             ],
             [
              0.8888888888888888,
              "#fdca26"
             ],
             [
              1,
              "#f0f921"
             ]
            ],
            "type": "histogram2d"
           }
          ],
          "histogram2dcontour": [
           {
            "colorbar": {
             "outlinewidth": 0,
             "ticks": ""
            },
            "colorscale": [
             [
              0,
              "#0d0887"
             ],
             [
              0.1111111111111111,
              "#46039f"
             ],
             [
              0.2222222222222222,
              "#7201a8"
             ],
             [
              0.3333333333333333,
              "#9c179e"
             ],
             [
              0.4444444444444444,
              "#bd3786"
             ],
             [
              0.5555555555555556,
              "#d8576b"
             ],
             [
              0.6666666666666666,
              "#ed7953"
             ],
             [
              0.7777777777777778,
              "#fb9f3a"
             ],
             [
              0.8888888888888888,
              "#fdca26"
             ],
             [
              1,
              "#f0f921"
             ]
            ],
            "type": "histogram2dcontour"
           }
          ],
          "mesh3d": [
           {
            "colorbar": {
             "outlinewidth": 0,
             "ticks": ""
            },
            "type": "mesh3d"
           }
          ],
          "parcoords": [
           {
            "line": {
             "colorbar": {
              "outlinewidth": 0,
              "ticks": ""
             }
            },
            "type": "parcoords"
           }
          ],
          "pie": [
           {
            "automargin": true,
            "type": "pie"
           }
          ],
          "scatter": [
           {
            "marker": {
             "colorbar": {
              "outlinewidth": 0,
              "ticks": ""
             }
            },
            "type": "scatter"
           }
          ],
          "scatter3d": [
           {
            "line": {
             "colorbar": {
              "outlinewidth": 0,
              "ticks": ""
             }
            },
            "marker": {
             "colorbar": {
              "outlinewidth": 0,
              "ticks": ""
             }
            },
            "type": "scatter3d"
           }
          ],
          "scattercarpet": [
           {
            "marker": {
             "colorbar": {
              "outlinewidth": 0,
              "ticks": ""
             }
            },
            "type": "scattercarpet"
           }
          ],
          "scattergeo": [
           {
            "marker": {
             "colorbar": {
              "outlinewidth": 0,
              "ticks": ""
             }
            },
            "type": "scattergeo"
           }
          ],
          "scattergl": [
           {
            "marker": {
             "colorbar": {
              "outlinewidth": 0,
              "ticks": ""
             }
            },
            "type": "scattergl"
           }
          ],
          "scattermapbox": [
           {
            "marker": {
             "colorbar": {
              "outlinewidth": 0,
              "ticks": ""
             }
            },
            "type": "scattermapbox"
           }
          ],
          "scatterpolar": [
           {
            "marker": {
             "colorbar": {
              "outlinewidth": 0,
              "ticks": ""
             }
            },
            "type": "scatterpolar"
           }
          ],
          "scatterpolargl": [
           {
            "marker": {
             "colorbar": {
              "outlinewidth": 0,
              "ticks": ""
             }
            },
            "type": "scatterpolargl"
           }
          ],
          "scatterternary": [
           {
            "marker": {
             "colorbar": {
              "outlinewidth": 0,
              "ticks": ""
             }
            },
            "type": "scatterternary"
           }
          ],
          "surface": [
           {
            "colorbar": {
             "outlinewidth": 0,
             "ticks": ""
            },
            "colorscale": [
             [
              0,
              "#0d0887"
             ],
             [
              0.1111111111111111,
              "#46039f"
             ],
             [
              0.2222222222222222,
              "#7201a8"
             ],
             [
              0.3333333333333333,
              "#9c179e"
             ],
             [
              0.4444444444444444,
              "#bd3786"
             ],
             [
              0.5555555555555556,
              "#d8576b"
             ],
             [
              0.6666666666666666,
              "#ed7953"
             ],
             [
              0.7777777777777778,
              "#fb9f3a"
             ],
             [
              0.8888888888888888,
              "#fdca26"
             ],
             [
              1,
              "#f0f921"
             ]
            ],
            "type": "surface"
           }
          ],
          "table": [
           {
            "cells": {
             "fill": {
              "color": "#EBF0F8"
             },
             "line": {
              "color": "white"
             }
            },
            "header": {
             "fill": {
              "color": "#C8D4E3"
             },
             "line": {
              "color": "white"
             }
            },
            "type": "table"
           }
          ]
         },
         "layout": {
          "annotationdefaults": {
           "arrowcolor": "#2a3f5f",
           "arrowhead": 0,
           "arrowwidth": 1
          },
          "coloraxis": {
           "colorbar": {
            "outlinewidth": 0,
            "ticks": ""
           }
          },
          "colorscale": {
           "diverging": [
            [
             0,
             "#8e0152"
            ],
            [
             0.1,
             "#c51b7d"
            ],
            [
             0.2,
             "#de77ae"
            ],
            [
             0.3,
             "#f1b6da"
            ],
            [
             0.4,
             "#fde0ef"
            ],
            [
             0.5,
             "#f7f7f7"
            ],
            [
             0.6,
             "#e6f5d0"
            ],
            [
             0.7,
             "#b8e186"
            ],
            [
             0.8,
             "#7fbc41"
            ],
            [
             0.9,
             "#4d9221"
            ],
            [
             1,
             "#276419"
            ]
           ],
           "sequential": [
            [
             0,
             "#0d0887"
            ],
            [
             0.1111111111111111,
             "#46039f"
            ],
            [
             0.2222222222222222,
             "#7201a8"
            ],
            [
             0.3333333333333333,
             "#9c179e"
            ],
            [
             0.4444444444444444,
             "#bd3786"
            ],
            [
             0.5555555555555556,
             "#d8576b"
            ],
            [
             0.6666666666666666,
             "#ed7953"
            ],
            [
             0.7777777777777778,
             "#fb9f3a"
            ],
            [
             0.8888888888888888,
             "#fdca26"
            ],
            [
             1,
             "#f0f921"
            ]
           ],
           "sequentialminus": [
            [
             0,
             "#0d0887"
            ],
            [
             0.1111111111111111,
             "#46039f"
            ],
            [
             0.2222222222222222,
             "#7201a8"
            ],
            [
             0.3333333333333333,
             "#9c179e"
            ],
            [
             0.4444444444444444,
             "#bd3786"
            ],
            [
             0.5555555555555556,
             "#d8576b"
            ],
            [
             0.6666666666666666,
             "#ed7953"
            ],
            [
             0.7777777777777778,
             "#fb9f3a"
            ],
            [
             0.8888888888888888,
             "#fdca26"
            ],
            [
             1,
             "#f0f921"
            ]
           ]
          },
          "colorway": [
           "#636efa",
           "#EF553B",
           "#00cc96",
           "#ab63fa",
           "#FFA15A",
           "#19d3f3",
           "#FF6692",
           "#B6E880",
           "#FF97FF",
           "#FECB52"
          ],
          "font": {
           "color": "#2a3f5f"
          },
          "geo": {
           "bgcolor": "white",
           "lakecolor": "white",
           "landcolor": "#E5ECF6",
           "showlakes": true,
           "showland": true,
           "subunitcolor": "white"
          },
          "hoverlabel": {
           "align": "left"
          },
          "hovermode": "closest",
          "mapbox": {
           "style": "light"
          },
          "paper_bgcolor": "white",
          "plot_bgcolor": "#E5ECF6",
          "polar": {
           "angularaxis": {
            "gridcolor": "white",
            "linecolor": "white",
            "ticks": ""
           },
           "bgcolor": "#E5ECF6",
           "radialaxis": {
            "gridcolor": "white",
            "linecolor": "white",
            "ticks": ""
           }
          },
          "scene": {
           "xaxis": {
            "backgroundcolor": "#E5ECF6",
            "gridcolor": "white",
            "gridwidth": 2,
            "linecolor": "white",
            "showbackground": true,
            "ticks": "",
            "zerolinecolor": "white"
           },
           "yaxis": {
            "backgroundcolor": "#E5ECF6",
            "gridcolor": "white",
            "gridwidth": 2,
            "linecolor": "white",
            "showbackground": true,
            "ticks": "",
            "zerolinecolor": "white"
           },
           "zaxis": {
            "backgroundcolor": "#E5ECF6",
            "gridcolor": "white",
            "gridwidth": 2,
            "linecolor": "white",
            "showbackground": true,
            "ticks": "",
            "zerolinecolor": "white"
           }
          },
          "shapedefaults": {
           "line": {
            "color": "#2a3f5f"
           }
          },
          "ternary": {
           "aaxis": {
            "gridcolor": "white",
            "linecolor": "white",
            "ticks": ""
           },
           "baxis": {
            "gridcolor": "white",
            "linecolor": "white",
            "ticks": ""
           },
           "bgcolor": "#E5ECF6",
           "caxis": {
            "gridcolor": "white",
            "linecolor": "white",
            "ticks": ""
           }
          },
          "title": {
           "x": 0.05
          },
          "xaxis": {
           "automargin": true,
           "gridcolor": "white",
           "linecolor": "white",
           "ticks": "",
           "title": {
            "standoff": 15
           },
           "zerolinecolor": "white",
           "zerolinewidth": 2
          },
          "yaxis": {
           "automargin": true,
           "gridcolor": "white",
           "linecolor": "white",
           "ticks": "",
           "title": {
            "standoff": 15
           },
           "zerolinecolor": "white",
           "zerolinewidth": 2
          }
         }
        },
        "title": {
         "text": "Evolution of revenue"
        },
        "xaxis": {
         "anchor": "y",
         "domain": [
          0,
          1
         ],
         "title": {
          "text": "year"
         }
        },
        "yaxis": {
         "anchor": "x",
         "domain": [
          0,
          1
         ],
         "title": {
          "text": "Revenue"
         }
        }
       }
      },
      "text/html": [
       "<div>\n",
       "        \n",
       "        \n",
       "            <div id=\"ba43e3ed-88e7-49aa-9959-67fa118fb082\" class=\"plotly-graph-div\" style=\"height:525px; width:100%;\"></div>\n",
       "            <script type=\"text/javascript\">\n",
       "                require([\"plotly\"], function(Plotly) {\n",
       "                    window.PLOTLYENV=window.PLOTLYENV || {};\n",
       "                    \n",
       "                if (document.getElementById(\"ba43e3ed-88e7-49aa-9959-67fa118fb082\")) {\n",
       "                    Plotly.newPlot(\n",
       "                        'ba43e3ed-88e7-49aa-9959-67fa118fb082',\n",
       "                        [{\"alignmentgroup\": \"True\", \"hoverlabel\": {\"namelength\": 0}, \"hovertemplate\": \"sector=Basic Materials<br>year=%{x}<br>Revenue=%{y}\", \"legendgroup\": \"Basic Materials\", \"marker\": {\"color\": \"#636efa\"}, \"name\": \"Basic Materials\", \"offsetgroup\": \"Basic Materials\", \"orientation\": \"v\", \"showlegend\": true, \"textposition\": \"auto\", \"type\": \"bar\", \"x\": [2009, 2010, 2011, 2012, 2013, 2014, 2015, 2016, 2017, 2018], \"xaxis\": \"x\", \"y\": [218882303000.0, 172566453000.0, 248701510000.0, 250481078000.0, 283495550000.0, 298061075000.0, 271236955000.0, 276149093000.0, 302111666000.0, 324545402000.0], \"yaxis\": \"y\"}, {\"alignmentgroup\": \"True\", \"hoverlabel\": {\"namelength\": 0}, \"hovertemplate\": \"sector=Communication Services<br>year=%{x}<br>Revenue=%{y}\", \"legendgroup\": \"Communication Services\", \"marker\": {\"color\": \"#EF553B\"}, \"name\": \"Communication Services\", \"offsetgroup\": \"Communication Services\", \"orientation\": \"v\", \"showlegend\": true, \"textposition\": \"auto\", \"type\": \"bar\", \"x\": [2009, 2010, 2011, 2012, 2013, 2014, 2015, 2016, 2017, 2018], \"xaxis\": \"x\", \"y\": [250909047000.0, 262360857000.0, 280547672000.0, 290865818000.0, 298497700000.0, 312440087000.0, 334333402000.0, 367583024000.0, 380292662000.0, 407417438000.0], \"yaxis\": \"y\"}, {\"alignmentgroup\": \"True\", \"hoverlabel\": {\"namelength\": 0}, \"hovertemplate\": \"sector=Consumer Cyclical<br>year=%{x}<br>Revenue=%{y}\", \"legendgroup\": \"Consumer Cyclical\", \"marker\": {\"color\": \"#00cc96\"}, \"name\": \"Consumer Cyclical\", \"offsetgroup\": \"Consumer Cyclical\", \"orientation\": \"v\", \"showlegend\": true, \"textposition\": \"auto\", \"type\": \"bar\", \"x\": [2009, 2010, 2011, 2012, 2013, 2014, 2015, 2016, 2017, 2018], \"xaxis\": \"x\", \"y\": [498279580000.0, 614823293000.0, 990022541000.0, 1123947868000.0, 1242108017000.0, 1281810983000.0, 1323918826000.0, 1433727327000.0, 1419905204000.0, 1482062443000.0], \"yaxis\": \"y\"}, {\"alignmentgroup\": \"True\", \"hoverlabel\": {\"namelength\": 0}, \"hovertemplate\": \"sector=Consumer Defensive<br>year=%{x}<br>Revenue=%{y}\", \"legendgroup\": \"Consumer Defensive\", \"marker\": {\"color\": \"#ab63fa\"}, \"name\": \"Consumer Defensive\", \"offsetgroup\": \"Consumer Defensive\", \"orientation\": \"v\", \"showlegend\": true, \"textposition\": \"auto\", \"type\": \"bar\", \"x\": [2009, 2010, 2011, 2012, 2013, 2014, 2015, 2016, 2017, 2018], \"xaxis\": \"x\", \"y\": [588110968000.0, 1206603754000.0, 1317049496000.0, 1361546951000.0, 1429341222000.0, 1430983570000.0, 1442859893000.0, 1491620079000.0, 1489971127000.0, 1493338043000.0], \"yaxis\": \"y\"}, {\"alignmentgroup\": \"True\", \"hoverlabel\": {\"namelength\": 0}, \"hovertemplate\": \"sector=Energy<br>year=%{x}<br>Revenue=%{y}\", \"legendgroup\": \"Energy\", \"marker\": {\"color\": \"#FFA15A\"}, \"name\": \"Energy\", \"offsetgroup\": \"Energy\", \"orientation\": \"v\", \"showlegend\": true, \"textposition\": \"auto\", \"type\": \"bar\", \"x\": [2009, 2010, 2011, 2012, 2013, 2014, 2015, 2016, 2017, 2018], \"xaxis\": \"x\", \"y\": [1026162201000.0, 1092886269000.0, 1278586279000.0, 1436461458000.0, 1402184249000.0, 1349352163000.0, 901626172000.0, 743025756000.0, 893806684000.0, 1068732441000.0], \"yaxis\": \"y\"}, {\"alignmentgroup\": \"True\", \"hoverlabel\": {\"namelength\": 0}, \"hovertemplate\": \"sector=Financial Services<br>year=%{x}<br>Revenue=%{y}\", \"legendgroup\": \"Financial Services\", \"marker\": {\"color\": \"#19d3f3\"}, \"name\": \"Financial Services\", \"offsetgroup\": \"Financial Services\", \"orientation\": \"v\", \"showlegend\": true, \"textposition\": \"auto\", \"type\": \"bar\", \"x\": [2009, 2010, 2011, 2012, 2013, 2014, 2015, 2016, 2017, 2018], \"xaxis\": \"x\", \"y\": [954567551000.0, 554586563000.0, 757701188000.0, 846099868000.0, 931211800000.0, 1000999506000.0, 1000000738000.0, 1009376807000.0, 1085827489000.0, 1159515803000.0], \"yaxis\": \"y\"}, {\"alignmentgroup\": \"True\", \"hoverlabel\": {\"namelength\": 0}, \"hovertemplate\": \"sector=Healthcare<br>year=%{x}<br>Revenue=%{y}\", \"legendgroup\": \"Healthcare\", \"marker\": {\"color\": \"#FF6692\"}, \"name\": \"Healthcare\", \"offsetgroup\": \"Healthcare\", \"orientation\": \"v\", \"showlegend\": true, \"textposition\": \"auto\", \"type\": \"bar\", \"x\": [2009, 2010, 2011, 2012, 2013, 2014, 2015, 2016, 2017, 2018], \"xaxis\": \"x\", \"y\": [855995569000.0, 827936620000.0, 969725081000.0, 1348269213000.0, 1460246300000.0, 1580302299000.0, 1694423725000.0, 1946281472000.0, 2124643843000.0, 2106740074000.0], \"yaxis\": \"y\"}, {\"alignmentgroup\": \"True\", \"hoverlabel\": {\"namelength\": 0}, \"hovertemplate\": \"sector=Industrials<br>year=%{x}<br>Revenue=%{y}\", \"legendgroup\": \"Industrials\", \"marker\": {\"color\": \"#B6E880\"}, \"name\": \"Industrials\", \"offsetgroup\": \"Industrials\", \"orientation\": \"v\", \"showlegend\": true, \"textposition\": \"auto\", \"type\": \"bar\", \"x\": [2009, 2010, 2011, 2012, 2013, 2014, 2015, 2016, 2017, 2018], \"xaxis\": \"x\", \"y\": [976462444000.0, 872162504000.0, 1084241029000.0, 1202710787000.0, 1226434074000.0, 1231905927000.0, 1231663789000.0, 1242742512000.0, 1293586056000.0, 1396409979000.0], \"yaxis\": \"y\"}, {\"alignmentgroup\": \"True\", \"hoverlabel\": {\"namelength\": 0}, \"hovertemplate\": \"sector=Real Estate<br>year=%{x}<br>Revenue=%{y}\", \"legendgroup\": \"Real Estate\", \"marker\": {\"color\": \"#FF97FF\"}, \"name\": \"Real Estate\", \"offsetgroup\": \"Real Estate\", \"orientation\": \"v\", \"showlegend\": true, \"textposition\": \"auto\", \"type\": \"bar\", \"x\": [2009, 2010, 2011, 2012, 2013, 2014, 2015, 2016, 2017, 2018], \"xaxis\": \"x\", \"y\": [34381347000.0, 28768819000.0, 39444999000.0, 46305941000.0, 51050784000.0, 56065282000.0, 61188803000.0, 65775775000.0, 69347622000.0, 81766332000.0], \"yaxis\": \"y\"}, {\"alignmentgroup\": \"True\", \"hoverlabel\": {\"namelength\": 0}, \"hovertemplate\": \"sector=Technology<br>year=%{x}<br>Revenue=%{y}\", \"legendgroup\": \"Technology\", \"marker\": {\"color\": \"#FECB52\"}, \"name\": \"Technology\", \"offsetgroup\": \"Technology\", \"orientation\": \"v\", \"showlegend\": true, \"textposition\": \"auto\", \"type\": \"bar\", \"x\": [2009, 2010, 2011, 2012, 2013, 2014, 2015, 2016, 2017, 2018], \"xaxis\": \"x\", \"y\": [630798750000.0, 700022656000.0, 883077805000.0, 992707608000.0, 1104981036000.0, 1186345873000.0, 1331347677000.0, 1360953965000.0, 1486620780000.0, 1745914800000.0], \"yaxis\": \"y\"}, {\"alignmentgroup\": \"True\", \"hoverlabel\": {\"namelength\": 0}, \"hovertemplate\": \"sector=Utilities<br>year=%{x}<br>Revenue=%{y}\", \"legendgroup\": \"Utilities\", \"marker\": {\"color\": \"#636efa\"}, \"name\": \"Utilities\", \"offsetgroup\": \"Utilities\", \"orientation\": \"v\", \"showlegend\": true, \"textposition\": \"auto\", \"type\": \"bar\", \"x\": [2009, 2010, 2011, 2012, 2013, 2014, 2015, 2016, 2017, 2018], \"xaxis\": \"x\", \"y\": [266227285000.0, 206924891000.0, 226495785000.0, 278710895000.0, 290733294000.0, 313763217000.0, 309099942000.0, 307601737000.0, 316117314000.0, 324981700000.0], \"yaxis\": \"y\"}],\n",
       "                        {\"barmode\": \"group\", \"legend\": {\"title\": {\"text\": \"sector\"}, \"tracegroupgap\": 0}, \"template\": {\"data\": {\"bar\": [{\"error_x\": {\"color\": \"#2a3f5f\"}, \"error_y\": {\"color\": \"#2a3f5f\"}, \"marker\": {\"line\": {\"color\": \"#E5ECF6\", \"width\": 0.5}}, \"type\": \"bar\"}], \"barpolar\": [{\"marker\": {\"line\": {\"color\": \"#E5ECF6\", \"width\": 0.5}}, \"type\": \"barpolar\"}], \"carpet\": [{\"aaxis\": {\"endlinecolor\": \"#2a3f5f\", \"gridcolor\": \"white\", \"linecolor\": \"white\", \"minorgridcolor\": \"white\", \"startlinecolor\": \"#2a3f5f\"}, \"baxis\": {\"endlinecolor\": \"#2a3f5f\", \"gridcolor\": \"white\", \"linecolor\": \"white\", \"minorgridcolor\": \"white\", \"startlinecolor\": \"#2a3f5f\"}, \"type\": \"carpet\"}], \"choropleth\": [{\"colorbar\": {\"outlinewidth\": 0, \"ticks\": \"\"}, \"type\": \"choropleth\"}], \"contour\": [{\"colorbar\": {\"outlinewidth\": 0, \"ticks\": \"\"}, \"colorscale\": [[0.0, \"#0d0887\"], [0.1111111111111111, \"#46039f\"], [0.2222222222222222, \"#7201a8\"], [0.3333333333333333, \"#9c179e\"], [0.4444444444444444, \"#bd3786\"], [0.5555555555555556, \"#d8576b\"], [0.6666666666666666, \"#ed7953\"], [0.7777777777777778, \"#fb9f3a\"], [0.8888888888888888, \"#fdca26\"], [1.0, \"#f0f921\"]], \"type\": \"contour\"}], \"contourcarpet\": [{\"colorbar\": {\"outlinewidth\": 0, \"ticks\": \"\"}, \"type\": \"contourcarpet\"}], \"heatmap\": [{\"colorbar\": {\"outlinewidth\": 0, \"ticks\": \"\"}, \"colorscale\": [[0.0, \"#0d0887\"], [0.1111111111111111, \"#46039f\"], [0.2222222222222222, \"#7201a8\"], [0.3333333333333333, \"#9c179e\"], [0.4444444444444444, \"#bd3786\"], [0.5555555555555556, \"#d8576b\"], [0.6666666666666666, \"#ed7953\"], [0.7777777777777778, \"#fb9f3a\"], [0.8888888888888888, \"#fdca26\"], [1.0, \"#f0f921\"]], \"type\": \"heatmap\"}], \"heatmapgl\": [{\"colorbar\": {\"outlinewidth\": 0, \"ticks\": \"\"}, \"colorscale\": [[0.0, \"#0d0887\"], [0.1111111111111111, \"#46039f\"], [0.2222222222222222, \"#7201a8\"], [0.3333333333333333, \"#9c179e\"], [0.4444444444444444, \"#bd3786\"], [0.5555555555555556, \"#d8576b\"], [0.6666666666666666, \"#ed7953\"], [0.7777777777777778, \"#fb9f3a\"], [0.8888888888888888, \"#fdca26\"], [1.0, \"#f0f921\"]], \"type\": \"heatmapgl\"}], \"histogram\": [{\"marker\": {\"colorbar\": {\"outlinewidth\": 0, \"ticks\": \"\"}}, \"type\": \"histogram\"}], \"histogram2d\": [{\"colorbar\": {\"outlinewidth\": 0, \"ticks\": \"\"}, \"colorscale\": [[0.0, \"#0d0887\"], [0.1111111111111111, \"#46039f\"], [0.2222222222222222, \"#7201a8\"], [0.3333333333333333, \"#9c179e\"], [0.4444444444444444, \"#bd3786\"], [0.5555555555555556, \"#d8576b\"], [0.6666666666666666, \"#ed7953\"], [0.7777777777777778, \"#fb9f3a\"], [0.8888888888888888, \"#fdca26\"], [1.0, \"#f0f921\"]], \"type\": \"histogram2d\"}], \"histogram2dcontour\": [{\"colorbar\": {\"outlinewidth\": 0, \"ticks\": \"\"}, \"colorscale\": [[0.0, \"#0d0887\"], [0.1111111111111111, \"#46039f\"], [0.2222222222222222, \"#7201a8\"], [0.3333333333333333, \"#9c179e\"], [0.4444444444444444, \"#bd3786\"], [0.5555555555555556, \"#d8576b\"], [0.6666666666666666, \"#ed7953\"], [0.7777777777777778, \"#fb9f3a\"], [0.8888888888888888, \"#fdca26\"], [1.0, \"#f0f921\"]], \"type\": \"histogram2dcontour\"}], \"mesh3d\": [{\"colorbar\": {\"outlinewidth\": 0, \"ticks\": \"\"}, \"type\": \"mesh3d\"}], \"parcoords\": [{\"line\": {\"colorbar\": {\"outlinewidth\": 0, \"ticks\": \"\"}}, \"type\": \"parcoords\"}], \"pie\": [{\"automargin\": true, \"type\": \"pie\"}], \"scatter\": [{\"marker\": {\"colorbar\": {\"outlinewidth\": 0, \"ticks\": \"\"}}, \"type\": \"scatter\"}], \"scatter3d\": [{\"line\": {\"colorbar\": {\"outlinewidth\": 0, \"ticks\": \"\"}}, \"marker\": {\"colorbar\": {\"outlinewidth\": 0, \"ticks\": \"\"}}, \"type\": \"scatter3d\"}], \"scattercarpet\": [{\"marker\": {\"colorbar\": {\"outlinewidth\": 0, \"ticks\": \"\"}}, \"type\": \"scattercarpet\"}], \"scattergeo\": [{\"marker\": {\"colorbar\": {\"outlinewidth\": 0, \"ticks\": \"\"}}, \"type\": \"scattergeo\"}], \"scattergl\": [{\"marker\": {\"colorbar\": {\"outlinewidth\": 0, \"ticks\": \"\"}}, \"type\": \"scattergl\"}], \"scattermapbox\": [{\"marker\": {\"colorbar\": {\"outlinewidth\": 0, \"ticks\": \"\"}}, \"type\": \"scattermapbox\"}], \"scatterpolar\": [{\"marker\": {\"colorbar\": {\"outlinewidth\": 0, \"ticks\": \"\"}}, \"type\": \"scatterpolar\"}], \"scatterpolargl\": [{\"marker\": {\"colorbar\": {\"outlinewidth\": 0, \"ticks\": \"\"}}, \"type\": \"scatterpolargl\"}], \"scatterternary\": [{\"marker\": {\"colorbar\": {\"outlinewidth\": 0, \"ticks\": \"\"}}, \"type\": \"scatterternary\"}], \"surface\": [{\"colorbar\": {\"outlinewidth\": 0, \"ticks\": \"\"}, \"colorscale\": [[0.0, \"#0d0887\"], [0.1111111111111111, \"#46039f\"], [0.2222222222222222, \"#7201a8\"], [0.3333333333333333, \"#9c179e\"], [0.4444444444444444, \"#bd3786\"], [0.5555555555555556, \"#d8576b\"], [0.6666666666666666, \"#ed7953\"], [0.7777777777777778, \"#fb9f3a\"], [0.8888888888888888, \"#fdca26\"], [1.0, \"#f0f921\"]], \"type\": \"surface\"}], \"table\": [{\"cells\": {\"fill\": {\"color\": \"#EBF0F8\"}, \"line\": {\"color\": \"white\"}}, \"header\": {\"fill\": {\"color\": \"#C8D4E3\"}, \"line\": {\"color\": \"white\"}}, \"type\": \"table\"}]}, \"layout\": {\"annotationdefaults\": {\"arrowcolor\": \"#2a3f5f\", \"arrowhead\": 0, \"arrowwidth\": 1}, \"coloraxis\": {\"colorbar\": {\"outlinewidth\": 0, \"ticks\": \"\"}}, \"colorscale\": {\"diverging\": [[0, \"#8e0152\"], [0.1, \"#c51b7d\"], [0.2, \"#de77ae\"], [0.3, \"#f1b6da\"], [0.4, \"#fde0ef\"], [0.5, \"#f7f7f7\"], [0.6, \"#e6f5d0\"], [0.7, \"#b8e186\"], [0.8, \"#7fbc41\"], [0.9, \"#4d9221\"], [1, \"#276419\"]], \"sequential\": [[0.0, \"#0d0887\"], [0.1111111111111111, \"#46039f\"], [0.2222222222222222, \"#7201a8\"], [0.3333333333333333, \"#9c179e\"], [0.4444444444444444, \"#bd3786\"], [0.5555555555555556, \"#d8576b\"], [0.6666666666666666, \"#ed7953\"], [0.7777777777777778, \"#fb9f3a\"], [0.8888888888888888, \"#fdca26\"], [1.0, \"#f0f921\"]], \"sequentialminus\": [[0.0, \"#0d0887\"], [0.1111111111111111, \"#46039f\"], [0.2222222222222222, \"#7201a8\"], [0.3333333333333333, \"#9c179e\"], [0.4444444444444444, \"#bd3786\"], [0.5555555555555556, \"#d8576b\"], [0.6666666666666666, \"#ed7953\"], [0.7777777777777778, \"#fb9f3a\"], [0.8888888888888888, \"#fdca26\"], [1.0, \"#f0f921\"]]}, \"colorway\": [\"#636efa\", \"#EF553B\", \"#00cc96\", \"#ab63fa\", \"#FFA15A\", \"#19d3f3\", \"#FF6692\", \"#B6E880\", \"#FF97FF\", \"#FECB52\"], \"font\": {\"color\": \"#2a3f5f\"}, \"geo\": {\"bgcolor\": \"white\", \"lakecolor\": \"white\", \"landcolor\": \"#E5ECF6\", \"showlakes\": true, \"showland\": true, \"subunitcolor\": \"white\"}, \"hoverlabel\": {\"align\": \"left\"}, \"hovermode\": \"closest\", \"mapbox\": {\"style\": \"light\"}, \"paper_bgcolor\": \"white\", \"plot_bgcolor\": \"#E5ECF6\", \"polar\": {\"angularaxis\": {\"gridcolor\": \"white\", \"linecolor\": \"white\", \"ticks\": \"\"}, \"bgcolor\": \"#E5ECF6\", \"radialaxis\": {\"gridcolor\": \"white\", \"linecolor\": \"white\", \"ticks\": \"\"}}, \"scene\": {\"xaxis\": {\"backgroundcolor\": \"#E5ECF6\", \"gridcolor\": \"white\", \"gridwidth\": 2, \"linecolor\": \"white\", \"showbackground\": true, \"ticks\": \"\", \"zerolinecolor\": \"white\"}, \"yaxis\": {\"backgroundcolor\": \"#E5ECF6\", \"gridcolor\": \"white\", \"gridwidth\": 2, \"linecolor\": \"white\", \"showbackground\": true, \"ticks\": \"\", \"zerolinecolor\": \"white\"}, \"zaxis\": {\"backgroundcolor\": \"#E5ECF6\", \"gridcolor\": \"white\", \"gridwidth\": 2, \"linecolor\": \"white\", \"showbackground\": true, \"ticks\": \"\", \"zerolinecolor\": \"white\"}}, \"shapedefaults\": {\"line\": {\"color\": \"#2a3f5f\"}}, \"ternary\": {\"aaxis\": {\"gridcolor\": \"white\", \"linecolor\": \"white\", \"ticks\": \"\"}, \"baxis\": {\"gridcolor\": \"white\", \"linecolor\": \"white\", \"ticks\": \"\"}, \"bgcolor\": \"#E5ECF6\", \"caxis\": {\"gridcolor\": \"white\", \"linecolor\": \"white\", \"ticks\": \"\"}}, \"title\": {\"x\": 0.05}, \"xaxis\": {\"automargin\": true, \"gridcolor\": \"white\", \"linecolor\": \"white\", \"ticks\": \"\", \"title\": {\"standoff\": 15}, \"zerolinecolor\": \"white\", \"zerolinewidth\": 2}, \"yaxis\": {\"automargin\": true, \"gridcolor\": \"white\", \"linecolor\": \"white\", \"ticks\": \"\", \"title\": {\"standoff\": 15}, \"zerolinecolor\": \"white\", \"zerolinewidth\": 2}}}, \"title\": {\"text\": \"Evolution of revenue\"}, \"xaxis\": {\"anchor\": \"y\", \"domain\": [0.0, 1.0], \"title\": {\"text\": \"year\"}}, \"yaxis\": {\"anchor\": \"x\", \"domain\": [0.0, 1.0], \"title\": {\"text\": \"Revenue\"}}},\n",
       "                        {\"responsive\": true}\n",
       "                    ).then(function(){\n",
       "                            \n",
       "var gd = document.getElementById('ba43e3ed-88e7-49aa-9959-67fa118fb082');\n",
       "var x = new MutationObserver(function (mutations, observer) {{\n",
       "        var display = window.getComputedStyle(gd).display;\n",
       "        if (!display || display === 'none') {{\n",
       "            console.log([gd, 'removed!']);\n",
       "            Plotly.purge(gd);\n",
       "            observer.disconnect();\n",
       "        }}\n",
       "}});\n",
       "\n",
       "// Listen for the removal of the full notebook cells\n",
       "var notebookContainer = gd.closest('#notebook-container');\n",
       "if (notebookContainer) {{\n",
       "    x.observe(notebookContainer, {childList: true});\n",
       "}}\n",
       "\n",
       "// Listen for the clearing of the current output cell\n",
       "var outputEl = gd.closest('.output');\n",
       "if (outputEl) {{\n",
       "    x.observe(outputEl, {childList: true});\n",
       "}}\n",
       "\n",
       "                        })\n",
       "                };\n",
       "                });\n",
       "            </script>\n",
       "        </div>"
      ]
     },
     "metadata": {},
     "output_type": "display_data"
    }
   ],
   "source": [
    "#Stacked barplot absolute\n",
    "stacked_bar_absolute = px.bar(df_1, x=\"year\", y=\"Revenue\", color=\"sector\", title=\"Evolution of revenue\")\n",
    "\n",
    "#Stacked barplot relative\n",
    "stacked_bar_relative = px.bar(df_1, x=\"year\", y=\"Relative_revenue\", color=\"sector\", title=\"Evolution of revenue\")\n",
    "\n",
    "#Grouped barplot\n",
    "grouped_bar_absolute = px.bar(df_1, x=\"year\", y=\"Revenue\", color=\"sector\",barmode=\"group\",title=\"Evolution of revenue\")\n",
    "\n",
    "\n",
    "stacked_bar_absolute.show()\n",
    "stacked_bar_relative.show()\n",
    "grouped_bar_absolute.show()"
   ]
  },
  {
   "cell_type": "markdown",
   "metadata": {},
   "source": [
    "## Net income"
   ]
  },
  {
   "cell_type": "code",
   "execution_count": 8,
   "metadata": {
    "ExecuteTime": {
     "end_time": "2020-05-10T15:49:41.721031Z",
     "start_time": "2020-05-10T15:49:39.944122Z"
    }
   },
   "outputs": [
    {
     "data": {
      "application/vnd.plotly.v1+json": {
       "config": {
        "plotlyServerURL": "https://plot.ly"
       },
       "data": [
        {
         "alignmentgroup": "True",
         "hoverlabel": {
          "namelength": 0
         },
         "hovertemplate": "sector=Basic Materials<br>year=%{x}<br>Net Income=%{y}",
         "legendgroup": "Basic Materials",
         "marker": {
          "color": "#636efa"
         },
         "name": "Basic Materials",
         "offsetgroup": "Basic Materials",
         "orientation": "v",
         "showlegend": true,
         "textposition": "auto",
         "type": "bar",
         "x": [
          2009,
          2010,
          2011,
          2012,
          2013,
          2014,
          2015,
          2016,
          2017,
          2018
         ],
         "xaxis": "x",
         "y": [
          5859802000,
          15066569000,
          20665155000,
          18800204000,
          26606220000,
          26362116000,
          16031930000,
          14503157000,
          27320392000,
          27219659000
         ],
         "yaxis": "y"
        },
        {
         "alignmentgroup": "True",
         "hoverlabel": {
          "namelength": 0
         },
         "hovertemplate": "sector=Communication Services<br>year=%{x}<br>Net Income=%{y}",
         "legendgroup": "Communication Services",
         "marker": {
          "color": "#EF553B"
         },
         "name": "Communication Services",
         "offsetgroup": "Communication Services",
         "orientation": "v",
         "showlegend": true,
         "textposition": "auto",
         "type": "bar",
         "x": [
          2009,
          2010,
          2011,
          2012,
          2013,
          2014,
          2015,
          2016,
          2017,
          2018
         ],
         "xaxis": "x",
         "y": [
          18536129000,
          24447549000,
          8564039000,
          9722085000,
          30753319000,
          18450107000,
          33210151000,
          32547194000,
          74835172000,
          38465184000
         ],
         "yaxis": "y"
        },
        {
         "alignmentgroup": "True",
         "hoverlabel": {
          "namelength": 0
         },
         "hovertemplate": "sector=Consumer Cyclical<br>year=%{x}<br>Net Income=%{y}",
         "legendgroup": "Consumer Cyclical",
         "marker": {
          "color": "#00cc96"
         },
         "name": "Consumer Cyclical",
         "offsetgroup": "Consumer Cyclical",
         "orientation": "v",
         "showlegend": true,
         "textposition": "auto",
         "type": "bar",
         "x": [
          2009,
          2010,
          2011,
          2012,
          2013,
          2014,
          2015,
          2016,
          2017,
          2018
         ],
         "xaxis": "x",
         "y": [
          23413694000,
          42019640000,
          89882044000,
          70087778000,
          89947319000,
          90715538000,
          106072220000,
          116290777000,
          108923882000,
          119702000000
         ],
         "yaxis": "y"
        },
        {
         "alignmentgroup": "True",
         "hoverlabel": {
          "namelength": 0
         },
         "hovertemplate": "sector=Consumer Defensive<br>year=%{x}<br>Net Income=%{y}",
         "legendgroup": "Consumer Defensive",
         "marker": {
          "color": "#ab63fa"
         },
         "name": "Consumer Defensive",
         "offsetgroup": "Consumer Defensive",
         "orientation": "v",
         "showlegend": true,
         "textposition": "auto",
         "type": "bar",
         "x": [
          2009,
          2010,
          2011,
          2012,
          2013,
          2014,
          2015,
          2016,
          2017,
          2018
         ],
         "xaxis": "x",
         "y": [
          52523571000,
          80954995000,
          82467663000,
          79228271000,
          86787931000,
          81179223000,
          74513890000,
          95304383000,
          99546030000,
          76766432000
         ],
         "yaxis": "y"
        },
        {
         "alignmentgroup": "True",
         "hoverlabel": {
          "namelength": 0
         },
         "hovertemplate": "sector=Energy<br>year=%{x}<br>Net Income=%{y}",
         "legendgroup": "Energy",
         "marker": {
          "color": "#FFA15A"
         },
         "name": "Energy",
         "offsetgroup": "Energy",
         "orientation": "v",
         "showlegend": true,
         "textposition": "auto",
         "type": "bar",
         "x": [
          2009,
          2010,
          2011,
          2012,
          2013,
          2014,
          2015,
          2016,
          2017,
          2018
         ],
         "xaxis": "x",
         "y": [
          42819174000,
          55402674000,
          92689638000,
          117032867000,
          105142626000,
          94192767000,
          -42666366000,
          -24304230900,
          40451905000,
          71181660000
         ],
         "yaxis": "y"
        },
        {
         "alignmentgroup": "True",
         "hoverlabel": {
          "namelength": 0
         },
         "hovertemplate": "sector=Financial Services<br>year=%{x}<br>Net Income=%{y}",
         "legendgroup": "Financial Services",
         "marker": {
          "color": "#19d3f3"
         },
         "name": "Financial Services",
         "offsetgroup": "Financial Services",
         "orientation": "v",
         "showlegend": true,
         "textposition": "auto",
         "type": "bar",
         "x": [
          2009,
          2010,
          2011,
          2012,
          2013,
          2014,
          2015,
          2016,
          2017,
          2018
         ],
         "xaxis": "x",
         "y": [
          52877946000,
          99605119000,
          127408343000,
          128223233000,
          171070165000,
          177423928000,
          200971322000,
          188778640000,
          177379811000,
          255168433000
         ],
         "yaxis": "y"
        },
        {
         "alignmentgroup": "True",
         "hoverlabel": {
          "namelength": 0
         },
         "hovertemplate": "sector=Healthcare<br>year=%{x}<br>Net Income=%{y}",
         "legendgroup": "Healthcare",
         "marker": {
          "color": "#FF6692"
         },
         "name": "Healthcare",
         "offsetgroup": "Healthcare",
         "orientation": "v",
         "showlegend": true,
         "textposition": "auto",
         "type": "bar",
         "x": [
          2009,
          2010,
          2011,
          2012,
          2013,
          2014,
          2015,
          2016,
          2017,
          2018
         ],
         "xaxis": "x",
         "y": [
          78306224000,
          51610634000,
          70802192000,
          107877160000,
          110441543000,
          115018013000,
          109128909000,
          142053265000,
          128373564000,
          128711279000
         ],
         "yaxis": "y"
        },
        {
         "alignmentgroup": "True",
         "hoverlabel": {
          "namelength": 0
         },
         "hovertemplate": "sector=Industrials<br>year=%{x}<br>Net Income=%{y}",
         "legendgroup": "Industrials",
         "marker": {
          "color": "#B6E880"
         },
         "name": "Industrials",
         "offsetgroup": "Industrials",
         "orientation": "v",
         "showlegend": true,
         "textposition": "auto",
         "type": "bar",
         "x": [
          2009,
          2010,
          2011,
          2012,
          2013,
          2014,
          2015,
          2016,
          2017,
          2018
         ],
         "xaxis": "x",
         "y": [
          49062158000,
          63203358000,
          77893113000,
          82012672000,
          101968011000,
          104459482000,
          99013027000,
          102014418000,
          106069331000,
          102683190000
         ],
         "yaxis": "y"
        },
        {
         "alignmentgroup": "True",
         "hoverlabel": {
          "namelength": 0
         },
         "hovertemplate": "sector=Real Estate<br>year=%{x}<br>Net Income=%{y}",
         "legendgroup": "Real Estate",
         "marker": {
          "color": "#FF97FF"
         },
         "name": "Real Estate",
         "offsetgroup": "Real Estate",
         "orientation": "v",
         "showlegend": true,
         "textposition": "auto",
         "type": "bar",
         "x": [
          2009,
          2010,
          2011,
          2012,
          2013,
          2014,
          2015,
          2016,
          2017,
          2018
         ],
         "xaxis": "x",
         "y": [
          2567748000,
          3522414000,
          7211697000,
          8501170000,
          11001237000,
          13713653000,
          14972832000,
          19489977000,
          16327906000,
          18047001000
         ],
         "yaxis": "y"
        },
        {
         "alignmentgroup": "True",
         "hoverlabel": {
          "namelength": 0
         },
         "hovertemplate": "sector=Technology<br>year=%{x}<br>Net Income=%{y}",
         "legendgroup": "Technology",
         "marker": {
          "color": "#FECB52"
         },
         "name": "Technology",
         "offsetgroup": "Technology",
         "orientation": "v",
         "showlegend": true,
         "textposition": "auto",
         "type": "bar",
         "x": [
          2009,
          2010,
          2011,
          2012,
          2013,
          2014,
          2015,
          2016,
          2017,
          2018
         ],
         "xaxis": "x",
         "y": [
          74495115000,
          107245668000,
          141394286000,
          136433455000,
          166223802000,
          170610863000,
          195611838000,
          205198373000,
          196369855000,
          287669243000
         ],
         "yaxis": "y"
        },
        {
         "alignmentgroup": "True",
         "hoverlabel": {
          "namelength": 0
         },
         "hovertemplate": "sector=Utilities<br>year=%{x}<br>Net Income=%{y}",
         "legendgroup": "Utilities",
         "marker": {
          "color": "#636efa"
         },
         "name": "Utilities",
         "offsetgroup": "Utilities",
         "orientation": "v",
         "showlegend": true,
         "textposition": "auto",
         "type": "bar",
         "x": [
          2009,
          2010,
          2011,
          2012,
          2013,
          2014,
          2015,
          2016,
          2017,
          2018
         ],
         "xaxis": "x",
         "y": [
          22922317000,
          19231669000,
          22881971000,
          19369691000,
          23825863000,
          26545695000,
          20611684000,
          15852713000,
          27947883000,
          25782027000
         ],
         "yaxis": "y"
        }
       ],
       "layout": {
        "barmode": "relative",
        "legend": {
         "title": {
          "text": "sector"
         },
         "tracegroupgap": 0
        },
        "template": {
         "data": {
          "bar": [
           {
            "error_x": {
             "color": "#2a3f5f"
            },
            "error_y": {
             "color": "#2a3f5f"
            },
            "marker": {
             "line": {
              "color": "#E5ECF6",
              "width": 0.5
             }
            },
            "type": "bar"
           }
          ],
          "barpolar": [
           {
            "marker": {
             "line": {
              "color": "#E5ECF6",
              "width": 0.5
             }
            },
            "type": "barpolar"
           }
          ],
          "carpet": [
           {
            "aaxis": {
             "endlinecolor": "#2a3f5f",
             "gridcolor": "white",
             "linecolor": "white",
             "minorgridcolor": "white",
             "startlinecolor": "#2a3f5f"
            },
            "baxis": {
             "endlinecolor": "#2a3f5f",
             "gridcolor": "white",
             "linecolor": "white",
             "minorgridcolor": "white",
             "startlinecolor": "#2a3f5f"
            },
            "type": "carpet"
           }
          ],
          "choropleth": [
           {
            "colorbar": {
             "outlinewidth": 0,
             "ticks": ""
            },
            "type": "choropleth"
           }
          ],
          "contour": [
           {
            "colorbar": {
             "outlinewidth": 0,
             "ticks": ""
            },
            "colorscale": [
             [
              0,
              "#0d0887"
             ],
             [
              0.1111111111111111,
              "#46039f"
             ],
             [
              0.2222222222222222,
              "#7201a8"
             ],
             [
              0.3333333333333333,
              "#9c179e"
             ],
             [
              0.4444444444444444,
              "#bd3786"
             ],
             [
              0.5555555555555556,
              "#d8576b"
             ],
             [
              0.6666666666666666,
              "#ed7953"
             ],
             [
              0.7777777777777778,
              "#fb9f3a"
             ],
             [
              0.8888888888888888,
              "#fdca26"
             ],
             [
              1,
              "#f0f921"
             ]
            ],
            "type": "contour"
           }
          ],
          "contourcarpet": [
           {
            "colorbar": {
             "outlinewidth": 0,
             "ticks": ""
            },
            "type": "contourcarpet"
           }
          ],
          "heatmap": [
           {
            "colorbar": {
             "outlinewidth": 0,
             "ticks": ""
            },
            "colorscale": [
             [
              0,
              "#0d0887"
             ],
             [
              0.1111111111111111,
              "#46039f"
             ],
             [
              0.2222222222222222,
              "#7201a8"
             ],
             [
              0.3333333333333333,
              "#9c179e"
             ],
             [
              0.4444444444444444,
              "#bd3786"
             ],
             [
              0.5555555555555556,
              "#d8576b"
             ],
             [
              0.6666666666666666,
              "#ed7953"
             ],
             [
              0.7777777777777778,
              "#fb9f3a"
             ],
             [
              0.8888888888888888,
              "#fdca26"
             ],
             [
              1,
              "#f0f921"
             ]
            ],
            "type": "heatmap"
           }
          ],
          "heatmapgl": [
           {
            "colorbar": {
             "outlinewidth": 0,
             "ticks": ""
            },
            "colorscale": [
             [
              0,
              "#0d0887"
             ],
             [
              0.1111111111111111,
              "#46039f"
             ],
             [
              0.2222222222222222,
              "#7201a8"
             ],
             [
              0.3333333333333333,
              "#9c179e"
             ],
             [
              0.4444444444444444,
              "#bd3786"
             ],
             [
              0.5555555555555556,
              "#d8576b"
             ],
             [
              0.6666666666666666,
              "#ed7953"
             ],
             [
              0.7777777777777778,
              "#fb9f3a"
             ],
             [
              0.8888888888888888,
              "#fdca26"
             ],
             [
              1,
              "#f0f921"
             ]
            ],
            "type": "heatmapgl"
           }
          ],
          "histogram": [
           {
            "marker": {
             "colorbar": {
              "outlinewidth": 0,
              "ticks": ""
             }
            },
            "type": "histogram"
           }
          ],
          "histogram2d": [
           {
            "colorbar": {
             "outlinewidth": 0,
             "ticks": ""
            },
            "colorscale": [
             [
              0,
              "#0d0887"
             ],
             [
              0.1111111111111111,
              "#46039f"
             ],
             [
              0.2222222222222222,
              "#7201a8"
             ],
             [
              0.3333333333333333,
              "#9c179e"
             ],
             [
              0.4444444444444444,
              "#bd3786"
             ],
             [
              0.5555555555555556,
              "#d8576b"
             ],
             [
              0.6666666666666666,
              "#ed7953"
             ],
             [
              0.7777777777777778,
              "#fb9f3a"
             ],
             [
              0.8888888888888888,
              "#fdca26"
             ],
             [
              1,
              "#f0f921"
             ]
            ],
            "type": "histogram2d"
           }
          ],
          "histogram2dcontour": [
           {
            "colorbar": {
             "outlinewidth": 0,
             "ticks": ""
            },
            "colorscale": [
             [
              0,
              "#0d0887"
             ],
             [
              0.1111111111111111,
              "#46039f"
             ],
             [
              0.2222222222222222,
              "#7201a8"
             ],
             [
              0.3333333333333333,
              "#9c179e"
             ],
             [
              0.4444444444444444,
              "#bd3786"
             ],
             [
              0.5555555555555556,
              "#d8576b"
             ],
             [
              0.6666666666666666,
              "#ed7953"
             ],
             [
              0.7777777777777778,
              "#fb9f3a"
             ],
             [
              0.8888888888888888,
              "#fdca26"
             ],
             [
              1,
              "#f0f921"
             ]
            ],
            "type": "histogram2dcontour"
           }
          ],
          "mesh3d": [
           {
            "colorbar": {
             "outlinewidth": 0,
             "ticks": ""
            },
            "type": "mesh3d"
           }
          ],
          "parcoords": [
           {
            "line": {
             "colorbar": {
              "outlinewidth": 0,
              "ticks": ""
             }
            },
            "type": "parcoords"
           }
          ],
          "pie": [
           {
            "automargin": true,
            "type": "pie"
           }
          ],
          "scatter": [
           {
            "marker": {
             "colorbar": {
              "outlinewidth": 0,
              "ticks": ""
             }
            },
            "type": "scatter"
           }
          ],
          "scatter3d": [
           {
            "line": {
             "colorbar": {
              "outlinewidth": 0,
              "ticks": ""
             }
            },
            "marker": {
             "colorbar": {
              "outlinewidth": 0,
              "ticks": ""
             }
            },
            "type": "scatter3d"
           }
          ],
          "scattercarpet": [
           {
            "marker": {
             "colorbar": {
              "outlinewidth": 0,
              "ticks": ""
             }
            },
            "type": "scattercarpet"
           }
          ],
          "scattergeo": [
           {
            "marker": {
             "colorbar": {
              "outlinewidth": 0,
              "ticks": ""
             }
            },
            "type": "scattergeo"
           }
          ],
          "scattergl": [
           {
            "marker": {
             "colorbar": {
              "outlinewidth": 0,
              "ticks": ""
             }
            },
            "type": "scattergl"
           }
          ],
          "scattermapbox": [
           {
            "marker": {
             "colorbar": {
              "outlinewidth": 0,
              "ticks": ""
             }
            },
            "type": "scattermapbox"
           }
          ],
          "scatterpolar": [
           {
            "marker": {
             "colorbar": {
              "outlinewidth": 0,
              "ticks": ""
             }
            },
            "type": "scatterpolar"
           }
          ],
          "scatterpolargl": [
           {
            "marker": {
             "colorbar": {
              "outlinewidth": 0,
              "ticks": ""
             }
            },
            "type": "scatterpolargl"
           }
          ],
          "scatterternary": [
           {
            "marker": {
             "colorbar": {
              "outlinewidth": 0,
              "ticks": ""
             }
            },
            "type": "scatterternary"
           }
          ],
          "surface": [
           {
            "colorbar": {
             "outlinewidth": 0,
             "ticks": ""
            },
            "colorscale": [
             [
              0,
              "#0d0887"
             ],
             [
              0.1111111111111111,
              "#46039f"
             ],
             [
              0.2222222222222222,
              "#7201a8"
             ],
             [
              0.3333333333333333,
              "#9c179e"
             ],
             [
              0.4444444444444444,
              "#bd3786"
             ],
             [
              0.5555555555555556,
              "#d8576b"
             ],
             [
              0.6666666666666666,
              "#ed7953"
             ],
             [
              0.7777777777777778,
              "#fb9f3a"
             ],
             [
              0.8888888888888888,
              "#fdca26"
             ],
             [
              1,
              "#f0f921"
             ]
            ],
            "type": "surface"
           }
          ],
          "table": [
           {
            "cells": {
             "fill": {
              "color": "#EBF0F8"
             },
             "line": {
              "color": "white"
             }
            },
            "header": {
             "fill": {
              "color": "#C8D4E3"
             },
             "line": {
              "color": "white"
             }
            },
            "type": "table"
           }
          ]
         },
         "layout": {
          "annotationdefaults": {
           "arrowcolor": "#2a3f5f",
           "arrowhead": 0,
           "arrowwidth": 1
          },
          "coloraxis": {
           "colorbar": {
            "outlinewidth": 0,
            "ticks": ""
           }
          },
          "colorscale": {
           "diverging": [
            [
             0,
             "#8e0152"
            ],
            [
             0.1,
             "#c51b7d"
            ],
            [
             0.2,
             "#de77ae"
            ],
            [
             0.3,
             "#f1b6da"
            ],
            [
             0.4,
             "#fde0ef"
            ],
            [
             0.5,
             "#f7f7f7"
            ],
            [
             0.6,
             "#e6f5d0"
            ],
            [
             0.7,
             "#b8e186"
            ],
            [
             0.8,
             "#7fbc41"
            ],
            [
             0.9,
             "#4d9221"
            ],
            [
             1,
             "#276419"
            ]
           ],
           "sequential": [
            [
             0,
             "#0d0887"
            ],
            [
             0.1111111111111111,
             "#46039f"
            ],
            [
             0.2222222222222222,
             "#7201a8"
            ],
            [
             0.3333333333333333,
             "#9c179e"
            ],
            [
             0.4444444444444444,
             "#bd3786"
            ],
            [
             0.5555555555555556,
             "#d8576b"
            ],
            [
             0.6666666666666666,
             "#ed7953"
            ],
            [
             0.7777777777777778,
             "#fb9f3a"
            ],
            [
             0.8888888888888888,
             "#fdca26"
            ],
            [
             1,
             "#f0f921"
            ]
           ],
           "sequentialminus": [
            [
             0,
             "#0d0887"
            ],
            [
             0.1111111111111111,
             "#46039f"
            ],
            [
             0.2222222222222222,
             "#7201a8"
            ],
            [
             0.3333333333333333,
             "#9c179e"
            ],
            [
             0.4444444444444444,
             "#bd3786"
            ],
            [
             0.5555555555555556,
             "#d8576b"
            ],
            [
             0.6666666666666666,
             "#ed7953"
            ],
            [
             0.7777777777777778,
             "#fb9f3a"
            ],
            [
             0.8888888888888888,
             "#fdca26"
            ],
            [
             1,
             "#f0f921"
            ]
           ]
          },
          "colorway": [
           "#636efa",
           "#EF553B",
           "#00cc96",
           "#ab63fa",
           "#FFA15A",
           "#19d3f3",
           "#FF6692",
           "#B6E880",
           "#FF97FF",
           "#FECB52"
          ],
          "font": {
           "color": "#2a3f5f"
          },
          "geo": {
           "bgcolor": "white",
           "lakecolor": "white",
           "landcolor": "#E5ECF6",
           "showlakes": true,
           "showland": true,
           "subunitcolor": "white"
          },
          "hoverlabel": {
           "align": "left"
          },
          "hovermode": "closest",
          "mapbox": {
           "style": "light"
          },
          "paper_bgcolor": "white",
          "plot_bgcolor": "#E5ECF6",
          "polar": {
           "angularaxis": {
            "gridcolor": "white",
            "linecolor": "white",
            "ticks": ""
           },
           "bgcolor": "#E5ECF6",
           "radialaxis": {
            "gridcolor": "white",
            "linecolor": "white",
            "ticks": ""
           }
          },
          "scene": {
           "xaxis": {
            "backgroundcolor": "#E5ECF6",
            "gridcolor": "white",
            "gridwidth": 2,
            "linecolor": "white",
            "showbackground": true,
            "ticks": "",
            "zerolinecolor": "white"
           },
           "yaxis": {
            "backgroundcolor": "#E5ECF6",
            "gridcolor": "white",
            "gridwidth": 2,
            "linecolor": "white",
            "showbackground": true,
            "ticks": "",
            "zerolinecolor": "white"
           },
           "zaxis": {
            "backgroundcolor": "#E5ECF6",
            "gridcolor": "white",
            "gridwidth": 2,
            "linecolor": "white",
            "showbackground": true,
            "ticks": "",
            "zerolinecolor": "white"
           }
          },
          "shapedefaults": {
           "line": {
            "color": "#2a3f5f"
           }
          },
          "ternary": {
           "aaxis": {
            "gridcolor": "white",
            "linecolor": "white",
            "ticks": ""
           },
           "baxis": {
            "gridcolor": "white",
            "linecolor": "white",
            "ticks": ""
           },
           "bgcolor": "#E5ECF6",
           "caxis": {
            "gridcolor": "white",
            "linecolor": "white",
            "ticks": ""
           }
          },
          "title": {
           "x": 0.05
          },
          "xaxis": {
           "automargin": true,
           "gridcolor": "white",
           "linecolor": "white",
           "ticks": "",
           "title": {
            "standoff": 15
           },
           "zerolinecolor": "white",
           "zerolinewidth": 2
          },
          "yaxis": {
           "automargin": true,
           "gridcolor": "white",
           "linecolor": "white",
           "ticks": "",
           "title": {
            "standoff": 15
           },
           "zerolinecolor": "white",
           "zerolinewidth": 2
          }
         }
        },
        "title": {
         "text": "Evolution of net income"
        },
        "xaxis": {
         "anchor": "y",
         "domain": [
          0,
          1
         ],
         "title": {
          "text": "year"
         }
        },
        "yaxis": {
         "anchor": "x",
         "domain": [
          0,
          1
         ],
         "title": {
          "text": "Net Income"
         }
        }
       }
      },
      "text/html": [
       "<div>\n",
       "        \n",
       "        \n",
       "            <div id=\"25f6b093-e2c0-4c2c-8987-524c119f3a48\" class=\"plotly-graph-div\" style=\"height:525px; width:100%;\"></div>\n",
       "            <script type=\"text/javascript\">\n",
       "                require([\"plotly\"], function(Plotly) {\n",
       "                    window.PLOTLYENV=window.PLOTLYENV || {};\n",
       "                    \n",
       "                if (document.getElementById(\"25f6b093-e2c0-4c2c-8987-524c119f3a48\")) {\n",
       "                    Plotly.newPlot(\n",
       "                        '25f6b093-e2c0-4c2c-8987-524c119f3a48',\n",
       "                        [{\"alignmentgroup\": \"True\", \"hoverlabel\": {\"namelength\": 0}, \"hovertemplate\": \"sector=Basic Materials<br>year=%{x}<br>Net Income=%{y}\", \"legendgroup\": \"Basic Materials\", \"marker\": {\"color\": \"#636efa\"}, \"name\": \"Basic Materials\", \"offsetgroup\": \"Basic Materials\", \"orientation\": \"v\", \"showlegend\": true, \"textposition\": \"auto\", \"type\": \"bar\", \"x\": [2009, 2010, 2011, 2012, 2013, 2014, 2015, 2016, 2017, 2018], \"xaxis\": \"x\", \"y\": [5859802000.0, 15066569000.0, 20665155000.0, 18800204000.0, 26606220000.0, 26362116000.0, 16031930000.0, 14503157000.0, 27320392000.0, 27219659000.0], \"yaxis\": \"y\"}, {\"alignmentgroup\": \"True\", \"hoverlabel\": {\"namelength\": 0}, \"hovertemplate\": \"sector=Communication Services<br>year=%{x}<br>Net Income=%{y}\", \"legendgroup\": \"Communication Services\", \"marker\": {\"color\": \"#EF553B\"}, \"name\": \"Communication Services\", \"offsetgroup\": \"Communication Services\", \"orientation\": \"v\", \"showlegend\": true, \"textposition\": \"auto\", \"type\": \"bar\", \"x\": [2009, 2010, 2011, 2012, 2013, 2014, 2015, 2016, 2017, 2018], \"xaxis\": \"x\", \"y\": [18536129000.0, 24447549000.0, 8564039000.0, 9722085000.0, 30753319000.0, 18450107000.0, 33210151000.0, 32547194000.0, 74835172000.0, 38465184000.0], \"yaxis\": \"y\"}, {\"alignmentgroup\": \"True\", \"hoverlabel\": {\"namelength\": 0}, \"hovertemplate\": \"sector=Consumer Cyclical<br>year=%{x}<br>Net Income=%{y}\", \"legendgroup\": \"Consumer Cyclical\", \"marker\": {\"color\": \"#00cc96\"}, \"name\": \"Consumer Cyclical\", \"offsetgroup\": \"Consumer Cyclical\", \"orientation\": \"v\", \"showlegend\": true, \"textposition\": \"auto\", \"type\": \"bar\", \"x\": [2009, 2010, 2011, 2012, 2013, 2014, 2015, 2016, 2017, 2018], \"xaxis\": \"x\", \"y\": [23413694000.0, 42019640000.0, 89882044000.0, 70087778000.0, 89947319000.0, 90715538000.0, 106072220000.0, 116290777000.0, 108923882000.0, 119702000000.0], \"yaxis\": \"y\"}, {\"alignmentgroup\": \"True\", \"hoverlabel\": {\"namelength\": 0}, \"hovertemplate\": \"sector=Consumer Defensive<br>year=%{x}<br>Net Income=%{y}\", \"legendgroup\": \"Consumer Defensive\", \"marker\": {\"color\": \"#ab63fa\"}, \"name\": \"Consumer Defensive\", \"offsetgroup\": \"Consumer Defensive\", \"orientation\": \"v\", \"showlegend\": true, \"textposition\": \"auto\", \"type\": \"bar\", \"x\": [2009, 2010, 2011, 2012, 2013, 2014, 2015, 2016, 2017, 2018], \"xaxis\": \"x\", \"y\": [52523571000.0, 80954995000.0, 82467663000.0, 79228271000.0, 86787931000.0, 81179223000.0, 74513890000.0, 95304383000.0, 99546030000.0, 76766432000.0], \"yaxis\": \"y\"}, {\"alignmentgroup\": \"True\", \"hoverlabel\": {\"namelength\": 0}, \"hovertemplate\": \"sector=Energy<br>year=%{x}<br>Net Income=%{y}\", \"legendgroup\": \"Energy\", \"marker\": {\"color\": \"#FFA15A\"}, \"name\": \"Energy\", \"offsetgroup\": \"Energy\", \"orientation\": \"v\", \"showlegend\": true, \"textposition\": \"auto\", \"type\": \"bar\", \"x\": [2009, 2010, 2011, 2012, 2013, 2014, 2015, 2016, 2017, 2018], \"xaxis\": \"x\", \"y\": [42819174000.0, 55402674000.0, 92689638000.0, 117032867000.0, 105142626000.0, 94192767000.0, -42666366000.0, -24304230900.0, 40451905000.0, 71181660000.0], \"yaxis\": \"y\"}, {\"alignmentgroup\": \"True\", \"hoverlabel\": {\"namelength\": 0}, \"hovertemplate\": \"sector=Financial Services<br>year=%{x}<br>Net Income=%{y}\", \"legendgroup\": \"Financial Services\", \"marker\": {\"color\": \"#19d3f3\"}, \"name\": \"Financial Services\", \"offsetgroup\": \"Financial Services\", \"orientation\": \"v\", \"showlegend\": true, \"textposition\": \"auto\", \"type\": \"bar\", \"x\": [2009, 2010, 2011, 2012, 2013, 2014, 2015, 2016, 2017, 2018], \"xaxis\": \"x\", \"y\": [52877946000.0, 99605119000.0, 127408343000.0, 128223233000.0, 171070165000.0, 177423928000.0, 200971322000.0, 188778640000.0, 177379811000.0, 255168433000.0], \"yaxis\": \"y\"}, {\"alignmentgroup\": \"True\", \"hoverlabel\": {\"namelength\": 0}, \"hovertemplate\": \"sector=Healthcare<br>year=%{x}<br>Net Income=%{y}\", \"legendgroup\": \"Healthcare\", \"marker\": {\"color\": \"#FF6692\"}, \"name\": \"Healthcare\", \"offsetgroup\": \"Healthcare\", \"orientation\": \"v\", \"showlegend\": true, \"textposition\": \"auto\", \"type\": \"bar\", \"x\": [2009, 2010, 2011, 2012, 2013, 2014, 2015, 2016, 2017, 2018], \"xaxis\": \"x\", \"y\": [78306224000.0, 51610634000.0, 70802192000.0, 107877160000.0, 110441543000.0, 115018013000.0, 109128909000.0, 142053265000.0, 128373564000.0, 128711279000.0], \"yaxis\": \"y\"}, {\"alignmentgroup\": \"True\", \"hoverlabel\": {\"namelength\": 0}, \"hovertemplate\": \"sector=Industrials<br>year=%{x}<br>Net Income=%{y}\", \"legendgroup\": \"Industrials\", \"marker\": {\"color\": \"#B6E880\"}, \"name\": \"Industrials\", \"offsetgroup\": \"Industrials\", \"orientation\": \"v\", \"showlegend\": true, \"textposition\": \"auto\", \"type\": \"bar\", \"x\": [2009, 2010, 2011, 2012, 2013, 2014, 2015, 2016, 2017, 2018], \"xaxis\": \"x\", \"y\": [49062158000.0, 63203358000.0, 77893113000.0, 82012672000.0, 101968011000.0, 104459482000.0, 99013027000.0, 102014418000.0, 106069331000.0, 102683190000.0], \"yaxis\": \"y\"}, {\"alignmentgroup\": \"True\", \"hoverlabel\": {\"namelength\": 0}, \"hovertemplate\": \"sector=Real Estate<br>year=%{x}<br>Net Income=%{y}\", \"legendgroup\": \"Real Estate\", \"marker\": {\"color\": \"#FF97FF\"}, \"name\": \"Real Estate\", \"offsetgroup\": \"Real Estate\", \"orientation\": \"v\", \"showlegend\": true, \"textposition\": \"auto\", \"type\": \"bar\", \"x\": [2009, 2010, 2011, 2012, 2013, 2014, 2015, 2016, 2017, 2018], \"xaxis\": \"x\", \"y\": [2567748000.0, 3522414000.0, 7211697000.0, 8501170000.0, 11001237000.0, 13713653000.0, 14972832000.0, 19489977000.0, 16327906000.0, 18047001000.0], \"yaxis\": \"y\"}, {\"alignmentgroup\": \"True\", \"hoverlabel\": {\"namelength\": 0}, \"hovertemplate\": \"sector=Technology<br>year=%{x}<br>Net Income=%{y}\", \"legendgroup\": \"Technology\", \"marker\": {\"color\": \"#FECB52\"}, \"name\": \"Technology\", \"offsetgroup\": \"Technology\", \"orientation\": \"v\", \"showlegend\": true, \"textposition\": \"auto\", \"type\": \"bar\", \"x\": [2009, 2010, 2011, 2012, 2013, 2014, 2015, 2016, 2017, 2018], \"xaxis\": \"x\", \"y\": [74495115000.0, 107245668000.0, 141394286000.0, 136433455000.0, 166223802000.0, 170610863000.0, 195611838000.0, 205198373000.0, 196369855000.0, 287669243000.0], \"yaxis\": \"y\"}, {\"alignmentgroup\": \"True\", \"hoverlabel\": {\"namelength\": 0}, \"hovertemplate\": \"sector=Utilities<br>year=%{x}<br>Net Income=%{y}\", \"legendgroup\": \"Utilities\", \"marker\": {\"color\": \"#636efa\"}, \"name\": \"Utilities\", \"offsetgroup\": \"Utilities\", \"orientation\": \"v\", \"showlegend\": true, \"textposition\": \"auto\", \"type\": \"bar\", \"x\": [2009, 2010, 2011, 2012, 2013, 2014, 2015, 2016, 2017, 2018], \"xaxis\": \"x\", \"y\": [22922317000.0, 19231669000.0, 22881971000.0, 19369691000.0, 23825863000.0, 26545695000.0, 20611684000.0, 15852713000.0, 27947883000.0, 25782027000.0], \"yaxis\": \"y\"}],\n",
       "                        {\"barmode\": \"relative\", \"legend\": {\"title\": {\"text\": \"sector\"}, \"tracegroupgap\": 0}, \"template\": {\"data\": {\"bar\": [{\"error_x\": {\"color\": \"#2a3f5f\"}, \"error_y\": {\"color\": \"#2a3f5f\"}, \"marker\": {\"line\": {\"color\": \"#E5ECF6\", \"width\": 0.5}}, \"type\": \"bar\"}], \"barpolar\": [{\"marker\": {\"line\": {\"color\": \"#E5ECF6\", \"width\": 0.5}}, \"type\": \"barpolar\"}], \"carpet\": [{\"aaxis\": {\"endlinecolor\": \"#2a3f5f\", \"gridcolor\": \"white\", \"linecolor\": \"white\", \"minorgridcolor\": \"white\", \"startlinecolor\": \"#2a3f5f\"}, \"baxis\": {\"endlinecolor\": \"#2a3f5f\", \"gridcolor\": \"white\", \"linecolor\": \"white\", \"minorgridcolor\": \"white\", \"startlinecolor\": \"#2a3f5f\"}, \"type\": \"carpet\"}], \"choropleth\": [{\"colorbar\": {\"outlinewidth\": 0, \"ticks\": \"\"}, \"type\": \"choropleth\"}], \"contour\": [{\"colorbar\": {\"outlinewidth\": 0, \"ticks\": \"\"}, \"colorscale\": [[0.0, \"#0d0887\"], [0.1111111111111111, \"#46039f\"], [0.2222222222222222, \"#7201a8\"], [0.3333333333333333, \"#9c179e\"], [0.4444444444444444, \"#bd3786\"], [0.5555555555555556, \"#d8576b\"], [0.6666666666666666, \"#ed7953\"], [0.7777777777777778, \"#fb9f3a\"], [0.8888888888888888, \"#fdca26\"], [1.0, \"#f0f921\"]], \"type\": \"contour\"}], \"contourcarpet\": [{\"colorbar\": {\"outlinewidth\": 0, \"ticks\": \"\"}, \"type\": \"contourcarpet\"}], \"heatmap\": [{\"colorbar\": {\"outlinewidth\": 0, \"ticks\": \"\"}, \"colorscale\": [[0.0, \"#0d0887\"], [0.1111111111111111, \"#46039f\"], [0.2222222222222222, \"#7201a8\"], [0.3333333333333333, \"#9c179e\"], [0.4444444444444444, \"#bd3786\"], [0.5555555555555556, \"#d8576b\"], [0.6666666666666666, \"#ed7953\"], [0.7777777777777778, \"#fb9f3a\"], [0.8888888888888888, \"#fdca26\"], [1.0, \"#f0f921\"]], \"type\": \"heatmap\"}], \"heatmapgl\": [{\"colorbar\": {\"outlinewidth\": 0, \"ticks\": \"\"}, \"colorscale\": [[0.0, \"#0d0887\"], [0.1111111111111111, \"#46039f\"], [0.2222222222222222, \"#7201a8\"], [0.3333333333333333, \"#9c179e\"], [0.4444444444444444, \"#bd3786\"], [0.5555555555555556, \"#d8576b\"], [0.6666666666666666, \"#ed7953\"], [0.7777777777777778, \"#fb9f3a\"], [0.8888888888888888, \"#fdca26\"], [1.0, \"#f0f921\"]], \"type\": \"heatmapgl\"}], \"histogram\": [{\"marker\": {\"colorbar\": {\"outlinewidth\": 0, \"ticks\": \"\"}}, \"type\": \"histogram\"}], \"histogram2d\": [{\"colorbar\": {\"outlinewidth\": 0, \"ticks\": \"\"}, \"colorscale\": [[0.0, \"#0d0887\"], [0.1111111111111111, \"#46039f\"], [0.2222222222222222, \"#7201a8\"], [0.3333333333333333, \"#9c179e\"], [0.4444444444444444, \"#bd3786\"], [0.5555555555555556, \"#d8576b\"], [0.6666666666666666, \"#ed7953\"], [0.7777777777777778, \"#fb9f3a\"], [0.8888888888888888, \"#fdca26\"], [1.0, \"#f0f921\"]], \"type\": \"histogram2d\"}], \"histogram2dcontour\": [{\"colorbar\": {\"outlinewidth\": 0, \"ticks\": \"\"}, \"colorscale\": [[0.0, \"#0d0887\"], [0.1111111111111111, \"#46039f\"], [0.2222222222222222, \"#7201a8\"], [0.3333333333333333, \"#9c179e\"], [0.4444444444444444, \"#bd3786\"], [0.5555555555555556, \"#d8576b\"], [0.6666666666666666, \"#ed7953\"], [0.7777777777777778, \"#fb9f3a\"], [0.8888888888888888, \"#fdca26\"], [1.0, \"#f0f921\"]], \"type\": \"histogram2dcontour\"}], \"mesh3d\": [{\"colorbar\": {\"outlinewidth\": 0, \"ticks\": \"\"}, \"type\": \"mesh3d\"}], \"parcoords\": [{\"line\": {\"colorbar\": {\"outlinewidth\": 0, \"ticks\": \"\"}}, \"type\": \"parcoords\"}], \"pie\": [{\"automargin\": true, \"type\": \"pie\"}], \"scatter\": [{\"marker\": {\"colorbar\": {\"outlinewidth\": 0, \"ticks\": \"\"}}, \"type\": \"scatter\"}], \"scatter3d\": [{\"line\": {\"colorbar\": {\"outlinewidth\": 0, \"ticks\": \"\"}}, \"marker\": {\"colorbar\": {\"outlinewidth\": 0, \"ticks\": \"\"}}, \"type\": \"scatter3d\"}], \"scattercarpet\": [{\"marker\": {\"colorbar\": {\"outlinewidth\": 0, \"ticks\": \"\"}}, \"type\": \"scattercarpet\"}], \"scattergeo\": [{\"marker\": {\"colorbar\": {\"outlinewidth\": 0, \"ticks\": \"\"}}, \"type\": \"scattergeo\"}], \"scattergl\": [{\"marker\": {\"colorbar\": {\"outlinewidth\": 0, \"ticks\": \"\"}}, \"type\": \"scattergl\"}], \"scattermapbox\": [{\"marker\": {\"colorbar\": {\"outlinewidth\": 0, \"ticks\": \"\"}}, \"type\": \"scattermapbox\"}], \"scatterpolar\": [{\"marker\": {\"colorbar\": {\"outlinewidth\": 0, \"ticks\": \"\"}}, \"type\": \"scatterpolar\"}], \"scatterpolargl\": [{\"marker\": {\"colorbar\": {\"outlinewidth\": 0, \"ticks\": \"\"}}, \"type\": \"scatterpolargl\"}], \"scatterternary\": [{\"marker\": {\"colorbar\": {\"outlinewidth\": 0, \"ticks\": \"\"}}, \"type\": \"scatterternary\"}], \"surface\": [{\"colorbar\": {\"outlinewidth\": 0, \"ticks\": \"\"}, \"colorscale\": [[0.0, \"#0d0887\"], [0.1111111111111111, \"#46039f\"], [0.2222222222222222, \"#7201a8\"], [0.3333333333333333, \"#9c179e\"], [0.4444444444444444, \"#bd3786\"], [0.5555555555555556, \"#d8576b\"], [0.6666666666666666, \"#ed7953\"], [0.7777777777777778, \"#fb9f3a\"], [0.8888888888888888, \"#fdca26\"], [1.0, \"#f0f921\"]], \"type\": \"surface\"}], \"table\": [{\"cells\": {\"fill\": {\"color\": \"#EBF0F8\"}, \"line\": {\"color\": \"white\"}}, \"header\": {\"fill\": {\"color\": \"#C8D4E3\"}, \"line\": {\"color\": \"white\"}}, \"type\": \"table\"}]}, \"layout\": {\"annotationdefaults\": {\"arrowcolor\": \"#2a3f5f\", \"arrowhead\": 0, \"arrowwidth\": 1}, \"coloraxis\": {\"colorbar\": {\"outlinewidth\": 0, \"ticks\": \"\"}}, \"colorscale\": {\"diverging\": [[0, \"#8e0152\"], [0.1, \"#c51b7d\"], [0.2, \"#de77ae\"], [0.3, \"#f1b6da\"], [0.4, \"#fde0ef\"], [0.5, \"#f7f7f7\"], [0.6, \"#e6f5d0\"], [0.7, \"#b8e186\"], [0.8, \"#7fbc41\"], [0.9, \"#4d9221\"], [1, \"#276419\"]], \"sequential\": [[0.0, \"#0d0887\"], [0.1111111111111111, \"#46039f\"], [0.2222222222222222, \"#7201a8\"], [0.3333333333333333, \"#9c179e\"], [0.4444444444444444, \"#bd3786\"], [0.5555555555555556, \"#d8576b\"], [0.6666666666666666, \"#ed7953\"], [0.7777777777777778, \"#fb9f3a\"], [0.8888888888888888, \"#fdca26\"], [1.0, \"#f0f921\"]], \"sequentialminus\": [[0.0, \"#0d0887\"], [0.1111111111111111, \"#46039f\"], [0.2222222222222222, \"#7201a8\"], [0.3333333333333333, \"#9c179e\"], [0.4444444444444444, \"#bd3786\"], [0.5555555555555556, \"#d8576b\"], [0.6666666666666666, \"#ed7953\"], [0.7777777777777778, \"#fb9f3a\"], [0.8888888888888888, \"#fdca26\"], [1.0, \"#f0f921\"]]}, \"colorway\": [\"#636efa\", \"#EF553B\", \"#00cc96\", \"#ab63fa\", \"#FFA15A\", \"#19d3f3\", \"#FF6692\", \"#B6E880\", \"#FF97FF\", \"#FECB52\"], \"font\": {\"color\": \"#2a3f5f\"}, \"geo\": {\"bgcolor\": \"white\", \"lakecolor\": \"white\", \"landcolor\": \"#E5ECF6\", \"showlakes\": true, \"showland\": true, \"subunitcolor\": \"white\"}, \"hoverlabel\": {\"align\": \"left\"}, \"hovermode\": \"closest\", \"mapbox\": {\"style\": \"light\"}, \"paper_bgcolor\": \"white\", \"plot_bgcolor\": \"#E5ECF6\", \"polar\": {\"angularaxis\": {\"gridcolor\": \"white\", \"linecolor\": \"white\", \"ticks\": \"\"}, \"bgcolor\": \"#E5ECF6\", \"radialaxis\": {\"gridcolor\": \"white\", \"linecolor\": \"white\", \"ticks\": \"\"}}, \"scene\": {\"xaxis\": {\"backgroundcolor\": \"#E5ECF6\", \"gridcolor\": \"white\", \"gridwidth\": 2, \"linecolor\": \"white\", \"showbackground\": true, \"ticks\": \"\", \"zerolinecolor\": \"white\"}, \"yaxis\": {\"backgroundcolor\": \"#E5ECF6\", \"gridcolor\": \"white\", \"gridwidth\": 2, \"linecolor\": \"white\", \"showbackground\": true, \"ticks\": \"\", \"zerolinecolor\": \"white\"}, \"zaxis\": {\"backgroundcolor\": \"#E5ECF6\", \"gridcolor\": \"white\", \"gridwidth\": 2, \"linecolor\": \"white\", \"showbackground\": true, \"ticks\": \"\", \"zerolinecolor\": \"white\"}}, \"shapedefaults\": {\"line\": {\"color\": \"#2a3f5f\"}}, \"ternary\": {\"aaxis\": {\"gridcolor\": \"white\", \"linecolor\": \"white\", \"ticks\": \"\"}, \"baxis\": {\"gridcolor\": \"white\", \"linecolor\": \"white\", \"ticks\": \"\"}, \"bgcolor\": \"#E5ECF6\", \"caxis\": {\"gridcolor\": \"white\", \"linecolor\": \"white\", \"ticks\": \"\"}}, \"title\": {\"x\": 0.05}, \"xaxis\": {\"automargin\": true, \"gridcolor\": \"white\", \"linecolor\": \"white\", \"ticks\": \"\", \"title\": {\"standoff\": 15}, \"zerolinecolor\": \"white\", \"zerolinewidth\": 2}, \"yaxis\": {\"automargin\": true, \"gridcolor\": \"white\", \"linecolor\": \"white\", \"ticks\": \"\", \"title\": {\"standoff\": 15}, \"zerolinecolor\": \"white\", \"zerolinewidth\": 2}}}, \"title\": {\"text\": \"Evolution of net income\"}, \"xaxis\": {\"anchor\": \"y\", \"domain\": [0.0, 1.0], \"title\": {\"text\": \"year\"}}, \"yaxis\": {\"anchor\": \"x\", \"domain\": [0.0, 1.0], \"title\": {\"text\": \"Net Income\"}}},\n",
       "                        {\"responsive\": true}\n",
       "                    ).then(function(){\n",
       "                            \n",
       "var gd = document.getElementById('25f6b093-e2c0-4c2c-8987-524c119f3a48');\n",
       "var x = new MutationObserver(function (mutations, observer) {{\n",
       "        var display = window.getComputedStyle(gd).display;\n",
       "        if (!display || display === 'none') {{\n",
       "            console.log([gd, 'removed!']);\n",
       "            Plotly.purge(gd);\n",
       "            observer.disconnect();\n",
       "        }}\n",
       "}});\n",
       "\n",
       "// Listen for the removal of the full notebook cells\n",
       "var notebookContainer = gd.closest('#notebook-container');\n",
       "if (notebookContainer) {{\n",
       "    x.observe(notebookContainer, {childList: true});\n",
       "}}\n",
       "\n",
       "// Listen for the clearing of the current output cell\n",
       "var outputEl = gd.closest('.output');\n",
       "if (outputEl) {{\n",
       "    x.observe(outputEl, {childList: true});\n",
       "}}\n",
       "\n",
       "                        })\n",
       "                };\n",
       "                });\n",
       "            </script>\n",
       "        </div>"
      ]
     },
     "metadata": {},
     "output_type": "display_data"
    },
    {
     "data": {
      "application/vnd.plotly.v1+json": {
       "config": {
        "plotlyServerURL": "https://plot.ly"
       },
       "data": [
        {
         "alignmentgroup": "True",
         "hoverlabel": {
          "namelength": 0
         },
         "hovertemplate": "sector=Basic Materials<br>year=%{x}<br>Relative_net_income=%{y}",
         "legendgroup": "Basic Materials",
         "marker": {
          "color": "#636efa"
         },
         "name": "Basic Materials",
         "offsetgroup": "Basic Materials",
         "orientation": "v",
         "showlegend": true,
         "textposition": "auto",
         "type": "bar",
         "x": [
          2009,
          2010,
          2011,
          2012,
          2013,
          2014,
          2015,
          2016,
          2017,
          2018
         ],
         "xaxis": "x",
         "y": [
          1.384039946839922,
          2.6794048223435585,
          2.785586373752893,
          2.418690347268267,
          2.8801840898508853,
          2.8695915025153416,
          1.937460229216347,
          1.5977414332756412,
          2.7223863503236805,
          2.3640568880575024
         ],
         "yaxis": "y"
        },
        {
         "alignmentgroup": "True",
         "hoverlabel": {
          "namelength": 0
         },
         "hovertemplate": "sector=Communication Services<br>year=%{x}<br>Relative_net_income=%{y}",
         "legendgroup": "Communication Services",
         "marker": {
          "color": "#EF553B"
         },
         "name": "Communication Services",
         "offsetgroup": "Communication Services",
         "orientation": "v",
         "showlegend": true,
         "textposition": "auto",
         "type": "bar",
         "x": [
          2009,
          2010,
          2011,
          2012,
          2013,
          2014,
          2015,
          2016,
          2017,
          2018
         ],
         "xaxis": "x",
         "y": [
          4.378090419399484,
          4.347697255100377,
          1.1544007457330154,
          1.2507690419115456,
          3.329117029548314,
          2.0083467604686525,
          4.013449832226656,
          3.585564190655893,
          7.457076412993081,
          3.340742923546516
         ],
         "yaxis": "y"
        },
        {
         "alignmentgroup": "True",
         "hoverlabel": {
          "namelength": 0
         },
         "hovertemplate": "sector=Consumer Cyclical<br>year=%{x}<br>Relative_net_income=%{y}",
         "legendgroup": "Consumer Cyclical",
         "marker": {
          "color": "#00cc96"
         },
         "name": "Consumer Cyclical",
         "offsetgroup": "Consumer Cyclical",
         "orientation": "v",
         "showlegend": true,
         "textposition": "auto",
         "type": "bar",
         "x": [
          2009,
          2010,
          2011,
          2012,
          2013,
          2014,
          2015,
          2016,
          2017,
          2018
         ],
         "xaxis": "x",
         "y": [
          5.530133577736279,
          7.472678487659684,
          12.115766710264596,
          9.016957055895839,
          9.73700274253698,
          9.874645001596518,
          12.818837636808967,
          12.811182608084431,
          10.853903179027125,
          10.396248447280664
         ],
         "yaxis": "y"
        },
        {
         "alignmentgroup": "True",
         "hoverlabel": {
          "namelength": 0
         },
         "hovertemplate": "sector=Consumer Defensive<br>year=%{x}<br>Relative_net_income=%{y}",
         "legendgroup": "Consumer Defensive",
         "marker": {
          "color": "#ab63fa"
         },
         "name": "Consumer Defensive",
         "offsetgroup": "Consumer Defensive",
         "orientation": "v",
         "showlegend": true,
         "textposition": "auto",
         "type": "bar",
         "x": [
          2009,
          2010,
          2011,
          2012,
          2013,
          2014,
          2015,
          2016,
          2017,
          2018
         ],
         "xaxis": "x",
         "y": [
          12.405661558988319,
          14.39685465189843,
          11.116335605904995,
          10.192902922673305,
          9.394991774753288,
          8.836589919473763,
          9.005010525819515,
          10.49921486003845,
          9.919431364707783,
          6.667247827799675
         ],
         "yaxis": "y"
        },
        {
         "alignmentgroup": "True",
         "hoverlabel": {
          "namelength": 0
         },
         "hovertemplate": "sector=Energy<br>year=%{x}<br>Relative_net_income=%{y}",
         "legendgroup": "Energy",
         "marker": {
          "color": "#FFA15A"
         },
         "name": "Energy",
         "offsetgroup": "Energy",
         "orientation": "v",
         "showlegend": true,
         "textposition": "auto",
         "type": "bar",
         "x": [
          2009,
          2010,
          2011,
          2012,
          2013,
          2014,
          2015,
          2016,
          2017,
          2018
         ],
         "xaxis": "x",
         "y": [
          10.113557984841359,
          9.852687223370369,
          12.494219985327396,
          15.056552882406535,
          11.381929434934465,
          10.253151294137675,
          -5.1562342930756655,
          -2.6774775114706495,
          4.030898019932885,
          6.182204326158796
         ],
         "yaxis": "y"
        },
        {
         "alignmentgroup": "True",
         "hoverlabel": {
          "namelength": 0
         },
         "hovertemplate": "sector=Financial Services<br>year=%{x}<br>Relative_net_income=%{y}",
         "legendgroup": "Financial Services",
         "marker": {
          "color": "#19d3f3"
         },
         "name": "Financial Services",
         "offsetgroup": "Financial Services",
         "orientation": "v",
         "showlegend": true,
         "textposition": "auto",
         "type": "bar",
         "x": [
          2009,
          2010,
          2011,
          2012,
          2013,
          2014,
          2015,
          2016,
          2017,
          2018
         ],
         "xaxis": "x",
         "y": [
          12.489362195317225,
          17.713550854126378,
          17.174172860703674,
          16.496219719351444,
          18.51873612565655,
          19.313100516350577,
          24.28740292578824,
          20.796813745133306,
          17.675309208205878,
          22.161654987980903
         ],
         "yaxis": "y"
        },
        {
         "alignmentgroup": "True",
         "hoverlabel": {
          "namelength": 0
         },
         "hovertemplate": "sector=Healthcare<br>year=%{x}<br>Relative_net_income=%{y}",
         "legendgroup": "Healthcare",
         "marker": {
          "color": "#FF6692"
         },
         "name": "Healthcare",
         "offsetgroup": "Healthcare",
         "orientation": "v",
         "showlegend": true,
         "textposition": "auto",
         "type": "bar",
         "x": [
          2009,
          2010,
          2011,
          2012,
          2013,
          2014,
          2015,
          2016,
          2017,
          2018
         ],
         "xaxis": "x",
         "y": [
          18.49532494480104,
          9.178319338915742,
          9.54387331075117,
          13.878649698839139,
          11.955549304154534,
          12.520038707856346,
          13.188238786301454,
          15.649309127839166,
          12.791999411135954,
          11.178714093759991
         ],
         "yaxis": "y"
        },
        {
         "alignmentgroup": "True",
         "hoverlabel": {
          "namelength": 0
         },
         "hovertemplate": "sector=Industrials<br>year=%{x}<br>Relative_net_income=%{y}",
         "legendgroup": "Industrials",
         "marker": {
          "color": "#B6E880"
         },
         "name": "Industrials",
         "offsetgroup": "Industrials",
         "orientation": "v",
         "showlegend": true,
         "textposition": "auto",
         "type": "bar",
         "x": [
          2009,
          2010,
          2011,
          2012,
          2013,
          2014,
          2015,
          2016,
          2017,
          2018
         ],
         "xaxis": "x",
         "y": [
          11.588102558784726,
          11.239943361591237,
          10.499703204838983,
          10.551122643141449,
          11.03827010961873,
          11.370712499116319,
          11.965733507246124,
          11.238426394342996,
          10.569456649903282,
          8.918146351767936
         ],
         "yaxis": "y"
        },
        {
         "alignmentgroup": "True",
         "hoverlabel": {
          "namelength": 0
         },
         "hovertemplate": "sector=Real Estate<br>year=%{x}<br>Relative_net_income=%{y}",
         "legendgroup": "Real Estate",
         "marker": {
          "color": "#FF97FF"
         },
         "name": "Real Estate",
         "offsetgroup": "Real Estate",
         "orientation": "v",
         "showlegend": true,
         "textposition": "auto",
         "type": "bar",
         "x": [
          2009,
          2010,
          2011,
          2012,
          2013,
          2014,
          2015,
          2016,
          2017,
          2018
         ],
         "xaxis": "x",
         "y": [
          0.6064822336007797,
          0.6264182016416918,
          0.9721100516707771,
          1.0936954630644737,
          1.1909090346572675,
          1.4927702357900263,
          1.8094681375690795,
          2.1471148513726552,
          1.6270216190078137,
          1.5674015983385623
         ],
         "yaxis": "y"
        },
        {
         "alignmentgroup": "True",
         "hoverlabel": {
          "namelength": 0
         },
         "hovertemplate": "sector=Technology<br>year=%{x}<br>Relative_net_income=%{y}",
         "legendgroup": "Technology",
         "marker": {
          "color": "#FECB52"
         },
         "name": "Technology",
         "offsetgroup": "Technology",
         "orientation": "v",
         "showlegend": true,
         "textposition": "auto",
         "type": "bar",
         "x": [
          2009,
          2010,
          2011,
          2012,
          2013,
          2014,
          2015,
          2016,
          2017,
          2018
         ],
         "xaxis": "x",
         "y": [
          17.595170451908423,
          19.07232894328206,
          19.059426189066546,
          17.552484039692306,
          17.99410626067603,
          18.57147896252369,
          23.639708786709456,
          22.60569492441195,
          19.567604039760496,
          24.984385564728694
         ],
         "yaxis": "y"
        },
        {
         "alignmentgroup": "True",
         "hoverlabel": {
          "namelength": 0
         },
         "hovertemplate": "sector=Utilities<br>year=%{x}<br>Relative_net_income=%{y}",
         "legendgroup": "Utilities",
         "marker": {
          "color": "#636efa"
         },
         "name": "Utilities",
         "offsetgroup": "Utilities",
         "orientation": "v",
         "showlegend": true,
         "textposition": "auto",
         "type": "bar",
         "x": [
          2009,
          2010,
          2011,
          2012,
          2013,
          2014,
          2015,
          2016,
          2017,
          2018
         ],
         "xaxis": "x",
         "y": [
          5.414074127782447,
          3.4201168600704728,
          3.0844049619859546,
          2.491956185755698,
          2.5792040936129554,
          2.889574600171094,
          2.4909239253898257,
          1.7464153763161627,
          2.78491374500202,
          2.2391969905807603
         ],
         "yaxis": "y"
        }
       ],
       "layout": {
        "barmode": "relative",
        "legend": {
         "title": {
          "text": "sector"
         },
         "tracegroupgap": 0
        },
        "template": {
         "data": {
          "bar": [
           {
            "error_x": {
             "color": "#2a3f5f"
            },
            "error_y": {
             "color": "#2a3f5f"
            },
            "marker": {
             "line": {
              "color": "#E5ECF6",
              "width": 0.5
             }
            },
            "type": "bar"
           }
          ],
          "barpolar": [
           {
            "marker": {
             "line": {
              "color": "#E5ECF6",
              "width": 0.5
             }
            },
            "type": "barpolar"
           }
          ],
          "carpet": [
           {
            "aaxis": {
             "endlinecolor": "#2a3f5f",
             "gridcolor": "white",
             "linecolor": "white",
             "minorgridcolor": "white",
             "startlinecolor": "#2a3f5f"
            },
            "baxis": {
             "endlinecolor": "#2a3f5f",
             "gridcolor": "white",
             "linecolor": "white",
             "minorgridcolor": "white",
             "startlinecolor": "#2a3f5f"
            },
            "type": "carpet"
           }
          ],
          "choropleth": [
           {
            "colorbar": {
             "outlinewidth": 0,
             "ticks": ""
            },
            "type": "choropleth"
           }
          ],
          "contour": [
           {
            "colorbar": {
             "outlinewidth": 0,
             "ticks": ""
            },
            "colorscale": [
             [
              0,
              "#0d0887"
             ],
             [
              0.1111111111111111,
              "#46039f"
             ],
             [
              0.2222222222222222,
              "#7201a8"
             ],
             [
              0.3333333333333333,
              "#9c179e"
             ],
             [
              0.4444444444444444,
              "#bd3786"
             ],
             [
              0.5555555555555556,
              "#d8576b"
             ],
             [
              0.6666666666666666,
              "#ed7953"
             ],
             [
              0.7777777777777778,
              "#fb9f3a"
             ],
             [
              0.8888888888888888,
              "#fdca26"
             ],
             [
              1,
              "#f0f921"
             ]
            ],
            "type": "contour"
           }
          ],
          "contourcarpet": [
           {
            "colorbar": {
             "outlinewidth": 0,
             "ticks": ""
            },
            "type": "contourcarpet"
           }
          ],
          "heatmap": [
           {
            "colorbar": {
             "outlinewidth": 0,
             "ticks": ""
            },
            "colorscale": [
             [
              0,
              "#0d0887"
             ],
             [
              0.1111111111111111,
              "#46039f"
             ],
             [
              0.2222222222222222,
              "#7201a8"
             ],
             [
              0.3333333333333333,
              "#9c179e"
             ],
             [
              0.4444444444444444,
              "#bd3786"
             ],
             [
              0.5555555555555556,
              "#d8576b"
             ],
             [
              0.6666666666666666,
              "#ed7953"
             ],
             [
              0.7777777777777778,
              "#fb9f3a"
             ],
             [
              0.8888888888888888,
              "#fdca26"
             ],
             [
              1,
              "#f0f921"
             ]
            ],
            "type": "heatmap"
           }
          ],
          "heatmapgl": [
           {
            "colorbar": {
             "outlinewidth": 0,
             "ticks": ""
            },
            "colorscale": [
             [
              0,
              "#0d0887"
             ],
             [
              0.1111111111111111,
              "#46039f"
             ],
             [
              0.2222222222222222,
              "#7201a8"
             ],
             [
              0.3333333333333333,
              "#9c179e"
             ],
             [
              0.4444444444444444,
              "#bd3786"
             ],
             [
              0.5555555555555556,
              "#d8576b"
             ],
             [
              0.6666666666666666,
              "#ed7953"
             ],
             [
              0.7777777777777778,
              "#fb9f3a"
             ],
             [
              0.8888888888888888,
              "#fdca26"
             ],
             [
              1,
              "#f0f921"
             ]
            ],
            "type": "heatmapgl"
           }
          ],
          "histogram": [
           {
            "marker": {
             "colorbar": {
              "outlinewidth": 0,
              "ticks": ""
             }
            },
            "type": "histogram"
           }
          ],
          "histogram2d": [
           {
            "colorbar": {
             "outlinewidth": 0,
             "ticks": ""
            },
            "colorscale": [
             [
              0,
              "#0d0887"
             ],
             [
              0.1111111111111111,
              "#46039f"
             ],
             [
              0.2222222222222222,
              "#7201a8"
             ],
             [
              0.3333333333333333,
              "#9c179e"
             ],
             [
              0.4444444444444444,
              "#bd3786"
             ],
             [
              0.5555555555555556,
              "#d8576b"
             ],
             [
              0.6666666666666666,
              "#ed7953"
             ],
             [
              0.7777777777777778,
              "#fb9f3a"
             ],
             [
              0.8888888888888888,
              "#fdca26"
             ],
             [
              1,
              "#f0f921"
             ]
            ],
            "type": "histogram2d"
           }
          ],
          "histogram2dcontour": [
           {
            "colorbar": {
             "outlinewidth": 0,
             "ticks": ""
            },
            "colorscale": [
             [
              0,
              "#0d0887"
             ],
             [
              0.1111111111111111,
              "#46039f"
             ],
             [
              0.2222222222222222,
              "#7201a8"
             ],
             [
              0.3333333333333333,
              "#9c179e"
             ],
             [
              0.4444444444444444,
              "#bd3786"
             ],
             [
              0.5555555555555556,
              "#d8576b"
             ],
             [
              0.6666666666666666,
              "#ed7953"
             ],
             [
              0.7777777777777778,
              "#fb9f3a"
             ],
             [
              0.8888888888888888,
              "#fdca26"
             ],
             [
              1,
              "#f0f921"
             ]
            ],
            "type": "histogram2dcontour"
           }
          ],
          "mesh3d": [
           {
            "colorbar": {
             "outlinewidth": 0,
             "ticks": ""
            },
            "type": "mesh3d"
           }
          ],
          "parcoords": [
           {
            "line": {
             "colorbar": {
              "outlinewidth": 0,
              "ticks": ""
             }
            },
            "type": "parcoords"
           }
          ],
          "pie": [
           {
            "automargin": true,
            "type": "pie"
           }
          ],
          "scatter": [
           {
            "marker": {
             "colorbar": {
              "outlinewidth": 0,
              "ticks": ""
             }
            },
            "type": "scatter"
           }
          ],
          "scatter3d": [
           {
            "line": {
             "colorbar": {
              "outlinewidth": 0,
              "ticks": ""
             }
            },
            "marker": {
             "colorbar": {
              "outlinewidth": 0,
              "ticks": ""
             }
            },
            "type": "scatter3d"
           }
          ],
          "scattercarpet": [
           {
            "marker": {
             "colorbar": {
              "outlinewidth": 0,
              "ticks": ""
             }
            },
            "type": "scattercarpet"
           }
          ],
          "scattergeo": [
           {
            "marker": {
             "colorbar": {
              "outlinewidth": 0,
              "ticks": ""
             }
            },
            "type": "scattergeo"
           }
          ],
          "scattergl": [
           {
            "marker": {
             "colorbar": {
              "outlinewidth": 0,
              "ticks": ""
             }
            },
            "type": "scattergl"
           }
          ],
          "scattermapbox": [
           {
            "marker": {
             "colorbar": {
              "outlinewidth": 0,
              "ticks": ""
             }
            },
            "type": "scattermapbox"
           }
          ],
          "scatterpolar": [
           {
            "marker": {
             "colorbar": {
              "outlinewidth": 0,
              "ticks": ""
             }
            },
            "type": "scatterpolar"
           }
          ],
          "scatterpolargl": [
           {
            "marker": {
             "colorbar": {
              "outlinewidth": 0,
              "ticks": ""
             }
            },
            "type": "scatterpolargl"
           }
          ],
          "scatterternary": [
           {
            "marker": {
             "colorbar": {
              "outlinewidth": 0,
              "ticks": ""
             }
            },
            "type": "scatterternary"
           }
          ],
          "surface": [
           {
            "colorbar": {
             "outlinewidth": 0,
             "ticks": ""
            },
            "colorscale": [
             [
              0,
              "#0d0887"
             ],
             [
              0.1111111111111111,
              "#46039f"
             ],
             [
              0.2222222222222222,
              "#7201a8"
             ],
             [
              0.3333333333333333,
              "#9c179e"
             ],
             [
              0.4444444444444444,
              "#bd3786"
             ],
             [
              0.5555555555555556,
              "#d8576b"
             ],
             [
              0.6666666666666666,
              "#ed7953"
             ],
             [
              0.7777777777777778,
              "#fb9f3a"
             ],
             [
              0.8888888888888888,
              "#fdca26"
             ],
             [
              1,
              "#f0f921"
             ]
            ],
            "type": "surface"
           }
          ],
          "table": [
           {
            "cells": {
             "fill": {
              "color": "#EBF0F8"
             },
             "line": {
              "color": "white"
             }
            },
            "header": {
             "fill": {
              "color": "#C8D4E3"
             },
             "line": {
              "color": "white"
             }
            },
            "type": "table"
           }
          ]
         },
         "layout": {
          "annotationdefaults": {
           "arrowcolor": "#2a3f5f",
           "arrowhead": 0,
           "arrowwidth": 1
          },
          "coloraxis": {
           "colorbar": {
            "outlinewidth": 0,
            "ticks": ""
           }
          },
          "colorscale": {
           "diverging": [
            [
             0,
             "#8e0152"
            ],
            [
             0.1,
             "#c51b7d"
            ],
            [
             0.2,
             "#de77ae"
            ],
            [
             0.3,
             "#f1b6da"
            ],
            [
             0.4,
             "#fde0ef"
            ],
            [
             0.5,
             "#f7f7f7"
            ],
            [
             0.6,
             "#e6f5d0"
            ],
            [
             0.7,
             "#b8e186"
            ],
            [
             0.8,
             "#7fbc41"
            ],
            [
             0.9,
             "#4d9221"
            ],
            [
             1,
             "#276419"
            ]
           ],
           "sequential": [
            [
             0,
             "#0d0887"
            ],
            [
             0.1111111111111111,
             "#46039f"
            ],
            [
             0.2222222222222222,
             "#7201a8"
            ],
            [
             0.3333333333333333,
             "#9c179e"
            ],
            [
             0.4444444444444444,
             "#bd3786"
            ],
            [
             0.5555555555555556,
             "#d8576b"
            ],
            [
             0.6666666666666666,
             "#ed7953"
            ],
            [
             0.7777777777777778,
             "#fb9f3a"
            ],
            [
             0.8888888888888888,
             "#fdca26"
            ],
            [
             1,
             "#f0f921"
            ]
           ],
           "sequentialminus": [
            [
             0,
             "#0d0887"
            ],
            [
             0.1111111111111111,
             "#46039f"
            ],
            [
             0.2222222222222222,
             "#7201a8"
            ],
            [
             0.3333333333333333,
             "#9c179e"
            ],
            [
             0.4444444444444444,
             "#bd3786"
            ],
            [
             0.5555555555555556,
             "#d8576b"
            ],
            [
             0.6666666666666666,
             "#ed7953"
            ],
            [
             0.7777777777777778,
             "#fb9f3a"
            ],
            [
             0.8888888888888888,
             "#fdca26"
            ],
            [
             1,
             "#f0f921"
            ]
           ]
          },
          "colorway": [
           "#636efa",
           "#EF553B",
           "#00cc96",
           "#ab63fa",
           "#FFA15A",
           "#19d3f3",
           "#FF6692",
           "#B6E880",
           "#FF97FF",
           "#FECB52"
          ],
          "font": {
           "color": "#2a3f5f"
          },
          "geo": {
           "bgcolor": "white",
           "lakecolor": "white",
           "landcolor": "#E5ECF6",
           "showlakes": true,
           "showland": true,
           "subunitcolor": "white"
          },
          "hoverlabel": {
           "align": "left"
          },
          "hovermode": "closest",
          "mapbox": {
           "style": "light"
          },
          "paper_bgcolor": "white",
          "plot_bgcolor": "#E5ECF6",
          "polar": {
           "angularaxis": {
            "gridcolor": "white",
            "linecolor": "white",
            "ticks": ""
           },
           "bgcolor": "#E5ECF6",
           "radialaxis": {
            "gridcolor": "white",
            "linecolor": "white",
            "ticks": ""
           }
          },
          "scene": {
           "xaxis": {
            "backgroundcolor": "#E5ECF6",
            "gridcolor": "white",
            "gridwidth": 2,
            "linecolor": "white",
            "showbackground": true,
            "ticks": "",
            "zerolinecolor": "white"
           },
           "yaxis": {
            "backgroundcolor": "#E5ECF6",
            "gridcolor": "white",
            "gridwidth": 2,
            "linecolor": "white",
            "showbackground": true,
            "ticks": "",
            "zerolinecolor": "white"
           },
           "zaxis": {
            "backgroundcolor": "#E5ECF6",
            "gridcolor": "white",
            "gridwidth": 2,
            "linecolor": "white",
            "showbackground": true,
            "ticks": "",
            "zerolinecolor": "white"
           }
          },
          "shapedefaults": {
           "line": {
            "color": "#2a3f5f"
           }
          },
          "ternary": {
           "aaxis": {
            "gridcolor": "white",
            "linecolor": "white",
            "ticks": ""
           },
           "baxis": {
            "gridcolor": "white",
            "linecolor": "white",
            "ticks": ""
           },
           "bgcolor": "#E5ECF6",
           "caxis": {
            "gridcolor": "white",
            "linecolor": "white",
            "ticks": ""
           }
          },
          "title": {
           "x": 0.05
          },
          "xaxis": {
           "automargin": true,
           "gridcolor": "white",
           "linecolor": "white",
           "ticks": "",
           "title": {
            "standoff": 15
           },
           "zerolinecolor": "white",
           "zerolinewidth": 2
          },
          "yaxis": {
           "automargin": true,
           "gridcolor": "white",
           "linecolor": "white",
           "ticks": "",
           "title": {
            "standoff": 15
           },
           "zerolinecolor": "white",
           "zerolinewidth": 2
          }
         }
        },
        "title": {
         "text": "Evolution of net income"
        },
        "xaxis": {
         "anchor": "y",
         "domain": [
          0,
          1
         ],
         "title": {
          "text": "year"
         }
        },
        "yaxis": {
         "anchor": "x",
         "domain": [
          0,
          1
         ],
         "title": {
          "text": "Relative_net_income"
         }
        }
       }
      },
      "text/html": [
       "<div>\n",
       "        \n",
       "        \n",
       "            <div id=\"ade4149a-bcb6-4650-9e70-a7efe5e0ab7d\" class=\"plotly-graph-div\" style=\"height:525px; width:100%;\"></div>\n",
       "            <script type=\"text/javascript\">\n",
       "                require([\"plotly\"], function(Plotly) {\n",
       "                    window.PLOTLYENV=window.PLOTLYENV || {};\n",
       "                    \n",
       "                if (document.getElementById(\"ade4149a-bcb6-4650-9e70-a7efe5e0ab7d\")) {\n",
       "                    Plotly.newPlot(\n",
       "                        'ade4149a-bcb6-4650-9e70-a7efe5e0ab7d',\n",
       "                        [{\"alignmentgroup\": \"True\", \"hoverlabel\": {\"namelength\": 0}, \"hovertemplate\": \"sector=Basic Materials<br>year=%{x}<br>Relative_net_income=%{y}\", \"legendgroup\": \"Basic Materials\", \"marker\": {\"color\": \"#636efa\"}, \"name\": \"Basic Materials\", \"offsetgroup\": \"Basic Materials\", \"orientation\": \"v\", \"showlegend\": true, \"textposition\": \"auto\", \"type\": \"bar\", \"x\": [2009, 2010, 2011, 2012, 2013, 2014, 2015, 2016, 2017, 2018], \"xaxis\": \"x\", \"y\": [1.384039946839922, 2.6794048223435585, 2.785586373752893, 2.418690347268267, 2.8801840898508853, 2.8695915025153416, 1.937460229216347, 1.5977414332756412, 2.7223863503236805, 2.3640568880575024], \"yaxis\": \"y\"}, {\"alignmentgroup\": \"True\", \"hoverlabel\": {\"namelength\": 0}, \"hovertemplate\": \"sector=Communication Services<br>year=%{x}<br>Relative_net_income=%{y}\", \"legendgroup\": \"Communication Services\", \"marker\": {\"color\": \"#EF553B\"}, \"name\": \"Communication Services\", \"offsetgroup\": \"Communication Services\", \"orientation\": \"v\", \"showlegend\": true, \"textposition\": \"auto\", \"type\": \"bar\", \"x\": [2009, 2010, 2011, 2012, 2013, 2014, 2015, 2016, 2017, 2018], \"xaxis\": \"x\", \"y\": [4.378090419399484, 4.347697255100377, 1.1544007457330154, 1.2507690419115456, 3.329117029548314, 2.0083467604686525, 4.013449832226656, 3.585564190655893, 7.457076412993081, 3.340742923546516], \"yaxis\": \"y\"}, {\"alignmentgroup\": \"True\", \"hoverlabel\": {\"namelength\": 0}, \"hovertemplate\": \"sector=Consumer Cyclical<br>year=%{x}<br>Relative_net_income=%{y}\", \"legendgroup\": \"Consumer Cyclical\", \"marker\": {\"color\": \"#00cc96\"}, \"name\": \"Consumer Cyclical\", \"offsetgroup\": \"Consumer Cyclical\", \"orientation\": \"v\", \"showlegend\": true, \"textposition\": \"auto\", \"type\": \"bar\", \"x\": [2009, 2010, 2011, 2012, 2013, 2014, 2015, 2016, 2017, 2018], \"xaxis\": \"x\", \"y\": [5.530133577736279, 7.472678487659684, 12.115766710264596, 9.016957055895839, 9.73700274253698, 9.874645001596518, 12.818837636808967, 12.811182608084431, 10.853903179027125, 10.396248447280664], \"yaxis\": \"y\"}, {\"alignmentgroup\": \"True\", \"hoverlabel\": {\"namelength\": 0}, \"hovertemplate\": \"sector=Consumer Defensive<br>year=%{x}<br>Relative_net_income=%{y}\", \"legendgroup\": \"Consumer Defensive\", \"marker\": {\"color\": \"#ab63fa\"}, \"name\": \"Consumer Defensive\", \"offsetgroup\": \"Consumer Defensive\", \"orientation\": \"v\", \"showlegend\": true, \"textposition\": \"auto\", \"type\": \"bar\", \"x\": [2009, 2010, 2011, 2012, 2013, 2014, 2015, 2016, 2017, 2018], \"xaxis\": \"x\", \"y\": [12.405661558988319, 14.39685465189843, 11.116335605904995, 10.192902922673305, 9.394991774753288, 8.836589919473763, 9.005010525819515, 10.49921486003845, 9.919431364707783, 6.667247827799675], \"yaxis\": \"y\"}, {\"alignmentgroup\": \"True\", \"hoverlabel\": {\"namelength\": 0}, \"hovertemplate\": \"sector=Energy<br>year=%{x}<br>Relative_net_income=%{y}\", \"legendgroup\": \"Energy\", \"marker\": {\"color\": \"#FFA15A\"}, \"name\": \"Energy\", \"offsetgroup\": \"Energy\", \"orientation\": \"v\", \"showlegend\": true, \"textposition\": \"auto\", \"type\": \"bar\", \"x\": [2009, 2010, 2011, 2012, 2013, 2014, 2015, 2016, 2017, 2018], \"xaxis\": \"x\", \"y\": [10.113557984841359, 9.852687223370369, 12.494219985327396, 15.056552882406535, 11.381929434934465, 10.253151294137675, -5.1562342930756655, -2.6774775114706495, 4.030898019932885, 6.182204326158796], \"yaxis\": \"y\"}, {\"alignmentgroup\": \"True\", \"hoverlabel\": {\"namelength\": 0}, \"hovertemplate\": \"sector=Financial Services<br>year=%{x}<br>Relative_net_income=%{y}\", \"legendgroup\": \"Financial Services\", \"marker\": {\"color\": \"#19d3f3\"}, \"name\": \"Financial Services\", \"offsetgroup\": \"Financial Services\", \"orientation\": \"v\", \"showlegend\": true, \"textposition\": \"auto\", \"type\": \"bar\", \"x\": [2009, 2010, 2011, 2012, 2013, 2014, 2015, 2016, 2017, 2018], \"xaxis\": \"x\", \"y\": [12.489362195317225, 17.713550854126378, 17.174172860703674, 16.496219719351444, 18.51873612565655, 19.313100516350577, 24.28740292578824, 20.796813745133306, 17.675309208205878, 22.161654987980903], \"yaxis\": \"y\"}, {\"alignmentgroup\": \"True\", \"hoverlabel\": {\"namelength\": 0}, \"hovertemplate\": \"sector=Healthcare<br>year=%{x}<br>Relative_net_income=%{y}\", \"legendgroup\": \"Healthcare\", \"marker\": {\"color\": \"#FF6692\"}, \"name\": \"Healthcare\", \"offsetgroup\": \"Healthcare\", \"orientation\": \"v\", \"showlegend\": true, \"textposition\": \"auto\", \"type\": \"bar\", \"x\": [2009, 2010, 2011, 2012, 2013, 2014, 2015, 2016, 2017, 2018], \"xaxis\": \"x\", \"y\": [18.49532494480104, 9.178319338915742, 9.54387331075117, 13.878649698839139, 11.955549304154534, 12.520038707856346, 13.188238786301454, 15.649309127839166, 12.791999411135954, 11.178714093759991], \"yaxis\": \"y\"}, {\"alignmentgroup\": \"True\", \"hoverlabel\": {\"namelength\": 0}, \"hovertemplate\": \"sector=Industrials<br>year=%{x}<br>Relative_net_income=%{y}\", \"legendgroup\": \"Industrials\", \"marker\": {\"color\": \"#B6E880\"}, \"name\": \"Industrials\", \"offsetgroup\": \"Industrials\", \"orientation\": \"v\", \"showlegend\": true, \"textposition\": \"auto\", \"type\": \"bar\", \"x\": [2009, 2010, 2011, 2012, 2013, 2014, 2015, 2016, 2017, 2018], \"xaxis\": \"x\", \"y\": [11.588102558784726, 11.239943361591237, 10.499703204838983, 10.551122643141449, 11.03827010961873, 11.370712499116319, 11.965733507246124, 11.238426394342996, 10.569456649903282, 8.918146351767936], \"yaxis\": \"y\"}, {\"alignmentgroup\": \"True\", \"hoverlabel\": {\"namelength\": 0}, \"hovertemplate\": \"sector=Real Estate<br>year=%{x}<br>Relative_net_income=%{y}\", \"legendgroup\": \"Real Estate\", \"marker\": {\"color\": \"#FF97FF\"}, \"name\": \"Real Estate\", \"offsetgroup\": \"Real Estate\", \"orientation\": \"v\", \"showlegend\": true, \"textposition\": \"auto\", \"type\": \"bar\", \"x\": [2009, 2010, 2011, 2012, 2013, 2014, 2015, 2016, 2017, 2018], \"xaxis\": \"x\", \"y\": [0.6064822336007797, 0.6264182016416918, 0.9721100516707771, 1.0936954630644737, 1.1909090346572675, 1.4927702357900263, 1.8094681375690795, 2.1471148513726552, 1.6270216190078137, 1.5674015983385623], \"yaxis\": \"y\"}, {\"alignmentgroup\": \"True\", \"hoverlabel\": {\"namelength\": 0}, \"hovertemplate\": \"sector=Technology<br>year=%{x}<br>Relative_net_income=%{y}\", \"legendgroup\": \"Technology\", \"marker\": {\"color\": \"#FECB52\"}, \"name\": \"Technology\", \"offsetgroup\": \"Technology\", \"orientation\": \"v\", \"showlegend\": true, \"textposition\": \"auto\", \"type\": \"bar\", \"x\": [2009, 2010, 2011, 2012, 2013, 2014, 2015, 2016, 2017, 2018], \"xaxis\": \"x\", \"y\": [17.595170451908423, 19.07232894328206, 19.059426189066546, 17.552484039692306, 17.99410626067603, 18.57147896252369, 23.639708786709456, 22.60569492441195, 19.567604039760496, 24.984385564728694], \"yaxis\": \"y\"}, {\"alignmentgroup\": \"True\", \"hoverlabel\": {\"namelength\": 0}, \"hovertemplate\": \"sector=Utilities<br>year=%{x}<br>Relative_net_income=%{y}\", \"legendgroup\": \"Utilities\", \"marker\": {\"color\": \"#636efa\"}, \"name\": \"Utilities\", \"offsetgroup\": \"Utilities\", \"orientation\": \"v\", \"showlegend\": true, \"textposition\": \"auto\", \"type\": \"bar\", \"x\": [2009, 2010, 2011, 2012, 2013, 2014, 2015, 2016, 2017, 2018], \"xaxis\": \"x\", \"y\": [5.414074127782447, 3.4201168600704728, 3.0844049619859546, 2.491956185755698, 2.5792040936129554, 2.889574600171094, 2.4909239253898257, 1.7464153763161627, 2.78491374500202, 2.2391969905807603], \"yaxis\": \"y\"}],\n",
       "                        {\"barmode\": \"relative\", \"legend\": {\"title\": {\"text\": \"sector\"}, \"tracegroupgap\": 0}, \"template\": {\"data\": {\"bar\": [{\"error_x\": {\"color\": \"#2a3f5f\"}, \"error_y\": {\"color\": \"#2a3f5f\"}, \"marker\": {\"line\": {\"color\": \"#E5ECF6\", \"width\": 0.5}}, \"type\": \"bar\"}], \"barpolar\": [{\"marker\": {\"line\": {\"color\": \"#E5ECF6\", \"width\": 0.5}}, \"type\": \"barpolar\"}], \"carpet\": [{\"aaxis\": {\"endlinecolor\": \"#2a3f5f\", \"gridcolor\": \"white\", \"linecolor\": \"white\", \"minorgridcolor\": \"white\", \"startlinecolor\": \"#2a3f5f\"}, \"baxis\": {\"endlinecolor\": \"#2a3f5f\", \"gridcolor\": \"white\", \"linecolor\": \"white\", \"minorgridcolor\": \"white\", \"startlinecolor\": \"#2a3f5f\"}, \"type\": \"carpet\"}], \"choropleth\": [{\"colorbar\": {\"outlinewidth\": 0, \"ticks\": \"\"}, \"type\": \"choropleth\"}], \"contour\": [{\"colorbar\": {\"outlinewidth\": 0, \"ticks\": \"\"}, \"colorscale\": [[0.0, \"#0d0887\"], [0.1111111111111111, \"#46039f\"], [0.2222222222222222, \"#7201a8\"], [0.3333333333333333, \"#9c179e\"], [0.4444444444444444, \"#bd3786\"], [0.5555555555555556, \"#d8576b\"], [0.6666666666666666, \"#ed7953\"], [0.7777777777777778, \"#fb9f3a\"], [0.8888888888888888, \"#fdca26\"], [1.0, \"#f0f921\"]], \"type\": \"contour\"}], \"contourcarpet\": [{\"colorbar\": {\"outlinewidth\": 0, \"ticks\": \"\"}, \"type\": \"contourcarpet\"}], \"heatmap\": [{\"colorbar\": {\"outlinewidth\": 0, \"ticks\": \"\"}, \"colorscale\": [[0.0, \"#0d0887\"], [0.1111111111111111, \"#46039f\"], [0.2222222222222222, \"#7201a8\"], [0.3333333333333333, \"#9c179e\"], [0.4444444444444444, \"#bd3786\"], [0.5555555555555556, \"#d8576b\"], [0.6666666666666666, \"#ed7953\"], [0.7777777777777778, \"#fb9f3a\"], [0.8888888888888888, \"#fdca26\"], [1.0, \"#f0f921\"]], \"type\": \"heatmap\"}], \"heatmapgl\": [{\"colorbar\": {\"outlinewidth\": 0, \"ticks\": \"\"}, \"colorscale\": [[0.0, \"#0d0887\"], [0.1111111111111111, \"#46039f\"], [0.2222222222222222, \"#7201a8\"], [0.3333333333333333, \"#9c179e\"], [0.4444444444444444, \"#bd3786\"], [0.5555555555555556, \"#d8576b\"], [0.6666666666666666, \"#ed7953\"], [0.7777777777777778, \"#fb9f3a\"], [0.8888888888888888, \"#fdca26\"], [1.0, \"#f0f921\"]], \"type\": \"heatmapgl\"}], \"histogram\": [{\"marker\": {\"colorbar\": {\"outlinewidth\": 0, \"ticks\": \"\"}}, \"type\": \"histogram\"}], \"histogram2d\": [{\"colorbar\": {\"outlinewidth\": 0, \"ticks\": \"\"}, \"colorscale\": [[0.0, \"#0d0887\"], [0.1111111111111111, \"#46039f\"], [0.2222222222222222, \"#7201a8\"], [0.3333333333333333, \"#9c179e\"], [0.4444444444444444, \"#bd3786\"], [0.5555555555555556, \"#d8576b\"], [0.6666666666666666, \"#ed7953\"], [0.7777777777777778, \"#fb9f3a\"], [0.8888888888888888, \"#fdca26\"], [1.0, \"#f0f921\"]], \"type\": \"histogram2d\"}], \"histogram2dcontour\": [{\"colorbar\": {\"outlinewidth\": 0, \"ticks\": \"\"}, \"colorscale\": [[0.0, \"#0d0887\"], [0.1111111111111111, \"#46039f\"], [0.2222222222222222, \"#7201a8\"], [0.3333333333333333, \"#9c179e\"], [0.4444444444444444, \"#bd3786\"], [0.5555555555555556, \"#d8576b\"], [0.6666666666666666, \"#ed7953\"], [0.7777777777777778, \"#fb9f3a\"], [0.8888888888888888, \"#fdca26\"], [1.0, \"#f0f921\"]], \"type\": \"histogram2dcontour\"}], \"mesh3d\": [{\"colorbar\": {\"outlinewidth\": 0, \"ticks\": \"\"}, \"type\": \"mesh3d\"}], \"parcoords\": [{\"line\": {\"colorbar\": {\"outlinewidth\": 0, \"ticks\": \"\"}}, \"type\": \"parcoords\"}], \"pie\": [{\"automargin\": true, \"type\": \"pie\"}], \"scatter\": [{\"marker\": {\"colorbar\": {\"outlinewidth\": 0, \"ticks\": \"\"}}, \"type\": \"scatter\"}], \"scatter3d\": [{\"line\": {\"colorbar\": {\"outlinewidth\": 0, \"ticks\": \"\"}}, \"marker\": {\"colorbar\": {\"outlinewidth\": 0, \"ticks\": \"\"}}, \"type\": \"scatter3d\"}], \"scattercarpet\": [{\"marker\": {\"colorbar\": {\"outlinewidth\": 0, \"ticks\": \"\"}}, \"type\": \"scattercarpet\"}], \"scattergeo\": [{\"marker\": {\"colorbar\": {\"outlinewidth\": 0, \"ticks\": \"\"}}, \"type\": \"scattergeo\"}], \"scattergl\": [{\"marker\": {\"colorbar\": {\"outlinewidth\": 0, \"ticks\": \"\"}}, \"type\": \"scattergl\"}], \"scattermapbox\": [{\"marker\": {\"colorbar\": {\"outlinewidth\": 0, \"ticks\": \"\"}}, \"type\": \"scattermapbox\"}], \"scatterpolar\": [{\"marker\": {\"colorbar\": {\"outlinewidth\": 0, \"ticks\": \"\"}}, \"type\": \"scatterpolar\"}], \"scatterpolargl\": [{\"marker\": {\"colorbar\": {\"outlinewidth\": 0, \"ticks\": \"\"}}, \"type\": \"scatterpolargl\"}], \"scatterternary\": [{\"marker\": {\"colorbar\": {\"outlinewidth\": 0, \"ticks\": \"\"}}, \"type\": \"scatterternary\"}], \"surface\": [{\"colorbar\": {\"outlinewidth\": 0, \"ticks\": \"\"}, \"colorscale\": [[0.0, \"#0d0887\"], [0.1111111111111111, \"#46039f\"], [0.2222222222222222, \"#7201a8\"], [0.3333333333333333, \"#9c179e\"], [0.4444444444444444, \"#bd3786\"], [0.5555555555555556, \"#d8576b\"], [0.6666666666666666, \"#ed7953\"], [0.7777777777777778, \"#fb9f3a\"], [0.8888888888888888, \"#fdca26\"], [1.0, \"#f0f921\"]], \"type\": \"surface\"}], \"table\": [{\"cells\": {\"fill\": {\"color\": \"#EBF0F8\"}, \"line\": {\"color\": \"white\"}}, \"header\": {\"fill\": {\"color\": \"#C8D4E3\"}, \"line\": {\"color\": \"white\"}}, \"type\": \"table\"}]}, \"layout\": {\"annotationdefaults\": {\"arrowcolor\": \"#2a3f5f\", \"arrowhead\": 0, \"arrowwidth\": 1}, \"coloraxis\": {\"colorbar\": {\"outlinewidth\": 0, \"ticks\": \"\"}}, \"colorscale\": {\"diverging\": [[0, \"#8e0152\"], [0.1, \"#c51b7d\"], [0.2, \"#de77ae\"], [0.3, \"#f1b6da\"], [0.4, \"#fde0ef\"], [0.5, \"#f7f7f7\"], [0.6, \"#e6f5d0\"], [0.7, \"#b8e186\"], [0.8, \"#7fbc41\"], [0.9, \"#4d9221\"], [1, \"#276419\"]], \"sequential\": [[0.0, \"#0d0887\"], [0.1111111111111111, \"#46039f\"], [0.2222222222222222, \"#7201a8\"], [0.3333333333333333, \"#9c179e\"], [0.4444444444444444, \"#bd3786\"], [0.5555555555555556, \"#d8576b\"], [0.6666666666666666, \"#ed7953\"], [0.7777777777777778, \"#fb9f3a\"], [0.8888888888888888, \"#fdca26\"], [1.0, \"#f0f921\"]], \"sequentialminus\": [[0.0, \"#0d0887\"], [0.1111111111111111, \"#46039f\"], [0.2222222222222222, \"#7201a8\"], [0.3333333333333333, \"#9c179e\"], [0.4444444444444444, \"#bd3786\"], [0.5555555555555556, \"#d8576b\"], [0.6666666666666666, \"#ed7953\"], [0.7777777777777778, \"#fb9f3a\"], [0.8888888888888888, \"#fdca26\"], [1.0, \"#f0f921\"]]}, \"colorway\": [\"#636efa\", \"#EF553B\", \"#00cc96\", \"#ab63fa\", \"#FFA15A\", \"#19d3f3\", \"#FF6692\", \"#B6E880\", \"#FF97FF\", \"#FECB52\"], \"font\": {\"color\": \"#2a3f5f\"}, \"geo\": {\"bgcolor\": \"white\", \"lakecolor\": \"white\", \"landcolor\": \"#E5ECF6\", \"showlakes\": true, \"showland\": true, \"subunitcolor\": \"white\"}, \"hoverlabel\": {\"align\": \"left\"}, \"hovermode\": \"closest\", \"mapbox\": {\"style\": \"light\"}, \"paper_bgcolor\": \"white\", \"plot_bgcolor\": \"#E5ECF6\", \"polar\": {\"angularaxis\": {\"gridcolor\": \"white\", \"linecolor\": \"white\", \"ticks\": \"\"}, \"bgcolor\": \"#E5ECF6\", \"radialaxis\": {\"gridcolor\": \"white\", \"linecolor\": \"white\", \"ticks\": \"\"}}, \"scene\": {\"xaxis\": {\"backgroundcolor\": \"#E5ECF6\", \"gridcolor\": \"white\", \"gridwidth\": 2, \"linecolor\": \"white\", \"showbackground\": true, \"ticks\": \"\", \"zerolinecolor\": \"white\"}, \"yaxis\": {\"backgroundcolor\": \"#E5ECF6\", \"gridcolor\": \"white\", \"gridwidth\": 2, \"linecolor\": \"white\", \"showbackground\": true, \"ticks\": \"\", \"zerolinecolor\": \"white\"}, \"zaxis\": {\"backgroundcolor\": \"#E5ECF6\", \"gridcolor\": \"white\", \"gridwidth\": 2, \"linecolor\": \"white\", \"showbackground\": true, \"ticks\": \"\", \"zerolinecolor\": \"white\"}}, \"shapedefaults\": {\"line\": {\"color\": \"#2a3f5f\"}}, \"ternary\": {\"aaxis\": {\"gridcolor\": \"white\", \"linecolor\": \"white\", \"ticks\": \"\"}, \"baxis\": {\"gridcolor\": \"white\", \"linecolor\": \"white\", \"ticks\": \"\"}, \"bgcolor\": \"#E5ECF6\", \"caxis\": {\"gridcolor\": \"white\", \"linecolor\": \"white\", \"ticks\": \"\"}}, \"title\": {\"x\": 0.05}, \"xaxis\": {\"automargin\": true, \"gridcolor\": \"white\", \"linecolor\": \"white\", \"ticks\": \"\", \"title\": {\"standoff\": 15}, \"zerolinecolor\": \"white\", \"zerolinewidth\": 2}, \"yaxis\": {\"automargin\": true, \"gridcolor\": \"white\", \"linecolor\": \"white\", \"ticks\": \"\", \"title\": {\"standoff\": 15}, \"zerolinecolor\": \"white\", \"zerolinewidth\": 2}}}, \"title\": {\"text\": \"Evolution of net income\"}, \"xaxis\": {\"anchor\": \"y\", \"domain\": [0.0, 1.0], \"title\": {\"text\": \"year\"}}, \"yaxis\": {\"anchor\": \"x\", \"domain\": [0.0, 1.0], \"title\": {\"text\": \"Relative_net_income\"}}},\n",
       "                        {\"responsive\": true}\n",
       "                    ).then(function(){\n",
       "                            \n",
       "var gd = document.getElementById('ade4149a-bcb6-4650-9e70-a7efe5e0ab7d');\n",
       "var x = new MutationObserver(function (mutations, observer) {{\n",
       "        var display = window.getComputedStyle(gd).display;\n",
       "        if (!display || display === 'none') {{\n",
       "            console.log([gd, 'removed!']);\n",
       "            Plotly.purge(gd);\n",
       "            observer.disconnect();\n",
       "        }}\n",
       "}});\n",
       "\n",
       "// Listen for the removal of the full notebook cells\n",
       "var notebookContainer = gd.closest('#notebook-container');\n",
       "if (notebookContainer) {{\n",
       "    x.observe(notebookContainer, {childList: true});\n",
       "}}\n",
       "\n",
       "// Listen for the clearing of the current output cell\n",
       "var outputEl = gd.closest('.output');\n",
       "if (outputEl) {{\n",
       "    x.observe(outputEl, {childList: true});\n",
       "}}\n",
       "\n",
       "                        })\n",
       "                };\n",
       "                });\n",
       "            </script>\n",
       "        </div>"
      ]
     },
     "metadata": {},
     "output_type": "display_data"
    },
    {
     "data": {
      "application/vnd.plotly.v1+json": {
       "config": {
        "plotlyServerURL": "https://plot.ly"
       },
       "data": [
        {
         "alignmentgroup": "True",
         "hoverlabel": {
          "namelength": 0
         },
         "hovertemplate": "sector=Basic Materials<br>year=%{x}<br>Net Income=%{y}",
         "legendgroup": "Basic Materials",
         "marker": {
          "color": "#636efa"
         },
         "name": "Basic Materials",
         "offsetgroup": "Basic Materials",
         "orientation": "v",
         "showlegend": true,
         "textposition": "auto",
         "type": "bar",
         "x": [
          2009,
          2010,
          2011,
          2012,
          2013,
          2014,
          2015,
          2016,
          2017,
          2018
         ],
         "xaxis": "x",
         "y": [
          5859802000,
          15066569000,
          20665155000,
          18800204000,
          26606220000,
          26362116000,
          16031930000,
          14503157000,
          27320392000,
          27219659000
         ],
         "yaxis": "y"
        },
        {
         "alignmentgroup": "True",
         "hoverlabel": {
          "namelength": 0
         },
         "hovertemplate": "sector=Communication Services<br>year=%{x}<br>Net Income=%{y}",
         "legendgroup": "Communication Services",
         "marker": {
          "color": "#EF553B"
         },
         "name": "Communication Services",
         "offsetgroup": "Communication Services",
         "orientation": "v",
         "showlegend": true,
         "textposition": "auto",
         "type": "bar",
         "x": [
          2009,
          2010,
          2011,
          2012,
          2013,
          2014,
          2015,
          2016,
          2017,
          2018
         ],
         "xaxis": "x",
         "y": [
          18536129000,
          24447549000,
          8564039000,
          9722085000,
          30753319000,
          18450107000,
          33210151000,
          32547194000,
          74835172000,
          38465184000
         ],
         "yaxis": "y"
        },
        {
         "alignmentgroup": "True",
         "hoverlabel": {
          "namelength": 0
         },
         "hovertemplate": "sector=Consumer Cyclical<br>year=%{x}<br>Net Income=%{y}",
         "legendgroup": "Consumer Cyclical",
         "marker": {
          "color": "#00cc96"
         },
         "name": "Consumer Cyclical",
         "offsetgroup": "Consumer Cyclical",
         "orientation": "v",
         "showlegend": true,
         "textposition": "auto",
         "type": "bar",
         "x": [
          2009,
          2010,
          2011,
          2012,
          2013,
          2014,
          2015,
          2016,
          2017,
          2018
         ],
         "xaxis": "x",
         "y": [
          23413694000,
          42019640000,
          89882044000,
          70087778000,
          89947319000,
          90715538000,
          106072220000,
          116290777000,
          108923882000,
          119702000000
         ],
         "yaxis": "y"
        },
        {
         "alignmentgroup": "True",
         "hoverlabel": {
          "namelength": 0
         },
         "hovertemplate": "sector=Consumer Defensive<br>year=%{x}<br>Net Income=%{y}",
         "legendgroup": "Consumer Defensive",
         "marker": {
          "color": "#ab63fa"
         },
         "name": "Consumer Defensive",
         "offsetgroup": "Consumer Defensive",
         "orientation": "v",
         "showlegend": true,
         "textposition": "auto",
         "type": "bar",
         "x": [
          2009,
          2010,
          2011,
          2012,
          2013,
          2014,
          2015,
          2016,
          2017,
          2018
         ],
         "xaxis": "x",
         "y": [
          52523571000,
          80954995000,
          82467663000,
          79228271000,
          86787931000,
          81179223000,
          74513890000,
          95304383000,
          99546030000,
          76766432000
         ],
         "yaxis": "y"
        },
        {
         "alignmentgroup": "True",
         "hoverlabel": {
          "namelength": 0
         },
         "hovertemplate": "sector=Energy<br>year=%{x}<br>Net Income=%{y}",
         "legendgroup": "Energy",
         "marker": {
          "color": "#FFA15A"
         },
         "name": "Energy",
         "offsetgroup": "Energy",
         "orientation": "v",
         "showlegend": true,
         "textposition": "auto",
         "type": "bar",
         "x": [
          2009,
          2010,
          2011,
          2012,
          2013,
          2014,
          2015,
          2016,
          2017,
          2018
         ],
         "xaxis": "x",
         "y": [
          42819174000,
          55402674000,
          92689638000,
          117032867000,
          105142626000,
          94192767000,
          -42666366000,
          -24304230900,
          40451905000,
          71181660000
         ],
         "yaxis": "y"
        },
        {
         "alignmentgroup": "True",
         "hoverlabel": {
          "namelength": 0
         },
         "hovertemplate": "sector=Financial Services<br>year=%{x}<br>Net Income=%{y}",
         "legendgroup": "Financial Services",
         "marker": {
          "color": "#19d3f3"
         },
         "name": "Financial Services",
         "offsetgroup": "Financial Services",
         "orientation": "v",
         "showlegend": true,
         "textposition": "auto",
         "type": "bar",
         "x": [
          2009,
          2010,
          2011,
          2012,
          2013,
          2014,
          2015,
          2016,
          2017,
          2018
         ],
         "xaxis": "x",
         "y": [
          52877946000,
          99605119000,
          127408343000,
          128223233000,
          171070165000,
          177423928000,
          200971322000,
          188778640000,
          177379811000,
          255168433000
         ],
         "yaxis": "y"
        },
        {
         "alignmentgroup": "True",
         "hoverlabel": {
          "namelength": 0
         },
         "hovertemplate": "sector=Healthcare<br>year=%{x}<br>Net Income=%{y}",
         "legendgroup": "Healthcare",
         "marker": {
          "color": "#FF6692"
         },
         "name": "Healthcare",
         "offsetgroup": "Healthcare",
         "orientation": "v",
         "showlegend": true,
         "textposition": "auto",
         "type": "bar",
         "x": [
          2009,
          2010,
          2011,
          2012,
          2013,
          2014,
          2015,
          2016,
          2017,
          2018
         ],
         "xaxis": "x",
         "y": [
          78306224000,
          51610634000,
          70802192000,
          107877160000,
          110441543000,
          115018013000,
          109128909000,
          142053265000,
          128373564000,
          128711279000
         ],
         "yaxis": "y"
        },
        {
         "alignmentgroup": "True",
         "hoverlabel": {
          "namelength": 0
         },
         "hovertemplate": "sector=Industrials<br>year=%{x}<br>Net Income=%{y}",
         "legendgroup": "Industrials",
         "marker": {
          "color": "#B6E880"
         },
         "name": "Industrials",
         "offsetgroup": "Industrials",
         "orientation": "v",
         "showlegend": true,
         "textposition": "auto",
         "type": "bar",
         "x": [
          2009,
          2010,
          2011,
          2012,
          2013,
          2014,
          2015,
          2016,
          2017,
          2018
         ],
         "xaxis": "x",
         "y": [
          49062158000,
          63203358000,
          77893113000,
          82012672000,
          101968011000,
          104459482000,
          99013027000,
          102014418000,
          106069331000,
          102683190000
         ],
         "yaxis": "y"
        },
        {
         "alignmentgroup": "True",
         "hoverlabel": {
          "namelength": 0
         },
         "hovertemplate": "sector=Real Estate<br>year=%{x}<br>Net Income=%{y}",
         "legendgroup": "Real Estate",
         "marker": {
          "color": "#FF97FF"
         },
         "name": "Real Estate",
         "offsetgroup": "Real Estate",
         "orientation": "v",
         "showlegend": true,
         "textposition": "auto",
         "type": "bar",
         "x": [
          2009,
          2010,
          2011,
          2012,
          2013,
          2014,
          2015,
          2016,
          2017,
          2018
         ],
         "xaxis": "x",
         "y": [
          2567748000,
          3522414000,
          7211697000,
          8501170000,
          11001237000,
          13713653000,
          14972832000,
          19489977000,
          16327906000,
          18047001000
         ],
         "yaxis": "y"
        },
        {
         "alignmentgroup": "True",
         "hoverlabel": {
          "namelength": 0
         },
         "hovertemplate": "sector=Technology<br>year=%{x}<br>Net Income=%{y}",
         "legendgroup": "Technology",
         "marker": {
          "color": "#FECB52"
         },
         "name": "Technology",
         "offsetgroup": "Technology",
         "orientation": "v",
         "showlegend": true,
         "textposition": "auto",
         "type": "bar",
         "x": [
          2009,
          2010,
          2011,
          2012,
          2013,
          2014,
          2015,
          2016,
          2017,
          2018
         ],
         "xaxis": "x",
         "y": [
          74495115000,
          107245668000,
          141394286000,
          136433455000,
          166223802000,
          170610863000,
          195611838000,
          205198373000,
          196369855000,
          287669243000
         ],
         "yaxis": "y"
        },
        {
         "alignmentgroup": "True",
         "hoverlabel": {
          "namelength": 0
         },
         "hovertemplate": "sector=Utilities<br>year=%{x}<br>Net Income=%{y}",
         "legendgroup": "Utilities",
         "marker": {
          "color": "#636efa"
         },
         "name": "Utilities",
         "offsetgroup": "Utilities",
         "orientation": "v",
         "showlegend": true,
         "textposition": "auto",
         "type": "bar",
         "x": [
          2009,
          2010,
          2011,
          2012,
          2013,
          2014,
          2015,
          2016,
          2017,
          2018
         ],
         "xaxis": "x",
         "y": [
          22922317000,
          19231669000,
          22881971000,
          19369691000,
          23825863000,
          26545695000,
          20611684000,
          15852713000,
          27947883000,
          25782027000
         ],
         "yaxis": "y"
        }
       ],
       "layout": {
        "barmode": "group",
        "legend": {
         "title": {
          "text": "sector"
         },
         "tracegroupgap": 0
        },
        "template": {
         "data": {
          "bar": [
           {
            "error_x": {
             "color": "#2a3f5f"
            },
            "error_y": {
             "color": "#2a3f5f"
            },
            "marker": {
             "line": {
              "color": "#E5ECF6",
              "width": 0.5
             }
            },
            "type": "bar"
           }
          ],
          "barpolar": [
           {
            "marker": {
             "line": {
              "color": "#E5ECF6",
              "width": 0.5
             }
            },
            "type": "barpolar"
           }
          ],
          "carpet": [
           {
            "aaxis": {
             "endlinecolor": "#2a3f5f",
             "gridcolor": "white",
             "linecolor": "white",
             "minorgridcolor": "white",
             "startlinecolor": "#2a3f5f"
            },
            "baxis": {
             "endlinecolor": "#2a3f5f",
             "gridcolor": "white",
             "linecolor": "white",
             "minorgridcolor": "white",
             "startlinecolor": "#2a3f5f"
            },
            "type": "carpet"
           }
          ],
          "choropleth": [
           {
            "colorbar": {
             "outlinewidth": 0,
             "ticks": ""
            },
            "type": "choropleth"
           }
          ],
          "contour": [
           {
            "colorbar": {
             "outlinewidth": 0,
             "ticks": ""
            },
            "colorscale": [
             [
              0,
              "#0d0887"
             ],
             [
              0.1111111111111111,
              "#46039f"
             ],
             [
              0.2222222222222222,
              "#7201a8"
             ],
             [
              0.3333333333333333,
              "#9c179e"
             ],
             [
              0.4444444444444444,
              "#bd3786"
             ],
             [
              0.5555555555555556,
              "#d8576b"
             ],
             [
              0.6666666666666666,
              "#ed7953"
             ],
             [
              0.7777777777777778,
              "#fb9f3a"
             ],
             [
              0.8888888888888888,
              "#fdca26"
             ],
             [
              1,
              "#f0f921"
             ]
            ],
            "type": "contour"
           }
          ],
          "contourcarpet": [
           {
            "colorbar": {
             "outlinewidth": 0,
             "ticks": ""
            },
            "type": "contourcarpet"
           }
          ],
          "heatmap": [
           {
            "colorbar": {
             "outlinewidth": 0,
             "ticks": ""
            },
            "colorscale": [
             [
              0,
              "#0d0887"
             ],
             [
              0.1111111111111111,
              "#46039f"
             ],
             [
              0.2222222222222222,
              "#7201a8"
             ],
             [
              0.3333333333333333,
              "#9c179e"
             ],
             [
              0.4444444444444444,
              "#bd3786"
             ],
             [
              0.5555555555555556,
              "#d8576b"
             ],
             [
              0.6666666666666666,
              "#ed7953"
             ],
             [
              0.7777777777777778,
              "#fb9f3a"
             ],
             [
              0.8888888888888888,
              "#fdca26"
             ],
             [
              1,
              "#f0f921"
             ]
            ],
            "type": "heatmap"
           }
          ],
          "heatmapgl": [
           {
            "colorbar": {
             "outlinewidth": 0,
             "ticks": ""
            },
            "colorscale": [
             [
              0,
              "#0d0887"
             ],
             [
              0.1111111111111111,
              "#46039f"
             ],
             [
              0.2222222222222222,
              "#7201a8"
             ],
             [
              0.3333333333333333,
              "#9c179e"
             ],
             [
              0.4444444444444444,
              "#bd3786"
             ],
             [
              0.5555555555555556,
              "#d8576b"
             ],
             [
              0.6666666666666666,
              "#ed7953"
             ],
             [
              0.7777777777777778,
              "#fb9f3a"
             ],
             [
              0.8888888888888888,
              "#fdca26"
             ],
             [
              1,
              "#f0f921"
             ]
            ],
            "type": "heatmapgl"
           }
          ],
          "histogram": [
           {
            "marker": {
             "colorbar": {
              "outlinewidth": 0,
              "ticks": ""
             }
            },
            "type": "histogram"
           }
          ],
          "histogram2d": [
           {
            "colorbar": {
             "outlinewidth": 0,
             "ticks": ""
            },
            "colorscale": [
             [
              0,
              "#0d0887"
             ],
             [
              0.1111111111111111,
              "#46039f"
             ],
             [
              0.2222222222222222,
              "#7201a8"
             ],
             [
              0.3333333333333333,
              "#9c179e"
             ],
             [
              0.4444444444444444,
              "#bd3786"
             ],
             [
              0.5555555555555556,
              "#d8576b"
             ],
             [
              0.6666666666666666,
              "#ed7953"
             ],
             [
              0.7777777777777778,
              "#fb9f3a"
             ],
             [
              0.8888888888888888,
              "#fdca26"
             ],
             [
              1,
              "#f0f921"
             ]
            ],
            "type": "histogram2d"
           }
          ],
          "histogram2dcontour": [
           {
            "colorbar": {
             "outlinewidth": 0,
             "ticks": ""
            },
            "colorscale": [
             [
              0,
              "#0d0887"
             ],
             [
              0.1111111111111111,
              "#46039f"
             ],
             [
              0.2222222222222222,
              "#7201a8"
             ],
             [
              0.3333333333333333,
              "#9c179e"
             ],
             [
              0.4444444444444444,
              "#bd3786"
             ],
             [
              0.5555555555555556,
              "#d8576b"
             ],
             [
              0.6666666666666666,
              "#ed7953"
             ],
             [
              0.7777777777777778,
              "#fb9f3a"
             ],
             [
              0.8888888888888888,
              "#fdca26"
             ],
             [
              1,
              "#f0f921"
             ]
            ],
            "type": "histogram2dcontour"
           }
          ],
          "mesh3d": [
           {
            "colorbar": {
             "outlinewidth": 0,
             "ticks": ""
            },
            "type": "mesh3d"
           }
          ],
          "parcoords": [
           {
            "line": {
             "colorbar": {
              "outlinewidth": 0,
              "ticks": ""
             }
            },
            "type": "parcoords"
           }
          ],
          "pie": [
           {
            "automargin": true,
            "type": "pie"
           }
          ],
          "scatter": [
           {
            "marker": {
             "colorbar": {
              "outlinewidth": 0,
              "ticks": ""
             }
            },
            "type": "scatter"
           }
          ],
          "scatter3d": [
           {
            "line": {
             "colorbar": {
              "outlinewidth": 0,
              "ticks": ""
             }
            },
            "marker": {
             "colorbar": {
              "outlinewidth": 0,
              "ticks": ""
             }
            },
            "type": "scatter3d"
           }
          ],
          "scattercarpet": [
           {
            "marker": {
             "colorbar": {
              "outlinewidth": 0,
              "ticks": ""
             }
            },
            "type": "scattercarpet"
           }
          ],
          "scattergeo": [
           {
            "marker": {
             "colorbar": {
              "outlinewidth": 0,
              "ticks": ""
             }
            },
            "type": "scattergeo"
           }
          ],
          "scattergl": [
           {
            "marker": {
             "colorbar": {
              "outlinewidth": 0,
              "ticks": ""
             }
            },
            "type": "scattergl"
           }
          ],
          "scattermapbox": [
           {
            "marker": {
             "colorbar": {
              "outlinewidth": 0,
              "ticks": ""
             }
            },
            "type": "scattermapbox"
           }
          ],
          "scatterpolar": [
           {
            "marker": {
             "colorbar": {
              "outlinewidth": 0,
              "ticks": ""
             }
            },
            "type": "scatterpolar"
           }
          ],
          "scatterpolargl": [
           {
            "marker": {
             "colorbar": {
              "outlinewidth": 0,
              "ticks": ""
             }
            },
            "type": "scatterpolargl"
           }
          ],
          "scatterternary": [
           {
            "marker": {
             "colorbar": {
              "outlinewidth": 0,
              "ticks": ""
             }
            },
            "type": "scatterternary"
           }
          ],
          "surface": [
           {
            "colorbar": {
             "outlinewidth": 0,
             "ticks": ""
            },
            "colorscale": [
             [
              0,
              "#0d0887"
             ],
             [
              0.1111111111111111,
              "#46039f"
             ],
             [
              0.2222222222222222,
              "#7201a8"
             ],
             [
              0.3333333333333333,
              "#9c179e"
             ],
             [
              0.4444444444444444,
              "#bd3786"
             ],
             [
              0.5555555555555556,
              "#d8576b"
             ],
             [
              0.6666666666666666,
              "#ed7953"
             ],
             [
              0.7777777777777778,
              "#fb9f3a"
             ],
             [
              0.8888888888888888,
              "#fdca26"
             ],
             [
              1,
              "#f0f921"
             ]
            ],
            "type": "surface"
           }
          ],
          "table": [
           {
            "cells": {
             "fill": {
              "color": "#EBF0F8"
             },
             "line": {
              "color": "white"
             }
            },
            "header": {
             "fill": {
              "color": "#C8D4E3"
             },
             "line": {
              "color": "white"
             }
            },
            "type": "table"
           }
          ]
         },
         "layout": {
          "annotationdefaults": {
           "arrowcolor": "#2a3f5f",
           "arrowhead": 0,
           "arrowwidth": 1
          },
          "coloraxis": {
           "colorbar": {
            "outlinewidth": 0,
            "ticks": ""
           }
          },
          "colorscale": {
           "diverging": [
            [
             0,
             "#8e0152"
            ],
            [
             0.1,
             "#c51b7d"
            ],
            [
             0.2,
             "#de77ae"
            ],
            [
             0.3,
             "#f1b6da"
            ],
            [
             0.4,
             "#fde0ef"
            ],
            [
             0.5,
             "#f7f7f7"
            ],
            [
             0.6,
             "#e6f5d0"
            ],
            [
             0.7,
             "#b8e186"
            ],
            [
             0.8,
             "#7fbc41"
            ],
            [
             0.9,
             "#4d9221"
            ],
            [
             1,
             "#276419"
            ]
           ],
           "sequential": [
            [
             0,
             "#0d0887"
            ],
            [
             0.1111111111111111,
             "#46039f"
            ],
            [
             0.2222222222222222,
             "#7201a8"
            ],
            [
             0.3333333333333333,
             "#9c179e"
            ],
            [
             0.4444444444444444,
             "#bd3786"
            ],
            [
             0.5555555555555556,
             "#d8576b"
            ],
            [
             0.6666666666666666,
             "#ed7953"
            ],
            [
             0.7777777777777778,
             "#fb9f3a"
            ],
            [
             0.8888888888888888,
             "#fdca26"
            ],
            [
             1,
             "#f0f921"
            ]
           ],
           "sequentialminus": [
            [
             0,
             "#0d0887"
            ],
            [
             0.1111111111111111,
             "#46039f"
            ],
            [
             0.2222222222222222,
             "#7201a8"
            ],
            [
             0.3333333333333333,
             "#9c179e"
            ],
            [
             0.4444444444444444,
             "#bd3786"
            ],
            [
             0.5555555555555556,
             "#d8576b"
            ],
            [
             0.6666666666666666,
             "#ed7953"
            ],
            [
             0.7777777777777778,
             "#fb9f3a"
            ],
            [
             0.8888888888888888,
             "#fdca26"
            ],
            [
             1,
             "#f0f921"
            ]
           ]
          },
          "colorway": [
           "#636efa",
           "#EF553B",
           "#00cc96",
           "#ab63fa",
           "#FFA15A",
           "#19d3f3",
           "#FF6692",
           "#B6E880",
           "#FF97FF",
           "#FECB52"
          ],
          "font": {
           "color": "#2a3f5f"
          },
          "geo": {
           "bgcolor": "white",
           "lakecolor": "white",
           "landcolor": "#E5ECF6",
           "showlakes": true,
           "showland": true,
           "subunitcolor": "white"
          },
          "hoverlabel": {
           "align": "left"
          },
          "hovermode": "closest",
          "mapbox": {
           "style": "light"
          },
          "paper_bgcolor": "white",
          "plot_bgcolor": "#E5ECF6",
          "polar": {
           "angularaxis": {
            "gridcolor": "white",
            "linecolor": "white",
            "ticks": ""
           },
           "bgcolor": "#E5ECF6",
           "radialaxis": {
            "gridcolor": "white",
            "linecolor": "white",
            "ticks": ""
           }
          },
          "scene": {
           "xaxis": {
            "backgroundcolor": "#E5ECF6",
            "gridcolor": "white",
            "gridwidth": 2,
            "linecolor": "white",
            "showbackground": true,
            "ticks": "",
            "zerolinecolor": "white"
           },
           "yaxis": {
            "backgroundcolor": "#E5ECF6",
            "gridcolor": "white",
            "gridwidth": 2,
            "linecolor": "white",
            "showbackground": true,
            "ticks": "",
            "zerolinecolor": "white"
           },
           "zaxis": {
            "backgroundcolor": "#E5ECF6",
            "gridcolor": "white",
            "gridwidth": 2,
            "linecolor": "white",
            "showbackground": true,
            "ticks": "",
            "zerolinecolor": "white"
           }
          },
          "shapedefaults": {
           "line": {
            "color": "#2a3f5f"
           }
          },
          "ternary": {
           "aaxis": {
            "gridcolor": "white",
            "linecolor": "white",
            "ticks": ""
           },
           "baxis": {
            "gridcolor": "white",
            "linecolor": "white",
            "ticks": ""
           },
           "bgcolor": "#E5ECF6",
           "caxis": {
            "gridcolor": "white",
            "linecolor": "white",
            "ticks": ""
           }
          },
          "title": {
           "x": 0.05
          },
          "xaxis": {
           "automargin": true,
           "gridcolor": "white",
           "linecolor": "white",
           "ticks": "",
           "title": {
            "standoff": 15
           },
           "zerolinecolor": "white",
           "zerolinewidth": 2
          },
          "yaxis": {
           "automargin": true,
           "gridcolor": "white",
           "linecolor": "white",
           "ticks": "",
           "title": {
            "standoff": 15
           },
           "zerolinecolor": "white",
           "zerolinewidth": 2
          }
         }
        },
        "title": {
         "text": "Evolution of net income"
        },
        "xaxis": {
         "anchor": "y",
         "domain": [
          0,
          1
         ],
         "title": {
          "text": "year"
         }
        },
        "yaxis": {
         "anchor": "x",
         "domain": [
          0,
          1
         ],
         "title": {
          "text": "Net Income"
         }
        }
       }
      },
      "text/html": [
       "<div>\n",
       "        \n",
       "        \n",
       "            <div id=\"b6a0552a-0064-4303-9b73-cc406ce1fbab\" class=\"plotly-graph-div\" style=\"height:525px; width:100%;\"></div>\n",
       "            <script type=\"text/javascript\">\n",
       "                require([\"plotly\"], function(Plotly) {\n",
       "                    window.PLOTLYENV=window.PLOTLYENV || {};\n",
       "                    \n",
       "                if (document.getElementById(\"b6a0552a-0064-4303-9b73-cc406ce1fbab\")) {\n",
       "                    Plotly.newPlot(\n",
       "                        'b6a0552a-0064-4303-9b73-cc406ce1fbab',\n",
       "                        [{\"alignmentgroup\": \"True\", \"hoverlabel\": {\"namelength\": 0}, \"hovertemplate\": \"sector=Basic Materials<br>year=%{x}<br>Net Income=%{y}\", \"legendgroup\": \"Basic Materials\", \"marker\": {\"color\": \"#636efa\"}, \"name\": \"Basic Materials\", \"offsetgroup\": \"Basic Materials\", \"orientation\": \"v\", \"showlegend\": true, \"textposition\": \"auto\", \"type\": \"bar\", \"x\": [2009, 2010, 2011, 2012, 2013, 2014, 2015, 2016, 2017, 2018], \"xaxis\": \"x\", \"y\": [5859802000.0, 15066569000.0, 20665155000.0, 18800204000.0, 26606220000.0, 26362116000.0, 16031930000.0, 14503157000.0, 27320392000.0, 27219659000.0], \"yaxis\": \"y\"}, {\"alignmentgroup\": \"True\", \"hoverlabel\": {\"namelength\": 0}, \"hovertemplate\": \"sector=Communication Services<br>year=%{x}<br>Net Income=%{y}\", \"legendgroup\": \"Communication Services\", \"marker\": {\"color\": \"#EF553B\"}, \"name\": \"Communication Services\", \"offsetgroup\": \"Communication Services\", \"orientation\": \"v\", \"showlegend\": true, \"textposition\": \"auto\", \"type\": \"bar\", \"x\": [2009, 2010, 2011, 2012, 2013, 2014, 2015, 2016, 2017, 2018], \"xaxis\": \"x\", \"y\": [18536129000.0, 24447549000.0, 8564039000.0, 9722085000.0, 30753319000.0, 18450107000.0, 33210151000.0, 32547194000.0, 74835172000.0, 38465184000.0], \"yaxis\": \"y\"}, {\"alignmentgroup\": \"True\", \"hoverlabel\": {\"namelength\": 0}, \"hovertemplate\": \"sector=Consumer Cyclical<br>year=%{x}<br>Net Income=%{y}\", \"legendgroup\": \"Consumer Cyclical\", \"marker\": {\"color\": \"#00cc96\"}, \"name\": \"Consumer Cyclical\", \"offsetgroup\": \"Consumer Cyclical\", \"orientation\": \"v\", \"showlegend\": true, \"textposition\": \"auto\", \"type\": \"bar\", \"x\": [2009, 2010, 2011, 2012, 2013, 2014, 2015, 2016, 2017, 2018], \"xaxis\": \"x\", \"y\": [23413694000.0, 42019640000.0, 89882044000.0, 70087778000.0, 89947319000.0, 90715538000.0, 106072220000.0, 116290777000.0, 108923882000.0, 119702000000.0], \"yaxis\": \"y\"}, {\"alignmentgroup\": \"True\", \"hoverlabel\": {\"namelength\": 0}, \"hovertemplate\": \"sector=Consumer Defensive<br>year=%{x}<br>Net Income=%{y}\", \"legendgroup\": \"Consumer Defensive\", \"marker\": {\"color\": \"#ab63fa\"}, \"name\": \"Consumer Defensive\", \"offsetgroup\": \"Consumer Defensive\", \"orientation\": \"v\", \"showlegend\": true, \"textposition\": \"auto\", \"type\": \"bar\", \"x\": [2009, 2010, 2011, 2012, 2013, 2014, 2015, 2016, 2017, 2018], \"xaxis\": \"x\", \"y\": [52523571000.0, 80954995000.0, 82467663000.0, 79228271000.0, 86787931000.0, 81179223000.0, 74513890000.0, 95304383000.0, 99546030000.0, 76766432000.0], \"yaxis\": \"y\"}, {\"alignmentgroup\": \"True\", \"hoverlabel\": {\"namelength\": 0}, \"hovertemplate\": \"sector=Energy<br>year=%{x}<br>Net Income=%{y}\", \"legendgroup\": \"Energy\", \"marker\": {\"color\": \"#FFA15A\"}, \"name\": \"Energy\", \"offsetgroup\": \"Energy\", \"orientation\": \"v\", \"showlegend\": true, \"textposition\": \"auto\", \"type\": \"bar\", \"x\": [2009, 2010, 2011, 2012, 2013, 2014, 2015, 2016, 2017, 2018], \"xaxis\": \"x\", \"y\": [42819174000.0, 55402674000.0, 92689638000.0, 117032867000.0, 105142626000.0, 94192767000.0, -42666366000.0, -24304230900.0, 40451905000.0, 71181660000.0], \"yaxis\": \"y\"}, {\"alignmentgroup\": \"True\", \"hoverlabel\": {\"namelength\": 0}, \"hovertemplate\": \"sector=Financial Services<br>year=%{x}<br>Net Income=%{y}\", \"legendgroup\": \"Financial Services\", \"marker\": {\"color\": \"#19d3f3\"}, \"name\": \"Financial Services\", \"offsetgroup\": \"Financial Services\", \"orientation\": \"v\", \"showlegend\": true, \"textposition\": \"auto\", \"type\": \"bar\", \"x\": [2009, 2010, 2011, 2012, 2013, 2014, 2015, 2016, 2017, 2018], \"xaxis\": \"x\", \"y\": [52877946000.0, 99605119000.0, 127408343000.0, 128223233000.0, 171070165000.0, 177423928000.0, 200971322000.0, 188778640000.0, 177379811000.0, 255168433000.0], \"yaxis\": \"y\"}, {\"alignmentgroup\": \"True\", \"hoverlabel\": {\"namelength\": 0}, \"hovertemplate\": \"sector=Healthcare<br>year=%{x}<br>Net Income=%{y}\", \"legendgroup\": \"Healthcare\", \"marker\": {\"color\": \"#FF6692\"}, \"name\": \"Healthcare\", \"offsetgroup\": \"Healthcare\", \"orientation\": \"v\", \"showlegend\": true, \"textposition\": \"auto\", \"type\": \"bar\", \"x\": [2009, 2010, 2011, 2012, 2013, 2014, 2015, 2016, 2017, 2018], \"xaxis\": \"x\", \"y\": [78306224000.0, 51610634000.0, 70802192000.0, 107877160000.0, 110441543000.0, 115018013000.0, 109128909000.0, 142053265000.0, 128373564000.0, 128711279000.0], \"yaxis\": \"y\"}, {\"alignmentgroup\": \"True\", \"hoverlabel\": {\"namelength\": 0}, \"hovertemplate\": \"sector=Industrials<br>year=%{x}<br>Net Income=%{y}\", \"legendgroup\": \"Industrials\", \"marker\": {\"color\": \"#B6E880\"}, \"name\": \"Industrials\", \"offsetgroup\": \"Industrials\", \"orientation\": \"v\", \"showlegend\": true, \"textposition\": \"auto\", \"type\": \"bar\", \"x\": [2009, 2010, 2011, 2012, 2013, 2014, 2015, 2016, 2017, 2018], \"xaxis\": \"x\", \"y\": [49062158000.0, 63203358000.0, 77893113000.0, 82012672000.0, 101968011000.0, 104459482000.0, 99013027000.0, 102014418000.0, 106069331000.0, 102683190000.0], \"yaxis\": \"y\"}, {\"alignmentgroup\": \"True\", \"hoverlabel\": {\"namelength\": 0}, \"hovertemplate\": \"sector=Real Estate<br>year=%{x}<br>Net Income=%{y}\", \"legendgroup\": \"Real Estate\", \"marker\": {\"color\": \"#FF97FF\"}, \"name\": \"Real Estate\", \"offsetgroup\": \"Real Estate\", \"orientation\": \"v\", \"showlegend\": true, \"textposition\": \"auto\", \"type\": \"bar\", \"x\": [2009, 2010, 2011, 2012, 2013, 2014, 2015, 2016, 2017, 2018], \"xaxis\": \"x\", \"y\": [2567748000.0, 3522414000.0, 7211697000.0, 8501170000.0, 11001237000.0, 13713653000.0, 14972832000.0, 19489977000.0, 16327906000.0, 18047001000.0], \"yaxis\": \"y\"}, {\"alignmentgroup\": \"True\", \"hoverlabel\": {\"namelength\": 0}, \"hovertemplate\": \"sector=Technology<br>year=%{x}<br>Net Income=%{y}\", \"legendgroup\": \"Technology\", \"marker\": {\"color\": \"#FECB52\"}, \"name\": \"Technology\", \"offsetgroup\": \"Technology\", \"orientation\": \"v\", \"showlegend\": true, \"textposition\": \"auto\", \"type\": \"bar\", \"x\": [2009, 2010, 2011, 2012, 2013, 2014, 2015, 2016, 2017, 2018], \"xaxis\": \"x\", \"y\": [74495115000.0, 107245668000.0, 141394286000.0, 136433455000.0, 166223802000.0, 170610863000.0, 195611838000.0, 205198373000.0, 196369855000.0, 287669243000.0], \"yaxis\": \"y\"}, {\"alignmentgroup\": \"True\", \"hoverlabel\": {\"namelength\": 0}, \"hovertemplate\": \"sector=Utilities<br>year=%{x}<br>Net Income=%{y}\", \"legendgroup\": \"Utilities\", \"marker\": {\"color\": \"#636efa\"}, \"name\": \"Utilities\", \"offsetgroup\": \"Utilities\", \"orientation\": \"v\", \"showlegend\": true, \"textposition\": \"auto\", \"type\": \"bar\", \"x\": [2009, 2010, 2011, 2012, 2013, 2014, 2015, 2016, 2017, 2018], \"xaxis\": \"x\", \"y\": [22922317000.0, 19231669000.0, 22881971000.0, 19369691000.0, 23825863000.0, 26545695000.0, 20611684000.0, 15852713000.0, 27947883000.0, 25782027000.0], \"yaxis\": \"y\"}],\n",
       "                        {\"barmode\": \"group\", \"legend\": {\"title\": {\"text\": \"sector\"}, \"tracegroupgap\": 0}, \"template\": {\"data\": {\"bar\": [{\"error_x\": {\"color\": \"#2a3f5f\"}, \"error_y\": {\"color\": \"#2a3f5f\"}, \"marker\": {\"line\": {\"color\": \"#E5ECF6\", \"width\": 0.5}}, \"type\": \"bar\"}], \"barpolar\": [{\"marker\": {\"line\": {\"color\": \"#E5ECF6\", \"width\": 0.5}}, \"type\": \"barpolar\"}], \"carpet\": [{\"aaxis\": {\"endlinecolor\": \"#2a3f5f\", \"gridcolor\": \"white\", \"linecolor\": \"white\", \"minorgridcolor\": \"white\", \"startlinecolor\": \"#2a3f5f\"}, \"baxis\": {\"endlinecolor\": \"#2a3f5f\", \"gridcolor\": \"white\", \"linecolor\": \"white\", \"minorgridcolor\": \"white\", \"startlinecolor\": \"#2a3f5f\"}, \"type\": \"carpet\"}], \"choropleth\": [{\"colorbar\": {\"outlinewidth\": 0, \"ticks\": \"\"}, \"type\": \"choropleth\"}], \"contour\": [{\"colorbar\": {\"outlinewidth\": 0, \"ticks\": \"\"}, \"colorscale\": [[0.0, \"#0d0887\"], [0.1111111111111111, \"#46039f\"], [0.2222222222222222, \"#7201a8\"], [0.3333333333333333, \"#9c179e\"], [0.4444444444444444, \"#bd3786\"], [0.5555555555555556, \"#d8576b\"], [0.6666666666666666, \"#ed7953\"], [0.7777777777777778, \"#fb9f3a\"], [0.8888888888888888, \"#fdca26\"], [1.0, \"#f0f921\"]], \"type\": \"contour\"}], \"contourcarpet\": [{\"colorbar\": {\"outlinewidth\": 0, \"ticks\": \"\"}, \"type\": \"contourcarpet\"}], \"heatmap\": [{\"colorbar\": {\"outlinewidth\": 0, \"ticks\": \"\"}, \"colorscale\": [[0.0, \"#0d0887\"], [0.1111111111111111, \"#46039f\"], [0.2222222222222222, \"#7201a8\"], [0.3333333333333333, \"#9c179e\"], [0.4444444444444444, \"#bd3786\"], [0.5555555555555556, \"#d8576b\"], [0.6666666666666666, \"#ed7953\"], [0.7777777777777778, \"#fb9f3a\"], [0.8888888888888888, \"#fdca26\"], [1.0, \"#f0f921\"]], \"type\": \"heatmap\"}], \"heatmapgl\": [{\"colorbar\": {\"outlinewidth\": 0, \"ticks\": \"\"}, \"colorscale\": [[0.0, \"#0d0887\"], [0.1111111111111111, \"#46039f\"], [0.2222222222222222, \"#7201a8\"], [0.3333333333333333, \"#9c179e\"], [0.4444444444444444, \"#bd3786\"], [0.5555555555555556, \"#d8576b\"], [0.6666666666666666, \"#ed7953\"], [0.7777777777777778, \"#fb9f3a\"], [0.8888888888888888, \"#fdca26\"], [1.0, \"#f0f921\"]], \"type\": \"heatmapgl\"}], \"histogram\": [{\"marker\": {\"colorbar\": {\"outlinewidth\": 0, \"ticks\": \"\"}}, \"type\": \"histogram\"}], \"histogram2d\": [{\"colorbar\": {\"outlinewidth\": 0, \"ticks\": \"\"}, \"colorscale\": [[0.0, \"#0d0887\"], [0.1111111111111111, \"#46039f\"], [0.2222222222222222, \"#7201a8\"], [0.3333333333333333, \"#9c179e\"], [0.4444444444444444, \"#bd3786\"], [0.5555555555555556, \"#d8576b\"], [0.6666666666666666, \"#ed7953\"], [0.7777777777777778, \"#fb9f3a\"], [0.8888888888888888, \"#fdca26\"], [1.0, \"#f0f921\"]], \"type\": \"histogram2d\"}], \"histogram2dcontour\": [{\"colorbar\": {\"outlinewidth\": 0, \"ticks\": \"\"}, \"colorscale\": [[0.0, \"#0d0887\"], [0.1111111111111111, \"#46039f\"], [0.2222222222222222, \"#7201a8\"], [0.3333333333333333, \"#9c179e\"], [0.4444444444444444, \"#bd3786\"], [0.5555555555555556, \"#d8576b\"], [0.6666666666666666, \"#ed7953\"], [0.7777777777777778, \"#fb9f3a\"], [0.8888888888888888, \"#fdca26\"], [1.0, \"#f0f921\"]], \"type\": \"histogram2dcontour\"}], \"mesh3d\": [{\"colorbar\": {\"outlinewidth\": 0, \"ticks\": \"\"}, \"type\": \"mesh3d\"}], \"parcoords\": [{\"line\": {\"colorbar\": {\"outlinewidth\": 0, \"ticks\": \"\"}}, \"type\": \"parcoords\"}], \"pie\": [{\"automargin\": true, \"type\": \"pie\"}], \"scatter\": [{\"marker\": {\"colorbar\": {\"outlinewidth\": 0, \"ticks\": \"\"}}, \"type\": \"scatter\"}], \"scatter3d\": [{\"line\": {\"colorbar\": {\"outlinewidth\": 0, \"ticks\": \"\"}}, \"marker\": {\"colorbar\": {\"outlinewidth\": 0, \"ticks\": \"\"}}, \"type\": \"scatter3d\"}], \"scattercarpet\": [{\"marker\": {\"colorbar\": {\"outlinewidth\": 0, \"ticks\": \"\"}}, \"type\": \"scattercarpet\"}], \"scattergeo\": [{\"marker\": {\"colorbar\": {\"outlinewidth\": 0, \"ticks\": \"\"}}, \"type\": \"scattergeo\"}], \"scattergl\": [{\"marker\": {\"colorbar\": {\"outlinewidth\": 0, \"ticks\": \"\"}}, \"type\": \"scattergl\"}], \"scattermapbox\": [{\"marker\": {\"colorbar\": {\"outlinewidth\": 0, \"ticks\": \"\"}}, \"type\": \"scattermapbox\"}], \"scatterpolar\": [{\"marker\": {\"colorbar\": {\"outlinewidth\": 0, \"ticks\": \"\"}}, \"type\": \"scatterpolar\"}], \"scatterpolargl\": [{\"marker\": {\"colorbar\": {\"outlinewidth\": 0, \"ticks\": \"\"}}, \"type\": \"scatterpolargl\"}], \"scatterternary\": [{\"marker\": {\"colorbar\": {\"outlinewidth\": 0, \"ticks\": \"\"}}, \"type\": \"scatterternary\"}], \"surface\": [{\"colorbar\": {\"outlinewidth\": 0, \"ticks\": \"\"}, \"colorscale\": [[0.0, \"#0d0887\"], [0.1111111111111111, \"#46039f\"], [0.2222222222222222, \"#7201a8\"], [0.3333333333333333, \"#9c179e\"], [0.4444444444444444, \"#bd3786\"], [0.5555555555555556, \"#d8576b\"], [0.6666666666666666, \"#ed7953\"], [0.7777777777777778, \"#fb9f3a\"], [0.8888888888888888, \"#fdca26\"], [1.0, \"#f0f921\"]], \"type\": \"surface\"}], \"table\": [{\"cells\": {\"fill\": {\"color\": \"#EBF0F8\"}, \"line\": {\"color\": \"white\"}}, \"header\": {\"fill\": {\"color\": \"#C8D4E3\"}, \"line\": {\"color\": \"white\"}}, \"type\": \"table\"}]}, \"layout\": {\"annotationdefaults\": {\"arrowcolor\": \"#2a3f5f\", \"arrowhead\": 0, \"arrowwidth\": 1}, \"coloraxis\": {\"colorbar\": {\"outlinewidth\": 0, \"ticks\": \"\"}}, \"colorscale\": {\"diverging\": [[0, \"#8e0152\"], [0.1, \"#c51b7d\"], [0.2, \"#de77ae\"], [0.3, \"#f1b6da\"], [0.4, \"#fde0ef\"], [0.5, \"#f7f7f7\"], [0.6, \"#e6f5d0\"], [0.7, \"#b8e186\"], [0.8, \"#7fbc41\"], [0.9, \"#4d9221\"], [1, \"#276419\"]], \"sequential\": [[0.0, \"#0d0887\"], [0.1111111111111111, \"#46039f\"], [0.2222222222222222, \"#7201a8\"], [0.3333333333333333, \"#9c179e\"], [0.4444444444444444, \"#bd3786\"], [0.5555555555555556, \"#d8576b\"], [0.6666666666666666, \"#ed7953\"], [0.7777777777777778, \"#fb9f3a\"], [0.8888888888888888, \"#fdca26\"], [1.0, \"#f0f921\"]], \"sequentialminus\": [[0.0, \"#0d0887\"], [0.1111111111111111, \"#46039f\"], [0.2222222222222222, \"#7201a8\"], [0.3333333333333333, \"#9c179e\"], [0.4444444444444444, \"#bd3786\"], [0.5555555555555556, \"#d8576b\"], [0.6666666666666666, \"#ed7953\"], [0.7777777777777778, \"#fb9f3a\"], [0.8888888888888888, \"#fdca26\"], [1.0, \"#f0f921\"]]}, \"colorway\": [\"#636efa\", \"#EF553B\", \"#00cc96\", \"#ab63fa\", \"#FFA15A\", \"#19d3f3\", \"#FF6692\", \"#B6E880\", \"#FF97FF\", \"#FECB52\"], \"font\": {\"color\": \"#2a3f5f\"}, \"geo\": {\"bgcolor\": \"white\", \"lakecolor\": \"white\", \"landcolor\": \"#E5ECF6\", \"showlakes\": true, \"showland\": true, \"subunitcolor\": \"white\"}, \"hoverlabel\": {\"align\": \"left\"}, \"hovermode\": \"closest\", \"mapbox\": {\"style\": \"light\"}, \"paper_bgcolor\": \"white\", \"plot_bgcolor\": \"#E5ECF6\", \"polar\": {\"angularaxis\": {\"gridcolor\": \"white\", \"linecolor\": \"white\", \"ticks\": \"\"}, \"bgcolor\": \"#E5ECF6\", \"radialaxis\": {\"gridcolor\": \"white\", \"linecolor\": \"white\", \"ticks\": \"\"}}, \"scene\": {\"xaxis\": {\"backgroundcolor\": \"#E5ECF6\", \"gridcolor\": \"white\", \"gridwidth\": 2, \"linecolor\": \"white\", \"showbackground\": true, \"ticks\": \"\", \"zerolinecolor\": \"white\"}, \"yaxis\": {\"backgroundcolor\": \"#E5ECF6\", \"gridcolor\": \"white\", \"gridwidth\": 2, \"linecolor\": \"white\", \"showbackground\": true, \"ticks\": \"\", \"zerolinecolor\": \"white\"}, \"zaxis\": {\"backgroundcolor\": \"#E5ECF6\", \"gridcolor\": \"white\", \"gridwidth\": 2, \"linecolor\": \"white\", \"showbackground\": true, \"ticks\": \"\", \"zerolinecolor\": \"white\"}}, \"shapedefaults\": {\"line\": {\"color\": \"#2a3f5f\"}}, \"ternary\": {\"aaxis\": {\"gridcolor\": \"white\", \"linecolor\": \"white\", \"ticks\": \"\"}, \"baxis\": {\"gridcolor\": \"white\", \"linecolor\": \"white\", \"ticks\": \"\"}, \"bgcolor\": \"#E5ECF6\", \"caxis\": {\"gridcolor\": \"white\", \"linecolor\": \"white\", \"ticks\": \"\"}}, \"title\": {\"x\": 0.05}, \"xaxis\": {\"automargin\": true, \"gridcolor\": \"white\", \"linecolor\": \"white\", \"ticks\": \"\", \"title\": {\"standoff\": 15}, \"zerolinecolor\": \"white\", \"zerolinewidth\": 2}, \"yaxis\": {\"automargin\": true, \"gridcolor\": \"white\", \"linecolor\": \"white\", \"ticks\": \"\", \"title\": {\"standoff\": 15}, \"zerolinecolor\": \"white\", \"zerolinewidth\": 2}}}, \"title\": {\"text\": \"Evolution of net income\"}, \"xaxis\": {\"anchor\": \"y\", \"domain\": [0.0, 1.0], \"title\": {\"text\": \"year\"}}, \"yaxis\": {\"anchor\": \"x\", \"domain\": [0.0, 1.0], \"title\": {\"text\": \"Net Income\"}}},\n",
       "                        {\"responsive\": true}\n",
       "                    ).then(function(){\n",
       "                            \n",
       "var gd = document.getElementById('b6a0552a-0064-4303-9b73-cc406ce1fbab');\n",
       "var x = new MutationObserver(function (mutations, observer) {{\n",
       "        var display = window.getComputedStyle(gd).display;\n",
       "        if (!display || display === 'none') {{\n",
       "            console.log([gd, 'removed!']);\n",
       "            Plotly.purge(gd);\n",
       "            observer.disconnect();\n",
       "        }}\n",
       "}});\n",
       "\n",
       "// Listen for the removal of the full notebook cells\n",
       "var notebookContainer = gd.closest('#notebook-container');\n",
       "if (notebookContainer) {{\n",
       "    x.observe(notebookContainer, {childList: true});\n",
       "}}\n",
       "\n",
       "// Listen for the clearing of the current output cell\n",
       "var outputEl = gd.closest('.output');\n",
       "if (outputEl) {{\n",
       "    x.observe(outputEl, {childList: true});\n",
       "}}\n",
       "\n",
       "                        })\n",
       "                };\n",
       "                });\n",
       "            </script>\n",
       "        </div>"
      ]
     },
     "metadata": {},
     "output_type": "display_data"
    }
   ],
   "source": [
    "#Stacked barplot absolute\n",
    "stacked_bar_absolute = px.bar(df_1, x=\"year\", y=\"Net Income\", color=\"sector\", title=\"Evolution of net income\")\n",
    "\n",
    "#Stacked barplot relative\n",
    "stacked_bar_relative = px.bar(df_1, x=\"year\", y=\"Relative_net_income\", color=\"sector\", title=\"Evolution of net income\")\n",
    "\n",
    "#Grouped barplot\n",
    "grouped_bar_absolute = px.bar(df_1, x=\"year\", y=\"Net Income\", color=\"sector\",barmode=\"group\",title=\"Evolution of net income\")\n",
    "\n",
    "\n",
    "stacked_bar_absolute.show()\n",
    "stacked_bar_relative.show()\n",
    "grouped_bar_absolute.show()"
   ]
  },
  {
   "cell_type": "markdown",
   "metadata": {},
   "source": [
    "## Gross margin"
   ]
  },
  {
   "cell_type": "markdown",
   "metadata": {},
   "source": [
    "## EBITDA margin"
   ]
  },
  {
   "cell_type": "markdown",
   "metadata": {},
   "source": [
    "## Net profit margin"
   ]
  },
  {
   "cell_type": "code",
   "execution_count": null,
   "metadata": {},
   "outputs": [],
   "source": []
  }
 ],
 "metadata": {
  "kernelspec": {
   "display_name": "Python 3",
   "language": "python",
   "name": "python3"
  },
  "language_info": {
   "codemirror_mode": {
    "name": "ipython",
    "version": 3
   },
   "file_extension": ".py",
   "mimetype": "text/x-python",
   "name": "python",
   "nbconvert_exporter": "python",
   "pygments_lexer": "ipython3",
   "version": "3.7.3"
  },
  "toc": {
   "base_numbering": 1,
   "nav_menu": {},
   "number_sections": true,
   "sideBar": true,
   "skip_h1_title": false,
   "title_cell": "Table of Contents",
   "title_sidebar": "Contents",
   "toc_cell": false,
   "toc_position": {},
   "toc_section_display": true,
   "toc_window_display": false
  },
  "varInspector": {
   "cols": {
    "lenName": 16,
    "lenType": 16,
    "lenVar": 40
   },
   "kernels_config": {
    "python": {
     "delete_cmd_postfix": "",
     "delete_cmd_prefix": "del ",
     "library": "var_list.py",
     "varRefreshCmd": "print(var_dic_list())"
    },
    "r": {
     "delete_cmd_postfix": ") ",
     "delete_cmd_prefix": "rm(",
     "library": "var_list.r",
     "varRefreshCmd": "cat(var_dic_list()) "
    }
   },
   "types_to_exclude": [
    "module",
    "function",
    "builtin_function_or_method",
    "instance",
    "_Feature"
   ],
   "window_display": false
  }
 },
 "nbformat": 4,
 "nbformat_minor": 2
}
